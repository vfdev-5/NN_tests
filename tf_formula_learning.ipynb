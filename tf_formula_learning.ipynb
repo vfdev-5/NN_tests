{
 "cells": [
  {
   "cell_type": "markdown",
   "metadata": {},
   "source": [
    "# Formula learning\n",
    "\n",
    "A toy example to learn a formula to predict a synthetic data\n",
    "\n",
    "\n",
    "Let's say we have a regression problem to predict a target value in $\\cal{R}$. \n",
    "Input data has $M$ features and a target is computed as \n",
    "$$\n",
    "y_{i} = f(\\mathbf x)\n",
    "$$\n",
    "we will try various functions $f$ to observe ability to learn it using a DNN."
   ]
  },
  {
   "cell_type": "markdown",
   "metadata": {},
   "source": [
    "## A warm-up\n",
    "\n",
    "Let us predict a simple function : $f(\\mathbf x) = 1 + \\sum_{i} x_i$"
   ]
  },
  {
   "cell_type": "code",
   "execution_count": 1,
   "metadata": {},
   "outputs": [],
   "source": [
    "# https://ipython.org/ipython-doc/3/config/extensions/autoreload.html\n",
    "%load_ext autoreload\n",
    "%autoreload 2"
   ]
  },
  {
   "cell_type": "code",
   "execution_count": 2,
   "metadata": {
    "collapsed": true
   },
   "outputs": [],
   "source": [
    "import os\n",
    "\n",
    "import numpy as np\n",
    "import matplotlib.pylab as plt\n",
    "%matplotlib inline\n",
    "\n",
    "\n",
    "n_samples = 10000\n",
    "n_features = 10\n",
    "x_max = 100.0\n",
    "x_min = -100.0\n",
    "trainval_x = (x_max - x_min) * np.random.rand(n_samples, n_features) + x_min"
   ]
  },
  {
   "cell_type": "code",
   "execution_count": 3,
   "metadata": {
    "collapsed": true
   },
   "outputs": [],
   "source": [
    "def f(x):\n",
    "    return np.sum(x) + 1.0"
   ]
  },
  {
   "cell_type": "code",
   "execution_count": 4,
   "metadata": {
    "collapsed": true
   },
   "outputs": [],
   "source": [
    "trainval_y = np.zeros((n_samples, 1))\n",
    "for i, x in enumerate(trainval_x):\n",
    "    trainval_y[i, 0] = f(x)"
   ]
  },
  {
   "cell_type": "code",
   "execution_count": 5,
   "metadata": {
    "collapsed": true
   },
   "outputs": [],
   "source": [
    "import pandas as pd\n",
    "import seaborn as sns\n",
    "\n",
    "cols_x = ['x_%i' % i for i in range(n_features)]\n",
    "df = pd.DataFrame(data=trainval_x, columns=cols_x)\n",
    "df['y'] = trainval_y"
   ]
  },
  {
   "cell_type": "code",
   "execution_count": 6,
   "metadata": {},
   "outputs": [
    {
     "data": {
      "text/html": [
       "<div>\n",
       "<style>\n",
       "    .dataframe thead tr:only-child th {\n",
       "        text-align: right;\n",
       "    }\n",
       "\n",
       "    .dataframe thead th {\n",
       "        text-align: left;\n",
       "    }\n",
       "\n",
       "    .dataframe tbody tr th {\n",
       "        vertical-align: top;\n",
       "    }\n",
       "</style>\n",
       "<table border=\"1\" class=\"dataframe\">\n",
       "  <thead>\n",
       "    <tr style=\"text-align: right;\">\n",
       "      <th></th>\n",
       "      <th>x_0</th>\n",
       "      <th>x_1</th>\n",
       "      <th>x_2</th>\n",
       "      <th>x_3</th>\n",
       "      <th>x_4</th>\n",
       "      <th>x_5</th>\n",
       "      <th>x_6</th>\n",
       "      <th>x_7</th>\n",
       "      <th>x_8</th>\n",
       "      <th>x_9</th>\n",
       "      <th>y</th>\n",
       "    </tr>\n",
       "  </thead>\n",
       "  <tbody>\n",
       "    <tr>\n",
       "      <th>0</th>\n",
       "      <td>26.054250</td>\n",
       "      <td>50.134801</td>\n",
       "      <td>96.489763</td>\n",
       "      <td>7.089261</td>\n",
       "      <td>38.986139</td>\n",
       "      <td>-86.762398</td>\n",
       "      <td>55.862913</td>\n",
       "      <td>47.181368</td>\n",
       "      <td>88.022041</td>\n",
       "      <td>-25.991511</td>\n",
       "      <td>298.066626</td>\n",
       "    </tr>\n",
       "    <tr>\n",
       "      <th>1</th>\n",
       "      <td>-87.292284</td>\n",
       "      <td>-42.900217</td>\n",
       "      <td>-76.103046</td>\n",
       "      <td>81.735033</td>\n",
       "      <td>-83.107648</td>\n",
       "      <td>-20.600981</td>\n",
       "      <td>41.325052</td>\n",
       "      <td>-93.166873</td>\n",
       "      <td>-18.234053</td>\n",
       "      <td>3.522978</td>\n",
       "      <td>-293.822038</td>\n",
       "    </tr>\n",
       "    <tr>\n",
       "      <th>2</th>\n",
       "      <td>30.027464</td>\n",
       "      <td>34.152320</td>\n",
       "      <td>-78.129135</td>\n",
       "      <td>27.059043</td>\n",
       "      <td>-83.253513</td>\n",
       "      <td>16.115477</td>\n",
       "      <td>73.580661</td>\n",
       "      <td>-88.589513</td>\n",
       "      <td>55.237234</td>\n",
       "      <td>-53.380339</td>\n",
       "      <td>-66.180301</td>\n",
       "    </tr>\n",
       "    <tr>\n",
       "      <th>3</th>\n",
       "      <td>-24.761810</td>\n",
       "      <td>-22.662519</td>\n",
       "      <td>75.383783</td>\n",
       "      <td>-45.765628</td>\n",
       "      <td>28.233258</td>\n",
       "      <td>17.865662</td>\n",
       "      <td>-70.400187</td>\n",
       "      <td>70.471372</td>\n",
       "      <td>85.252332</td>\n",
       "      <td>41.742039</td>\n",
       "      <td>156.358301</td>\n",
       "    </tr>\n",
       "    <tr>\n",
       "      <th>4</th>\n",
       "      <td>43.674722</td>\n",
       "      <td>37.147448</td>\n",
       "      <td>99.193343</td>\n",
       "      <td>28.908645</td>\n",
       "      <td>-80.307012</td>\n",
       "      <td>-64.212609</td>\n",
       "      <td>-66.084258</td>\n",
       "      <td>46.724981</td>\n",
       "      <td>-3.246206</td>\n",
       "      <td>23.917858</td>\n",
       "      <td>66.716912</td>\n",
       "    </tr>\n",
       "  </tbody>\n",
       "</table>\n",
       "</div>"
      ],
      "text/plain": [
       "         x_0        x_1        x_2        x_3        x_4        x_5  \\\n",
       "0  26.054250  50.134801  96.489763   7.089261  38.986139 -86.762398   \n",
       "1 -87.292284 -42.900217 -76.103046  81.735033 -83.107648 -20.600981   \n",
       "2  30.027464  34.152320 -78.129135  27.059043 -83.253513  16.115477   \n",
       "3 -24.761810 -22.662519  75.383783 -45.765628  28.233258  17.865662   \n",
       "4  43.674722  37.147448  99.193343  28.908645 -80.307012 -64.212609   \n",
       "\n",
       "         x_6        x_7        x_8        x_9           y  \n",
       "0  55.862913  47.181368  88.022041 -25.991511  298.066626  \n",
       "1  41.325052 -93.166873 -18.234053   3.522978 -293.822038  \n",
       "2  73.580661 -88.589513  55.237234 -53.380339  -66.180301  \n",
       "3 -70.400187  70.471372  85.252332  41.742039  156.358301  \n",
       "4 -66.084258  46.724981  -3.246206  23.917858   66.716912  "
      ]
     },
     "execution_count": 6,
     "metadata": {},
     "output_type": "execute_result"
    }
   ],
   "source": [
    "df.head()"
   ]
  },
  {
   "cell_type": "code",
   "execution_count": 7,
   "metadata": {},
   "outputs": [
    {
     "data": {
      "text/plain": [
       "(298.06662638060578, -293.82203823883231)"
      ]
     },
     "execution_count": 7,
     "metadata": {},
     "output_type": "execute_result"
    }
   ],
   "source": [
    "df.loc[0, ['x_%i' % i for i in range(10)]].sum() + 1.0, df.loc[1, ['x_%i' % i for i in range(10)]].sum() + 1.0 "
   ]
  },
  {
   "cell_type": "code",
   "execution_count": 8,
   "metadata": {},
   "outputs": [
    {
     "data": {
      "image/png": "[encoded data removed]",
      "text/plain": [
       "<matplotlib.figure.Figure at 0x90d9d30>"
      ]
     },
     "metadata": {},
     "output_type": "display_data"
    },
    {
     "data": {
      "image/png": "[encoded data removed]",
      "text/plain": [
       "<matplotlib.figure.Figure at 0x951ee48>"
      ]
     },
     "metadata": {},
     "output_type": "display_data"
    }
   ],
   "source": [
    "plt.figure(figsize=(12, 4))\n",
    "\n",
    "plt.subplot(121)\n",
    "df['y'].hist(bins=100)\n",
    "plt.title('Y')\n",
    "plt.subplot(122)\n",
    "df['y'].apply(np.log).hist(bins=100)\n",
    "plt.title('Y')\n",
    "\n",
    "plt.figure(figsize=(12, 6))\n",
    "for i in range(n_features):\n",
    "    plt.subplot(2, n_features/2, i+1)\n",
    "    df['x_%i' % i].hist(bins=100)\n",
    "    plt.title('x_%i' % i)"
   ]
  },
  {
   "cell_type": "markdown",
   "metadata": {},
   "source": [
    "### Define a NN\n",
    "\n",
    "\n",
    "Let's define a model as  \n",
    "$$\n",
    "f_{nn}(\\mathbf x) = b_i + \\langle W_i, \\mathbf x \\rangle,\n",
    "$$"
   ]
  },
  {
   "cell_type": "code",
   "execution_count": 9,
   "metadata": {
    "collapsed": true
   },
   "outputs": [],
   "source": [
    "import tensorflow as tf\n",
    "\n",
    "from tf_bike.train import Trainer"
   ]
  },
  {
   "cell_type": "code",
   "execution_count": 10,
   "metadata": {
    "collapsed": true
   },
   "outputs": [],
   "source": [
    "def nn(x):    \n",
    "    b = tf.Variable(tf.random_uniform((1,)), name='b')\n",
    "    W = tf.Variable(tf.random_uniform((x.get_shape().as_list()[1], 1)), name='W') \n",
    "    return tf.add(b, tf.matmul(x, W), name='trivial_regression_model')"
   ]
  },
  {
   "cell_type": "code",
   "execution_count": 11,
   "metadata": {
    "collapsed": true
   },
   "outputs": [],
   "source": [
    "def np_loss(y_true, y_pred):\n",
    "    return np.mean(np.mean(np.power(y_true - y_pred, 2.0), axis=-1))\n",
    "\n",
    "def tf_loss(Y_true, Y_pred):\n",
    "    return tf.reduce_mean(tf.reduce_mean(tf.square(Y_true - Y_pred), axis=-1))\n",
    "\n",
    "def tf_rmse(Y_true, Y_pred):\n",
    "    return tf.reduce_mean(tf.sqrt(tf.reduce_mean(tf.square(Y_true - Y_pred), axis=-1)))"
   ]
  },
  {
   "cell_type": "code",
   "execution_count": 12,
   "metadata": {},
   "outputs": [
    {
     "name": "stdout",
     "output_type": "stream",
     "text": [
      "Loss numpy : 2.36026936027\n",
      "Loss tf : 2.36027\n",
      "RMSE : 1.25758\n"
     ]
    }
   ],
   "source": [
    "tf.reset_default_graph()\n",
    "y_true = np.ones((100, 1))\n",
    "y_pred = np.linspace(-2, 2, num=100).reshape((100, 1))\n",
    "\n",
    "lss = np_loss(y_true, y_pred)\n",
    "\n",
    "with tf.Session() as sess:    \n",
    "    Y_true = tf.placeholder(tf.float32, shape=(None, 1))\n",
    "    Y_pred = tf.placeholder(tf.float32, shape=(None, 1))\n",
    "    lss2, rmse = sess.run([tf_loss(Y_true, Y_pred), tf_rmse(Y_true, Y_pred)], feed_dict={Y_true: y_true, Y_pred: y_pred})\n",
    "\n",
    "print(\"Loss numpy :\", lss)\n",
    "print(\"Loss tf :\", lss2)\n",
    "print(\"RMSE :\", rmse)\n",
    "    "
   ]
  },
  {
   "cell_type": "code",
   "execution_count": 22,
   "metadata": {},
   "outputs": [],
   "source": [
    "from datetime import datetime\n",
    "trainer = Trainer(log_dir='logs_{}'.format(datetime.now().strftime(\"%Y-%m-%d-%H-%M\")))"
   ]
  },
  {
   "cell_type": "code",
   "execution_count": 23,
   "metadata": {
    "collapsed": true
   },
   "outputs": [],
   "source": [
    "\n",
    "train_params = {        \n",
    "    # Network\n",
    "    'network': nn,\n",
    "    \n",
    "    # Loss\n",
    "    'loss': tf_loss,\n",
    "    \n",
    "    # Optimizer\n",
    "    'optimizer': tf.train.GradientDescentOptimizer,\n",
    "    \n",
    "    # Metrics\n",
    "    'metrics': [\n",
    "        ('rmse', tf_rmse),\n",
    "    ],\n",
    "    \n",
    "    # Learning rate params\n",
    "    'lr': tf.train.piecewise_constant,\n",
    "    'lr_kwargs': {\n",
    "        'boundaries': [150, 250, 350],\n",
    "        'values': [0.0001, 0.00005, 0.000001]\n",
    "    },\n",
    "    \n",
    "    # Pretrained model\n",
    "    \n",
    "    \n",
    "    'training_epochs': 600,\n",
    "    'batch_size': 512,\n",
    "    \n",
    "    'seed': 2017,\n",
    "}"
   ]
  },
  {
   "cell_type": "code",
   "execution_count": 25,
   "metadata": {},
   "outputs": [
    {
     "name": "stdout",
     "output_type": "stream",
     "text": [
      "Start training\n",
      "INFO:tensorflow:Starting standard services.\n",
      "INFO:tensorflow:Saving checkpoint to path logs_2017-06-28-17-00\\train\\Model/trivial_regression_model.ckpt\n",
      "INFO:tensorflow:Starting queue runners.\n",
      "Epoch: 0100\n",
      "loss=0.384149226 | rmse=0.619286627 \n",
      "val_loss=0.384575099 | val_rmse=0.619628429 \n",
      "Epoch: 0200\n",
      "loss=0.382006454 | rmse=0.617555035 \n",
      "val_loss=0.382439487 | val_rmse=0.617903560 \n",
      "Epoch: 0300\n",
      "loss=0.379890938 | rmse=0.615842049 \n",
      "val_loss=0.380319163 | val_rmse=0.616187707 \n"
     ]
    },
    {
     "ename": "KeyboardInterrupt",
     "evalue": "",
     "output_type": "error",
     "traceback": [
      "\u001b[1;31m---------------------------------------------------------------------------\u001b[0m",
      "\u001b[1;31mKeyboardInterrupt\u001b[0m                         Traceback (most recent call last)",
      "\u001b[1;32m<ipython-input-25-57edba77f0a3>\u001b[0m in \u001b[0;36m<module>\u001b[1;34m()\u001b[0m\n\u001b[0;32m      1\u001b[0m trainer.train(trainval_x, trainval_y, \n\u001b[0;32m      2\u001b[0m               \u001b[0mtraining_params\u001b[0m\u001b[1;33m=\u001b[0m\u001b[0mtrain_params\u001b[0m\u001b[1;33m,\u001b[0m\u001b[1;33m\u001b[0m\u001b[0m\n\u001b[1;32m----> 3\u001b[1;33m               verbose=1)\n\u001b[0m",
      "\u001b[1;32mD:\\vfomin\\MyExamples\\python\\NN_tests\\tf_bike\\train.py\u001b[0m in \u001b[0;36mtrain\u001b[1;34m(self, trainval_x, trainval_y, training_params, verbose)\u001b[0m\n\u001b[0;32m    186\u001b[0m                 train_avg_loss, train_avg_metrics = run_epoch(train_ops,\n\u001b[0;32m    187\u001b[0m                                                               \u001b[0mtrain_x\u001b[0m\u001b[1;33m,\u001b[0m \u001b[0mtrain_y\u001b[0m\u001b[1;33m,\u001b[0m\u001b[1;33m\u001b[0m\u001b[0m\n\u001b[1;32m--> 188\u001b[1;33m                                                               train_writer, is_training_phase=True)\n\u001b[0m\u001b[0;32m    189\u001b[0m                 val_avg_loss, val_avg_metrics = run_epoch(val_ops,\n\u001b[0;32m    190\u001b[0m                                                           \u001b[0mval_x\u001b[0m\u001b[1;33m,\u001b[0m \u001b[0mval_y\u001b[0m\u001b[1;33m,\u001b[0m\u001b[1;33m\u001b[0m\u001b[0m\n",
      "\u001b[1;32mD:\\vfomin\\MyExamples\\python\\NN_tests\\tf_bike\\train.py\u001b[0m in \u001b[0;36mrun_epoch\u001b[1;34m(ops, _x, _y, _writer, is_training_phase)\u001b[0m\n\u001b[0;32m    146\u001b[0m                     \u001b[1;31m# Run optimization op (backprop), loss op (to get loss value)\u001b[0m\u001b[1;33m\u001b[0m\u001b[1;33m\u001b[0m\u001b[0m\n\u001b[0;32m    147\u001b[0m                     \u001b[1;31m# and summary nodes\u001b[0m\u001b[1;33m\u001b[0m\u001b[1;33m\u001b[0m\u001b[0m\n\u001b[1;32m--> 148\u001b[1;33m                     \u001b[0mret\u001b[0m \u001b[1;33m=\u001b[0m \u001b[0msess\u001b[0m\u001b[1;33m.\u001b[0m\u001b[0mrun\u001b[0m\u001b[1;33m(\u001b[0m\u001b[0mops\u001b[0m\u001b[1;33m,\u001b[0m \u001b[0mfeed_dict\u001b[0m\u001b[1;33m=\u001b[0m\u001b[1;33m{\u001b[0m\u001b[0mX\u001b[0m\u001b[1;33m:\u001b[0m \u001b[0mbatch_x\u001b[0m\u001b[1;33m,\u001b[0m \u001b[0mY_true\u001b[0m\u001b[1;33m:\u001b[0m \u001b[0mbatch_y\u001b[0m\u001b[1;33m}\u001b[0m\u001b[1;33m)\u001b[0m\u001b[1;33m\u001b[0m\u001b[0m\n\u001b[0m\u001b[0;32m    149\u001b[0m                     \u001b[0mloss_value\u001b[0m \u001b[1;33m=\u001b[0m \u001b[0mret\u001b[0m\u001b[1;33m[\u001b[0m\u001b[0mops_loss_index\u001b[0m\u001b[1;33m]\u001b[0m\u001b[1;33m\u001b[0m\u001b[0m\n\u001b[0;32m    150\u001b[0m                     \u001b[0msummary\u001b[0m \u001b[1;33m=\u001b[0m \u001b[0mret\u001b[0m\u001b[1;33m[\u001b[0m\u001b[0mops_loss_index\u001b[0m\u001b[1;33m+\u001b[0m\u001b[1;36m1\u001b[0m\u001b[1;33m]\u001b[0m\u001b[1;33m\u001b[0m\u001b[0m\n",
      "\u001b[1;32md:\\vfomin\\myexamples\\venv3\\lib\\site-packages\\tensorflow\\python\\client\\session.py\u001b[0m in \u001b[0;36mrun\u001b[1;34m(self, fetches, feed_dict, options, run_metadata)\u001b[0m\n\u001b[0;32m    787\u001b[0m     \u001b[1;32mtry\u001b[0m\u001b[1;33m:\u001b[0m\u001b[1;33m\u001b[0m\u001b[0m\n\u001b[0;32m    788\u001b[0m       result = self._run(None, fetches, feed_dict, options_ptr,\n\u001b[1;32m--> 789\u001b[1;33m                          run_metadata_ptr)\n\u001b[0m\u001b[0;32m    790\u001b[0m       \u001b[1;32mif\u001b[0m \u001b[0mrun_metadata\u001b[0m\u001b[1;33m:\u001b[0m\u001b[1;33m\u001b[0m\u001b[0m\n\u001b[0;32m    791\u001b[0m         \u001b[0mproto_data\u001b[0m \u001b[1;33m=\u001b[0m \u001b[0mtf_session\u001b[0m\u001b[1;33m.\u001b[0m\u001b[0mTF_GetBuffer\u001b[0m\u001b[1;33m(\u001b[0m\u001b[0mrun_metadata_ptr\u001b[0m\u001b[1;33m)\u001b[0m\u001b[1;33m\u001b[0m\u001b[0m\n",
      "\u001b[1;32md:\\vfomin\\myexamples\\venv3\\lib\\site-packages\\tensorflow\\python\\client\\session.py\u001b[0m in \u001b[0;36m_run\u001b[1;34m(self, handle, fetches, feed_dict, options, run_metadata)\u001b[0m\n\u001b[0;32m    995\u001b[0m     \u001b[1;32mif\u001b[0m \u001b[0mfinal_fetches\u001b[0m \u001b[1;32mor\u001b[0m \u001b[0mfinal_targets\u001b[0m\u001b[1;33m:\u001b[0m\u001b[1;33m\u001b[0m\u001b[0m\n\u001b[0;32m    996\u001b[0m       results = self._do_run(handle, final_targets, final_fetches,\n\u001b[1;32m--> 997\u001b[1;33m                              feed_dict_string, options, run_metadata)\n\u001b[0m\u001b[0;32m    998\u001b[0m     \u001b[1;32melse\u001b[0m\u001b[1;33m:\u001b[0m\u001b[1;33m\u001b[0m\u001b[0m\n\u001b[0;32m    999\u001b[0m       \u001b[0mresults\u001b[0m \u001b[1;33m=\u001b[0m \u001b[1;33m[\u001b[0m\u001b[1;33m]\u001b[0m\u001b[1;33m\u001b[0m\u001b[0m\n",
      "\u001b[1;32md:\\vfomin\\myexamples\\venv3\\lib\\site-packages\\tensorflow\\python\\client\\session.py\u001b[0m in \u001b[0;36m_do_run\u001b[1;34m(self, handle, target_list, fetch_list, feed_dict, options, run_metadata)\u001b[0m\n\u001b[0;32m   1130\u001b[0m     \u001b[1;32mif\u001b[0m \u001b[0mhandle\u001b[0m \u001b[1;32mis\u001b[0m \u001b[1;32mNone\u001b[0m\u001b[1;33m:\u001b[0m\u001b[1;33m\u001b[0m\u001b[0m\n\u001b[0;32m   1131\u001b[0m       return self._do_call(_run_fn, self._session, feed_dict, fetch_list,\n\u001b[1;32m-> 1132\u001b[1;33m                            target_list, options, run_metadata)\n\u001b[0m\u001b[0;32m   1133\u001b[0m     \u001b[1;32melse\u001b[0m\u001b[1;33m:\u001b[0m\u001b[1;33m\u001b[0m\u001b[0m\n\u001b[0;32m   1134\u001b[0m       return self._do_call(_prun_fn, self._session, handle, feed_dict,\n",
      "\u001b[1;32md:\\vfomin\\myexamples\\venv3\\lib\\site-packages\\tensorflow\\python\\client\\session.py\u001b[0m in \u001b[0;36m_do_call\u001b[1;34m(self, fn, *args)\u001b[0m\n\u001b[0;32m   1137\u001b[0m   \u001b[1;32mdef\u001b[0m \u001b[0m_do_call\u001b[0m\u001b[1;33m(\u001b[0m\u001b[0mself\u001b[0m\u001b[1;33m,\u001b[0m \u001b[0mfn\u001b[0m\u001b[1;33m,\u001b[0m \u001b[1;33m*\u001b[0m\u001b[0margs\u001b[0m\u001b[1;33m)\u001b[0m\u001b[1;33m:\u001b[0m\u001b[1;33m\u001b[0m\u001b[0m\n\u001b[0;32m   1138\u001b[0m     \u001b[1;32mtry\u001b[0m\u001b[1;33m:\u001b[0m\u001b[1;33m\u001b[0m\u001b[0m\n\u001b[1;32m-> 1139\u001b[1;33m       \u001b[1;32mreturn\u001b[0m \u001b[0mfn\u001b[0m\u001b[1;33m(\u001b[0m\u001b[1;33m*\u001b[0m\u001b[0margs\u001b[0m\u001b[1;33m)\u001b[0m\u001b[1;33m\u001b[0m\u001b[0m\n\u001b[0m\u001b[0;32m   1140\u001b[0m     \u001b[1;32mexcept\u001b[0m \u001b[0merrors\u001b[0m\u001b[1;33m.\u001b[0m\u001b[0mOpError\u001b[0m \u001b[1;32mas\u001b[0m \u001b[0me\u001b[0m\u001b[1;33m:\u001b[0m\u001b[1;33m\u001b[0m\u001b[0m\n\u001b[0;32m   1141\u001b[0m       \u001b[0mmessage\u001b[0m \u001b[1;33m=\u001b[0m \u001b[0mcompat\u001b[0m\u001b[1;33m.\u001b[0m\u001b[0mas_text\u001b[0m\u001b[1;33m(\u001b[0m\u001b[0me\u001b[0m\u001b[1;33m.\u001b[0m\u001b[0mmessage\u001b[0m\u001b[1;33m)\u001b[0m\u001b[1;33m\u001b[0m\u001b[0m\n",
      "\u001b[1;32md:\\vfomin\\myexamples\\venv3\\lib\\site-packages\\tensorflow\\python\\client\\session.py\u001b[0m in \u001b[0;36m_run_fn\u001b[1;34m(session, feed_dict, fetch_list, target_list, options, run_metadata)\u001b[0m\n\u001b[0;32m   1119\u001b[0m         return tf_session.TF_Run(session, options,\n\u001b[0;32m   1120\u001b[0m                                  \u001b[0mfeed_dict\u001b[0m\u001b[1;33m,\u001b[0m \u001b[0mfetch_list\u001b[0m\u001b[1;33m,\u001b[0m \u001b[0mtarget_list\u001b[0m\u001b[1;33m,\u001b[0m\u001b[1;33m\u001b[0m\u001b[0m\n\u001b[1;32m-> 1121\u001b[1;33m                                  status, run_metadata)\n\u001b[0m\u001b[0;32m   1122\u001b[0m \u001b[1;33m\u001b[0m\u001b[0m\n\u001b[0;32m   1123\u001b[0m     \u001b[1;32mdef\u001b[0m \u001b[0m_prun_fn\u001b[0m\u001b[1;33m(\u001b[0m\u001b[0msession\u001b[0m\u001b[1;33m,\u001b[0m \u001b[0mhandle\u001b[0m\u001b[1;33m,\u001b[0m \u001b[0mfeed_dict\u001b[0m\u001b[1;33m,\u001b[0m \u001b[0mfetch_list\u001b[0m\u001b[1;33m)\u001b[0m\u001b[1;33m:\u001b[0m\u001b[1;33m\u001b[0m\u001b[0m\n",
      "\u001b[1;31mKeyboardInterrupt\u001b[0m: "
     ]
    }
   ],
   "source": [
    "trainer.train(trainval_x, trainval_y, \n",
    "              training_params=train_params, \n",
    "              verbose=1)"
   ]
  },
  {
   "cell_type": "markdown",
   "metadata": {
    "collapsed": true
   },
   "source": [
    "Start training\n",
    "INFO:tensorflow:Restoring parameters from logs\\train\\model.ckpt\n",
    "INFO:tensorflow:Starting standard services.\n",
    "INFO:tensorflow:Saving checkpoint to path logs\\train\\model.ckpt\n",
    "INFO:tensorflow:Starting queue runners.\n",
    "Epoch: 0100\n",
    "loss=0.074179735 | rmse=0.270994010 \n",
    "val_loss=0.073447037 | val_rmse=0.270020314 \n",
    "Epoch: 0200\n",
    "loss=0.042360080 | rmse=0.204783824 \n",
    "val_loss=0.041942643 | val_rmse=0.204050232 \n",
    "Epoch: 0300\n",
    "loss=0.024189908 | rmse=0.154751265 \n",
    "val_loss=0.023950804 | val_rmse=0.154194623 \n",
    "Epoch: 0400\n",
    "loss=0.013813899 | rmse=0.116943221 \n",
    "val_loss=0.013677813 | val_rmse=0.116524741 \n",
    "Epoch: 0500\n",
    "loss=0.007888554 | rmse=0.088372299 \n",
    "val_loss=0.007810403 | val_rmse=0.088053277 \n",
    "Epoch: 0600\n",
    "loss=0.004504888 | rmse=0.066782001 \n",
    "val_loss=0.004460046 | val_rmse=0.066539340 \n",
    "Optimization Finished!"
   ]
  },
  {
   "cell_type": "code",
   "execution_count": null,
   "metadata": {
    "collapsed": true
   },
   "outputs": [],
   "source": [
    "# Construct model and encapsulating all ops into scopes, making\n",
    "# Tensorboard's Graph visualization more convenient\n",
    "with tf.name_scope('Model'):\n",
    "    # Model    \n",
    "    Y_pred = nn(X)\n",
    "    \n",
    "with tf.name_scope('Loss'):\n",
    "    # Minimize error using MAE\n",
    "    loss = tf_loss(Y_true, Y_pred)\n",
    "    \n",
    "with tf.name_scope('Optimizer'):\n",
    "    # Gradient Descent\n",
    "    global_step = tf.Variable(0, trainable=False)    \n",
    "    lr_f = train_params['lr_f'](global_step, **train_params['lr_kwargs'])    \n",
    "    optimizer = tf.train.GradientDescentOptimizer(lr_f).minimize(loss)\n",
    "    \n",
    "with tf.name_scope('RMSE'):    \n",
    "    rmse = tf_rmse(Y_true, Y_pred)\n",
    "\n",
    "# Create a summary to monitor loss tensor\n",
    "tf.summary.scalar(\"loss\", loss)\n",
    "# Create a summary to monitor RMSE tensor\n",
    "tf.summary.scalar(\"RMSE\", rmse)\n",
    "# Merge all summaries into a single op\n",
    "merged_summary_op = tf.summary.merge_all()"
   ]
  },
  {
   "cell_type": "code",
   "execution_count": null,
   "metadata": {},
   "outputs": [],
   "source": [
    "from sklearn.model_selection import train_test_split\n",
    "\n",
    "verbose = 1\n",
    "display_step = 100\n",
    "\n",
    "# Launch the graph\n",
    "print(\"Start training\")\n",
    "with tf.Session() as sess:\n",
    "    \n",
    "    sess.run(tf.global_variables_initializer())    \n",
    "    # op to write logs to Tensorboard\n",
    "    summary_writer = tf.summary.FileWriter(train_params['logs_path'], graph=sess.graph)\n",
    "\n",
    "    \n",
    "    batch_size = train_params['batch_size']        \n",
    "    train_x, val_x, train_y, val_y = train_test_split(trainval_x, trainval_y, train_size=0.75)\n",
    "    \n",
    "    n_train_batchs = int(train_x.shape[0]/batch_size)\n",
    "    n_val_batchs = int(val_x.shape[0]/batch_size)    \n",
    "    \n",
    "    # Training cycle\n",
    "    for epoch in range(train_params['training_epochs']):\n",
    "               \n",
    "        if verbose > 0 and (epoch+1) % display_step == 0:\n",
    "            print(\"Epoch: %04d\" % (epoch+1))\n",
    "        \n",
    "        avg_loss = 0.0\n",
    "        avg_rmse = 0.0\n",
    "        # Train over all batches            \n",
    "        for i in range(n_train_batchs):\n",
    "\n",
    "            if verbose > 1:\n",
    "                print(\"-- %i / %i\" % (i, n_train_batchs))\n",
    "\n",
    "            \n",
    "            i_start = batch_size*i\n",
    "            i_end = batch_size*(i+1)\n",
    "            batch_xs, batch_ys = train_x[i_start:i_end,:], train_y[i_start:i_end, :] \n",
    "            # Run optimization op (backprop), loss op (to get loss value)\n",
    "            # and summary nodes\n",
    "            _, l, r, y_pred, summary = sess.run([optimizer, loss, rmse, Y_pred, merged_summary_op],\n",
    "                                                feed_dict={X: batch_xs, Y_true: batch_ys})\n",
    "            \n",
    "            if verbose > 2:\n",
    "                print(\"Numpy Loss: %f\" % np_loss(batch_ys, y_pred))\n",
    "                print(\"TF Loss: %f\" % l)\n",
    "                print(\"TF RMSE: %f\" % r)\n",
    "                \n",
    "            # Write logs at every iteration\n",
    "            summary_writer.add_summary(summary, epoch * n_train_batchs + i)\n",
    "            \n",
    "            # Compute average loss\n",
    "            avg_loss += l * 1.0 / n_train_batchs\n",
    "            avg_rmse += r * 1.0 / n_train_batchs            \n",
    "            \n",
    "        # Display logs per epoch step\n",
    "        if verbose > 0 and (epoch+1) % display_step == 0:\n",
    "            print(\"loss=%.9f, rmse=%.9f\" % (avg_loss, avg_rmse))\n",
    "        \n",
    "        # Validation\n",
    "        avg_loss = 0.0\n",
    "        avg_rmse = 0.0        \n",
    "        for i in range(n_val_batchs):\n",
    "            i_start = batch_size*i\n",
    "            i_end = batch_size*(i+1)\n",
    "            batch_xs, batch_ys = val_x[i_start:i_end,:], val_y[i_start:i_end, :] \n",
    "            # Run optimization op (backprop), loss op (to get loss value)\n",
    "            # and summary nodes\n",
    "            run_options = None\n",
    "            run_metadata = None\n",
    "            if i % 100 == 99:\n",
    "                run_options = tf.RunOptions(trace_level=tf.RunOptions.FULL_TRACE)\n",
    "                run_metadata = tf.RunMetadata()\n",
    "            \n",
    "            l, r, summary = sess.run([loss, rmse, merged_summary_op], \n",
    "                                     feed_dict={X: batch_xs, Y_true: batch_ys}, \n",
    "                                     run_metadata=run_metadata, options=run_options)\n",
    "            # Compute average loss\n",
    "            avg_loss += l / n_val_batchs\n",
    "            avg_rmse += r / n_val_batchs            \n",
    "            \n",
    "        # Display logs per epoch step\n",
    "        if verbose > 0 and (epoch+1) % display_step == 0:\n",
    "            print(\"val_loss=%.9f, val_rmse=%.9f\" % (avg_loss, avg_rmse))\n",
    "\n",
    "    print(\"Optimization Finished!\")\n",
    "    \n",
    "    B = sess.graph.get_tensor_by_name('Model/b:0')\n",
    "    Weights = sess.graph.get_tensor_by_name('Model/W:0')\n",
    "    b, weights = sess.run([B, Weights])"
   ]
  },
  {
   "cell_type": "code",
   "execution_count": null,
   "metadata": {},
   "outputs": [],
   "source": [
    "b"
   ]
  },
  {
   "cell_type": "code",
   "execution_count": null,
   "metadata": {},
   "outputs": [],
   "source": [
    "weights"
   ]
  },
  {
   "cell_type": "markdown",
   "metadata": {},
   "source": [
    "## A ratio-like and squared formula\n",
    "\n",
    "Let $M=10$ and the function to learn is defined as \n",
    "$$\n",
    "f(\\mathbf x) = \\frac{\\sum_i a_i x_i + b} {\\sum_i c_i x_i + d} + \\alpha \\sum_{i,j \\neq i} x_i x_j + \\beta\n",
    "$$\n",
    "where coefficients $a_i$, $b$, $c_i$, $d$, $\\alpha$, $\\beta$ are randomly chosen.\n",
    "\n",
    "Setup input data :"
   ]
  },
  {
   "cell_type": "code",
   "execution_count": null,
   "metadata": {
    "collapsed": true
   },
   "outputs": [],
   "source": [
    "import os\n",
    "import numpy as np\n",
    "import matplotlib.pylab as plt\n",
    "%matplotlib inline\n",
    "\n",
    "n_samples = 10000\n",
    "n_features = 10\n",
    "a = np.random.rand(n_features)\n",
    "b = 1.0\n",
    "c = np.random.rand(n_features)\n",
    "d = np.random.rand() * 100.0\n",
    "alpha = np.random.rand() * 1.0 / 50.0\n",
    "beta = np.random.rand() * 50.0\n",
    "\n",
    "x_max = 100.0\n",
    "x_min = -50.0\n",
    "trainval_x = (x_max - x_min) * np.random.rand(n_samples, n_features) + x_min"
   ]
  },
  {
   "cell_type": "code",
   "execution_count": null,
   "metadata": {
    "collapsed": true
   },
   "outputs": [],
   "source": [
    "def f(sample_x):\n",
    "    numerator = np.dot(a, sample_x) + b\n",
    "    denominator = np.dot(c, sample_x) + d\n",
    "    t1 = numerator / denominator\n",
    "    \n",
    "    t2 = 0\n",
    "    for v in sample_x:\n",
    "        t2 += v * (np.sum(sample_x) - v)    \n",
    "    t2 *= alpha\n",
    "    return t1 + t2 + beta"
   ]
  },
  {
   "cell_type": "code",
   "execution_count": null,
   "metadata": {
    "collapsed": true
   },
   "outputs": [],
   "source": [
    "trainval_y = np.zeros((n_samples, 1))\n",
    "for i, x in enumerate(trainval_x):\n",
    "    trainval_y[i] = f(x)"
   ]
  },
  {
   "cell_type": "code",
   "execution_count": null,
   "metadata": {
    "collapsed": true
   },
   "outputs": [],
   "source": [
    "import pandas as pd\n",
    "import seaborn as sns\n",
    "\n",
    "cols_x = ['x_%i' % i for i in range(n_features)]\n",
    "df = pd.DataFrame(data=trainval_x, columns=cols_x)\n",
    "df['y'] = trainval_y"
   ]
  },
  {
   "cell_type": "code",
   "execution_count": null,
   "metadata": {},
   "outputs": [],
   "source": [
    "df.head()"
   ]
  },
  {
   "cell_type": "code",
   "execution_count": null,
   "metadata": {},
   "outputs": [],
   "source": [
    "plt.figure(figsize=(12, 4))\n",
    "\n",
    "plt.subplot(121)\n",
    "df['y'].hist(bins=100)\n",
    "plt.title('Y')\n",
    "plt.subplot(122)\n",
    "df['y'].apply(np.log).hist(bins=100)\n",
    "plt.title('Y')\n",
    "\n",
    "# plt.figure(figsize=(12, 6))\n",
    "# for i in range(n_features):\n",
    "#     plt.subplot(2, n_features/2, i+1)\n",
    "#     df['x_%i' % i].hist(bins=100)\n",
    "#     plt.title('x_%i' % i)"
   ]
  },
  {
   "cell_type": "markdown",
   "metadata": {},
   "source": [
    "### Define a NN\n",
    "\n",
    "\n",
    "Let's define a model as  \n",
    "$$\n",
    "f_{nn}(\\mathbf x) = \\prod_{i=0}^{l-1} \\left( b_i + \\langle W_i, g(\\mathbf x) \\rangle \\right),\n",
    "$$\n",
    "where \n",
    "$$\n",
    "g(\\mathbf x) = g_m(\\mathbf x) = h^{(1)}_{m,m-1}(\\mathbf x) + \\frac{1}{\\epsilon + h^{(2)}_{m,m-1}(\\mathbf x)}\n",
    "$$\n",
    "and \n",
    "$$\n",
    "h^{(i)}_{m,m-1}(\\mathbf x) = \\text{activation}(\\langle W_{i,m}, g_{m-1}(\\mathbf x) \\rangle + b_{i,m}), \\\\\n",
    "g_{0} (\\mathbf x) = \\mathbf x\n",
    "$$\n"
   ]
  },
  {
   "cell_type": "code",
   "execution_count": null,
   "metadata": {
    "collapsed": true
   },
   "outputs": [],
   "source": [
    "import tensorflow as tf"
   ]
  },
  {
   "cell_type": "code",
   "execution_count": null,
   "metadata": {
    "collapsed": true
   },
   "outputs": [],
   "source": [
    "def tf_rmse(Y_true, Y_pred):\n",
    "    return tf.reduce_mean(tf.sqrt(tf.reduce_mean(tf.square(Y_true - Y_pred), axis=-1)))\n",
    "\n",
    "def tf_loss(Y_true, Y_pred):\n",
    "    l1 = tf.reduce_mean(tf.reduce_mean(tf.square(Y_true - Y_pred), axis=-1))\n",
    "    l2 = tf.log(1.0 + tf_rmse(Y_true, Y_pred))\n",
    "    return tf.minimum(l1, l2)"
   ]
  },
  {
   "cell_type": "code",
   "execution_count": null,
   "metadata": {},
   "outputs": [],
   "source": [
    "with tf.Session() as sess:\n",
    "    n = 100\n",
    "    Y_true = tf.placeholder(tf.float32, shape=(None, 1))\n",
    "    Y_pred = tf.placeholder(tf.float32, shape=(None, 1))\n",
    "    loss = np.zeros((n,))\n",
    "    yspan = np.linspace(-20, 20, num=n)\n",
    "    for i, v in enumerate(yspan):\n",
    "        y_true = np.ones((1, 1))\n",
    "        y_pred = np.array(v).reshape((1, 1))\n",
    "        loss[i] = sess.run(tf_loss(Y_true, Y_pred), feed_dict={Y_true: y_true, Y_pred: y_pred})\n",
    "\n",
    "plt.figure()\n",
    "plt.plot(yspan, loss, label='loss')\n",
    "plt.legend()\n"
   ]
  },
  {
   "cell_type": "code",
   "execution_count": null,
   "metadata": {
    "collapsed": true
   },
   "outputs": [],
   "source": [
    "tf.reset_default_graph()\n",
    "X = tf.placeholder(tf.float32, shape=(None, n_features))\n",
    "Y_true = tf.placeholder(tf.float32, shape=(None, 1))\n",
    "\n",
    "train_params = {    \n",
    "    \n",
    "#     'lr_kwargs': {\n",
    "#         'boundaries': [50, 100, 200, 500, 1000, ],\n",
    "#         'values': [1e-3, 1e-4, 5*1e-5, 0.000001, 0.0000001]\n",
    "#     },\n",
    "#     'lr_f': tf.train.piecewise_constant,        \n",
    "    \n",
    "    'lr_kwargs': {\n",
    "        'decay_steps': 100,\n",
    "        'decay_rate': 0.9,\n",
    "        'learning_rate': 0.005,\n",
    "        'staircase': True\n",
    "    },\n",
    "    'lr_f': lambda x, **kwargs: tf.train.exponential_decay(global_step=x, **kwargs),\n",
    "    \n",
    "    'training_epochs': 5000,\n",
    "    'batch_size': 1024,\n",
    "    \n",
    "    'seed': 2017,\n",
    "    \n",
    "    # Tensorboard\n",
    "    'logs_path': 'logs'\n",
    "}"
   ]
  },
  {
   "cell_type": "code",
   "execution_count": null,
   "metadata": {
    "collapsed": true
   },
   "outputs": [],
   "source": [
    "epsilon = tf.constant(1e-10)\n",
    "\n",
    "def h(index, m, x, n_filters, with_activation=True):    \n",
    "    b = tf.Variable(tf.random_uniform([n_filters]), \n",
    "                    name='bias_%i_%i' % (index, m))\n",
    "    W = tf.Variable(tf.random_uniform(shape=[x.get_shape().as_list()[1], n_filters]), \n",
    "                    name=\"W_%i_%i\" % (index, m))\n",
    "    \n",
    "    name = name='h_%i_%i' % (index, m)\n",
    "    out = tf.add(tf.matmul(x, W), b)\n",
    "    if with_activation:\n",
    "        return tf.nn.elu(out, name=name)\n",
    "    else:\n",
    "        return tf.identity(out, name=name)\n",
    "    \n",
    "    \n",
    "def g(m, x, n_filters_list):        \n",
    "    _x = x if m == 0 else g(m-1, x, n_filters_list)\n",
    "    inv_h2 = tf.divide(tf.constant(1.0), tf.add(epsilon, h(2, m, _x, n_filters_list[m])))\n",
    "    return tf.add(h(1, m, _x, n_filters_list[m]), inv_h2, name='g_%i' % m)\n",
    "\n",
    "\n",
    "def nn(x, k, m):    \n",
    "    nf = 5\n",
    "    n_filters_list = [nf for j in range(m)]       \n",
    "    net = h(3, 0, g(m-1, x, n_filters_list), n_filters=1, with_activation=False)\n",
    "    for i in range(1, k):\n",
    "        n_filters_list = [nf for j in range(m)]               \n",
    "        net = tf.multiply(net, h(3, 0, g(m-1, x, n_filters_list), n_filters=1, with_activation=False))\n",
    "    return net\n",
    "    "
   ]
  },
  {
   "cell_type": "code",
   "execution_count": null,
   "metadata": {
    "collapsed": true
   },
   "outputs": [],
   "source": [
    "# Construct model and encapsulating all ops into scopes, making\n",
    "# Tensorboard's Graph visualization more convenient\n",
    "with tf.name_scope('Model'):\n",
    "    # Model\n",
    "    Y_pred = nn(X, k=2, m=3)\n",
    "    \n",
    "with tf.name_scope('Loss'):\n",
    "    # Minimize error using MAE\n",
    "    loss = tf_loss(Y_true, Y_pred)\n",
    "    \n",
    "with tf.name_scope('Optimizer'):\n",
    "    # Gradient Descent\n",
    "    global_step = tf.Variable(0, trainable=False)    \n",
    "    lr_f = train_params['lr_f'](global_step, **train_params['lr_kwargs'])    \n",
    "    optimizer = tf.train.GradientDescentOptimizer(lr_f).minimize(loss)\n",
    "    \n",
    "with tf.name_scope('RMSE'):\n",
    "    # Accuracy    \n",
    "    rmse = tf_rmse(Y_true, Y_pred)\n",
    "\n",
    "# Create a summary to monitor cost tensor\n",
    "tf.summary.scalar(\"loss\", loss)\n",
    "# Create a summary to monitor accuracy tensor\n",
    "tf.summary.scalar(\"RMSE\", rmse)\n",
    "# Merge all summaries into a single op\n",
    "merged_summary_op = tf.summary.merge_all()"
   ]
  },
  {
   "cell_type": "code",
   "execution_count": null,
   "metadata": {
    "scrolled": true
   },
   "outputs": [],
   "source": [
    "from datetime import datetime\n",
    "from sklearn.model_selection import train_test_split\n",
    "\n",
    "verbose = 1\n",
    "display_step = 10\n",
    "\n",
    "# Launch the graph\n",
    "tf.set_random_seed(train_params['seed'])\n",
    "print(\"Start training\")\n",
    "with tf.Session() as sess:\n",
    "    \n",
    "    sess.run(tf.global_variables_initializer())    \n",
    "    # op to write logs to Tensorboard\n",
    "    summary_writer = tf.summary.FileWriter(os.path.join(train_params['logs_path'], \n",
    "                                                        'run_%s' % str(datetime.now().strftime(\"%Y-%m-%d-%H-%M\"))), \n",
    "                                           graph=sess.graph)\n",
    "\n",
    "    \n",
    "    batch_size = train_params['batch_size']        \n",
    "    train_x, val_x, train_y, val_y = train_test_split(trainval_x, trainval_y, train_size=0.75)\n",
    "    \n",
    "    n_train_batchs = int(train_x.shape[0]/batch_size)\n",
    "    n_val_batchs = int(val_x.shape[0]/batch_size)    \n",
    "    \n",
    "    # Training cycle\n",
    "    for epoch in range(train_params['training_epochs']):\n",
    "               \n",
    "        if verbose > 0 and (epoch+1) % display_step == 0:\n",
    "            print(\"Epoch: %04d\" % (epoch+1))\n",
    "        \n",
    "        avg_loss = 0.0\n",
    "        avg_rmse = 0.0\n",
    "        # Train over all batches\n",
    "        lr = sess.run(lr_f, feed_dict={global_step: epoch})\n",
    "        for i in range(n_train_batchs):\n",
    "\n",
    "            if verbose > 1:\n",
    "                print(\"-- %i / %i\" % (i, n_train_batchs))\n",
    "\n",
    "            \n",
    "            i_start = batch_size*i\n",
    "            i_end = batch_size*(i+1)\n",
    "            batch_xs, batch_ys = train_x[i_start:i_end,:], train_y[i_start:i_end, :] \n",
    "            # Run optimization op (backprop), loss op (to get loss value)\n",
    "            # and summary nodes\n",
    "            run_options = None\n",
    "            run_metadata = None\n",
    "            if i % 100 == 99:\n",
    "                run_options = tf.RunOptions(trace_level=tf.RunOptions.FULL_TRACE)\n",
    "                run_metadata = tf.RunMetadata()\n",
    "            _, l, r, y_pred, summary = sess.run([optimizer, loss, rmse, Y_pred, merged_summary_op],\n",
    "                                                feed_dict={X: batch_xs, Y_true: batch_ys}, \n",
    "                                                run_metadata=run_metadata, options=run_options)\n",
    "            \n",
    "            if verbose > 2:\n",
    "                print(\"Numpy Loss: %f\" % np_loss(batch_ys, y_pred))\n",
    "                print(\"TF Loss: %f\" % l)\n",
    "                print(\"TF RMSE: %f\" % r)\n",
    "                \n",
    "            # Write logs at every iteration\n",
    "            summary_writer.add_summary(summary, epoch * n_train_batchs + i)\n",
    "            \n",
    "            # Compute average loss\n",
    "            avg_loss += l * 1.0 / n_train_batchs\n",
    "            avg_rmse += r * 1.0 / n_train_batchs            \n",
    "            \n",
    "        # Display logs per epoch step\n",
    "        if verbose > 0 and (epoch+1) % display_step == 0:\n",
    "            print(\"loss=%.9f, rmse=%.9f | lr=%f\" % (avg_loss, avg_rmse, lr))\n",
    "        \n",
    "        # Validation\n",
    "        avg_loss = 0.0\n",
    "        avg_rmse = 0.0        \n",
    "        for i in range(n_val_batchs):\n",
    "            i_start = batch_size*i\n",
    "            i_end = batch_size*(i+1)\n",
    "            batch_xs, batch_ys = val_x[i_start:i_end,:], val_y[i_start:i_end, :] \n",
    "            # Run optimization op (backprop), loss op (to get loss value)\n",
    "            # and summary nodes\n",
    "            run_options = None\n",
    "            run_metadata = None\n",
    "            if i % 100 == 99:\n",
    "                run_options = tf.RunOptions(trace_level=tf.RunOptions.FULL_TRACE)\n",
    "                run_metadata = tf.RunMetadata()\n",
    "            \n",
    "            l, r, summary = sess.run([loss, rmse, merged_summary_op], \n",
    "                                     feed_dict={X: batch_xs, Y_true: batch_ys}, \n",
    "                                     run_metadata=run_metadata, options=run_options)\n",
    "            # Compute average loss\n",
    "            avg_loss += l / n_val_batchs\n",
    "            avg_rmse += r / n_val_batchs            \n",
    "            \n",
    "        # Display logs per epoch step\n",
    "        if verbose > 0 and (epoch+1) % display_step == 0:\n",
    "            print(\"val_loss=%.9f, val_rmse=%.9f\" % (avg_loss, avg_rmse))\n",
    "\n",
    "    print(\"Optimization Finished!\")\n"
   ]
  },
  {
   "cell_type": "code",
   "execution_count": null,
   "metadata": {
    "collapsed": true
   },
   "outputs": [],
   "source": []
  },
  {
   "cell_type": "code",
   "execution_count": null,
   "metadata": {
    "collapsed": true
   },
   "outputs": [],
   "source": []
  },
  {
   "cell_type": "code",
   "execution_count": null,
   "metadata": {
    "collapsed": true
   },
   "outputs": [],
   "source": []
  },
  {
   "cell_type": "code",
   "execution_count": null,
   "metadata": {
    "collapsed": true
   },
   "outputs": [],
   "source": []
  }
 ],
 "metadata": {
  "kernelspec": {
   "display_name": "Python 3",
   "language": "python",
   "name": "python3"
  },
  "language_info": {
   "codemirror_mode": {
    "name": "ipython",
    "version": 3
   },
   "file_extension": ".py",
   "mimetype": "text/x-python",
   "name": "python",
   "nbconvert_exporter": "python",
   "pygments_lexer": "ipython3",
   "version": "3.6.1"
  }
 },
 "nbformat": 4,
 "nbformat_minor": 1
}
