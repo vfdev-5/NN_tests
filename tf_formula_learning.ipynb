{
 "cells": [
  {
   "cell_type": "markdown",
   "metadata": {},
   "source": [
    "# Formula learning\n",
    "\n",
    "A toy example to learn a formula to predict a synthetic data\n",
    "\n",
    "\n",
    "Let's say we have a regression problem to predict a target value in $\\cal{R}$. \n",
    "Input data has $M$ features and a target is computed as \n",
    "$$\n",
    "y_{i} = f(\\mathbf x)\n",
    "$$\n",
    "we will try various functions $f$ to observe ability to learn it using a DNN."
   ]
  },
  {
   "cell_type": "markdown",
   "metadata": {},
   "source": [
    "## A warm-up\n",
    "\n",
    "Let us predict a simple function : $f(\\mathbf x) = 1 + \\sum_{i} x_i$"
   ]
  },
  {
   "cell_type": "code",
   "execution_count": 1,
   "metadata": {
    "collapsed": true
   },
   "outputs": [],
   "source": [
    "import numpy as np\n",
    "import matplotlib.pylab as plt\n",
    "%matplotlib inline\n",
    "\n",
    "\n",
    "n_samples = 1000\n",
    "n_features = 4\n",
    "b = 1.0\n",
    "x_max = 10.0\n",
    "x_min = -10.0\n",
    "trainval_x = (x_max - x_min) * np.random.rand(n_samples, n_features) + x_min"
   ]
  },
  {
   "cell_type": "code",
   "execution_count": 2,
   "metadata": {
    "collapsed": true
   },
   "outputs": [],
   "source": [
    "def f(x):\n",
    "    return np.sum(x) + 1.0"
   ]
  },
  {
   "cell_type": "code",
   "execution_count": 3,
   "metadata": {
    "collapsed": true
   },
   "outputs": [],
   "source": [
    "trainval_y = np.zeros((n_samples, 1))\n",
    "for i, x in enumerate(trainval_x):\n",
    "    trainval_y[i, 0] = f(x)"
   ]
  },
  {
   "cell_type": "code",
   "execution_count": 4,
   "metadata": {
    "collapsed": false
   },
   "outputs": [
    {
     "name": "stderr",
     "output_type": "stream",
     "text": [
      "/usr/local/lib/python3.5/site-packages/IPython/html.py:14: ShimWarning: The `IPython.html` package has been deprecated. You should import from `notebook` instead. `IPython.html.widgets` has moved to `ipywidgets`.\n",
      "  \"`IPython.html.widgets` has moved to `ipywidgets`.\", ShimWarning)\n"
     ]
    }
   ],
   "source": [
    "import pandas as pd\n",
    "import seaborn as sns\n",
    "\n",
    "cols_x = ['x_%i' % i for i in range(n_features)]\n",
    "df = pd.DataFrame(data=trainval_x, columns=cols_x)\n",
    "df['y'] = trainval_y"
   ]
  },
  {
   "cell_type": "code",
   "execution_count": 5,
   "metadata": {
    "collapsed": false
   },
   "outputs": [
    {
     "data": {
      "text/html": [
       "<div>\n",
       "<table border=\"1\" class=\"dataframe\">\n",
       "  <thead>\n",
       "    <tr style=\"text-align: right;\">\n",
       "      <th></th>\n",
       "      <th>x_0</th>\n",
       "      <th>x_1</th>\n",
       "      <th>x_2</th>\n",
       "      <th>x_3</th>\n",
       "      <th>y</th>\n",
       "    </tr>\n",
       "  </thead>\n",
       "  <tbody>\n",
       "    <tr>\n",
       "      <th>0</th>\n",
       "      <td>-6.914102</td>\n",
       "      <td>-6.726119</td>\n",
       "      <td>-3.977349</td>\n",
       "      <td>-3.884077</td>\n",
       "      <td>-20.501648</td>\n",
       "    </tr>\n",
       "    <tr>\n",
       "      <th>1</th>\n",
       "      <td>3.898862</td>\n",
       "      <td>5.879293</td>\n",
       "      <td>-4.758711</td>\n",
       "      <td>3.137195</td>\n",
       "      <td>9.156638</td>\n",
       "    </tr>\n",
       "    <tr>\n",
       "      <th>2</th>\n",
       "      <td>-7.225712</td>\n",
       "      <td>9.181021</td>\n",
       "      <td>-1.775547</td>\n",
       "      <td>7.918660</td>\n",
       "      <td>9.098422</td>\n",
       "    </tr>\n",
       "    <tr>\n",
       "      <th>3</th>\n",
       "      <td>3.660562</td>\n",
       "      <td>-8.255652</td>\n",
       "      <td>2.180395</td>\n",
       "      <td>-4.587501</td>\n",
       "      <td>-6.002196</td>\n",
       "    </tr>\n",
       "    <tr>\n",
       "      <th>4</th>\n",
       "      <td>-7.219169</td>\n",
       "      <td>5.954612</td>\n",
       "      <td>9.647196</td>\n",
       "      <td>2.101526</td>\n",
       "      <td>11.484165</td>\n",
       "    </tr>\n",
       "  </tbody>\n",
       "</table>\n",
       "</div>"
      ],
      "text/plain": [
       "        x_0       x_1       x_2       x_3          y\n",
       "0 -6.914102 -6.726119 -3.977349 -3.884077 -20.501648\n",
       "1  3.898862  5.879293 -4.758711  3.137195   9.156638\n",
       "2 -7.225712  9.181021 -1.775547  7.918660   9.098422\n",
       "3  3.660562 -8.255652  2.180395 -4.587501  -6.002196\n",
       "4 -7.219169  5.954612  9.647196  2.101526  11.484165"
      ]
     },
     "execution_count": 5,
     "metadata": {},
     "output_type": "execute_result"
    }
   ],
   "source": [
    "df.head()"
   ]
  },
  {
   "cell_type": "code",
   "execution_count": 6,
   "metadata": {
    "collapsed": false
   },
   "outputs": [
    {
     "data": {
      "text/plain": [
       "(-20.501647821145582, 9.1566377071599181)"
      ]
     },
     "execution_count": 6,
     "metadata": {},
     "output_type": "execute_result"
    }
   ],
   "source": [
    "df.loc[0, ['x_%i' % i for i in range(10)]].sum() + 1.0, df.loc[1, ['x_%i' % i for i in range(10)]].sum() + 1.0 "
   ]
  },
  {
   "cell_type": "code",
   "execution_count": 7,
   "metadata": {
    "collapsed": false
   },
   "outputs": [
    {
     "data": {
      "image/png": "[encoded data removed]",
      "text/plain": [
       "<matplotlib.figure.Figure at 0x1123f7940>"
      ]
     },
     "metadata": {},
     "output_type": "display_data"
    },
    {
     "data": {
      "image/png": "[encoded data removed]",
      "text/plain": [
       "<matplotlib.figure.Figure at 0x11260b2b0>"
      ]
     },
     "metadata": {},
     "output_type": "display_data"
    }
   ],
   "source": [
    "plt.figure(figsize=(12, 4))\n",
    "\n",
    "plt.subplot(121)\n",
    "df['y'].hist(bins=100)\n",
    "plt.title('Y')\n",
    "plt.subplot(122)\n",
    "df['y'].apply(np.log).hist(bins=100)\n",
    "plt.title('Y')\n",
    "\n",
    "plt.figure(figsize=(12, 6))\n",
    "for i in range(n_features):\n",
    "    plt.subplot(2, n_features/2, i+1)\n",
    "    df['x_%i' % i].hist(bins=100)\n",
    "    plt.title('x_%i' % i)"
   ]
  },
  {
   "cell_type": "markdown",
   "metadata": {},
   "source": [
    "### Define a NN\n",
    "\n",
    "\n",
    "Let's define a model as  \n",
    "$$\n",
    "f_{nn}(\\mathbf x) = b_i + \\langle W_i, \\mathbf x \\rangle,\n",
    "$$"
   ]
  },
  {
   "cell_type": "code",
   "execution_count": 16,
   "metadata": {
    "collapsed": true
   },
   "outputs": [],
   "source": [
    "import tensorflow as tf"
   ]
  },
  {
   "cell_type": "code",
   "execution_count": 17,
   "metadata": {
    "collapsed": false
   },
   "outputs": [],
   "source": [
    "def nn(x):    \n",
    "    b = tf.Variable(tf.random_uniform((1,)))\n",
    "    W = tf.Variable(tf.random_uniform((x.get_shape().as_list()[1], 1))) \n",
    "    return tf.add(b, tf.matmul(x, W))"
   ]
  },
  {
   "cell_type": "code",
   "execution_count": 18,
   "metadata": {
    "collapsed": false
   },
   "outputs": [],
   "source": [
    "train_params = {    \n",
    "    'lr_kwargs': {\n",
    "        'boundaries': [200, 400, 600],\n",
    "        'values': [0.1, 0.01, 0.001, 0.0001]\n",
    "    },\n",
    "    'lr_f': tf.train.piecewise_constant,        \n",
    "    'training_epochs': 1000,\n",
    "    'batch_size': 128,\n",
    "}\n",
    "\n",
    "def np_loss(y_true, y_pred):\n",
    "    return np.mean(np.power(y_true - y_pred, 2.0), axis=-1)\n",
    "\n",
    "def tf_loss(Y_true, Y_pred):\n",
    "    return tf.reduce_mean(tf.square(Y_true - Y_pred), axis=-1)\n",
    "\n",
    "def tf_rmse(Y_true, Y_pred):\n",
    "    return tf.sqrt(tf.reduce_mean(tf.square(Y_true - Y_pred), axis=-1))"
   ]
  },
  {
   "cell_type": "code",
   "execution_count": 12,
   "metadata": {
    "collapsed": false
   },
   "outputs": [],
   "source": [
    "import os\n",
    "os.environ['KERAS_BACKEND'] = 'tensorflow'"
   ]
  },
  {
   "cell_type": "code",
   "execution_count": 13,
   "metadata": {
    "collapsed": false
   },
   "outputs": [
    {
     "name": "stderr",
     "output_type": "stream",
     "text": [
      "Using TensorFlow backend.\n"
     ]
    }
   ],
   "source": [
    "from keras.backend.tensorflow_backend import _normalize_axis, ndim\n",
    "import keras.backend as K\n",
    "from keras.losses import mean_squared_error"
   ]
  },
  {
   "cell_type": "code",
   "execution_count": 19,
   "metadata": {
    "collapsed": false
   },
   "outputs": [],
   "source": [
    "Y_true_ = tf.placeholder(tf.float32, shape=(128, 1))\n",
    "Y_pred_ = tf.placeholder(tf.float32, shape=(128))    \n",
    "mse = mean_squared_error(Y_true_, Y_pred_)"
   ]
  },
  {
   "cell_type": "code",
   "execution_count": 20,
   "metadata": {
    "collapsed": false
   },
   "outputs": [
    {
     "ename": "ValueError",
     "evalue": "Cannot evaluate tensor using `eval()`: No default session is registered. Use `with sess.as_default()` or pass an explicit session to `eval(session=sess)`",
     "output_type": "error",
     "traceback": [
      "\u001b[0;31m---------------------------------------------------------------------------\u001b[0m",
      "\u001b[0;31mValueError\u001b[0m                                Traceback (most recent call last)",
      "\u001b[0;32m<ipython-input-20-765eb220bb08>\u001b[0m in \u001b[0;36m<module>\u001b[0;34m()\u001b[0m\n\u001b[1;32m      2\u001b[0m \u001b[0my_pred\u001b[0m \u001b[0;34m=\u001b[0m \u001b[0mnp\u001b[0m\u001b[0;34m.\u001b[0m\u001b[0mlinspace\u001b[0m\u001b[0;34m(\u001b[0m\u001b[0;34m-\u001b[0m\u001b[0;36m2\u001b[0m\u001b[0;34m,\u001b[0m \u001b[0;36m2\u001b[0m\u001b[0;34m,\u001b[0m \u001b[0mnum\u001b[0m\u001b[0;34m=\u001b[0m\u001b[0;36m100\u001b[0m\u001b[0;34m)\u001b[0m\u001b[0;34m.\u001b[0m\u001b[0mreshape\u001b[0m\u001b[0;34m(\u001b[0m\u001b[0;34m(\u001b[0m\u001b[0;36m100\u001b[0m\u001b[0;34m,\u001b[0m \u001b[0;36m1\u001b[0m\u001b[0;34m)\u001b[0m\u001b[0;34m)\u001b[0m\u001b[0;34m\u001b[0m\u001b[0m\n\u001b[1;32m      3\u001b[0m \u001b[0;34m\u001b[0m\u001b[0m\n\u001b[0;32m----> 4\u001b[0;31m \u001b[0mmse\u001b[0m\u001b[0;34m.\u001b[0m\u001b[0meval\u001b[0m\u001b[0;34m(\u001b[0m\u001b[0mfeed_dict\u001b[0m\u001b[0;34m=\u001b[0m\u001b[0;34m{\u001b[0m\u001b[0mY_true_\u001b[0m\u001b[0;34m:\u001b[0m \u001b[0my_true\u001b[0m\u001b[0;34m,\u001b[0m \u001b[0mY_pred_\u001b[0m\u001b[0;34m:\u001b[0m \u001b[0my_pred\u001b[0m\u001b[0;34m}\u001b[0m\u001b[0;34m)\u001b[0m\u001b[0;34m\u001b[0m\u001b[0m\n\u001b[0m",
      "\u001b[0;32m/usr/local/lib/python3.5/site-packages/tensorflow/python/framework/ops.py\u001b[0m in \u001b[0;36meval\u001b[0;34m(self, feed_dict, session)\u001b[0m\n\u001b[1;32m    567\u001b[0m \u001b[0;34m\u001b[0m\u001b[0m\n\u001b[1;32m    568\u001b[0m     \"\"\"\n\u001b[0;32m--> 569\u001b[0;31m     \u001b[0;32mreturn\u001b[0m \u001b[0m_eval_using_default_session\u001b[0m\u001b[0;34m(\u001b[0m\u001b[0mself\u001b[0m\u001b[0;34m,\u001b[0m \u001b[0mfeed_dict\u001b[0m\u001b[0;34m,\u001b[0m \u001b[0mself\u001b[0m\u001b[0;34m.\u001b[0m\u001b[0mgraph\u001b[0m\u001b[0;34m,\u001b[0m \u001b[0msession\u001b[0m\u001b[0;34m)\u001b[0m\u001b[0;34m\u001b[0m\u001b[0m\n\u001b[0m\u001b[1;32m    570\u001b[0m \u001b[0;34m\u001b[0m\u001b[0m\n\u001b[1;32m    571\u001b[0m \u001b[0;34m\u001b[0m\u001b[0m\n",
      "\u001b[0;32m/usr/local/lib/python3.5/site-packages/tensorflow/python/framework/ops.py\u001b[0m in \u001b[0;36m_eval_using_default_session\u001b[0;34m(tensors, feed_dict, graph, session)\u001b[0m\n\u001b[1;32m   3725\u001b[0m     \u001b[0msession\u001b[0m \u001b[0;34m=\u001b[0m \u001b[0mget_default_session\u001b[0m\u001b[0;34m(\u001b[0m\u001b[0;34m)\u001b[0m\u001b[0;34m\u001b[0m\u001b[0m\n\u001b[1;32m   3726\u001b[0m     \u001b[0;32mif\u001b[0m \u001b[0msession\u001b[0m \u001b[0;32mis\u001b[0m \u001b[0;32mNone\u001b[0m\u001b[0;34m:\u001b[0m\u001b[0;34m\u001b[0m\u001b[0m\n\u001b[0;32m-> 3727\u001b[0;31m       raise ValueError(\"Cannot evaluate tensor using `eval()`: No default \"\n\u001b[0m\u001b[1;32m   3728\u001b[0m                        \u001b[0;34m\"session is registered. Use `with \"\u001b[0m\u001b[0;34m\u001b[0m\u001b[0m\n\u001b[1;32m   3729\u001b[0m                        \u001b[0;34m\"sess.as_default()` or pass an explicit session to \"\u001b[0m\u001b[0;34m\u001b[0m\u001b[0m\n",
      "\u001b[0;31mValueError\u001b[0m: Cannot evaluate tensor using `eval()`: No default session is registered. Use `with sess.as_default()` or pass an explicit session to `eval(session=sess)`"
     ]
    }
   ],
   "source": [
    "y_true = np.ones((100, 1))\n",
    "y_pred = np.linspace(-2, 2, num=100).reshape((100, 1))\n",
    "\n",
    "mse.eval(feed_dict={Y_true_: y_true, Y_pred_: y_pred})"
   ]
  },
  {
   "cell_type": "code",
   "execution_count": 32,
   "metadata": {
    "collapsed": false
   },
   "outputs": [
    {
     "data": {
      "text/plain": [
       "<matplotlib.legend.Legend at 0x10ba884e0>"
      ]
     },
     "execution_count": 32,
     "metadata": {},
     "output_type": "execute_result"
    },
    {
     "data": {
      "image/png": "[encoded data removed]",
      "text/plain": [
       "<matplotlib.figure.Figure at 0x10c4df7b8>"
      ]
     },
     "metadata": {},
     "output_type": "display_data"
    }
   ],
   "source": [
    "y_true = np.ones((100, 1))\n",
    "y_pred = np.linspace(-2, 2, num=100).reshape((100, 1))\n",
    "\n",
    "lss = np_loss(y_true, y_pred)\n",
    "\n",
    "with tf.Session() as sess:\n",
    "    lss2, rmse = sess.run([tf_loss(Y_true, Y_pred), tf_rmse(Y_true, Y_pred)], feed_dict={Y_true: y_true, Y_pred: y_pred})\n",
    "\n",
    "\n",
    "plt.figure()\n",
    "plt.plot(y_pred, lss, label='np loss')\n",
    "plt.plot(y_pred, lss2, label='tf loss')\n",
    "plt.plot(y_pred, rmse, label='tf rmse')\n",
    "plt.legend()\n"
   ]
  },
  {
   "cell_type": "code",
   "execution_count": 25,
   "metadata": {
    "collapsed": true
   },
   "outputs": [],
   "source": [
    "tf.reset_default_graph()\n",
    "X = tf.placeholder(tf.float32, shape=(None, n_features))\n",
    "Y_true = tf.placeholder(tf.float32, shape=(None, 1))"
   ]
  },
  {
   "cell_type": "code",
   "execution_count": 26,
   "metadata": {
    "collapsed": false
   },
   "outputs": [],
   "source": [
    "# Construct model and encapsulating all ops into scopes, making\n",
    "# Tensorboard's Graph visualization more convenient\n",
    "with tf.name_scope('Model'):\n",
    "    # Model    \n",
    "    Y_pred = nn(X)\n",
    "    \n",
    "with tf.name_scope('Loss'):\n",
    "    # Minimize error using MAE\n",
    "    loss = tf_loss(Y_true, Y_pred)\n",
    "    \n",
    "    \n",
    "with tf.name_scope('Optimizer'):\n",
    "    # Gradient Descent\n",
    "    global_step = tf.Variable(0, trainable=False)    \n",
    "    lr_f = train_params['lr_f'](global_step, **train_params['lr_kwargs'])    \n",
    "    optimizer = tf.train.GradientDescentOptimizer(lr_f).minimize(loss)\n",
    "    \n",
    "with tf.name_scope('RMSE'):    \n",
    "    rmse = tf_rmse(Y_true, Y_pred)\n",
    "\n",
    "# Create a summary to monitor loss tensor\n",
    "tf.summary.scalar(\"loss\", loss)\n",
    "# Create a summary to monitor RMSE tensor\n",
    "tf.summary.scalar(\"RMSE\", rmse)\n",
    "# Merge all summaries into a single op\n",
    "merged_summary_op = tf.summary.merge_all()"
   ]
  },
  {
   "cell_type": "code",
   "execution_count": 27,
   "metadata": {
    "collapsed": false
   },
   "outputs": [
    {
     "data": {
      "text/plain": [
       "(<tf.Tensor 'Placeholder_1:0' shape=(?, 1) dtype=float32>,\n",
       " <tf.Tensor 'Placeholder:0' shape=(?, 4) dtype=float32>,\n",
       " <tf.Tensor 'Model/Add:0' shape=(?, 1) dtype=float32>)"
      ]
     },
     "execution_count": 27,
     "metadata": {},
     "output_type": "execute_result"
    }
   ],
   "source": [
    "Y_true, X, Y_pred"
   ]
  },
  {
   "cell_type": "code",
   "execution_count": 28,
   "metadata": {
    "collapsed": false,
    "scrolled": true
   },
   "outputs": [
    {
     "name": "stdout",
     "output_type": "stream",
     "text": [
      "Start training\n"
     ]
    },
    {
     "ename": "InvalidArgumentError",
     "evalue": "tags and values not the same shape: [] != [128] (tag 'loss')\n\t [[Node: loss = ScalarSummary[T=DT_FLOAT, _device=\"/job:localhost/replica:0/task:0/cpu:0\"](loss/tags, Loss/Mean/_65)]]\n\nCaused by op 'loss', defined at:\n  File \"/usr/local/Cellar/python3/3.5.2_1/Frameworks/Python.framework/Versions/3.5/lib/python3.5/runpy.py\", line 184, in _run_module_as_main\n    \"__main__\", mod_spec)\n  File \"/usr/local/Cellar/python3/3.5.2_1/Frameworks/Python.framework/Versions/3.5/lib/python3.5/runpy.py\", line 85, in _run_code\n    exec(code, run_globals)\n  File \"/usr/local/lib/python3.5/site-packages/ipykernel/__main__.py\", line 3, in <module>\n    app.launch_new_instance()\n  File \"/usr/local/lib/python3.5/site-packages/traitlets/config/application.py\", line 658, in launch_instance\n    app.start()\n  File \"/usr/local/lib/python3.5/site-packages/ipykernel/kernelapp.py\", line 474, in start\n    ioloop.IOLoop.instance().start()\n  File \"/usr/local/lib/python3.5/site-packages/zmq/eventloop/ioloop.py\", line 177, in start\n    super(ZMQIOLoop, self).start()\n  File \"/usr/local/lib/python3.5/site-packages/tornado/ioloop.py\", line 887, in start\n    handler_func(fd_obj, events)\n  File \"/usr/local/lib/python3.5/site-packages/tornado/stack_context.py\", line 275, in null_wrapper\n    return fn(*args, **kwargs)\n  File \"/usr/local/lib/python3.5/site-packages/zmq/eventloop/zmqstream.py\", line 440, in _handle_events\n    self._handle_recv()\n  File \"/usr/local/lib/python3.5/site-packages/zmq/eventloop/zmqstream.py\", line 472, in _handle_recv\n    self._run_callback(callback, msg)\n  File \"/usr/local/lib/python3.5/site-packages/zmq/eventloop/zmqstream.py\", line 414, in _run_callback\n    callback(*args, **kwargs)\n  File \"/usr/local/lib/python3.5/site-packages/tornado/stack_context.py\", line 275, in null_wrapper\n    return fn(*args, **kwargs)\n  File \"/usr/local/lib/python3.5/site-packages/ipykernel/kernelbase.py\", line 276, in dispatcher\n    return self.dispatch_shell(stream, msg)\n  File \"/usr/local/lib/python3.5/site-packages/ipykernel/kernelbase.py\", line 228, in dispatch_shell\n    handler(stream, idents, msg)\n  File \"/usr/local/lib/python3.5/site-packages/ipykernel/kernelbase.py\", line 390, in execute_request\n    user_expressions, allow_stdin)\n  File \"/usr/local/lib/python3.5/site-packages/ipykernel/ipkernel.py\", line 196, in do_execute\n    res = shell.run_cell(code, store_history=store_history, silent=silent)\n  File \"/usr/local/lib/python3.5/site-packages/ipykernel/zmqshell.py\", line 501, in run_cell\n    return super(ZMQInteractiveShell, self).run_cell(*args, **kwargs)\n  File \"/usr/local/lib/python3.5/site-packages/IPython/core/interactiveshell.py\", line 2717, in run_cell\n    interactivity=interactivity, compiler=compiler, result=result)\n  File \"/usr/local/lib/python3.5/site-packages/IPython/core/interactiveshell.py\", line 2821, in run_ast_nodes\n    if self.run_code(code, result):\n  File \"/usr/local/lib/python3.5/site-packages/IPython/core/interactiveshell.py\", line 2881, in run_code\n    exec(code_obj, self.user_global_ns, self.user_ns)\n  File \"<ipython-input-26-91ad9cfc1447>\", line 22, in <module>\n    tf.summary.scalar(\"loss\", loss)\n  File \"/usr/local/lib/python3.5/site-packages/tensorflow/python/summary/summary.py\", line 122, in scalar\n    tags=scope.rstrip('/'), values=tensor, name=scope)\n  File \"/usr/local/lib/python3.5/site-packages/tensorflow/python/ops/gen_logging_ops.py\", line 281, in _scalar_summary\n    name=name)\n  File \"/usr/local/lib/python3.5/site-packages/tensorflow/python/framework/op_def_library.py\", line 768, in apply_op\n    op_def=op_def)\n  File \"/usr/local/lib/python3.5/site-packages/tensorflow/python/framework/ops.py\", line 2336, in create_op\n    original_op=self._default_original_op, op_def=op_def)\n  File \"/usr/local/lib/python3.5/site-packages/tensorflow/python/framework/ops.py\", line 1228, in __init__\n    self._traceback = _extract_stack()\n\nInvalidArgumentError (see above for traceback): tags and values not the same shape: [] != [128] (tag 'loss')\n\t [[Node: loss = ScalarSummary[T=DT_FLOAT, _device=\"/job:localhost/replica:0/task:0/cpu:0\"](loss/tags, Loss/Mean/_65)]]\n",
     "output_type": "error",
     "traceback": [
      "\u001b[0;31m---------------------------------------------------------------------------\u001b[0m",
      "\u001b[0;31mInvalidArgumentError\u001b[0m                      Traceback (most recent call last)",
      "\u001b[0;32m/usr/local/lib/python3.5/site-packages/tensorflow/python/client/session.py\u001b[0m in \u001b[0;36m_do_call\u001b[0;34m(self, fn, *args)\u001b[0m\n\u001b[1;32m   1038\u001b[0m     \u001b[0;32mtry\u001b[0m\u001b[0;34m:\u001b[0m\u001b[0;34m\u001b[0m\u001b[0m\n\u001b[0;32m-> 1039\u001b[0;31m       \u001b[0;32mreturn\u001b[0m \u001b[0mfn\u001b[0m\u001b[0;34m(\u001b[0m\u001b[0;34m*\u001b[0m\u001b[0margs\u001b[0m\u001b[0;34m)\u001b[0m\u001b[0;34m\u001b[0m\u001b[0m\n\u001b[0m\u001b[1;32m   1040\u001b[0m     \u001b[0;32mexcept\u001b[0m \u001b[0merrors\u001b[0m\u001b[0;34m.\u001b[0m\u001b[0mOpError\u001b[0m \u001b[0;32mas\u001b[0m \u001b[0me\u001b[0m\u001b[0;34m:\u001b[0m\u001b[0;34m\u001b[0m\u001b[0m\n",
      "\u001b[0;32m/usr/local/lib/python3.5/site-packages/tensorflow/python/client/session.py\u001b[0m in \u001b[0;36m_run_fn\u001b[0;34m(session, feed_dict, fetch_list, target_list, options, run_metadata)\u001b[0m\n\u001b[1;32m   1020\u001b[0m                                  \u001b[0mfeed_dict\u001b[0m\u001b[0;34m,\u001b[0m \u001b[0mfetch_list\u001b[0m\u001b[0;34m,\u001b[0m \u001b[0mtarget_list\u001b[0m\u001b[0;34m,\u001b[0m\u001b[0;34m\u001b[0m\u001b[0m\n\u001b[0;32m-> 1021\u001b[0;31m                                  status, run_metadata)\n\u001b[0m\u001b[1;32m   1022\u001b[0m \u001b[0;34m\u001b[0m\u001b[0m\n",
      "\u001b[0;32m/usr/local/Cellar/python3/3.5.2_1/Frameworks/Python.framework/Versions/3.5/lib/python3.5/contextlib.py\u001b[0m in \u001b[0;36m__exit__\u001b[0;34m(self, type, value, traceback)\u001b[0m\n\u001b[1;32m     65\u001b[0m             \u001b[0;32mtry\u001b[0m\u001b[0;34m:\u001b[0m\u001b[0;34m\u001b[0m\u001b[0m\n\u001b[0;32m---> 66\u001b[0;31m                 \u001b[0mnext\u001b[0m\u001b[0;34m(\u001b[0m\u001b[0mself\u001b[0m\u001b[0;34m.\u001b[0m\u001b[0mgen\u001b[0m\u001b[0;34m)\u001b[0m\u001b[0;34m\u001b[0m\u001b[0m\n\u001b[0m\u001b[1;32m     67\u001b[0m             \u001b[0;32mexcept\u001b[0m \u001b[0mStopIteration\u001b[0m\u001b[0;34m:\u001b[0m\u001b[0;34m\u001b[0m\u001b[0m\n",
      "\u001b[0;32m/usr/local/lib/python3.5/site-packages/tensorflow/python/framework/errors_impl.py\u001b[0m in \u001b[0;36mraise_exception_on_not_ok_status\u001b[0;34m()\u001b[0m\n\u001b[1;32m    465\u001b[0m           \u001b[0mcompat\u001b[0m\u001b[0;34m.\u001b[0m\u001b[0mas_text\u001b[0m\u001b[0;34m(\u001b[0m\u001b[0mpywrap_tensorflow\u001b[0m\u001b[0;34m.\u001b[0m\u001b[0mTF_Message\u001b[0m\u001b[0;34m(\u001b[0m\u001b[0mstatus\u001b[0m\u001b[0;34m)\u001b[0m\u001b[0;34m)\u001b[0m\u001b[0;34m,\u001b[0m\u001b[0;34m\u001b[0m\u001b[0m\n\u001b[0;32m--> 466\u001b[0;31m           pywrap_tensorflow.TF_GetCode(status))\n\u001b[0m\u001b[1;32m    467\u001b[0m   \u001b[0;32mfinally\u001b[0m\u001b[0;34m:\u001b[0m\u001b[0;34m\u001b[0m\u001b[0m\n",
      "\u001b[0;31mInvalidArgumentError\u001b[0m: tags and values not the same shape: [] != [128] (tag 'loss')\n\t [[Node: loss = ScalarSummary[T=DT_FLOAT, _device=\"/job:localhost/replica:0/task:0/cpu:0\"](loss/tags, Loss/Mean/_65)]]",
      "\nDuring handling of the above exception, another exception occurred:\n",
      "\u001b[0;31mInvalidArgumentError\u001b[0m                      Traceback (most recent call last)",
      "\u001b[0;32m<ipython-input-28-715682b8990a>\u001b[0m in \u001b[0;36m<module>\u001b[0;34m()\u001b[0m\n\u001b[1;32m     32\u001b[0m             \u001b[0;31m# and summary nodes\u001b[0m\u001b[0;34m\u001b[0m\u001b[0;34m\u001b[0m\u001b[0m\n\u001b[1;32m     33\u001b[0m             _, l, r, summary = sess.run([optimizer, loss, rmse, merged_summary_op],\n\u001b[0;32m---> 34\u001b[0;31m                                      feed_dict={X: batch_xs, Y_true: batch_ys})\n\u001b[0m\u001b[1;32m     35\u001b[0m             \u001b[0;31m# Compute average loss\u001b[0m\u001b[0;34m\u001b[0m\u001b[0;34m\u001b[0m\u001b[0m\n\u001b[1;32m     36\u001b[0m             \u001b[0mavg_loss\u001b[0m \u001b[0;34m+=\u001b[0m \u001b[0ml\u001b[0m \u001b[0;34m/\u001b[0m \u001b[0mn_train_batchs\u001b[0m\u001b[0;34m\u001b[0m\u001b[0m\n",
      "\u001b[0;32m/usr/local/lib/python3.5/site-packages/tensorflow/python/client/session.py\u001b[0m in \u001b[0;36mrun\u001b[0;34m(self, fetches, feed_dict, options, run_metadata)\u001b[0m\n\u001b[1;32m    776\u001b[0m     \u001b[0;32mtry\u001b[0m\u001b[0;34m:\u001b[0m\u001b[0;34m\u001b[0m\u001b[0m\n\u001b[1;32m    777\u001b[0m       result = self._run(None, fetches, feed_dict, options_ptr,\n\u001b[0;32m--> 778\u001b[0;31m                          run_metadata_ptr)\n\u001b[0m\u001b[1;32m    779\u001b[0m       \u001b[0;32mif\u001b[0m \u001b[0mrun_metadata\u001b[0m\u001b[0;34m:\u001b[0m\u001b[0;34m\u001b[0m\u001b[0m\n\u001b[1;32m    780\u001b[0m         \u001b[0mproto_data\u001b[0m \u001b[0;34m=\u001b[0m \u001b[0mtf_session\u001b[0m\u001b[0;34m.\u001b[0m\u001b[0mTF_GetBuffer\u001b[0m\u001b[0;34m(\u001b[0m\u001b[0mrun_metadata_ptr\u001b[0m\u001b[0;34m)\u001b[0m\u001b[0;34m\u001b[0m\u001b[0m\n",
      "\u001b[0;32m/usr/local/lib/python3.5/site-packages/tensorflow/python/client/session.py\u001b[0m in \u001b[0;36m_run\u001b[0;34m(self, handle, fetches, feed_dict, options, run_metadata)\u001b[0m\n\u001b[1;32m    980\u001b[0m     \u001b[0;32mif\u001b[0m \u001b[0mfinal_fetches\u001b[0m \u001b[0;32mor\u001b[0m \u001b[0mfinal_targets\u001b[0m\u001b[0;34m:\u001b[0m\u001b[0;34m\u001b[0m\u001b[0m\n\u001b[1;32m    981\u001b[0m       results = self._do_run(handle, final_targets, final_fetches,\n\u001b[0;32m--> 982\u001b[0;31m                              feed_dict_string, options, run_metadata)\n\u001b[0m\u001b[1;32m    983\u001b[0m     \u001b[0;32melse\u001b[0m\u001b[0;34m:\u001b[0m\u001b[0;34m\u001b[0m\u001b[0m\n\u001b[1;32m    984\u001b[0m       \u001b[0mresults\u001b[0m \u001b[0;34m=\u001b[0m \u001b[0;34m[\u001b[0m\u001b[0;34m]\u001b[0m\u001b[0;34m\u001b[0m\u001b[0m\n",
      "\u001b[0;32m/usr/local/lib/python3.5/site-packages/tensorflow/python/client/session.py\u001b[0m in \u001b[0;36m_do_run\u001b[0;34m(self, handle, target_list, fetch_list, feed_dict, options, run_metadata)\u001b[0m\n\u001b[1;32m   1030\u001b[0m     \u001b[0;32mif\u001b[0m \u001b[0mhandle\u001b[0m \u001b[0;32mis\u001b[0m \u001b[0;32mNone\u001b[0m\u001b[0;34m:\u001b[0m\u001b[0;34m\u001b[0m\u001b[0m\n\u001b[1;32m   1031\u001b[0m       return self._do_call(_run_fn, self._session, feed_dict, fetch_list,\n\u001b[0;32m-> 1032\u001b[0;31m                            target_list, options, run_metadata)\n\u001b[0m\u001b[1;32m   1033\u001b[0m     \u001b[0;32melse\u001b[0m\u001b[0;34m:\u001b[0m\u001b[0;34m\u001b[0m\u001b[0m\n\u001b[1;32m   1034\u001b[0m       return self._do_call(_prun_fn, self._session, handle, feed_dict,\n",
      "\u001b[0;32m/usr/local/lib/python3.5/site-packages/tensorflow/python/client/session.py\u001b[0m in \u001b[0;36m_do_call\u001b[0;34m(self, fn, *args)\u001b[0m\n\u001b[1;32m   1050\u001b[0m         \u001b[0;32mexcept\u001b[0m \u001b[0mKeyError\u001b[0m\u001b[0;34m:\u001b[0m\u001b[0;34m\u001b[0m\u001b[0m\n\u001b[1;32m   1051\u001b[0m           \u001b[0;32mpass\u001b[0m\u001b[0;34m\u001b[0m\u001b[0m\n\u001b[0;32m-> 1052\u001b[0;31m       \u001b[0;32mraise\u001b[0m \u001b[0mtype\u001b[0m\u001b[0;34m(\u001b[0m\u001b[0me\u001b[0m\u001b[0;34m)\u001b[0m\u001b[0;34m(\u001b[0m\u001b[0mnode_def\u001b[0m\u001b[0;34m,\u001b[0m \u001b[0mop\u001b[0m\u001b[0;34m,\u001b[0m \u001b[0mmessage\u001b[0m\u001b[0;34m)\u001b[0m\u001b[0;34m\u001b[0m\u001b[0m\n\u001b[0m\u001b[1;32m   1053\u001b[0m \u001b[0;34m\u001b[0m\u001b[0m\n\u001b[1;32m   1054\u001b[0m   \u001b[0;32mdef\u001b[0m \u001b[0m_extend_graph\u001b[0m\u001b[0;34m(\u001b[0m\u001b[0mself\u001b[0m\u001b[0;34m)\u001b[0m\u001b[0;34m:\u001b[0m\u001b[0;34m\u001b[0m\u001b[0m\n",
      "\u001b[0;31mInvalidArgumentError\u001b[0m: tags and values not the same shape: [] != [128] (tag 'loss')\n\t [[Node: loss = ScalarSummary[T=DT_FLOAT, _device=\"/job:localhost/replica:0/task:0/cpu:0\"](loss/tags, Loss/Mean/_65)]]\n\nCaused by op 'loss', defined at:\n  File \"/usr/local/Cellar/python3/3.5.2_1/Frameworks/Python.framework/Versions/3.5/lib/python3.5/runpy.py\", line 184, in _run_module_as_main\n    \"__main__\", mod_spec)\n  File \"/usr/local/Cellar/python3/3.5.2_1/Frameworks/Python.framework/Versions/3.5/lib/python3.5/runpy.py\", line 85, in _run_code\n    exec(code, run_globals)\n  File \"/usr/local/lib/python3.5/site-packages/ipykernel/__main__.py\", line 3, in <module>\n    app.launch_new_instance()\n  File \"/usr/local/lib/python3.5/site-packages/traitlets/config/application.py\", line 658, in launch_instance\n    app.start()\n  File \"/usr/local/lib/python3.5/site-packages/ipykernel/kernelapp.py\", line 474, in start\n    ioloop.IOLoop.instance().start()\n  File \"/usr/local/lib/python3.5/site-packages/zmq/eventloop/ioloop.py\", line 177, in start\n    super(ZMQIOLoop, self).start()\n  File \"/usr/local/lib/python3.5/site-packages/tornado/ioloop.py\", line 887, in start\n    handler_func(fd_obj, events)\n  File \"/usr/local/lib/python3.5/site-packages/tornado/stack_context.py\", line 275, in null_wrapper\n    return fn(*args, **kwargs)\n  File \"/usr/local/lib/python3.5/site-packages/zmq/eventloop/zmqstream.py\", line 440, in _handle_events\n    self._handle_recv()\n  File \"/usr/local/lib/python3.5/site-packages/zmq/eventloop/zmqstream.py\", line 472, in _handle_recv\n    self._run_callback(callback, msg)\n  File \"/usr/local/lib/python3.5/site-packages/zmq/eventloop/zmqstream.py\", line 414, in _run_callback\n    callback(*args, **kwargs)\n  File \"/usr/local/lib/python3.5/site-packages/tornado/stack_context.py\", line 275, in null_wrapper\n    return fn(*args, **kwargs)\n  File \"/usr/local/lib/python3.5/site-packages/ipykernel/kernelbase.py\", line 276, in dispatcher\n    return self.dispatch_shell(stream, msg)\n  File \"/usr/local/lib/python3.5/site-packages/ipykernel/kernelbase.py\", line 228, in dispatch_shell\n    handler(stream, idents, msg)\n  File \"/usr/local/lib/python3.5/site-packages/ipykernel/kernelbase.py\", line 390, in execute_request\n    user_expressions, allow_stdin)\n  File \"/usr/local/lib/python3.5/site-packages/ipykernel/ipkernel.py\", line 196, in do_execute\n    res = shell.run_cell(code, store_history=store_history, silent=silent)\n  File \"/usr/local/lib/python3.5/site-packages/ipykernel/zmqshell.py\", line 501, in run_cell\n    return super(ZMQInteractiveShell, self).run_cell(*args, **kwargs)\n  File \"/usr/local/lib/python3.5/site-packages/IPython/core/interactiveshell.py\", line 2717, in run_cell\n    interactivity=interactivity, compiler=compiler, result=result)\n  File \"/usr/local/lib/python3.5/site-packages/IPython/core/interactiveshell.py\", line 2821, in run_ast_nodes\n    if self.run_code(code, result):\n  File \"/usr/local/lib/python3.5/site-packages/IPython/core/interactiveshell.py\", line 2881, in run_code\n    exec(code_obj, self.user_global_ns, self.user_ns)\n  File \"<ipython-input-26-91ad9cfc1447>\", line 22, in <module>\n    tf.summary.scalar(\"loss\", loss)\n  File \"/usr/local/lib/python3.5/site-packages/tensorflow/python/summary/summary.py\", line 122, in scalar\n    tags=scope.rstrip('/'), values=tensor, name=scope)\n  File \"/usr/local/lib/python3.5/site-packages/tensorflow/python/ops/gen_logging_ops.py\", line 281, in _scalar_summary\n    name=name)\n  File \"/usr/local/lib/python3.5/site-packages/tensorflow/python/framework/op_def_library.py\", line 768, in apply_op\n    op_def=op_def)\n  File \"/usr/local/lib/python3.5/site-packages/tensorflow/python/framework/ops.py\", line 2336, in create_op\n    original_op=self._default_original_op, op_def=op_def)\n  File \"/usr/local/lib/python3.5/site-packages/tensorflow/python/framework/ops.py\", line 1228, in __init__\n    self._traceback = _extract_stack()\n\nInvalidArgumentError (see above for traceback): tags and values not the same shape: [] != [128] (tag 'loss')\n\t [[Node: loss = ScalarSummary[T=DT_FLOAT, _device=\"/job:localhost/replica:0/task:0/cpu:0\"](loss/tags, Loss/Mean/_65)]]\n"
     ]
    }
   ],
   "source": [
    "from sklearn.model_selection import train_test_split\n",
    "\n",
    "display_step = 10\n",
    "\n",
    "# Launch the graph\n",
    "print(\"Start training\")\n",
    "with tf.Session() as sess:\n",
    "    sess.run(tf.global_variables_initializer())\n",
    "    \n",
    "    batch_size = train_params['batch_size']\n",
    "        \n",
    "    train_x, val_x, train_y, val_y = train_test_split(trainval_x, trainval_y, train_size=0.75)\n",
    "    \n",
    "    n_train_batchs = int(train_x.shape[0]/batch_size)\n",
    "    n_val_batchs = int(val_x.shape[0]/batch_size)    \n",
    "    \n",
    "    # Training cycle\n",
    "    for epoch in range(train_params['training_epochs']):\n",
    "        \n",
    "        if (epoch+1) % display_step == 0:\n",
    "            print(\"Epoch: %04d\" % (epoch+1))\n",
    "        \n",
    "        avg_loss = 0.0\n",
    "        avg_rmse = 0.0\n",
    "        # Train over all batches            \n",
    "        for i in range(n_train_batchs):\n",
    "\n",
    "            i_start = batch_size*i\n",
    "            i_end = batch_size*(i+1)\n",
    "            batch_xs, batch_ys = train_x[i_start:i_end,:], train_y[i_start:i_end, :] \n",
    "            # Run optimization op (backprop), loss op (to get loss value)\n",
    "            # and summary nodes\n",
    "            _, l, r, summary = sess.run([optimizer, loss, rmse, merged_summary_op],\n",
    "                                     feed_dict={X: batch_xs, Y_true: batch_ys})\n",
    "            # Compute average loss\n",
    "            avg_loss += l / n_train_batchs\n",
    "            avg_rmse += r / n_train_batchs            \n",
    "            \n",
    "        # Display logs per epoch step\n",
    "        if (epoch+1) % display_step == 0:\n",
    "            print(\"loss=%.9f, rmse=%.9f\" % (avg_loss, avg_rmse))\n",
    "        \n",
    "        # Validation\n",
    "        avg_loss = 0.0\n",
    "        avg_rmse = 0.0        \n",
    "        for i in range(n_val_batchs):\n",
    "            i_start = batch_size*i\n",
    "            i_end = batch_size*(i+1)\n",
    "            batch_xs, batch_ys = val_x[i_start:i_end,:], val_y[i_start:i_end, :] \n",
    "            # Run optimization op (backprop), loss op (to get loss value)\n",
    "            # and summary nodes\n",
    "            l, r, summary = sess.run([loss, rmse, merged_summary_op], \n",
    "                                     feed_dict={X: batch_xs, Y_true: batch_ys})\n",
    "            # Compute average loss\n",
    "            avg_loss += l / n_val_batchs\n",
    "            avg_rmse += r / n_val_batchs            \n",
    "            \n",
    "        # Display logs per epoch step\n",
    "        if (epoch+1) % display_step == 0:\n",
    "            print(\"val_loss=%.9f, val_rmse=%.9f\" % (avg_loss, avg_rmse))\n",
    "        \n",
    "            \n",
    "        \n",
    "\n",
    "    print(\"Optimization Finished!\")\n"
   ]
  },
  {
   "cell_type": "code",
   "execution_count": null,
   "metadata": {
    "collapsed": true
   },
   "outputs": [],
   "source": []
  },
  {
   "cell_type": "code",
   "execution_count": null,
   "metadata": {
    "collapsed": true
   },
   "outputs": [],
   "source": []
  },
  {
   "cell_type": "code",
   "execution_count": null,
   "metadata": {
    "collapsed": true
   },
   "outputs": [],
   "source": []
  },
  {
   "cell_type": "markdown",
   "metadata": {},
   "source": [
    "## A ratio-like and squared formula\n",
    "\n",
    "Let $M=10$ and the function to learn is defined as \n",
    "$$\n",
    "f(\\mathbf x) = \\frac{\\sum_i a_i x_i + b} {\\sum_i c_i x_i + d} + \\alpha \\sum_{i,j \\neq i} x_i x_j + \\beta\n",
    "$$\n",
    "where coefficients $a_i$, $b$, $c_i$, $d$, $\\alpha$, $\\beta$ are randomly chosen.\n",
    "\n",
    "Setup input data :"
   ]
  },
  {
   "cell_type": "code",
   "execution_count": 3,
   "metadata": {
    "collapsed": true
   },
   "outputs": [],
   "source": [
    "import numpy as np\n",
    "import matplotlib.pylab as plt\n",
    "%matplotlib inline\n",
    "\n",
    "n_samples = 10000\n",
    "n_features = 10\n",
    "a = np.random.rand(n_features)\n",
    "b = 1.0\n",
    "c = np.random.rand(n_features)\n",
    "d = np.random.rand() * 100.0\n",
    "alpha = np.random.rand() * 1.0 / 50.0\n",
    "beta = np.random.rand() * 50.0\n",
    "\n",
    "x_max = 100.0\n",
    "x_min = -50.0\n",
    "trainval_x = (x_max - x_min) * np.random.rand(n_samples, n_features) + x_min"
   ]
  },
  {
   "cell_type": "code",
   "execution_count": 4,
   "metadata": {
    "collapsed": true
   },
   "outputs": [],
   "source": [
    "def f(sample_x):\n",
    "    numerator = np.dot(a, sample_x) + b\n",
    "    denominator = np.dot(c, sample_x) + d\n",
    "    t1 = numerator / denominator\n",
    "    \n",
    "    t2 = 0\n",
    "    for v in sample_x:\n",
    "        t2 += v * (np.sum(sample_x) - v)    \n",
    "    t2 *= alpha\n",
    "    return t1 + t2 + beta"
   ]
  },
  {
   "cell_type": "code",
   "execution_count": 62,
   "metadata": {
    "collapsed": true
   },
   "outputs": [],
   "source": [
    "trainval_y = np.zeros((n_samples, 1))\n",
    "for i, x in enumerate(trainval_x):\n",
    "    trainval_y[i] = f(x)"
   ]
  },
  {
   "cell_type": "code",
   "execution_count": 64,
   "metadata": {
    "collapsed": true
   },
   "outputs": [],
   "source": [
    "import pandas as pd\n",
    "import seaborn as sns\n",
    "\n",
    "cols_x = ['x_%i' % i for i in range(n_features)]\n",
    "df = pd.DataFrame(data=trainval_x, columns=cols_x)\n",
    "df['y'] = trainval_y"
   ]
  },
  {
   "cell_type": "code",
   "execution_count": 65,
   "metadata": {
    "collapsed": false
   },
   "outputs": [
    {
     "data": {
      "text/html": [
       "<div>\n",
       "<style>\n",
       "    .dataframe thead tr:only-child th {\n",
       "        text-align: right;\n",
       "    }\n",
       "\n",
       "    .dataframe thead th {\n",
       "        text-align: left;\n",
       "    }\n",
       "\n",
       "    .dataframe tbody tr th {\n",
       "        vertical-align: top;\n",
       "    }\n",
       "</style>\n",
       "<table border=\"1\" class=\"dataframe\">\n",
       "  <thead>\n",
       "    <tr style=\"text-align: right;\">\n",
       "      <th></th>\n",
       "      <th>x_0</th>\n",
       "      <th>x_1</th>\n",
       "      <th>x_2</th>\n",
       "      <th>x_3</th>\n",
       "      <th>x_4</th>\n",
       "      <th>x_5</th>\n",
       "      <th>x_6</th>\n",
       "      <th>x_7</th>\n",
       "      <th>x_8</th>\n",
       "      <th>x_9</th>\n",
       "      <th>y</th>\n",
       "    </tr>\n",
       "  </thead>\n",
       "  <tbody>\n",
       "    <tr>\n",
       "      <th>0</th>\n",
       "      <td>40.425245</td>\n",
       "      <td>87.073970</td>\n",
       "      <td>-37.476818</td>\n",
       "      <td>40.503674</td>\n",
       "      <td>52.398057</td>\n",
       "      <td>65.812719</td>\n",
       "      <td>-34.195931</td>\n",
       "      <td>4.148323</td>\n",
       "      <td>56.190972</td>\n",
       "      <td>-23.843447</td>\n",
       "      <td>60.357144</td>\n",
       "    </tr>\n",
       "    <tr>\n",
       "      <th>1</th>\n",
       "      <td>-3.169449</td>\n",
       "      <td>-12.820580</td>\n",
       "      <td>76.330680</td>\n",
       "      <td>-15.900743</td>\n",
       "      <td>-48.068176</td>\n",
       "      <td>87.394782</td>\n",
       "      <td>30.073804</td>\n",
       "      <td>52.666001</td>\n",
       "      <td>58.815798</td>\n",
       "      <td>16.444855</td>\n",
       "      <td>55.289412</td>\n",
       "    </tr>\n",
       "    <tr>\n",
       "      <th>2</th>\n",
       "      <td>-20.572207</td>\n",
       "      <td>-3.650812</td>\n",
       "      <td>96.479582</td>\n",
       "      <td>-35.429151</td>\n",
       "      <td>-20.944052</td>\n",
       "      <td>89.106976</td>\n",
       "      <td>-18.394779</td>\n",
       "      <td>-30.838079</td>\n",
       "      <td>79.410738</td>\n",
       "      <td>-42.040173</td>\n",
       "      <td>-21.816756</td>\n",
       "    </tr>\n",
       "    <tr>\n",
       "      <th>3</th>\n",
       "      <td>91.229796</td>\n",
       "      <td>-8.355221</td>\n",
       "      <td>74.436617</td>\n",
       "      <td>-22.910272</td>\n",
       "      <td>13.607131</td>\n",
       "      <td>-8.946438</td>\n",
       "      <td>39.777513</td>\n",
       "      <td>85.133333</td>\n",
       "      <td>98.830541</td>\n",
       "      <td>37.519781</td>\n",
       "      <td>181.904713</td>\n",
       "    </tr>\n",
       "    <tr>\n",
       "      <th>4</th>\n",
       "      <td>97.344369</td>\n",
       "      <td>71.475973</td>\n",
       "      <td>36.655585</td>\n",
       "      <td>-48.061746</td>\n",
       "      <td>13.271403</td>\n",
       "      <td>23.655426</td>\n",
       "      <td>9.077755</td>\n",
       "      <td>45.041416</td>\n",
       "      <td>-39.383458</td>\n",
       "      <td>78.937506</td>\n",
       "      <td>84.623889</td>\n",
       "    </tr>\n",
       "  </tbody>\n",
       "</table>\n",
       "</div>"
      ],
      "text/plain": [
       "         x_0        x_1        x_2        x_3        x_4        x_5  \\\n",
       "0  40.425245  87.073970 -37.476818  40.503674  52.398057  65.812719   \n",
       "1  -3.169449 -12.820580  76.330680 -15.900743 -48.068176  87.394782   \n",
       "2 -20.572207  -3.650812  96.479582 -35.429151 -20.944052  89.106976   \n",
       "3  91.229796  -8.355221  74.436617 -22.910272  13.607131  -8.946438   \n",
       "4  97.344369  71.475973  36.655585 -48.061746  13.271403  23.655426   \n",
       "\n",
       "         x_6        x_7        x_8        x_9           y  \n",
       "0 -34.195931   4.148323  56.190972 -23.843447   60.357144  \n",
       "1  30.073804  52.666001  58.815798  16.444855   55.289412  \n",
       "2 -18.394779 -30.838079  79.410738 -42.040173  -21.816756  \n",
       "3  39.777513  85.133333  98.830541  37.519781  181.904713  \n",
       "4   9.077755  45.041416 -39.383458  78.937506   84.623889  "
      ]
     },
     "execution_count": 65,
     "metadata": {},
     "output_type": "execute_result"
    }
   ],
   "source": [
    "df.head()"
   ]
  },
  {
   "cell_type": "code",
   "execution_count": 52,
   "metadata": {
    "collapsed": false
   },
   "outputs": [
    {
     "data": {
      "text/plain": [
       "<matplotlib.text.Text at 0x7f0de279f940>"
      ]
     },
     "execution_count": 52,
     "metadata": {},
     "output_type": "execute_result"
    },
    {
     "name": "stderr",
     "output_type": "stream",
     "text": [
      "/usr/local/lib/python3.5/site-packages/matplotlib/font_manager.py:1297: UserWarning: findfont: Font family ['sans-serif'] not found. Falling back to DejaVu Sans\n",
      "  (prop.get_family(), self.defaultFamily[fontext]))\n"
     ]
    },
    {
     "data": {
      "image/png": "[encoded data removed]",
      "text/plain": [
       "<matplotlib.figure.Figure at 0x7f0dedc87ac8>"
      ]
     },
     "metadata": {},
     "output_type": "display_data"
    }
   ],
   "source": [
    "plt.figure(figsize=(12, 4))\n",
    "\n",
    "plt.subplot(121)\n",
    "df['y'].hist(bins=100)\n",
    "plt.title('Y')\n",
    "plt.subplot(122)\n",
    "df['y'].apply(np.log).hist(bins=100)\n",
    "plt.title('Y')\n",
    "\n",
    "# plt.figure(figsize=(12, 6))\n",
    "# for i in range(n_features):\n",
    "#     plt.subplot(2, n_features/2, i+1)\n",
    "#     df['x_%i' % i].hist(bins=100)\n",
    "#     plt.title('x_%i' % i)"
   ]
  },
  {
   "cell_type": "markdown",
   "metadata": {},
   "source": [
    "### Define a NN\n",
    "\n",
    "\n",
    "Let's define a model as  \n",
    "$$\n",
    "f_{nn}(\\mathbf x) = \\prod_{i=0}^{l-1} \\left( b_i + \\langle W_i, g(\\mathbf x) \\rangle \\right),\n",
    "$$\n",
    "where \n",
    "$$\n",
    "g(\\mathbf x) = g_m(\\mathbf x) = h^{(1)}_{m,m-1}(\\mathbf x) + \\frac{1}{\\epsilon + h^{(2)}_{m,m-1}(\\mathbf x)}\n",
    "$$\n",
    "and \n",
    "$$\n",
    "h^{(i)}_{m,m-1}(\\mathbf x) = \\text{activation}(\\langle W_{i,m}, g_{m-1}(\\mathbf x) \\rangle + b_{i,m}), \\\\\n",
    "g_{0} (\\mathbf x) = \\mathbf x\n",
    "$$\n"
   ]
  },
  {
   "cell_type": "code",
   "execution_count": 11,
   "metadata": {
    "collapsed": true
   },
   "outputs": [],
   "source": [
    "import pydot\n",
    "from itertools import chain\n",
    "def tf_graph_to_dot(in_graph):\n",
    "    dot = pydot.Dot()\n",
    "    dot.set('rankdir', 'LR')\n",
    "    dot.set('concentrate', True)\n",
    "    dot.set_node_defaults(shape='record')\n",
    "    all_ops = in_graph.get_operations()\n",
    "    all_tens_dict = {k: i for i,k in enumerate(set(chain(*[c_op.outputs for c_op in all_ops])))}\n",
    "    for c_node in all_tens_dict.keys():\n",
    "        node = pydot.Node(c_node.name)#, label=label)\n",
    "        dot.add_node(node)\n",
    "    for c_op in all_ops:\n",
    "        for c_output in c_op.outputs:\n",
    "            for c_input in c_op.inputs:\n",
    "                dot.add_edge(pydot.Edge(c_input.name, c_output.name))\n",
    "    return dot"
   ]
  },
  {
   "cell_type": "code",
   "execution_count": 15,
   "metadata": {
    "collapsed": true
   },
   "outputs": [
    {
     "data": {
      "image/svg+xml": [
       "<svg height=\"704pt\" viewBox=\"0.00 0.00 1595.00 704.00\" width=\"1595pt\" xmlns=\"http://www.w3.org/2000/svg\" xmlns:xlink=\"http://www.w3.org/1999/xlink\">\n",
       "<g class=\"graph\" id=\"graph0\" transform=\"scale(1 1) rotate(0) translate(4 700)\">\n",
       "<title>G</title>\n",
       "<polygon fill=\"white\" points=\"-4,4 -4,-700 1591,-700 1591,4 -4,4\" stroke=\"none\"/>\n",
       "<!-- bias_0_0/Assign -->\n",
       "<g class=\"node\" id=\"node1\"><title>bias_0_0/Assign</title>\n",
       "<polygon fill=\"none\" points=\"90,-54.5 90,-90.5 221,-90.5 221,-54.5 90,-54.5\" stroke=\"black\"/>\n",
       "<text font-family=\"Times,serif\" font-size=\"14.00\" text-anchor=\"middle\" x=\"155.5\" y=\"-68.8\">bias_0_0/Assign</text>\n",
       "</g>\n",
       "<!-- bias_0_0 -->\n",
       "<g class=\"node\" id=\"node2\"><title>bias_0_0</title>\n",
       "<polygon fill=\"none\" points=\"1121,-165.5 1121,-201.5 1200,-201.5 1200,-165.5 1121,-165.5\" stroke=\"black\"/>\n",
       "<text font-family=\"Times,serif\" font-size=\"14.00\" text-anchor=\"middle\" x=\"1160.5\" y=\"-179.8\">bias_0_0</text>\n",
       "</g>\n",
       "<!-- bias_0_0/Assign:0 -->\n",
       "<g class=\"node\" id=\"node20\"><title>bias_0_0/Assign:0</title>\n",
       "<polygon fill=\"none\" points=\"1262,-220.5 1262,-256.5 1407,-256.5 1407,-220.5 1262,-220.5\" stroke=\"black\"/>\n",
       "<text font-family=\"Times,serif\" font-size=\"14.00\" text-anchor=\"middle\" x=\"1334.5\" y=\"-234.8\">bias_0_0/Assign:0</text>\n",
       "</g>\n",
       "<!-- bias_0_0&#45;&gt;bias_0_0/Assign:0 -->\n",
       "<g class=\"edge\" id=\"edge1\"><title>bias_0_0:0-&gt;bias_0_0/Assign:0</title>\n",
       "<path d=\"M1200.19,-196.118C1220,-202.417 1244.51,-210.208 1267.08,-217.384\" fill=\"none\" stroke=\"black\"/>\n",
       "<polygon fill=\"black\" points=\"1266.03,-220.721 1276.62,-220.416 1268.15,-214.05 1266.03,-220.721\" stroke=\"black\"/>\n",
       "</g>\n",
       "<!-- bias_0_0/read:0 -->\n",
       "<g class=\"node\" id=\"node21\"><title>bias_0_0/read:0</title>\n",
       "<polygon fill=\"none\" points=\"1270,-165.5 1270,-201.5 1399,-201.5 1399,-165.5 1270,-165.5\" stroke=\"black\"/>\n",
       "<text font-family=\"Times,serif\" font-size=\"14.00\" text-anchor=\"middle\" x=\"1334.5\" y=\"-179.8\">bias_0_0/read:0</text>\n",
       "</g>\n",
       "<!-- bias_0_0&#45;&gt;bias_0_0/read:0 -->\n",
       "<g class=\"edge\" id=\"edge3\"><title>bias_0_0:0-&gt;bias_0_0/read:0</title>\n",
       "<path d=\"M1200.19,-183.5C1217.85,-183.5 1239.25,-183.5 1259.68,-183.5\" fill=\"none\" stroke=\"black\"/>\n",
       "<polygon fill=\"black\" points=\"1259.92,-187 1269.92,-183.5 1259.92,-180 1259.92,-187\" stroke=\"black\"/>\n",
       "</g>\n",
       "<!-- Const_1 -->\n",
       "<g class=\"node\" id=\"node3\"><title>Const_1</title>\n",
       "<polygon fill=\"none\" points=\"1123,-220.5 1123,-256.5 1198,-256.5 1198,-220.5 1123,-220.5\" stroke=\"black\"/>\n",
       "<text font-family=\"Times,serif\" font-size=\"14.00\" text-anchor=\"middle\" x=\"1160.5\" y=\"-234.8\">Const_1</text>\n",
       "</g>\n",
       "<!-- Const_1&#45;&gt;bias_0_0/Assign:0 -->\n",
       "<g class=\"edge\" id=\"edge2\"><title>Const_1:0-&gt;bias_0_0/Assign:0</title>\n",
       "<path d=\"M1198.04,-238.5C1213.87,-238.5 1232.98,-238.5 1251.78,-238.5\" fill=\"none\" stroke=\"black\"/>\n",
       "<polygon fill=\"black\" points=\"1251.86,-242 1261.86,-238.5 1251.86,-235 1251.86,-242\" stroke=\"black\"/>\n",
       "</g>\n",
       "<!-- Add -->\n",
       "<g class=\"node\" id=\"node4\"><title>Add</title>\n",
       "<polygon fill=\"none\" points=\"1443,-137.5 1443,-173.5 1497,-173.5 1497,-137.5 1443,-137.5\" stroke=\"black\"/>\n",
       "<text font-family=\"Times,serif\" font-size=\"14.00\" text-anchor=\"middle\" x=\"1470\" y=\"-151.8\">Add</text>\n",
       "</g>\n",
       "<!-- Relu -->\n",
       "<g class=\"node\" id=\"node10\"><title>Relu</title>\n",
       "<polygon fill=\"none\" points=\"1533,-137.5 1533,-173.5 1587,-173.5 1587,-137.5 1533,-137.5\" stroke=\"black\"/>\n",
       "<text font-family=\"Times,serif\" font-size=\"14.00\" text-anchor=\"middle\" x=\"1560\" y=\"-151.8\">Relu</text>\n",
       "</g>\n",
       "<!-- Add&#45;&gt;Relu -->\n",
       "<g class=\"edge\" id=\"edge16\"><title>Add:0-&gt;Relu:0</title>\n",
       "<path d=\"M1497,-155.5C1505.03,-155.5 1513.97,-155.5 1522.53,-155.5\" fill=\"none\" stroke=\"black\"/>\n",
       "<polygon fill=\"black\" points=\"1522.71,-159 1532.71,-155.5 1522.7,-152 1522.71,-159\" stroke=\"black\"/>\n",
       "</g>\n",
       "<!-- W_0_0/read -->\n",
       "<g class=\"node\" id=\"node5\"><title>W_0_0/read</title>\n",
       "<polygon fill=\"none\" points=\"105,-164.5 105,-200.5 206,-200.5 206,-164.5 105,-164.5\" stroke=\"black\"/>\n",
       "<text font-family=\"Times,serif\" font-size=\"14.00\" text-anchor=\"middle\" x=\"155.5\" y=\"-178.8\">W_0_0/read</text>\n",
       "</g>\n",
       "<!-- bias_0_0/read -->\n",
       "<g class=\"node\" id=\"node6\"><title>bias_0_0/read</title>\n",
       "<polygon fill=\"none\" points=\"97.5,-219.5 97.5,-255.5 213.5,-255.5 213.5,-219.5 97.5,-219.5\" stroke=\"black\"/>\n",
       "<text font-family=\"Times,serif\" font-size=\"14.00\" text-anchor=\"middle\" x=\"155.5\" y=\"-233.8\">bias_0_0/read</text>\n",
       "</g>\n",
       "<!-- random_normal/RandomStandardNormal -->\n",
       "<g class=\"node\" id=\"node7\"><title>random_normal/RandomStandardNormal</title>\n",
       "<polygon fill=\"none\" points=\"0,-274.5 0,-310.5 311,-310.5 311,-274.5 0,-274.5\" stroke=\"black\"/>\n",
       "<text font-family=\"Times,serif\" font-size=\"14.00\" text-anchor=\"middle\" x=\"155.5\" y=\"-288.8\">random_normal/RandomStandardNormal</text>\n",
       "</g>\n",
       "<!-- Const -->\n",
       "<g class=\"node\" id=\"node8\"><title>Const</title>\n",
       "<polygon fill=\"none\" points=\"126,-329.5 126,-365.5 185,-365.5 185,-329.5 126,-329.5\" stroke=\"black\"/>\n",
       "<text font-family=\"Times,serif\" font-size=\"14.00\" text-anchor=\"middle\" x=\"155.5\" y=\"-343.8\">Const</text>\n",
       "</g>\n",
       "<!-- random_normal/stddev -->\n",
       "<g class=\"node\" id=\"node9\"><title>random_normal/stddev</title>\n",
       "<polygon fill=\"none\" points=\"64.5,-384.5 64.5,-420.5 246.5,-420.5 246.5,-384.5 64.5,-384.5\" stroke=\"black\"/>\n",
       "<text font-family=\"Times,serif\" font-size=\"14.00\" text-anchor=\"middle\" x=\"155.5\" y=\"-398.8\">random_normal/stddev</text>\n",
       "</g>\n",
       "<!-- Placeholder -->\n",
       "<g class=\"node\" id=\"node11\"><title>Placeholder</title>\n",
       "<polygon fill=\"none\" points=\"1110,-110.5 1110,-146.5 1211,-146.5 1211,-110.5 1110,-110.5\" stroke=\"black\"/>\n",
       "<text font-family=\"Times,serif\" font-size=\"14.00\" text-anchor=\"middle\" x=\"1160.5\" y=\"-124.8\">Placeholder</text>\n",
       "</g>\n",
       "<!-- MatMul -->\n",
       "<g class=\"node\" id=\"node13\"><title>MatMul</title>\n",
       "<polygon fill=\"none\" points=\"1297.5,-110.5 1297.5,-146.5 1371.5,-146.5 1371.5,-110.5 1297.5,-110.5\" stroke=\"black\"/>\n",
       "<text font-family=\"Times,serif\" font-size=\"14.00\" text-anchor=\"middle\" x=\"1334.5\" y=\"-124.8\">MatMul</text>\n",
       "</g>\n",
       "<!-- Placeholder&#45;&gt;MatMul -->\n",
       "<g class=\"edge\" id=\"edge12\"><title>Placeholder:0-&gt;MatMul:0</title>\n",
       "<path d=\"M1211.3,-128.5C1235.32,-128.5 1263.84,-128.5 1287.38,-128.5\" fill=\"none\" stroke=\"black\"/>\n",
       "<polygon fill=\"black\" points=\"1287.48,-132 1297.48,-128.5 1287.48,-125 1287.48,-132\" stroke=\"black\"/>\n",
       "</g>\n",
       "<!-- Placeholder_1 -->\n",
       "<g class=\"node\" id=\"node12\"><title>Placeholder_1</title>\n",
       "<polygon fill=\"none\" points=\"96.5,-439.5 96.5,-475.5 214.5,-475.5 214.5,-439.5 96.5,-439.5\" stroke=\"black\"/>\n",
       "<text font-family=\"Times,serif\" font-size=\"14.00\" text-anchor=\"middle\" x=\"155.5\" y=\"-453.8\">Placeholder_1</text>\n",
       "</g>\n",
       "<!-- MatMul&#45;&gt;Add -->\n",
       "<g class=\"edge\" id=\"edge14\"><title>MatMul:0-&gt;Add:0</title>\n",
       "<path d=\"M1371.53,-135.878C1390.65,-139.69 1413.93,-144.327 1433.05,-148.137\" fill=\"none\" stroke=\"black\"/>\n",
       "<polygon fill=\"black\" points=\"1432.41,-151.579 1442.91,-150.101 1433.78,-144.714 1432.41,-151.579\" stroke=\"black\"/>\n",
       "</g>\n",
       "<!-- random_normal/mul -->\n",
       "<g class=\"node\" id=\"node14\"><title>random_normal/mul</title>\n",
       "<polygon fill=\"none\" points=\"75,-494.5 75,-530.5 236,-530.5 236,-494.5 75,-494.5\" stroke=\"black\"/>\n",
       "<text font-family=\"Times,serif\" font-size=\"14.00\" text-anchor=\"middle\" x=\"155.5\" y=\"-508.8\">random_normal/mul</text>\n",
       "</g>\n",
       "<!-- W_0_0/Assign -->\n",
       "<g class=\"node\" id=\"node15\"><title>W_0_0/Assign</title>\n",
       "<polygon fill=\"none\" points=\"97,-549.5 97,-585.5 214,-585.5 214,-549.5 97,-549.5\" stroke=\"black\"/>\n",
       "<text font-family=\"Times,serif\" font-size=\"14.00\" text-anchor=\"middle\" x=\"155.5\" y=\"-563.8\">W_0_0/Assign</text>\n",
       "</g>\n",
       "<!-- random_normal/mean -->\n",
       "<g class=\"node\" id=\"node16\"><title>random_normal/mean</title>\n",
       "<polygon fill=\"none\" points=\"69,-604.5 69,-640.5 242,-640.5 242,-604.5 69,-604.5\" stroke=\"black\"/>\n",
       "<text font-family=\"Times,serif\" font-size=\"14.00\" text-anchor=\"middle\" x=\"155.5\" y=\"-618.8\">random_normal/mean</text>\n",
       "</g>\n",
       "<!-- random_normal/shape -->\n",
       "<g class=\"node\" id=\"node17\"><title>random_normal/shape</title>\n",
       "<polygon fill=\"none\" points=\"67.5,-659.5 67.5,-695.5 243.5,-695.5 243.5,-659.5 67.5,-659.5\" stroke=\"black\"/>\n",
       "<text font-family=\"Times,serif\" font-size=\"14.00\" text-anchor=\"middle\" x=\"155.5\" y=\"-673.8\">random_normal/shape</text>\n",
       "</g>\n",
       "<!-- W_0_0 -->\n",
       "<g class=\"node\" id=\"node18\"><title>W_0_0</title>\n",
       "<polygon fill=\"none\" points=\"962,-0.5 962,-36.5 1027,-36.5 1027,-0.5 962,-0.5\" stroke=\"black\"/>\n",
       "<text font-family=\"Times,serif\" font-size=\"14.00\" text-anchor=\"middle\" x=\"994.5\" y=\"-14.8\">W_0_0</text>\n",
       "</g>\n",
       "<!-- W_0_0/Assign:0 -->\n",
       "<g class=\"node\" id=\"node27\"><title>W_0_0/Assign:0</title>\n",
       "<polygon fill=\"none\" points=\"1095,-55.5 1095,-91.5 1226,-91.5 1226,-55.5 1095,-55.5\" stroke=\"black\"/>\n",
       "<text font-family=\"Times,serif\" font-size=\"14.00\" text-anchor=\"middle\" x=\"1160.5\" y=\"-69.8\">W_0_0/Assign:0</text>\n",
       "</g>\n",
       "<!-- W_0_0&#45;&gt;W_0_0/Assign:0 -->\n",
       "<g class=\"edge\" id=\"edge9\"><title>W_0_0:0-&gt;W_0_0/Assign:0</title>\n",
       "<path d=\"M1027.1,-29.3662C1046.66,-35.8873 1072.22,-44.4072 1095.66,-52.2202\" fill=\"none\" stroke=\"black\"/>\n",
       "<polygon fill=\"black\" points=\"1094.61,-55.5603 1105.21,-55.4023 1096.83,-48.9195 1094.61,-55.5603\" stroke=\"black\"/>\n",
       "</g>\n",
       "<!-- W_0_0/read:0 -->\n",
       "<g class=\"node\" id=\"node28\"><title>W_0_0/read:0</title>\n",
       "<polygon fill=\"none\" points=\"1103,-0.5 1103,-36.5 1218,-36.5 1218,-0.5 1103,-0.5\" stroke=\"black\"/>\n",
       "<text font-family=\"Times,serif\" font-size=\"14.00\" text-anchor=\"middle\" x=\"1160.5\" y=\"-14.8\">W_0_0/read:0</text>\n",
       "</g>\n",
       "<!-- W_0_0&#45;&gt;W_0_0/read:0 -->\n",
       "<g class=\"edge\" id=\"edge11\"><title>W_0_0:0-&gt;W_0_0/read:0</title>\n",
       "<path d=\"M1027.1,-18.5C1045.83,-18.5 1070.06,-18.5 1092.66,-18.5\" fill=\"none\" stroke=\"black\"/>\n",
       "<polygon fill=\"black\" points=\"1092.91,-22.0001 1102.91,-18.5 1092.91,-15.0001 1092.91,-22.0001\" stroke=\"black\"/>\n",
       "</g>\n",
       "<!-- random_normal -->\n",
       "<g class=\"node\" id=\"node19\"><title>random_normal</title>\n",
       "<polygon fill=\"none\" points=\"930,-55.5 930,-91.5 1059,-91.5 1059,-55.5 930,-55.5\" stroke=\"black\"/>\n",
       "<text font-family=\"Times,serif\" font-size=\"14.00\" text-anchor=\"middle\" x=\"994.5\" y=\"-69.8\">random_normal</text>\n",
       "</g>\n",
       "<!-- random_normal&#45;&gt;W_0_0/Assign:0 -->\n",
       "<g class=\"edge\" id=\"edge10\"><title>random_normal:0-&gt;W_0_0/Assign:0</title>\n",
       "<path d=\"M1059.24,-73.5C1067.58,-73.5 1076.18,-73.5 1084.67,-73.5\" fill=\"none\" stroke=\"black\"/>\n",
       "<polygon fill=\"black\" points=\"1084.95,-77.0001 1094.95,-73.5 1084.95,-70.0001 1084.95,-77.0001\" stroke=\"black\"/>\n",
       "</g>\n",
       "<!-- bias_0_0/read:0&#45;&gt;Add -->\n",
       "<g class=\"edge\" id=\"edge15\"><title>bias_0_0/read:0-&gt;Add:0</title>\n",
       "<path d=\"M1399.21,-170.238C1410.71,-167.842 1422.36,-165.417 1432.79,-163.245\" fill=\"none\" stroke=\"black\"/>\n",
       "<polygon fill=\"black\" points=\"1433.7,-166.633 1442.77,-161.168 1432.27,-159.78 1433.7,-166.633\" stroke=\"black\"/>\n",
       "</g>\n",
       "<!-- random_normal/shape:0 -->\n",
       "<g class=\"node\" id=\"node22\"><title>random_normal/shape:0</title>\n",
       "<polygon fill=\"none\" points=\"61,-109.5 61,-145.5 250,-145.5 250,-109.5 61,-109.5\" stroke=\"black\"/>\n",
       "<text font-family=\"Times,serif\" font-size=\"14.00\" text-anchor=\"middle\" x=\"155.5\" y=\"-123.8\">random_normal/shape:0</text>\n",
       "</g>\n",
       "<!-- random_normal/RandomStandardNormal:0 -->\n",
       "<g class=\"node\" id=\"node23\"><title>random_normal/RandomStandardNormal:0</title>\n",
       "<polygon fill=\"none\" points=\"347,-109.5 347,-145.5 672,-145.5 672,-109.5 347,-109.5\" stroke=\"black\"/>\n",
       "<text font-family=\"Times,serif\" font-size=\"14.00\" text-anchor=\"middle\" x=\"509.5\" y=\"-123.8\">random_normal/RandomStandardNormal:0</text>\n",
       "</g>\n",
       "<!-- random_normal/shape:0&#45;&gt;random_normal/RandomStandardNormal:0 -->\n",
       "<g class=\"edge\" id=\"edge4\"><title>random_normal/shape:0-&gt;random_normal/RandomStandardNormal:0</title>\n",
       "<path d=\"M250.367,-127.5C277.082,-127.5 307.051,-127.5 336.854,-127.5\" fill=\"none\" stroke=\"black\"/>\n",
       "<polygon fill=\"black\" points=\"336.949,-131 346.949,-127.5 336.949,-124 336.949,-131\" stroke=\"black\"/>\n",
       "</g>\n",
       "<!-- random_normal/mul:0 -->\n",
       "<g class=\"node\" id=\"node24\"><title>random_normal/mul:0</title>\n",
       "<polygon fill=\"none\" points=\"714,-82.5 714,-118.5 888,-118.5 888,-82.5 714,-82.5\" stroke=\"black\"/>\n",
       "<text font-family=\"Times,serif\" font-size=\"14.00\" text-anchor=\"middle\" x=\"801\" y=\"-96.8\">random_normal/mul:0</text>\n",
       "</g>\n",
       "<!-- random_normal/RandomStandardNormal:0&#45;&gt;random_normal/mul:0 -->\n",
       "<g class=\"edge\" id=\"edge5\"><title>random_normal/RandomStandardNormal:0-&gt;random_normal/mul:0</title>\n",
       "<path d=\"M672.178,-112.421C682.864,-111.425 693.424,-110.44 703.623,-109.489\" fill=\"none\" stroke=\"black\"/>\n",
       "<polygon fill=\"black\" points=\"704.06,-112.963 713.692,-108.549 703.41,-105.993 704.06,-112.963\" stroke=\"black\"/>\n",
       "</g>\n",
       "<!-- random_normal/mul:0&#45;&gt;random_normal -->\n",
       "<g class=\"edge\" id=\"edge7\"><title>random_normal/mul:0-&gt;random_normal:0</title>\n",
       "<path d=\"M888.115,-88.4215C898.626,-86.9472 909.301,-85.45 919.629,-84.0014\" fill=\"none\" stroke=\"black\"/>\n",
       "<polygon fill=\"black\" points=\"920.406,-87.4268 929.823,-82.5716 919.434,-80.4946 920.406,-87.4268\" stroke=\"black\"/>\n",
       "</g>\n",
       "<!-- random_normal/stddev:0 -->\n",
       "<g class=\"node\" id=\"node25\"><title>random_normal/stddev:0</title>\n",
       "<polygon fill=\"none\" points=\"412,-54.5 412,-90.5 607,-90.5 607,-54.5 412,-54.5\" stroke=\"black\"/>\n",
       "<text font-family=\"Times,serif\" font-size=\"14.00\" text-anchor=\"middle\" x=\"509.5\" y=\"-68.8\">random_normal/stddev:0</text>\n",
       "</g>\n",
       "<!-- random_normal/stddev:0&#45;&gt;random_normal/mul:0 -->\n",
       "<g class=\"edge\" id=\"edge6\"><title>random_normal/stddev:0-&gt;random_normal/mul:0</title>\n",
       "<path d=\"M607.302,-81.8625C638.449,-84.8751 672.936,-88.2106 704.024,-91.2174\" fill=\"none\" stroke=\"black\"/>\n",
       "<polygon fill=\"black\" points=\"703.699,-94.7022 713.99,-92.1812 704.373,-87.7347 703.699,-94.7022\" stroke=\"black\"/>\n",
       "</g>\n",
       "<!-- random_normal/mean:0 -->\n",
       "<g class=\"node\" id=\"node26\"><title>random_normal/mean:0</title>\n",
       "<polygon fill=\"none\" points=\"708,-27.5 708,-63.5 894,-63.5 894,-27.5 708,-27.5\" stroke=\"black\"/>\n",
       "<text font-family=\"Times,serif\" font-size=\"14.00\" text-anchor=\"middle\" x=\"801\" y=\"-41.8\">random_normal/mean:0</text>\n",
       "</g>\n",
       "<!-- random_normal/mean:0&#45;&gt;random_normal -->\n",
       "<g class=\"edge\" id=\"edge8\"><title>random_normal/mean:0-&gt;random_normal:0</title>\n",
       "<path d=\"M894.021,-58.8849C902.612,-60.1344 911.247,-61.3905 919.653,-62.6132\" fill=\"none\" stroke=\"black\"/>\n",
       "<polygon fill=\"black\" points=\"919.375,-66.1094 929.774,-64.0853 920.382,-59.1823 919.375,-66.1094\" stroke=\"black\"/>\n",
       "</g>\n",
       "<!-- W_0_0/read:0&#45;&gt;MatMul -->\n",
       "<g class=\"edge\" id=\"edge13\"><title>W_0_0/read:0-&gt;MatMul:0</title>\n",
       "<path d=\"M1208.23,-36.6453C1214.37,-39.6418 1220.45,-42.9436 1226,-46.5 1258.7,-67.4491 1261.78,-83.5931 1288.79,-104.264\" fill=\"none\" stroke=\"black\"/>\n",
       "<polygon fill=\"black\" points=\"1286.92,-107.232 1297.09,-110.222 1291,-101.546 1286.92,-107.232\" stroke=\"black\"/>\n",
       "</g>\n",
       "</g>\n",
       "</svg>"
      ],
      "text/plain": [
       "<IPython.core.display.SVG object>"
      ]
     },
     "execution_count": 15,
     "metadata": {},
     "output_type": "execute_result"
    }
   ],
   "source": [
    "# from IPython.display import SVG\n",
    "# # Define model\n",
    "# tf_graph_to_dot(h_0_0.graph).write_svg('simple_tf.svg')\n",
    "# SVG('simple_tf.svg')"
   ]
  },
  {
   "cell_type": "code",
   "execution_count": 9,
   "metadata": {
    "collapsed": true
   },
   "outputs": [],
   "source": [
    "import tensorflow as tf"
   ]
  },
  {
   "cell_type": "code",
   "execution_count": 10,
   "metadata": {
    "collapsed": true
   },
   "outputs": [],
   "source": [
    "X = tf.placeholder(\"float\", shape=(None, n_features))\n",
    "Y = tf.placeholder(\"float\", shape=(None, 1))"
   ]
  },
  {
   "cell_type": "code",
   "execution_count": 45,
   "metadata": {
    "collapsed": true
   },
   "outputs": [],
   "source": [
    "epsilon = tf.constant(1e-10)\n",
    "\n",
    "def h(index, m, x, n_filters, with_activation=True):    \n",
    "    b = tf.Variable(tf.random_normal([n_filters]), \n",
    "                    name='bias_%i_%i' % (index, m))\n",
    "    W = tf.Variable(tf.random_normal(shape=[x.get_shape().as_list()[1], n_filters],\n",
    "                                     mean=0.0,\n",
    "                                     stddev=0.01), \n",
    "                    name=\"W_%i_%i\" % (index, m))\n",
    "    if with_activation:\n",
    "        return tf.nn.elu(tf.add(tf.matmul(x, W), b))\n",
    "    else:\n",
    "        return tf.add(tf.matmul(x, W), b)\n",
    "        \n",
    "    \n",
    "    \n",
    "def g(m, x, n_filters_list):        \n",
    "    _x = x if m == 0 else g(m-1, x, n_filters_list)\n",
    "    inv_h2 = tf.divide(tf.constant(1.0), tf.add(epsilon, h(2, m, _x, n_filters_list[m])))\n",
    "    return tf.add(h(1, m, _x, n_filters_list[m]), inv_h2)\n",
    "\n",
    "\n",
    "def nn(x, k, m):    \n",
    "    nf = 5\n",
    "    n_filters_list = [nf for j in range(m)]       \n",
    "    net = h(3, 0, g(m-1, x, n_filters_list), 1)\n",
    "    for i in range(1, k):\n",
    "        n_filters_list = [nf for j in range(m)]               \n",
    "        net = tf.multiply(net, h(3, 0, g(m-1, x, n_filters_list), 1)) \n",
    "    return net\n",
    "    "
   ]
  },
  {
   "cell_type": "code",
   "execution_count": 46,
   "metadata": {
    "collapsed": true
   },
   "outputs": [],
   "source": [
    "fnn = nn(X, k=2, m=3)"
   ]
  },
  {
   "cell_type": "code",
   "execution_count": 49,
   "metadata": {
    "collapsed": true
   },
   "outputs": [],
   "source": [
    "with tf.Session() as sess:\n",
    "    init = tf.global_variables_initializer()\n",
    "    sess.run(init)\n",
    "    res = sess.run(fnn, feed_dict={X: trainval_x[:10, :]})"
   ]
  },
  {
   "cell_type": "code",
   "execution_count": 50,
   "metadata": {
    "collapsed": false
   },
   "outputs": [
    {
     "data": {
      "text/plain": [
       "((10, 1), array([[ 0.50211215],\n",
       "        [ 0.80665046],\n",
       "        [ 0.58384323],\n",
       "        [-0.51025158],\n",
       "        [ 0.32969049],\n",
       "        [ 0.53186333],\n",
       "        [ 0.58336145],\n",
       "        [ 0.58508635],\n",
       "        [ 0.53465217],\n",
       "        [ 0.44246921]], dtype=float32))"
      ]
     },
     "execution_count": 50,
     "metadata": {},
     "output_type": "execute_result"
    }
   ],
   "source": [
    "res.shape, res"
   ]
  },
  {
   "cell_type": "code",
   "execution_count": 53,
   "metadata": {
    "collapsed": true
   },
   "outputs": [],
   "source": [
    "train_params = {\n",
    "    'learning_rate': 0.01,\n",
    "    'training_epochs': 50,\n",
    "    'batch_size': 128,\n",
    "}"
   ]
  },
  {
   "cell_type": "code",
   "execution_count": 70,
   "metadata": {
    "collapsed": true
   },
   "outputs": [],
   "source": [
    "# Construct model and encapsulating all ops into scopes, making\n",
    "# Tensorboard's Graph visualization more convenient\n",
    "with tf.name_scope('Model'):\n",
    "    # Model\n",
    "    pred = nn(X, k=2, m=3)\n",
    "    \n",
    "with tf.name_scope('Loss'):\n",
    "    # Minimize error using MAE\n",
    "    loss = tf.reduce_mean(tf.abs(Y - pred))\n",
    "    \n",
    "with tf.name_scope('Optimizer'):\n",
    "    # Gradient Descent\n",
    "    optimizer = tf.train.GradientDescentOptimizer(train_params['learning_rate']).minimize(loss)\n",
    "    \n",
    "with tf.name_scope('RMSE'):\n",
    "    # Accuracy    \n",
    "    rmse = tf.sqrt(tf.reduce_mean(tf.square(Y - pred)))\n",
    "\n",
    "# Create a summary to monitor cost tensor\n",
    "tf.summary.scalar(\"loss\", loss)\n",
    "# Create a summary to monitor accuracy tensor\n",
    "tf.summary.scalar(\"RMSE\", rmse)\n",
    "# Merge all summaries into a single op\n",
    "merged_summary_op = tf.summary.merge_all()"
   ]
  },
  {
   "cell_type": "code",
   "execution_count": 71,
   "metadata": {
    "collapsed": false
   },
   "outputs": [
    {
     "name": "stdout",
     "output_type": "stream",
     "text": [
      "Epoch: '0001', loss=91.261261573\n",
      "Epoch: '0002', loss=89.706600678\n",
      "Epoch: '0003', loss=89.708581973\n",
      "Epoch: '0004', loss=89.698378832\n",
      "Epoch: '0005', loss=89.696581914\n",
      "Epoch: '0006', loss=89.697173290\n",
      "Epoch: '0007', loss=89.696890513\n",
      "Epoch: '0008', loss=89.696553255\n",
      "Epoch: '0009', loss=89.691995278\n",
      "Epoch: '0010', loss=89.691468165\n",
      "Epoch: '0011', loss=89.691360474\n",
      "Epoch: '0012', loss=89.692095341\n",
      "Epoch: '0013', loss=89.692089570\n",
      "Epoch: '0014', loss=89.692068149\n",
      "Epoch: '0015', loss=89.692063943\n",
      "Epoch: '0016', loss=89.692004766\n",
      "Epoch: '0017', loss=89.692061106\n",
      "Epoch: '0018', loss=89.691756713\n",
      "Epoch: '0019', loss=89.691749377\n",
      "Epoch: '0020', loss=89.699559236\n",
      "Epoch: '0021', loss=89.691815107\n",
      "Epoch: '0022', loss=89.692143856\n",
      "Epoch: '0023', loss=89.691685505\n",
      "Epoch: '0024', loss=89.692127521\n",
      "Epoch: '0025', loss=89.692656688\n",
      "Epoch: '0026', loss=89.692272773\n",
      "Epoch: '0027', loss=89.691308926\n",
      "Epoch: '0028', loss=89.691579476\n",
      "Epoch: '0029', loss=89.691655770\n",
      "Epoch: '0030', loss=89.691710741\n",
      "Epoch: '0031', loss=89.690307422\n",
      "Epoch: '0032', loss=89.691480392\n",
      "Epoch: '0033', loss=89.691415933\n",
      "Epoch: '0034', loss=89.691244957\n",
      "Epoch: '0035', loss=89.690922370\n",
      "Epoch: '0036', loss=89.691420628\n",
      "Epoch: '0037', loss=89.691442343\n",
      "Epoch: '0038', loss=89.691577814\n",
      "Epoch: '0039', loss=89.691003848\n",
      "Epoch: '0040', loss=89.691256010\n",
      "Epoch: '0041', loss=89.691395002\n",
      "Epoch: '0042', loss=89.691530668\n",
      "Epoch: '0043', loss=89.691586323\n",
      "Epoch: '0044', loss=89.691777449\n",
      "Epoch: '0045', loss=89.691401066\n",
      "Epoch: '0046', loss=89.691399794\n",
      "Epoch: '0047', loss=89.691398816\n",
      "Epoch: '0048', loss=89.691394512\n",
      "Epoch: '0049', loss=89.691391480\n",
      "Epoch: '0050', loss=89.691385709\n",
      "Optimization Finished!\n"
     ]
    }
   ],
   "source": [
    "display_step = 1\n",
    "\n",
    "# Launch the graph\n",
    "with tf.Session() as sess:\n",
    "\n",
    "    sess.run(tf.global_variables_initializer())\n",
    "\n",
    "    # op to write logs to Tensorboard\n",
    "    # summary_writer = tf.summary.FileWriter(logs_path, graph=tf.get_default_graph())\n",
    "    \n",
    "    batch_size = train_params['batch_size']\n",
    "    # Training cycle\n",
    "    for epoch in range(train_params['training_epochs']):\n",
    "        avg_loss = 0.\n",
    "        \n",
    "        total_batch = int(trainval_x.shape[0]/batch_size)\n",
    "        \n",
    "        # Loop over all batches\n",
    "        for i in range(total_batch):\n",
    "            i_start = batch_size*i\n",
    "            i_end = batch_size*(i+1)\n",
    "            batch_xs, batch_ys = trainval_x[i_start:i_end,:], trainval_y[i_start:i_end, :] \n",
    "            # Run optimization op (backprop), loss op (to get loss value)\n",
    "            # and summary nodes\n",
    "            _, c, summary = sess.run([optimizer, loss, merged_summary_op],\n",
    "                                     feed_dict={X: batch_xs, Y: batch_ys})\n",
    "            # Write logs at every iteration\n",
    "            # summary_writer.add_summary(summary, epoch * total_batch + i)\n",
    "            # Compute average loss\n",
    "            avg_loss += c / total_batch\n",
    "        # Display logs per epoch step\n",
    "        if (epoch+1) % display_step == 0:\n",
    "            print(\"Epoch: '%04d', loss=%.9f\" % (epoch+1, avg_loss))\n",
    "            print \"rmse:\", rmse.eval({X: batch_xs, Y: batch_ys})\n",
    "\n",
    "    print(\"Optimization Finished!\")\n"
   ]
  },
  {
   "cell_type": "code",
   "execution_count": null,
   "metadata": {
    "collapsed": true
   },
   "outputs": [],
   "source": []
  },
  {
   "cell_type": "code",
   "execution_count": null,
   "metadata": {
    "collapsed": true
   },
   "outputs": [],
   "source": []
  }
 ],
 "metadata": {
  "kernelspec": {
   "display_name": "Python 3",
   "language": "python",
   "name": "python3"
  },
  "language_info": {
   "codemirror_mode": {
    "name": "ipython",
    "version": 3
   },
   "file_extension": ".py",
   "mimetype": "text/x-python",
   "name": "python",
   "nbconvert_exporter": "python",
   "pygments_lexer": "ipython3",
   "version": "3.5.2"
  }
 },
 "nbformat": 4,
 "nbformat_minor": 1
}
