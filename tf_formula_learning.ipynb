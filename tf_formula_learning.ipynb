{
 "cells": [
  {
   "cell_type": "markdown",
   "metadata": {},
   "source": [
    "# Formula learning\n",
    "\n",
    "A toy example to learn a formula to predict a synthetic data\n",
    "\n",
    "\n",
    "Let's say we have a regression problem to predict a target value in $\\cal{R}$. \n",
    "Input data has $M$ features and a target is computed as \n",
    "$$\n",
    "y_{i} = f(\\mathbf x)\n",
    "$$\n",
    "we will try various functions $f$ to observe ability to learn it using a DNN."
   ]
  },
  {
   "cell_type": "markdown",
   "metadata": {},
   "source": [
    "## A warm-up\n",
    "\n",
    "Let us predict a simple function : $f(\\mathbf x) = 1 + \\sum_{i} x_i$"
   ]
  },
  {
   "cell_type": "code",
   "execution_count": 1,
   "metadata": {},
   "outputs": [],
   "source": [
    "# https://ipython.org/ipython-doc/3/config/extensions/autoreload.html\n",
    "%load_ext autoreload\n",
    "%autoreload 2"
   ]
  },
  {
   "cell_type": "code",
   "execution_count": 26,
   "metadata": {
    "collapsed": true
   },
   "outputs": [],
   "source": [
    "import os\n",
    "\n",
    "import numpy as np\n",
    "import matplotlib.pylab as plt\n",
    "%matplotlib inline\n",
    "\n",
    "\n",
    "n_samples = 10000\n",
    "n_features = 10\n",
    "x_max = 100.0\n",
    "x_min = -100.0\n",
    "trainval_x = (x_max - x_min) * np.random.rand(n_samples, n_features) + x_min\n",
    "test_x = (x_max - x_min) * np.random.rand(n_samples, n_features) + x_min"
   ]
  },
  {
   "cell_type": "code",
   "execution_count": 27,
   "metadata": {
    "collapsed": true
   },
   "outputs": [],
   "source": [
    "def f(x):\n",
    "    return np.sum(x) + 1.0"
   ]
  },
  {
   "cell_type": "code",
   "execution_count": 28,
   "metadata": {},
   "outputs": [],
   "source": [
    "trainval_y = np.zeros((n_samples, 1))\n",
    "test_y = np.zeros((n_samples, 1))\n",
    "\n",
    "for i, x in enumerate(trainval_x):\n",
    "    trainval_y[i, 0] = f(x)\n",
    "    \n",
    "for i, x in enumerate(test_x):\n",
    "    test_y[i, 0] = f(x)    "
   ]
  },
  {
   "cell_type": "code",
   "execution_count": 8,
   "metadata": {
    "collapsed": true
   },
   "outputs": [],
   "source": [
    "import pandas as pd\n",
    "import seaborn as sns\n",
    "\n",
    "cols_x = ['x_%i' % i for i in range(n_features)]\n",
    "df = pd.DataFrame(data=trainval_x, columns=cols_x)\n",
    "df['y'] = trainval_y"
   ]
  },
  {
   "cell_type": "code",
   "execution_count": 9,
   "metadata": {},
   "outputs": [
    {
     "data": {
      "text/html": [
       "<div>\n",
       "<style>\n",
       "    .dataframe thead tr:only-child th {\n",
       "        text-align: right;\n",
       "    }\n",
       "\n",
       "    .dataframe thead th {\n",
       "        text-align: left;\n",
       "    }\n",
       "\n",
       "    .dataframe tbody tr th {\n",
       "        vertical-align: top;\n",
       "    }\n",
       "</style>\n",
       "<table border=\"1\" class=\"dataframe\">\n",
       "  <thead>\n",
       "    <tr style=\"text-align: right;\">\n",
       "      <th></th>\n",
       "      <th>x_0</th>\n",
       "      <th>x_1</th>\n",
       "      <th>x_2</th>\n",
       "      <th>x_3</th>\n",
       "      <th>x_4</th>\n",
       "      <th>x_5</th>\n",
       "      <th>x_6</th>\n",
       "      <th>x_7</th>\n",
       "      <th>x_8</th>\n",
       "      <th>x_9</th>\n",
       "      <th>y</th>\n",
       "    </tr>\n",
       "  </thead>\n",
       "  <tbody>\n",
       "    <tr>\n",
       "      <th>0</th>\n",
       "      <td>15.790368</td>\n",
       "      <td>-8.901867</td>\n",
       "      <td>17.448230</td>\n",
       "      <td>-57.029565</td>\n",
       "      <td>-6.442697</td>\n",
       "      <td>-64.240952</td>\n",
       "      <td>-9.762370</td>\n",
       "      <td>-78.481390</td>\n",
       "      <td>-89.620167</td>\n",
       "      <td>81.789198</td>\n",
       "      <td>-198.451214</td>\n",
       "    </tr>\n",
       "    <tr>\n",
       "      <th>1</th>\n",
       "      <td>89.150978</td>\n",
       "      <td>27.308455</td>\n",
       "      <td>-37.046431</td>\n",
       "      <td>-34.713958</td>\n",
       "      <td>-51.965157</td>\n",
       "      <td>-11.949938</td>\n",
       "      <td>-15.304973</td>\n",
       "      <td>67.151997</td>\n",
       "      <td>-2.752915</td>\n",
       "      <td>71.278274</td>\n",
       "      <td>102.156333</td>\n",
       "    </tr>\n",
       "    <tr>\n",
       "      <th>2</th>\n",
       "      <td>13.926858</td>\n",
       "      <td>72.509506</td>\n",
       "      <td>49.823661</td>\n",
       "      <td>-47.285124</td>\n",
       "      <td>-91.160410</td>\n",
       "      <td>-24.765865</td>\n",
       "      <td>75.429079</td>\n",
       "      <td>-62.649061</td>\n",
       "      <td>-23.597660</td>\n",
       "      <td>-85.976662</td>\n",
       "      <td>-122.745680</td>\n",
       "    </tr>\n",
       "    <tr>\n",
       "      <th>3</th>\n",
       "      <td>26.286640</td>\n",
       "      <td>-82.537791</td>\n",
       "      <td>-73.182807</td>\n",
       "      <td>-87.534468</td>\n",
       "      <td>77.203457</td>\n",
       "      <td>-63.857090</td>\n",
       "      <td>-27.310473</td>\n",
       "      <td>-2.277888</td>\n",
       "      <td>-79.223077</td>\n",
       "      <td>-38.189372</td>\n",
       "      <td>-349.622868</td>\n",
       "    </tr>\n",
       "    <tr>\n",
       "      <th>4</th>\n",
       "      <td>-29.871511</td>\n",
       "      <td>24.656432</td>\n",
       "      <td>93.281033</td>\n",
       "      <td>-93.728025</td>\n",
       "      <td>-1.502599</td>\n",
       "      <td>-99.474990</td>\n",
       "      <td>80.294358</td>\n",
       "      <td>-48.623329</td>\n",
       "      <td>-46.741250</td>\n",
       "      <td>-55.630339</td>\n",
       "      <td>-176.340219</td>\n",
       "    </tr>\n",
       "  </tbody>\n",
       "</table>\n",
       "</div>"
      ],
      "text/plain": [
       "         x_0        x_1        x_2        x_3        x_4        x_5  \\\n",
       "0  15.790368  -8.901867  17.448230 -57.029565  -6.442697 -64.240952   \n",
       "1  89.150978  27.308455 -37.046431 -34.713958 -51.965157 -11.949938   \n",
       "2  13.926858  72.509506  49.823661 -47.285124 -91.160410 -24.765865   \n",
       "3  26.286640 -82.537791 -73.182807 -87.534468  77.203457 -63.857090   \n",
       "4 -29.871511  24.656432  93.281033 -93.728025  -1.502599 -99.474990   \n",
       "\n",
       "         x_6        x_7        x_8        x_9           y  \n",
       "0  -9.762370 -78.481390 -89.620167  81.789198 -198.451214  \n",
       "1 -15.304973  67.151997  -2.752915  71.278274  102.156333  \n",
       "2  75.429079 -62.649061 -23.597660 -85.976662 -122.745680  \n",
       "3 -27.310473  -2.277888 -79.223077 -38.189372 -349.622868  \n",
       "4  80.294358 -48.623329 -46.741250 -55.630339 -176.340219  "
      ]
     },
     "execution_count": 9,
     "metadata": {},
     "output_type": "execute_result"
    }
   ],
   "source": [
    "df.head()"
   ]
  },
  {
   "cell_type": "code",
   "execution_count": 10,
   "metadata": {},
   "outputs": [
    {
     "data": {
      "text/plain": [
       "(-198.45121400520011, 102.15633332358843)"
      ]
     },
     "execution_count": 10,
     "metadata": {},
     "output_type": "execute_result"
    }
   ],
   "source": [
    "df.loc[0, ['x_%i' % i for i in range(10)]].sum() + 1.0, df.loc[1, ['x_%i' % i for i in range(10)]].sum() + 1.0 "
   ]
  },
  {
   "cell_type": "code",
   "execution_count": 11,
   "metadata": {},
   "outputs": [
    {
     "data": {
      "image/png": "[encoded data removed]",
      "text/plain": [
       "<matplotlib.figure.Figure at 0x94b6438>"
      ]
     },
     "metadata": {},
     "output_type": "display_data"
    },
    {
     "data": {
      "image/png": "[encoded data removed]",
      "text/plain": [
       "<matplotlib.figure.Figure at 0x9c49048>"
      ]
     },
     "metadata": {},
     "output_type": "display_data"
    }
   ],
   "source": [
    "plt.figure(figsize=(12, 4))\n",
    "\n",
    "plt.subplot(121)\n",
    "df['y'].hist(bins=100)\n",
    "plt.title('Y')\n",
    "plt.subplot(122)\n",
    "df['y'].apply(np.log).hist(bins=100)\n",
    "plt.title('Y')\n",
    "\n",
    "plt.figure(figsize=(12, 6))\n",
    "for i in range(n_features):\n",
    "    plt.subplot(2, n_features/2, i+1)\n",
    "    df['x_%i' % i].hist(bins=100)\n",
    "    plt.title('x_%i' % i)"
   ]
  },
  {
   "cell_type": "markdown",
   "metadata": {},
   "source": [
    "### Define a NN\n",
    "\n",
    "\n",
    "Let's define a model as  \n",
    "$$\n",
    "f_{nn}(\\mathbf x) = b_i + \\langle W_i, \\mathbf x \\rangle,\n",
    "$$"
   ]
  },
  {
   "cell_type": "code",
   "execution_count": 12,
   "metadata": {
    "collapsed": true
   },
   "outputs": [],
   "source": [
    "import tensorflow as tf\n",
    "tf.reset_default_graph()\n",
    "from tf_bike.train import Trainer"
   ]
  },
  {
   "cell_type": "code",
   "execution_count": 32,
   "metadata": {
    "collapsed": true
   },
   "outputs": [],
   "source": [
    "def nn(x):    \n",
    "    b = tf.Variable(tf.random_uniform(shape=(1,)), name='b')\n",
    "    W = tf.Variable(tf.random_uniform(shape=(x.get_shape().as_list()[1], 1)), name='W') \n",
    "    return tf.add(b, tf.matmul(x, W), name='trivial_regression_model')"
   ]
  },
  {
   "cell_type": "code",
   "execution_count": 33,
   "metadata": {
    "collapsed": true
   },
   "outputs": [],
   "source": [
    "def np_loss(y_true, y_pred):\n",
    "    return np.mean(np.mean(np.power(y_true - y_pred, 2.0), axis=-1))\n",
    "\n",
    "def np_loss_array(y_true, y_pred):\n",
    "    return np.mean(np.power(y_true - y_pred, 2.0), axis=-1)\n",
    "\n",
    "def tf_loss(Y_true, Y_pred):\n",
    "    return tf.reduce_mean(tf.reduce_mean(tf.square(Y_true - Y_pred), axis=-1))\n",
    "\n",
    "def tf_rmse(Y_true, Y_pred):\n",
    "    return tf.reduce_mean(tf.sqrt(tf.reduce_mean(tf.square(Y_true - Y_pred), axis=-1)))"
   ]
  },
  {
   "cell_type": "code",
   "execution_count": 34,
   "metadata": {},
   "outputs": [
    {
     "name": "stdout",
     "output_type": "stream",
     "text": [
      "Loss numpy : 2.36026936027\n",
      "Loss tf : 2.36027\n",
      "RMSE : 1.25758\n"
     ]
    }
   ],
   "source": [
    "tf.reset_default_graph()\n",
    "y_true = np.ones((100, 1))\n",
    "y_pred = np.linspace(-2, 2, num=100).reshape((100, 1))\n",
    "\n",
    "lss = np_loss(y_true, y_pred)\n",
    "\n",
    "with tf.Session() as sess:    \n",
    "    Y_true = tf.placeholder(tf.float32, shape=(None, 1))\n",
    "    Y_pred = tf.placeholder(tf.float32, shape=(None, 1))\n",
    "    lss2, rmse = sess.run([tf_loss(Y_true, Y_pred), tf_rmse(Y_true, Y_pred)], feed_dict={Y_true: y_true, Y_pred: y_pred})\n",
    "\n",
    "print(\"Loss numpy :\", lss)\n",
    "print(\"Loss tf :\", lss2)\n",
    "print(\"RMSE :\", rmse)\n",
    "    "
   ]
  },
  {
   "cell_type": "code",
   "execution_count": 36,
   "metadata": {
    "collapsed": true
   },
   "outputs": [],
   "source": [
    "training_params = {        \n",
    "    # Network\n",
    "    'network': nn,\n",
    "    \n",
    "    # Loss\n",
    "    'loss': tf_loss,\n",
    "    \n",
    "    # Optimizer\n",
    "    'optimizer': tf.train.GradientDescentOptimizer,\n",
    "    \n",
    "    # Metrics\n",
    "    'metrics': [\n",
    "        ('rmse', tf_rmse),\n",
    "    ],\n",
    "    \n",
    "    # Learning rate params\n",
    "    'lr': tf.train.piecewise_constant,\n",
    "    'lr_kwargs': {\n",
    "        'boundaries': [250, 350, 850],\n",
    "        'values': [0.0001, 0.00006, 0.00001]\n",
    "    },\n",
    "    \n",
    "    # Pretrained model\n",
    "    # 'pretrained_model': 'best_from_logs',\n",
    "    \n",
    "    'training_epochs': 2500,\n",
    "    'batch_size': 512,\n",
    "    \n",
    "    'seed': 2017,\n",
    "    \n",
    "}"
   ]
  },
  {
   "cell_type": "code",
   "execution_count": 48,
   "metadata": {
    "collapsed": true
   },
   "outputs": [],
   "source": [
    "from datetime import datetime\n",
    "trainer = Trainer(log_dir='logs_{}'.format(datetime.now().strftime(\"%Y-%m-%d-%H-%M\")))"
   ]
  },
  {
   "cell_type": "code",
   "execution_count": 49,
   "metadata": {
    "collapsed": true
   },
   "outputs": [
    {
     "name": "stdout",
     "output_type": "stream",
     "text": [
      "Start training\n",
      "Model contains 2 of trainable variables and 11 of trainable parameters\n",
      "INFO:tensorflow:Starting standard services.\n",
      "INFO:tensorflow:Saving checkpoint to path logs_2017-06-30-13-18\\train\\Model/trivial_regression_model.ckpt\n",
      "INFO:tensorflow:Starting queue runners.\n",
      "Epoch: 0100\n",
      "loss=0.007095950 | rmse=0.083506941 \n",
      "val_loss=0.007424986 | val_rmse=0.085459672 \n",
      "Epoch: 0200\n",
      "loss=0.006689183 | rmse=0.081077135 \n",
      "val_loss=0.006999802 | val_rmse=0.082975529 \n",
      "Epoch: 0300\n",
      "loss=0.006305071 | rmse=0.078714075 \n",
      "val_loss=0.006597372 | val_rmse=0.080553710 \n",
      "Epoch: 0400\n",
      "loss=0.005944459 | rmse=0.076429754 \n",
      "val_loss=0.006220275 | val_rmse=0.078217655 \n",
      "Epoch: 0500\n",
      "loss=0.005605218 | rmse=0.074216606 \n",
      "val_loss=0.005864827 | val_rmse=0.075949684 \n",
      "Epoch: 0600\n",
      "loss=0.005284105 | rmse=0.072058850 \n",
      "val_loss=0.005528978 | val_rmse=0.073742665 \n",
      "Epoch: 0700\n",
      "loss=0.004979660 | rmse=0.069952143 \n",
      "val_loss=0.005210804 | val_rmse=0.071589455 \n",
      "Epoch: 0800\n",
      "loss=0.004696123 | rmse=0.067930855 \n",
      "val_loss=0.004914304 | val_rmse=0.069522135 \n",
      "Epoch: 0900\n",
      "loss=0.004427528 | rmse=0.065959724 \n",
      "val_loss=0.004633583 | val_rmse=0.067507207 \n",
      "Epoch: 1000\n",
      "loss=0.004172191 | rmse=0.064029037 \n",
      "val_loss=0.004366352 | val_rmse=0.065530971 \n",
      "Epoch: 1100\n",
      "loss=0.003935259 | rmse=0.062184076 \n",
      "val_loss=0.004118095 | val_rmse=0.063640513 \n",
      "Epoch: 1200\n",
      "loss=0.003709608 | rmse=0.060374326 \n",
      "val_loss=0.003881825 | val_rmse=0.061788000 \n",
      "Epoch: 1300\n",
      "loss=0.003496674 | rmse=0.058615939 \n",
      "val_loss=0.003659011 | val_rmse=0.059987575 \n",
      "Epoch: 1400\n",
      "loss=0.003297635 | rmse=0.056922650 \n",
      "val_loss=0.003450922 | val_rmse=0.058256499 \n",
      "Epoch: 1500\n",
      "loss=0.003106789 | rmse=0.055250727 \n",
      "val_loss=0.003251414 | val_rmse=0.056547590 \n",
      "Epoch: 1600\n",
      "loss=0.002930871 | rmse=0.053663371 \n",
      "val_loss=0.003067167 | val_rmse=0.054921404 \n",
      "Epoch: 1700\n",
      "loss=0.002761143 | rmse=0.052085874 \n",
      "val_loss=0.002889499 | val_rmse=0.053306725 \n",
      "Epoch: 1800\n",
      "loss=0.002605107 | rmse=0.050592735 \n",
      "val_loss=0.002726401 | val_rmse=0.051780015 \n",
      "Epoch: 1900\n",
      "loss=0.002453794 | rmse=0.049101001 \n",
      "val_loss=0.002568266 | val_rmse=0.050255679 \n",
      "Epoch: 2000\n",
      "loss=0.002315376 | rmse=0.047696049 \n",
      "val_loss=0.002423199 | val_rmse=0.048815314 \n",
      "Epoch: 2100\n",
      "loss=0.002180954 | rmse=0.046290176 \n",
      "val_loss=0.002282597 | val_rmse=0.047377940 \n",
      "Epoch: 2200\n",
      "loss=0.002057913 | rmse=0.044965307 \n",
      "val_loss=0.002153649 | val_rmse=0.046019547 \n",
      "Epoch: 2300\n",
      "loss=0.001938974 | rmse=0.043646519 \n",
      "val_loss=0.002029276 | val_rmse=0.044670876 \n",
      "Epoch: 2400\n",
      "loss=0.001828773 | rmse=0.042387426 \n",
      "val_loss=0.001913834 | val_rmse=0.043381192 \n",
      "Epoch: 2500\n",
      "loss=0.001724175 | rmse=0.041157094 \n",
      "val_loss=0.001804461 | val_rmse=0.042122990 \n",
      "Optimization Finished!\n"
     ]
    }
   ],
   "source": [
    "trainer.train(trainval_x, trainval_y, \n",
    "              training_params=training_params, \n",
    "              verbose=1)"
   ]
  },
  {
   "cell_type": "code",
   "execution_count": 19,
   "metadata": {
    "collapsed": true
   },
   "outputs": [],
   "source": [
    "training_params['pretrained_model'] = 'best_from_logs'"
   ]
  },
  {
   "cell_type": "code",
   "execution_count": 29,
   "metadata": {
    "collapsed": true
   },
   "outputs": [
    {
     "name": "stdout",
     "output_type": "stream",
     "text": [
      "Start predictions\n",
      "INFO:tensorflow:Restoring parameters from logs_2017-06-30-12-35\\Model\\trivial_regression_model_seed=2017_loss=0.129069_val_loss=0.129036-2500\n",
      "-- 0 / 20  | 0 - 512\n",
      "-- 1 / 20  | 512 - 1024\n",
      "-- 2 / 20  | 1024 - 1536\n",
      "-- 3 / 20  | 1536 - 2048\n",
      "-- 4 / 20  | 2048 - 2560\n",
      "-- 5 / 20  | 2560 - 3072\n",
      "-- 6 / 20  | 3072 - 3584\n",
      "-- 7 / 20  | 3584 - 4096\n",
      "-- 8 / 20  | 4096 - 4608\n",
      "-- 9 / 20  | 4608 - 5120\n",
      "-- 10 / 20  | 5120 - 5632\n",
      "-- 11 / 20  | 5632 - 6144\n",
      "-- 12 / 20  | 6144 - 6656\n",
      "-- 13 / 20  | 6656 - 7168\n",
      "-- 14 / 20  | 7168 - 7680\n",
      "-- 15 / 20  | 7680 - 8192\n",
      "-- 16 / 20  | 8192 - 8704\n",
      "-- 17 / 20  | 8704 - 9216\n",
      "-- 18 / 20  | 9216 - 9728\n",
      "-- 19 / 20  | 9728 - 10000\n"
     ]
    }
   ],
   "source": [
    "y_preds = trainer.predict(test_x, training_params=training_params, verbose=1)"
   ]
  },
  {
   "cell_type": "code",
   "execution_count": 30,
   "metadata": {},
   "outputs": [],
   "source": [
    "lss = np_loss_array(test_y, y_preds)"
   ]
  },
  {
   "cell_type": "code",
   "execution_count": 31,
   "metadata": {},
   "outputs": [
    {
     "data": {
      "text/plain": [
       "[<matplotlib.lines.Line2D at 0xbe075c0>]"
      ]
     },
     "execution_count": 31,
     "metadata": {},
     "output_type": "execute_result"
    },
    {
     "data": {
      "image/png": "[encoded data removed]",
      "text/plain": [
       "<matplotlib.figure.Figure at 0xbcbfcc0>"
      ]
     },
     "metadata": {},
     "output_type": "display_data"
    }
   ],
   "source": [
    "plt.plot(lss)"
   ]
  },
  {
   "cell_type": "code",
   "execution_count": null,
   "metadata": {
    "collapsed": true
   },
   "outputs": [],
   "source": []
  },
  {
   "cell_type": "code",
   "execution_count": null,
   "metadata": {
    "collapsed": true
   },
   "outputs": [],
   "source": []
  },
  {
   "cell_type": "markdown",
   "metadata": {},
   "source": [
    "## A ratio-like and squared formula\n",
    "\n",
    "Let $M=10$ and the function to learn is defined as \n",
    "$$\n",
    "f(\\mathbf x) = \\frac{\\sum_i a_i x_i + b} {\\sum_i c_i x_i + d} + \\alpha \\sum_{i,j \\neq i} x_i x_j + \\beta\n",
    "$$\n",
    "where coefficients $a_i$, $b$, $c_i$, $d$, $\\alpha$, $\\beta$ are randomly chosen.\n",
    "\n",
    "Setup input data :"
   ]
  },
  {
   "cell_type": "code",
   "execution_count": 107,
   "metadata": {
    "collapsed": true
   },
   "outputs": [],
   "source": [
    "import os\n",
    "import numpy as np\n",
    "import matplotlib.pylab as plt\n",
    "%matplotlib inline\n",
    "\n",
    "n_samples = 10000\n",
    "n_features = 10\n",
    "a = np.random.rand(n_features)\n",
    "b = 1.0\n",
    "c = np.random.rand(n_features)\n",
    "d = np.random.rand() * 100.0\n",
    "alpha = np.random.rand() * 1.0 / 50.0\n",
    "beta = np.random.rand() * 50.0\n",
    "\n",
    "x_max = 100.0\n",
    "x_min = -100.0\n",
    "trainval_x = (x_max - x_min) * np.random.rand(n_samples, n_features) + x_min\n",
    "test_x = (x_max - x_min) * np.random.rand(n_samples, n_features) + x_min"
   ]
  },
  {
   "cell_type": "code",
   "execution_count": 108,
   "metadata": {
    "collapsed": true
   },
   "outputs": [],
   "source": [
    "def f(sample_x):\n",
    "    numerator = np.dot(a, sample_x) + b\n",
    "    denominator = np.dot(c, sample_x) + d\n",
    "    t1 = numerator / denominator\n",
    "    \n",
    "    t2 = 0\n",
    "    for v in sample_x:\n",
    "        t2 += v * (np.sum(sample_x) - v)    \n",
    "    t2 *= alpha\n",
    "    return t1 + t2 + beta"
   ]
  },
  {
   "cell_type": "code",
   "execution_count": 109,
   "metadata": {
    "collapsed": true
   },
   "outputs": [],
   "source": [
    "trainval_y = np.zeros((n_samples, 1))\n",
    "test_y = np.zeros((n_samples, 1))\n",
    "\n",
    "for i, x in enumerate(trainval_x):\n",
    "    trainval_y[i] = f(x)\n",
    "    \n",
    "for i, x in enumerate(test_x):\n",
    "    test_y[i] = f(x)    "
   ]
  },
  {
   "cell_type": "code",
   "execution_count": 110,
   "metadata": {
    "collapsed": true
   },
   "outputs": [],
   "source": [
    "import pandas as pd\n",
    "import seaborn as sns\n",
    "\n",
    "cols_x = ['x_%i' % i for i in range(n_features)]\n",
    "df = pd.DataFrame(data=trainval_x, columns=cols_x)\n",
    "df['y'] = trainval_y"
   ]
  },
  {
   "cell_type": "code",
   "execution_count": 111,
   "metadata": {},
   "outputs": [
    {
     "data": {
      "text/html": [
       "<div>\n",
       "<style>\n",
       "    .dataframe thead tr:only-child th {\n",
       "        text-align: right;\n",
       "    }\n",
       "\n",
       "    .dataframe thead th {\n",
       "        text-align: left;\n",
       "    }\n",
       "\n",
       "    .dataframe tbody tr th {\n",
       "        vertical-align: top;\n",
       "    }\n",
       "</style>\n",
       "<table border=\"1\" class=\"dataframe\">\n",
       "  <thead>\n",
       "    <tr style=\"text-align: right;\">\n",
       "      <th></th>\n",
       "      <th>x_0</th>\n",
       "      <th>x_1</th>\n",
       "      <th>x_2</th>\n",
       "      <th>x_3</th>\n",
       "      <th>x_4</th>\n",
       "      <th>x_5</th>\n",
       "      <th>x_6</th>\n",
       "      <th>x_7</th>\n",
       "      <th>x_8</th>\n",
       "      <th>x_9</th>\n",
       "      <th>y</th>\n",
       "    </tr>\n",
       "  </thead>\n",
       "  <tbody>\n",
       "    <tr>\n",
       "      <th>0</th>\n",
       "      <td>18.908035</td>\n",
       "      <td>-65.778817</td>\n",
       "      <td>-76.054391</td>\n",
       "      <td>-66.212981</td>\n",
       "      <td>25.293067</td>\n",
       "      <td>19.119351</td>\n",
       "      <td>96.409735</td>\n",
       "      <td>57.607497</td>\n",
       "      <td>69.593030</td>\n",
       "      <td>-55.191581</td>\n",
       "      <td>-280.165355</td>\n",
       "    </tr>\n",
       "    <tr>\n",
       "      <th>1</th>\n",
       "      <td>-28.461742</td>\n",
       "      <td>62.323780</td>\n",
       "      <td>72.126596</td>\n",
       "      <td>85.355943</td>\n",
       "      <td>52.468099</td>\n",
       "      <td>-62.622827</td>\n",
       "      <td>24.144203</td>\n",
       "      <td>0.812550</td>\n",
       "      <td>-8.390462</td>\n",
       "      <td>31.654618</td>\n",
       "      <td>226.375988</td>\n",
       "    </tr>\n",
       "    <tr>\n",
       "      <th>2</th>\n",
       "      <td>-35.821878</td>\n",
       "      <td>44.524547</td>\n",
       "      <td>24.867569</td>\n",
       "      <td>36.366375</td>\n",
       "      <td>43.815772</td>\n",
       "      <td>-27.064073</td>\n",
       "      <td>67.136307</td>\n",
       "      <td>56.898283</td>\n",
       "      <td>9.977495</td>\n",
       "      <td>77.475432</td>\n",
       "      <td>548.374236</td>\n",
       "    </tr>\n",
       "    <tr>\n",
       "      <th>3</th>\n",
       "      <td>36.697332</td>\n",
       "      <td>-74.866707</td>\n",
       "      <td>-57.317503</td>\n",
       "      <td>90.349568</td>\n",
       "      <td>17.427056</td>\n",
       "      <td>80.388137</td>\n",
       "      <td>39.394559</td>\n",
       "      <td>-72.655997</td>\n",
       "      <td>-88.765190</td>\n",
       "      <td>45.267448</td>\n",
       "      <td>-327.751197</td>\n",
       "    </tr>\n",
       "    <tr>\n",
       "      <th>4</th>\n",
       "      <td>38.520690</td>\n",
       "      <td>-57.429805</td>\n",
       "      <td>81.155612</td>\n",
       "      <td>-42.665324</td>\n",
       "      <td>33.379119</td>\n",
       "      <td>-12.809968</td>\n",
       "      <td>49.171190</td>\n",
       "      <td>-53.091985</td>\n",
       "      <td>91.739268</td>\n",
       "      <td>-92.615075</td>\n",
       "      <td>-279.064649</td>\n",
       "    </tr>\n",
       "  </tbody>\n",
       "</table>\n",
       "</div>"
      ],
      "text/plain": [
       "         x_0        x_1        x_2        x_3        x_4        x_5  \\\n",
       "0  18.908035 -65.778817 -76.054391 -66.212981  25.293067  19.119351   \n",
       "1 -28.461742  62.323780  72.126596  85.355943  52.468099 -62.622827   \n",
       "2 -35.821878  44.524547  24.867569  36.366375  43.815772 -27.064073   \n",
       "3  36.697332 -74.866707 -57.317503  90.349568  17.427056  80.388137   \n",
       "4  38.520690 -57.429805  81.155612 -42.665324  33.379119 -12.809968   \n",
       "\n",
       "         x_6        x_7        x_8        x_9           y  \n",
       "0  96.409735  57.607497  69.593030 -55.191581 -280.165355  \n",
       "1  24.144203   0.812550  -8.390462  31.654618  226.375988  \n",
       "2  67.136307  56.898283   9.977495  77.475432  548.374236  \n",
       "3  39.394559 -72.655997 -88.765190  45.267448 -327.751197  \n",
       "4  49.171190 -53.091985  91.739268 -92.615075 -279.064649  "
      ]
     },
     "execution_count": 111,
     "metadata": {},
     "output_type": "execute_result"
    }
   ],
   "source": [
    "df.head()"
   ]
  },
  {
   "cell_type": "code",
   "execution_count": 126,
   "metadata": {},
   "outputs": [],
   "source": [
    "y_min = df['y'].min()\n",
    "y_max = df['y'].max()\n",
    "\n",
    "def to_compact(y):\n",
    "    return (y - y_min) / (y_max - y_min)    \n",
    "\n",
    "def from_compact(y):\n",
    "    return (y_max - y_min) * y + y_min"
   ]
  },
  {
   "cell_type": "code",
   "execution_count": 116,
   "metadata": {},
   "outputs": [
    {
     "data": {
      "text/plain": [
       "<matplotlib.text.Text at 0x14bb1780>"
      ]
     },
     "execution_count": 116,
     "metadata": {},
     "output_type": "execute_result"
    },
    {
     "data": {
      "image/png": "[encoded data removed]",
      "text/plain": [
       "<matplotlib.figure.Figure at 0x11f86d68>"
      ]
     },
     "metadata": {},
     "output_type": "display_data"
    }
   ],
   "source": [
    "plt.figure(figsize=(12, 4))\n",
    "\n",
    "plt.subplot(121)\n",
    "df['y'].hist(bins=200)\n",
    "plt.title('Y')\n",
    "plt.subplot(122)\n",
    "df['y'].apply(to_compact).hist(bins=200)\n",
    "plt.title('Y')\n",
    "\n",
    "# plt.figure(figsize=(12, 6))\n",
    "# for i in range(n_features):\n",
    "#     plt.subplot(2, n_features/2, i+1)\n",
    "#     df['x_%i' % i].hist(bins=100)\n",
    "#     plt.title('x_%i' % i)"
   ]
  },
  {
   "cell_type": "markdown",
   "metadata": {},
   "source": [
    "### Define a NN\n",
    "\n",
    "\n",
    "Let's define a model as  \n",
    "$$\n",
    "f_{nn}(\\mathbf x) = \\prod_{i=0}^{k-1} \\left( b_i + \\langle W_i, g(\\mathbf x) \\rangle \\right),\n",
    "$$\n",
    "where \n",
    "$$\n",
    "g(\\mathbf x) = g_m(\\mathbf x) = h^{(1)}_{m,m-1}(\\mathbf x) +  h^{(2)}_{m,m-1}\\left(\\frac{1}{\\epsilon +\\mathbf x}\\right)\n",
    "$$\n",
    "and \n",
    "$$\n",
    "h^{(i)}_{m,m-1}(\\mathbf x) = \\text{activation}(\\langle W_{i,m}, g_{m-1}(\\mathbf x) \\rangle + b_{i,m}), \\\\\n",
    "g_{0} (\\mathbf x) = \\mathbf x\n",
    "$$\n"
   ]
  },
  {
   "cell_type": "code",
   "execution_count": 86,
   "metadata": {
    "collapsed": true
   },
   "outputs": [],
   "source": [
    "import tensorflow as tf\n",
    "from tf_bike.train import Trainer\n",
    "tf.reset_default_graph()"
   ]
  },
  {
   "cell_type": "code",
   "execution_count": 150,
   "metadata": {
    "collapsed": true
   },
   "outputs": [],
   "source": [
    "def tf_rmse(Y_true, Y_pred):\n",
    "    return tf.reduce_mean(tf.sqrt(tf.reduce_mean(tf.square(Y_true - Y_pred), axis=-1)))\n",
    "\n",
    "def tf_loss(Y_true, Y_pred):\n",
    "    l1 = tf.reduce_mean(tf.reduce_mean(tf.square(Y_true - Y_pred), axis=-1))\n",
    "    l2 = tf.log(1.0 + tf_rmse(Y_true, Y_pred))    \n",
    "    return tf.minimum(l1, l2)"
   ]
  },
  {
   "cell_type": "code",
   "execution_count": 165,
   "metadata": {
    "collapsed": true
   },
   "outputs": [],
   "source": [
    "def h(index, m, x, n_filters, init_random=True, with_activation=True):    \n",
    "    \n",
    "    if init_random:\n",
    "        b = tf.Variable(tf.random_uniform([n_filters]), \n",
    "                        name='bias_%i_%i' % (index, m))\n",
    "    else:\n",
    "        b = tf.Variable(tf.constant(1.0, shape=[n_filters]), \n",
    "                        name='bias_%i_%i' % (index, m))\n",
    "    W = tf.Variable(tf.random_uniform(shape=[x.get_shape().as_list()[1], n_filters]), \n",
    "                    name=\"W_%i_%i\" % (index, m))\n",
    "        \n",
    "    name = name='h_%i_%i' % (index, m)\n",
    "    out = tf.add(tf.matmul(x, W), b)\n",
    "    if with_activation:\n",
    "        return tf.nn.elu(out, name=name)\n",
    "    else:\n",
    "        return tf.identity(out, name=name)\n",
    "    \n",
    "    \n",
    "def g(m, x, n_filters_list):     \n",
    "    assert len(n_filters_list) == m + 1, \"n_filters_list should be of length m+1\"\n",
    "    epsilon = tf.constant(1e-10, name='eps')   \n",
    "    _x = x if m == 0 else g(m-1, x, n_filters_list)\n",
    "    h1 = h(1, m, _x, n_filters_list[m])\n",
    "    h2 = h(2, m, tf.divide(tf.constant(1.0), tf.add(epsilon, _x)), n_filters_list[m], init_random=False)\n",
    "    return tf.add(h1, h2, name='g_%i' % m)\n",
    "\n",
    "\n",
    "def generic_nn(x, k, m, n_filters_lists):    \n",
    "    assert k > 0, \"Parameter k should be positive\"\n",
    "    assert m > 0, \"Parameter m should be positive\"\n",
    "    n_filters_list = n_filters_lists[0]   \n",
    "    temp_graphs = []\n",
    "    \n",
    "    \n",
    "    subnets = [h(3, 0, g(m-1, x, n_filters_list), n_filters=1, with_activation=False), ]\n",
    "    for i in range(1, k):\n",
    "        n_filters_list = n_filters_lists[i]        \n",
    "        subnets.append(tf.multiply(subnets[-1], h(3, 0, g(m-1, x, n_filters_list), n_filters=1, with_activation=False)))\n",
    "    net = tf.identity(subnets[-1], name=\"net_%i_%i\" % (k, m))\n",
    "    return net\n",
    "    \n",
    "def nn(x):\n",
    "    k = 1\n",
    "    m = 2\n",
    "    n_filters_lists = [\n",
    "        [20, 20, 20, 20],\n",
    "    ]\n",
    "    return generic_nn(x, k=k, m=m, n_filters_lists=n_filters_lists)"
   ]
  },
  {
   "cell_type": "code",
   "execution_count": 180,
   "metadata": {},
   "outputs": [],
   "source": [
    "tf.reset_default_graph()\n",
    "X = tf.placeholder(tf.float32, shape=(None, n_features))\n",
    "\n",
    "g_1 = g(1, X, [10, 10, 10])\n",
    "g_2 = g(2, X, [10, 10, 10])"
   ]
  },
  {
   "cell_type": "code",
   "execution_count": 187,
   "metadata": {},
   "outputs": [
    {
     "name": "stdout",
     "output_type": "stream",
     "text": [
      "Number of layers 0\n",
      "Total number of feature channels: 0\n"
     ]
    },
    {
     "data": {
      "text/html": [
       "\n",
       "        <iframe seamless style=\"width:800px;height:620px;border:0\" srcdoc=\"\n",
       "        <script>\n",
       "          function load() {\n",
       "            document.getElementById(&quot;graph0.3516673178684694&quot;).pbtxt = 'node {\\n  name: &quot;Placeholder&quot;\\n  op: &quot;Placeholder&quot;\\n  attr {\\n    key: &quot;dtype&quot;\\n    value {\\n      type: DT_FLOAT\\n    }\\n  }\\n  attr {\\n    key: &quot;shape&quot;\\n    value {\\n      shape {\\n        dim {\\n          size: -1\\n        }\\n        dim {\\n          size: 10\\n        }\\n      }\\n    }\\n  }\\n}\\nnode {\\n  name: &quot;eps&quot;\\n  op: &quot;Const&quot;\\n  attr {\\n    key: &quot;dtype&quot;\\n    value {\\n      type: DT_FLOAT\\n    }\\n  }\\n  attr {\\n    key: &quot;value&quot;\\n    value {\\n      tensor {\\n        dtype: DT_FLOAT\\n        tensor_shape {\\n        }\\n        float_val: 1.000000013351432e-10\\n      }\\n    }\\n  }\\n}\\nnode {\\n  name: &quot;eps/1&quot;\\n  op: &quot;Const&quot;\\n  attr {\\n    key: &quot;dtype&quot;\\n    value {\\n      type: DT_FLOAT\\n    }\\n  }\\n  attr {\\n    key: &quot;value&quot;\\n    value {\\n      tensor {\\n        dtype: DT_FLOAT\\n        tensor_shape {\\n        }\\n        float_val: 1.000000013351432e-10\\n      }\\n    }\\n  }\\n}\\nnode {\\n  name: &quot;eps/2&quot;\\n  op: &quot;Const&quot;\\n  attr {\\n    key: &quot;dtype&quot;\\n    value {\\n      type: DT_FLOAT\\n    }\\n  }\\n  attr {\\n    key: &quot;value&quot;\\n    value {\\n      tensor {\\n        dtype: DT_FLOAT\\n        tensor_shape {\\n        }\\n        float_val: 1.000000013351432e-10\\n      }\\n    }\\n  }\\n}\\nnode {\\n  name: &quot;random/uniform/shape&quot;\\n  op: &quot;Const&quot;\\n  attr {\\n    key: &quot;dtype&quot;\\n    value {\\n      type: DT_INT32\\n    }\\n  }\\n  attr {\\n    key: &quot;value&quot;\\n    value {\\n      tensor {\\n        dtype: DT_INT32\\n        tensor_shape {\\n          dim {\\n            size: 1\\n          }\\n        }\\n        int_val: 10\\n      }\\n    }\\n  }\\n}\\nnode {\\n  name: &quot;random/uniform/min&quot;\\n  op: &quot;Const&quot;\\n  attr {\\n    key: &quot;dtype&quot;\\n    value {\\n      type: DT_FLOAT\\n    }\\n  }\\n  attr {\\n    key: &quot;value&quot;\\n    value {\\n      tensor {\\n        dtype: DT_FLOAT\\n        tensor_shape {\\n        }\\n        float_val: 0.0\\n      }\\n    }\\n  }\\n}\\nnode {\\n  name: &quot;random/uniform/max&quot;\\n  op: &quot;Const&quot;\\n  attr {\\n    key: &quot;dtype&quot;\\n    value {\\n      type: DT_FLOAT\\n    }\\n  }\\n  attr {\\n    key: &quot;value&quot;\\n    value {\\n      tensor {\\n        dtype: DT_FLOAT\\n        tensor_shape {\\n        }\\n        float_val: 1.0\\n      }\\n    }\\n  }\\n}\\nnode {\\n  name: &quot;random/uniform/RandomUniform&quot;\\n  op: &quot;RandomUniform&quot;\\n  input: &quot;random/uniform/shape&quot;\\n  attr {\\n    key: &quot;T&quot;\\n    value {\\n      type: DT_INT32\\n    }\\n  }\\n  attr {\\n    key: &quot;dtype&quot;\\n    value {\\n      type: DT_FLOAT\\n    }\\n  }\\n  attr {\\n    key: &quot;seed&quot;\\n    value {\\n      i: 0\\n    }\\n  }\\n  attr {\\n    key: &quot;seed2&quot;\\n    value {\\n      i: 0\\n    }\\n  }\\n}\\nnode {\\n  name: &quot;random/uniform/sub&quot;\\n  op: &quot;Sub&quot;\\n  input: &quot;random/uniform/max&quot;\\n  input: &quot;random/uniform/min&quot;\\n  attr {\\n    key: &quot;T&quot;\\n    value {\\n      type: DT_FLOAT\\n    }\\n  }\\n}\\nnode {\\n  name: &quot;random/uniform/mul&quot;\\n  op: &quot;Mul&quot;\\n  input: &quot;random/uniform/RandomUniform&quot;\\n  input: &quot;random/uniform/sub&quot;\\n  attr {\\n    key: &quot;T&quot;\\n    value {\\n      type: DT_FLOAT\\n    }\\n  }\\n}\\nnode {\\n  name: &quot;random/uniform&quot;\\n  op: &quot;Add&quot;\\n  input: &quot;random/uniform/mul&quot;\\n  input: &quot;random/uniform/min&quot;\\n  attr {\\n    key: &quot;T&quot;\\n    value {\\n      type: DT_FLOAT\\n    }\\n  }\\n}\\nnode {\\n  name: &quot;bias/1_0&quot;\\n  op: &quot;VariableV2&quot;\\n  attr {\\n    key: &quot;container&quot;\\n    value {\\n      s: &quot;&quot;\\n    }\\n  }\\n  attr {\\n    key: &quot;dtype&quot;\\n    value {\\n      type: DT_FLOAT\\n    }\\n  }\\n  attr {\\n    key: &quot;shape&quot;\\n    value {\\n      shape {\\n        dim {\\n          size: 10\\n        }\\n      }\\n    }\\n  }\\n  attr {\\n    key: &quot;shared_name&quot;\\n    value {\\n      s: &quot;&quot;\\n    }\\n  }\\n}\\nnode {\\n  name: &quot;bias/1_0/Assign&quot;\\n  op: &quot;Assign&quot;\\n  input: &quot;bias/1_0&quot;\\n  input: &quot;random/uniform&quot;\\n  attr {\\n    key: &quot;T&quot;\\n    value {\\n      type: DT_FLOAT\\n    }\\n  }\\n  attr {\\n    key: &quot;_class&quot;\\n    value {\\n      list {\\n        s: &quot;loc:@bias_1_0&quot;\\n      }\\n    }\\n  }\\n  attr {\\n    key: &quot;use_locking&quot;\\n    value {\\n      b: true\\n    }\\n  }\\n  attr {\\n    key: &quot;validate_shape&quot;\\n    value {\\n      b: true\\n    }\\n  }\\n}\\nnode {\\n  name: &quot;bias/1_0/read&quot;\\n  op: &quot;Identity&quot;\\n  input: &quot;bias/1_0&quot;\\n  attr {\\n    key: &quot;T&quot;\\n    value {\\n      type: DT_FLOAT\\n    }\\n  }\\n  attr {\\n    key: &quot;_class&quot;\\n    value {\\n      list {\\n        s: &quot;loc:@bias_1_0&quot;\\n      }\\n    }\\n  }\\n}\\nnode {\\n  name: &quot;random/uniform_1/shape&quot;\\n  op: &quot;Const&quot;\\n  attr {\\n    key: &quot;dtype&quot;\\n    value {\\n      type: DT_INT32\\n    }\\n  }\\n  attr {\\n    key: &quot;value&quot;\\n    value {\\n      tensor {\\n        dtype: DT_INT32\\n        tensor_shape {\\n          dim {\\n            size: 2\\n          }\\n        }\\n        tensor_content: &quot;\\\\n\\\\000\\\\000\\\\000\\\\n\\\\000\\\\000\\\\000&quot;\\n      }\\n    }\\n  }\\n}\\nnode {\\n  name: &quot;random/uniform_1/min&quot;\\n  op: &quot;Const&quot;\\n  attr {\\n    key: &quot;dtype&quot;\\n    value {\\n      type: DT_FLOAT\\n    }\\n  }\\n  attr {\\n    key: &quot;value&quot;\\n    value {\\n      tensor {\\n        dtype: DT_FLOAT\\n        tensor_shape {\\n        }\\n        float_val: 0.0\\n      }\\n    }\\n  }\\n}\\nnode {\\n  name: &quot;random/uniform_1/max&quot;\\n  op: &quot;Const&quot;\\n  attr {\\n    key: &quot;dtype&quot;\\n    value {\\n      type: DT_FLOAT\\n    }\\n  }\\n  attr {\\n    key: &quot;value&quot;\\n    value {\\n      tensor {\\n        dtype: DT_FLOAT\\n        tensor_shape {\\n        }\\n        float_val: 1.0\\n      }\\n    }\\n  }\\n}\\nnode {\\n  name: &quot;random/uniform_1/RandomUniform&quot;\\n  op: &quot;RandomUniform&quot;\\n  input: &quot;random/uniform_1/shape&quot;\\n  attr {\\n    key: &quot;T&quot;\\n    value {\\n      type: DT_INT32\\n    }\\n  }\\n  attr {\\n    key: &quot;dtype&quot;\\n    value {\\n      type: DT_FLOAT\\n    }\\n  }\\n  attr {\\n    key: &quot;seed&quot;\\n    value {\\n      i: 0\\n    }\\n  }\\n  attr {\\n    key: &quot;seed2&quot;\\n    value {\\n      i: 0\\n    }\\n  }\\n}\\nnode {\\n  name: &quot;random/uniform_1/sub&quot;\\n  op: &quot;Sub&quot;\\n  input: &quot;random/uniform_1/max&quot;\\n  input: &quot;random/uniform_1/min&quot;\\n  attr {\\n    key: &quot;T&quot;\\n    value {\\n      type: DT_FLOAT\\n    }\\n  }\\n}\\nnode {\\n  name: &quot;random/uniform_1/mul&quot;\\n  op: &quot;Mul&quot;\\n  input: &quot;random/uniform_1/RandomUniform&quot;\\n  input: &quot;random/uniform_1/sub&quot;\\n  attr {\\n    key: &quot;T&quot;\\n    value {\\n      type: DT_FLOAT\\n    }\\n  }\\n}\\nnode {\\n  name: &quot;random/uniform_1&quot;\\n  op: &quot;Add&quot;\\n  input: &quot;random/uniform_1/mul&quot;\\n  input: &quot;random/uniform_1/min&quot;\\n  attr {\\n    key: &quot;T&quot;\\n    value {\\n      type: DT_FLOAT\\n    }\\n  }\\n}\\nnode {\\n  name: &quot;W/1_0&quot;\\n  op: &quot;VariableV2&quot;\\n  attr {\\n    key: &quot;container&quot;\\n    value {\\n      s: &quot;&quot;\\n    }\\n  }\\n  attr {\\n    key: &quot;dtype&quot;\\n    value {\\n      type: DT_FLOAT\\n    }\\n  }\\n  attr {\\n    key: &quot;shape&quot;\\n    value {\\n      shape {\\n        dim {\\n          size: 10\\n        }\\n        dim {\\n          size: 10\\n        }\\n      }\\n    }\\n  }\\n  attr {\\n    key: &quot;shared_name&quot;\\n    value {\\n      s: &quot;&quot;\\n    }\\n  }\\n}\\nnode {\\n  name: &quot;W/1_0/Assign&quot;\\n  op: &quot;Assign&quot;\\n  input: &quot;W/1_0&quot;\\n  input: &quot;random/uniform_1&quot;\\n  attr {\\n    key: &quot;T&quot;\\n    value {\\n      type: DT_FLOAT\\n    }\\n  }\\n  attr {\\n    key: &quot;_class&quot;\\n    value {\\n      list {\\n        s: &quot;loc:@W_1_0&quot;\\n      }\\n    }\\n  }\\n  attr {\\n    key: &quot;use_locking&quot;\\n    value {\\n      b: true\\n    }\\n  }\\n  attr {\\n    key: &quot;validate_shape&quot;\\n    value {\\n      b: true\\n    }\\n  }\\n}\\nnode {\\n  name: &quot;W/1_0/read&quot;\\n  op: &quot;Identity&quot;\\n  input: &quot;W/1_0&quot;\\n  attr {\\n    key: &quot;T&quot;\\n    value {\\n      type: DT_FLOAT\\n    }\\n  }\\n  attr {\\n    key: &quot;_class&quot;\\n    value {\\n      list {\\n        s: &quot;loc:@W_1_0&quot;\\n      }\\n    }\\n  }\\n}\\nnode {\\n  name: &quot;MatMul&quot;\\n  op: &quot;MatMul&quot;\\n  input: &quot;Placeholder&quot;\\n  input: &quot;W/1_0/read&quot;\\n  attr {\\n    key: &quot;T&quot;\\n    value {\\n      type: DT_FLOAT\\n    }\\n  }\\n  attr {\\n    key: &quot;transpose_a&quot;\\n    value {\\n      b: false\\n    }\\n  }\\n  attr {\\n    key: &quot;transpose_b&quot;\\n    value {\\n      b: false\\n    }\\n  }\\n}\\nnode {\\n  name: &quot;Add&quot;\\n  op: &quot;Add&quot;\\n  input: &quot;MatMul&quot;\\n  input: &quot;bias/1_0/read&quot;\\n  attr {\\n    key: &quot;T&quot;\\n    value {\\n      type: DT_FLOAT\\n    }\\n  }\\n}\\nnode {\\n  name: &quot;h/1_0&quot;\\n  op: &quot;Elu&quot;\\n  input: &quot;Add&quot;\\n  attr {\\n    key: &quot;T&quot;\\n    value {\\n      type: DT_FLOAT\\n    }\\n  }\\n}\\nnode {\\n  name: &quot;Const&quot;\\n  op: &quot;Const&quot;\\n  attr {\\n    key: &quot;dtype&quot;\\n    value {\\n      type: DT_FLOAT\\n    }\\n  }\\n  attr {\\n    key: &quot;value&quot;\\n    value {\\n      tensor {\\n        dtype: DT_FLOAT\\n        tensor_shape {\\n        }\\n        float_val: 1.0\\n      }\\n    }\\n  }\\n}\\nnode {\\n  name: &quot;Add/1&quot;\\n  op: &quot;Add&quot;\\n  input: &quot;eps/2&quot;\\n  input: &quot;Placeholder&quot;\\n  attr {\\n    key: &quot;T&quot;\\n    value {\\n      type: DT_FLOAT\\n    }\\n  }\\n}\\nnode {\\n  name: &quot;truediv&quot;\\n  op: &quot;RealDiv&quot;\\n  input: &quot;Const&quot;\\n  input: &quot;Add/1&quot;\\n  attr {\\n    key: &quot;T&quot;\\n    value {\\n      type: DT_FLOAT\\n    }\\n  }\\n}\\nnode {\\n  name: &quot;Const/1&quot;\\n  op: &quot;Const&quot;\\n  attr {\\n    key: &quot;dtype&quot;\\n    value {\\n      type: DT_FLOAT\\n    }\\n  }\\n  attr {\\n    key: &quot;value&quot;\\n    value {\\n      tensor {\\n        dtype: DT_FLOAT\\n        tensor_shape {\\n          dim {\\n            size: 10\\n          }\\n        }\\n        float_val: 1.0\\n      }\\n    }\\n  }\\n}\\nnode {\\n  name: &quot;bias/2_0&quot;\\n  op: &quot;VariableV2&quot;\\n  attr {\\n    key: &quot;container&quot;\\n    value {\\n      s: &quot;&quot;\\n    }\\n  }\\n  attr {\\n    key: &quot;dtype&quot;\\n    value {\\n      type: DT_FLOAT\\n    }\\n  }\\n  attr {\\n    key: &quot;shape&quot;\\n    value {\\n      shape {\\n        dim {\\n          size: 10\\n        }\\n      }\\n    }\\n  }\\n  attr {\\n    key: &quot;shared_name&quot;\\n    value {\\n      s: &quot;&quot;\\n    }\\n  }\\n}\\nnode {\\n  name: &quot;bias/2_0/Assign&quot;\\n  op: &quot;Assign&quot;\\n  input: &quot;bias/2_0&quot;\\n  input: &quot;Const/1&quot;\\n  attr {\\n    key: &quot;T&quot;\\n    value {\\n      type: DT_FLOAT\\n    }\\n  }\\n  attr {\\n    key: &quot;_class&quot;\\n    value {\\n      list {\\n        s: &quot;loc:@bias_2_0&quot;\\n      }\\n    }\\n  }\\n  attr {\\n    key: &quot;use_locking&quot;\\n    value {\\n      b: true\\n    }\\n  }\\n  attr {\\n    key: &quot;validate_shape&quot;\\n    value {\\n      b: true\\n    }\\n  }\\n}\\nnode {\\n  name: &quot;bias/2_0/read&quot;\\n  op: &quot;Identity&quot;\\n  input: &quot;bias/2_0&quot;\\n  attr {\\n    key: &quot;T&quot;\\n    value {\\n      type: DT_FLOAT\\n    }\\n  }\\n  attr {\\n    key: &quot;_class&quot;\\n    value {\\n      list {\\n        s: &quot;loc:@bias_2_0&quot;\\n      }\\n    }\\n  }\\n}\\nnode {\\n  name: &quot;random/uniform_2/shape&quot;\\n  op: &quot;Const&quot;\\n  attr {\\n    key: &quot;dtype&quot;\\n    value {\\n      type: DT_INT32\\n    }\\n  }\\n  attr {\\n    key: &quot;value&quot;\\n    value {\\n      tensor {\\n        dtype: DT_INT32\\n        tensor_shape {\\n          dim {\\n            size: 2\\n          }\\n        }\\n        tensor_content: &quot;\\\\n\\\\000\\\\000\\\\000\\\\n\\\\000\\\\000\\\\000&quot;\\n      }\\n    }\\n  }\\n}\\nnode {\\n  name: &quot;random/uniform_2/min&quot;\\n  op: &quot;Const&quot;\\n  attr {\\n    key: &quot;dtype&quot;\\n    value {\\n      type: DT_FLOAT\\n    }\\n  }\\n  attr {\\n    key: &quot;value&quot;\\n    value {\\n      tensor {\\n        dtype: DT_FLOAT\\n        tensor_shape {\\n        }\\n        float_val: 0.0\\n      }\\n    }\\n  }\\n}\\nnode {\\n  name: &quot;random/uniform_2/max&quot;\\n  op: &quot;Const&quot;\\n  attr {\\n    key: &quot;dtype&quot;\\n    value {\\n      type: DT_FLOAT\\n    }\\n  }\\n  attr {\\n    key: &quot;value&quot;\\n    value {\\n      tensor {\\n        dtype: DT_FLOAT\\n        tensor_shape {\\n        }\\n        float_val: 1.0\\n      }\\n    }\\n  }\\n}\\nnode {\\n  name: &quot;random/uniform_2/RandomUniform&quot;\\n  op: &quot;RandomUniform&quot;\\n  input: &quot;random/uniform_2/shape&quot;\\n  attr {\\n    key: &quot;T&quot;\\n    value {\\n      type: DT_INT32\\n    }\\n  }\\n  attr {\\n    key: &quot;dtype&quot;\\n    value {\\n      type: DT_FLOAT\\n    }\\n  }\\n  attr {\\n    key: &quot;seed&quot;\\n    value {\\n      i: 0\\n    }\\n  }\\n  attr {\\n    key: &quot;seed2&quot;\\n    value {\\n      i: 0\\n    }\\n  }\\n}\\nnode {\\n  name: &quot;random/uniform_2/sub&quot;\\n  op: &quot;Sub&quot;\\n  input: &quot;random/uniform_2/max&quot;\\n  input: &quot;random/uniform_2/min&quot;\\n  attr {\\n    key: &quot;T&quot;\\n    value {\\n      type: DT_FLOAT\\n    }\\n  }\\n}\\nnode {\\n  name: &quot;random/uniform_2/mul&quot;\\n  op: &quot;Mul&quot;\\n  input: &quot;random/uniform_2/RandomUniform&quot;\\n  input: &quot;random/uniform_2/sub&quot;\\n  attr {\\n    key: &quot;T&quot;\\n    value {\\n      type: DT_FLOAT\\n    }\\n  }\\n}\\nnode {\\n  name: &quot;random/uniform_2&quot;\\n  op: &quot;Add&quot;\\n  input: &quot;random/uniform_2/mul&quot;\\n  input: &quot;random/uniform_2/min&quot;\\n  attr {\\n    key: &quot;T&quot;\\n    value {\\n      type: DT_FLOAT\\n    }\\n  }\\n}\\nnode {\\n  name: &quot;W/2_0&quot;\\n  op: &quot;VariableV2&quot;\\n  attr {\\n    key: &quot;container&quot;\\n    value {\\n      s: &quot;&quot;\\n    }\\n  }\\n  attr {\\n    key: &quot;dtype&quot;\\n    value {\\n      type: DT_FLOAT\\n    }\\n  }\\n  attr {\\n    key: &quot;shape&quot;\\n    value {\\n      shape {\\n        dim {\\n          size: 10\\n        }\\n        dim {\\n          size: 10\\n        }\\n      }\\n    }\\n  }\\n  attr {\\n    key: &quot;shared_name&quot;\\n    value {\\n      s: &quot;&quot;\\n    }\\n  }\\n}\\nnode {\\n  name: &quot;W/2_0/Assign&quot;\\n  op: &quot;Assign&quot;\\n  input: &quot;W/2_0&quot;\\n  input: &quot;random/uniform_2&quot;\\n  attr {\\n    key: &quot;T&quot;\\n    value {\\n      type: DT_FLOAT\\n    }\\n  }\\n  attr {\\n    key: &quot;_class&quot;\\n    value {\\n      list {\\n        s: &quot;loc:@W_2_0&quot;\\n      }\\n    }\\n  }\\n  attr {\\n    key: &quot;use_locking&quot;\\n    value {\\n      b: true\\n    }\\n  }\\n  attr {\\n    key: &quot;validate_shape&quot;\\n    value {\\n      b: true\\n    }\\n  }\\n}\\nnode {\\n  name: &quot;W/2_0/read&quot;\\n  op: &quot;Identity&quot;\\n  input: &quot;W/2_0&quot;\\n  attr {\\n    key: &quot;T&quot;\\n    value {\\n      type: DT_FLOAT\\n    }\\n  }\\n  attr {\\n    key: &quot;_class&quot;\\n    value {\\n      list {\\n        s: &quot;loc:@W_2_0&quot;\\n      }\\n    }\\n  }\\n}\\nnode {\\n  name: &quot;MatMul/1&quot;\\n  op: &quot;MatMul&quot;\\n  input: &quot;truediv&quot;\\n  input: &quot;W/2_0/read&quot;\\n  attr {\\n    key: &quot;T&quot;\\n    value {\\n      type: DT_FLOAT\\n    }\\n  }\\n  attr {\\n    key: &quot;transpose_a&quot;\\n    value {\\n      b: false\\n    }\\n  }\\n  attr {\\n    key: &quot;transpose_b&quot;\\n    value {\\n      b: false\\n    }\\n  }\\n}\\nnode {\\n  name: &quot;Add/2&quot;\\n  op: &quot;Add&quot;\\n  input: &quot;MatMul/1&quot;\\n  input: &quot;bias/2_0/read&quot;\\n  attr {\\n    key: &quot;T&quot;\\n    value {\\n      type: DT_FLOAT\\n    }\\n  }\\n}\\nnode {\\n  name: &quot;h/2_0&quot;\\n  op: &quot;Elu&quot;\\n  input: &quot;Add/2&quot;\\n  attr {\\n    key: &quot;T&quot;\\n    value {\\n      type: DT_FLOAT\\n    }\\n  }\\n}\\nnode {\\n  name: &quot;g/0&quot;\\n  op: &quot;Add&quot;\\n  input: &quot;h/1_0&quot;\\n  input: &quot;h/2_0&quot;\\n  attr {\\n    key: &quot;T&quot;\\n    value {\\n      type: DT_FLOAT\\n    }\\n  }\\n}\\nnode {\\n  name: &quot;random/uniform_3/shape&quot;\\n  op: &quot;Const&quot;\\n  attr {\\n    key: &quot;dtype&quot;\\n    value {\\n      type: DT_INT32\\n    }\\n  }\\n  attr {\\n    key: &quot;value&quot;\\n    value {\\n      tensor {\\n        dtype: DT_INT32\\n        tensor_shape {\\n          dim {\\n            size: 1\\n          }\\n        }\\n        int_val: 10\\n      }\\n    }\\n  }\\n}\\nnode {\\n  name: &quot;random/uniform_3/min&quot;\\n  op: &quot;Const&quot;\\n  attr {\\n    key: &quot;dtype&quot;\\n    value {\\n      type: DT_FLOAT\\n    }\\n  }\\n  attr {\\n    key: &quot;value&quot;\\n    value {\\n      tensor {\\n        dtype: DT_FLOAT\\n        tensor_shape {\\n        }\\n        float_val: 0.0\\n      }\\n    }\\n  }\\n}\\nnode {\\n  name: &quot;random/uniform_3/max&quot;\\n  op: &quot;Const&quot;\\n  attr {\\n    key: &quot;dtype&quot;\\n    value {\\n      type: DT_FLOAT\\n    }\\n  }\\n  attr {\\n    key: &quot;value&quot;\\n    value {\\n      tensor {\\n        dtype: DT_FLOAT\\n        tensor_shape {\\n        }\\n        float_val: 1.0\\n      }\\n    }\\n  }\\n}\\nnode {\\n  name: &quot;random/uniform_3/RandomUniform&quot;\\n  op: &quot;RandomUniform&quot;\\n  input: &quot;random/uniform_3/shape&quot;\\n  attr {\\n    key: &quot;T&quot;\\n    value {\\n      type: DT_INT32\\n    }\\n  }\\n  attr {\\n    key: &quot;dtype&quot;\\n    value {\\n      type: DT_FLOAT\\n    }\\n  }\\n  attr {\\n    key: &quot;seed&quot;\\n    value {\\n      i: 0\\n    }\\n  }\\n  attr {\\n    key: &quot;seed2&quot;\\n    value {\\n      i: 0\\n    }\\n  }\\n}\\nnode {\\n  name: &quot;random/uniform_3/sub&quot;\\n  op: &quot;Sub&quot;\\n  input: &quot;random/uniform_3/max&quot;\\n  input: &quot;random/uniform_3/min&quot;\\n  attr {\\n    key: &quot;T&quot;\\n    value {\\n      type: DT_FLOAT\\n    }\\n  }\\n}\\nnode {\\n  name: &quot;random/uniform_3/mul&quot;\\n  op: &quot;Mul&quot;\\n  input: &quot;random/uniform_3/RandomUniform&quot;\\n  input: &quot;random/uniform_3/sub&quot;\\n  attr {\\n    key: &quot;T&quot;\\n    value {\\n      type: DT_FLOAT\\n    }\\n  }\\n}\\nnode {\\n  name: &quot;random/uniform_3&quot;\\n  op: &quot;Add&quot;\\n  input: &quot;random/uniform_3/mul&quot;\\n  input: &quot;random/uniform_3/min&quot;\\n  attr {\\n    key: &quot;T&quot;\\n    value {\\n      type: DT_FLOAT\\n    }\\n  }\\n}\\nnode {\\n  name: &quot;bias/1_1&quot;\\n  op: &quot;VariableV2&quot;\\n  attr {\\n    key: &quot;container&quot;\\n    value {\\n      s: &quot;&quot;\\n    }\\n  }\\n  attr {\\n    key: &quot;dtype&quot;\\n    value {\\n      type: DT_FLOAT\\n    }\\n  }\\n  attr {\\n    key: &quot;shape&quot;\\n    value {\\n      shape {\\n        dim {\\n          size: 10\\n        }\\n      }\\n    }\\n  }\\n  attr {\\n    key: &quot;shared_name&quot;\\n    value {\\n      s: &quot;&quot;\\n    }\\n  }\\n}\\nnode {\\n  name: &quot;bias/1_1/Assign&quot;\\n  op: &quot;Assign&quot;\\n  input: &quot;bias/1_1&quot;\\n  input: &quot;random/uniform_3&quot;\\n  attr {\\n    key: &quot;T&quot;\\n    value {\\n      type: DT_FLOAT\\n    }\\n  }\\n  attr {\\n    key: &quot;_class&quot;\\n    value {\\n      list {\\n        s: &quot;loc:@bias_1_1&quot;\\n      }\\n    }\\n  }\\n  attr {\\n    key: &quot;use_locking&quot;\\n    value {\\n      b: true\\n    }\\n  }\\n  attr {\\n    key: &quot;validate_shape&quot;\\n    value {\\n      b: true\\n    }\\n  }\\n}\\nnode {\\n  name: &quot;bias/1_1/read&quot;\\n  op: &quot;Identity&quot;\\n  input: &quot;bias/1_1&quot;\\n  attr {\\n    key: &quot;T&quot;\\n    value {\\n      type: DT_FLOAT\\n    }\\n  }\\n  attr {\\n    key: &quot;_class&quot;\\n    value {\\n      list {\\n        s: &quot;loc:@bias_1_1&quot;\\n      }\\n    }\\n  }\\n}\\nnode {\\n  name: &quot;random/uniform_4/shape&quot;\\n  op: &quot;Const&quot;\\n  attr {\\n    key: &quot;dtype&quot;\\n    value {\\n      type: DT_INT32\\n    }\\n  }\\n  attr {\\n    key: &quot;value&quot;\\n    value {\\n      tensor {\\n        dtype: DT_INT32\\n        tensor_shape {\\n          dim {\\n            size: 2\\n          }\\n        }\\n        tensor_content: &quot;\\\\n\\\\000\\\\000\\\\000\\\\n\\\\000\\\\000\\\\000&quot;\\n      }\\n    }\\n  }\\n}\\nnode {\\n  name: &quot;random/uniform_4/min&quot;\\n  op: &quot;Const&quot;\\n  attr {\\n    key: &quot;dtype&quot;\\n    value {\\n      type: DT_FLOAT\\n    }\\n  }\\n  attr {\\n    key: &quot;value&quot;\\n    value {\\n      tensor {\\n        dtype: DT_FLOAT\\n        tensor_shape {\\n        }\\n        float_val: 0.0\\n      }\\n    }\\n  }\\n}\\nnode {\\n  name: &quot;random/uniform_4/max&quot;\\n  op: &quot;Const&quot;\\n  attr {\\n    key: &quot;dtype&quot;\\n    value {\\n      type: DT_FLOAT\\n    }\\n  }\\n  attr {\\n    key: &quot;value&quot;\\n    value {\\n      tensor {\\n        dtype: DT_FLOAT\\n        tensor_shape {\\n        }\\n        float_val: 1.0\\n      }\\n    }\\n  }\\n}\\nnode {\\n  name: &quot;random/uniform_4/RandomUniform&quot;\\n  op: &quot;RandomUniform&quot;\\n  input: &quot;random/uniform_4/shape&quot;\\n  attr {\\n    key: &quot;T&quot;\\n    value {\\n      type: DT_INT32\\n    }\\n  }\\n  attr {\\n    key: &quot;dtype&quot;\\n    value {\\n      type: DT_FLOAT\\n    }\\n  }\\n  attr {\\n    key: &quot;seed&quot;\\n    value {\\n      i: 0\\n    }\\n  }\\n  attr {\\n    key: &quot;seed2&quot;\\n    value {\\n      i: 0\\n    }\\n  }\\n}\\nnode {\\n  name: &quot;random/uniform_4/sub&quot;\\n  op: &quot;Sub&quot;\\n  input: &quot;random/uniform_4/max&quot;\\n  input: &quot;random/uniform_4/min&quot;\\n  attr {\\n    key: &quot;T&quot;\\n    value {\\n      type: DT_FLOAT\\n    }\\n  }\\n}\\nnode {\\n  name: &quot;random/uniform_4/mul&quot;\\n  op: &quot;Mul&quot;\\n  input: &quot;random/uniform_4/RandomUniform&quot;\\n  input: &quot;random/uniform_4/sub&quot;\\n  attr {\\n    key: &quot;T&quot;\\n    value {\\n      type: DT_FLOAT\\n    }\\n  }\\n}\\nnode {\\n  name: &quot;random/uniform_4&quot;\\n  op: &quot;Add&quot;\\n  input: &quot;random/uniform_4/mul&quot;\\n  input: &quot;random/uniform_4/min&quot;\\n  attr {\\n    key: &quot;T&quot;\\n    value {\\n      type: DT_FLOAT\\n    }\\n  }\\n}\\nnode {\\n  name: &quot;W/1_1&quot;\\n  op: &quot;VariableV2&quot;\\n  attr {\\n    key: &quot;container&quot;\\n    value {\\n      s: &quot;&quot;\\n    }\\n  }\\n  attr {\\n    key: &quot;dtype&quot;\\n    value {\\n      type: DT_FLOAT\\n    }\\n  }\\n  attr {\\n    key: &quot;shape&quot;\\n    value {\\n      shape {\\n        dim {\\n          size: 10\\n        }\\n        dim {\\n          size: 10\\n        }\\n      }\\n    }\\n  }\\n  attr {\\n    key: &quot;shared_name&quot;\\n    value {\\n      s: &quot;&quot;\\n    }\\n  }\\n}\\nnode {\\n  name: &quot;W/1_1/Assign&quot;\\n  op: &quot;Assign&quot;\\n  input: &quot;W/1_1&quot;\\n  input: &quot;random/uniform_4&quot;\\n  attr {\\n    key: &quot;T&quot;\\n    value {\\n      type: DT_FLOAT\\n    }\\n  }\\n  attr {\\n    key: &quot;_class&quot;\\n    value {\\n      list {\\n        s: &quot;loc:@W_1_1&quot;\\n      }\\n    }\\n  }\\n  attr {\\n    key: &quot;use_locking&quot;\\n    value {\\n      b: true\\n    }\\n  }\\n  attr {\\n    key: &quot;validate_shape&quot;\\n    value {\\n      b: true\\n    }\\n  }\\n}\\nnode {\\n  name: &quot;W/1_1/read&quot;\\n  op: &quot;Identity&quot;\\n  input: &quot;W/1_1&quot;\\n  attr {\\n    key: &quot;T&quot;\\n    value {\\n      type: DT_FLOAT\\n    }\\n  }\\n  attr {\\n    key: &quot;_class&quot;\\n    value {\\n      list {\\n        s: &quot;loc:@W_1_1&quot;\\n      }\\n    }\\n  }\\n}\\nnode {\\n  name: &quot;MatMul/2&quot;\\n  op: &quot;MatMul&quot;\\n  input: &quot;g/0&quot;\\n  input: &quot;W/1_1/read&quot;\\n  attr {\\n    key: &quot;T&quot;\\n    value {\\n      type: DT_FLOAT\\n    }\\n  }\\n  attr {\\n    key: &quot;transpose_a&quot;\\n    value {\\n      b: false\\n    }\\n  }\\n  attr {\\n    key: &quot;transpose_b&quot;\\n    value {\\n      b: false\\n    }\\n  }\\n}\\nnode {\\n  name: &quot;Add/3&quot;\\n  op: &quot;Add&quot;\\n  input: &quot;MatMul/2&quot;\\n  input: &quot;bias/1_1/read&quot;\\n  attr {\\n    key: &quot;T&quot;\\n    value {\\n      type: DT_FLOAT\\n    }\\n  }\\n}\\nnode {\\n  name: &quot;h/1_1&quot;\\n  op: &quot;Elu&quot;\\n  input: &quot;Add/3&quot;\\n  attr {\\n    key: &quot;T&quot;\\n    value {\\n      type: DT_FLOAT\\n    }\\n  }\\n}\\nnode {\\n  name: &quot;Const/2&quot;\\n  op: &quot;Const&quot;\\n  attr {\\n    key: &quot;dtype&quot;\\n    value {\\n      type: DT_FLOAT\\n    }\\n  }\\n  attr {\\n    key: &quot;value&quot;\\n    value {\\n      tensor {\\n        dtype: DT_FLOAT\\n        tensor_shape {\\n        }\\n        float_val: 1.0\\n      }\\n    }\\n  }\\n}\\nnode {\\n  name: &quot;Add/4&quot;\\n  op: &quot;Add&quot;\\n  input: &quot;eps/1&quot;\\n  input: &quot;g/0&quot;\\n  attr {\\n    key: &quot;T&quot;\\n    value {\\n      type: DT_FLOAT\\n    }\\n  }\\n}\\nnode {\\n  name: &quot;truediv/1&quot;\\n  op: &quot;RealDiv&quot;\\n  input: &quot;Const/2&quot;\\n  input: &quot;Add/4&quot;\\n  attr {\\n    key: &quot;T&quot;\\n    value {\\n      type: DT_FLOAT\\n    }\\n  }\\n}\\nnode {\\n  name: &quot;Const/3&quot;\\n  op: &quot;Const&quot;\\n  attr {\\n    key: &quot;dtype&quot;\\n    value {\\n      type: DT_FLOAT\\n    }\\n  }\\n  attr {\\n    key: &quot;value&quot;\\n    value {\\n      tensor {\\n        dtype: DT_FLOAT\\n        tensor_shape {\\n          dim {\\n            size: 10\\n          }\\n        }\\n        float_val: 1.0\\n      }\\n    }\\n  }\\n}\\nnode {\\n  name: &quot;bias/2_1&quot;\\n  op: &quot;VariableV2&quot;\\n  attr {\\n    key: &quot;container&quot;\\n    value {\\n      s: &quot;&quot;\\n    }\\n  }\\n  attr {\\n    key: &quot;dtype&quot;\\n    value {\\n      type: DT_FLOAT\\n    }\\n  }\\n  attr {\\n    key: &quot;shape&quot;\\n    value {\\n      shape {\\n        dim {\\n          size: 10\\n        }\\n      }\\n    }\\n  }\\n  attr {\\n    key: &quot;shared_name&quot;\\n    value {\\n      s: &quot;&quot;\\n    }\\n  }\\n}\\nnode {\\n  name: &quot;bias/2_1/Assign&quot;\\n  op: &quot;Assign&quot;\\n  input: &quot;bias/2_1&quot;\\n  input: &quot;Const/3&quot;\\n  attr {\\n    key: &quot;T&quot;\\n    value {\\n      type: DT_FLOAT\\n    }\\n  }\\n  attr {\\n    key: &quot;_class&quot;\\n    value {\\n      list {\\n        s: &quot;loc:@bias_2_1&quot;\\n      }\\n    }\\n  }\\n  attr {\\n    key: &quot;use_locking&quot;\\n    value {\\n      b: true\\n    }\\n  }\\n  attr {\\n    key: &quot;validate_shape&quot;\\n    value {\\n      b: true\\n    }\\n  }\\n}\\nnode {\\n  name: &quot;bias/2_1/read&quot;\\n  op: &quot;Identity&quot;\\n  input: &quot;bias/2_1&quot;\\n  attr {\\n    key: &quot;T&quot;\\n    value {\\n      type: DT_FLOAT\\n    }\\n  }\\n  attr {\\n    key: &quot;_class&quot;\\n    value {\\n      list {\\n        s: &quot;loc:@bias_2_1&quot;\\n      }\\n    }\\n  }\\n}\\nnode {\\n  name: &quot;random/uniform_5/shape&quot;\\n  op: &quot;Const&quot;\\n  attr {\\n    key: &quot;dtype&quot;\\n    value {\\n      type: DT_INT32\\n    }\\n  }\\n  attr {\\n    key: &quot;value&quot;\\n    value {\\n      tensor {\\n        dtype: DT_INT32\\n        tensor_shape {\\n          dim {\\n            size: 2\\n          }\\n        }\\n        tensor_content: &quot;\\\\n\\\\000\\\\000\\\\000\\\\n\\\\000\\\\000\\\\000&quot;\\n      }\\n    }\\n  }\\n}\\nnode {\\n  name: &quot;random/uniform_5/min&quot;\\n  op: &quot;Const&quot;\\n  attr {\\n    key: &quot;dtype&quot;\\n    value {\\n      type: DT_FLOAT\\n    }\\n  }\\n  attr {\\n    key: &quot;value&quot;\\n    value {\\n      tensor {\\n        dtype: DT_FLOAT\\n        tensor_shape {\\n        }\\n        float_val: 0.0\\n      }\\n    }\\n  }\\n}\\nnode {\\n  name: &quot;random/uniform_5/max&quot;\\n  op: &quot;Const&quot;\\n  attr {\\n    key: &quot;dtype&quot;\\n    value {\\n      type: DT_FLOAT\\n    }\\n  }\\n  attr {\\n    key: &quot;value&quot;\\n    value {\\n      tensor {\\n        dtype: DT_FLOAT\\n        tensor_shape {\\n        }\\n        float_val: 1.0\\n      }\\n    }\\n  }\\n}\\nnode {\\n  name: &quot;random/uniform_5/RandomUniform&quot;\\n  op: &quot;RandomUniform&quot;\\n  input: &quot;random/uniform_5/shape&quot;\\n  attr {\\n    key: &quot;T&quot;\\n    value {\\n      type: DT_INT32\\n    }\\n  }\\n  attr {\\n    key: &quot;dtype&quot;\\n    value {\\n      type: DT_FLOAT\\n    }\\n  }\\n  attr {\\n    key: &quot;seed&quot;\\n    value {\\n      i: 0\\n    }\\n  }\\n  attr {\\n    key: &quot;seed2&quot;\\n    value {\\n      i: 0\\n    }\\n  }\\n}\\nnode {\\n  name: &quot;random/uniform_5/sub&quot;\\n  op: &quot;Sub&quot;\\n  input: &quot;random/uniform_5/max&quot;\\n  input: &quot;random/uniform_5/min&quot;\\n  attr {\\n    key: &quot;T&quot;\\n    value {\\n      type: DT_FLOAT\\n    }\\n  }\\n}\\nnode {\\n  name: &quot;random/uniform_5/mul&quot;\\n  op: &quot;Mul&quot;\\n  input: &quot;random/uniform_5/RandomUniform&quot;\\n  input: &quot;random/uniform_5/sub&quot;\\n  attr {\\n    key: &quot;T&quot;\\n    value {\\n      type: DT_FLOAT\\n    }\\n  }\\n}\\nnode {\\n  name: &quot;random/uniform_5&quot;\\n  op: &quot;Add&quot;\\n  input: &quot;random/uniform_5/mul&quot;\\n  input: &quot;random/uniform_5/min&quot;\\n  attr {\\n    key: &quot;T&quot;\\n    value {\\n      type: DT_FLOAT\\n    }\\n  }\\n}\\nnode {\\n  name: &quot;W/2_1&quot;\\n  op: &quot;VariableV2&quot;\\n  attr {\\n    key: &quot;container&quot;\\n    value {\\n      s: &quot;&quot;\\n    }\\n  }\\n  attr {\\n    key: &quot;dtype&quot;\\n    value {\\n      type: DT_FLOAT\\n    }\\n  }\\n  attr {\\n    key: &quot;shape&quot;\\n    value {\\n      shape {\\n        dim {\\n          size: 10\\n        }\\n        dim {\\n          size: 10\\n        }\\n      }\\n    }\\n  }\\n  attr {\\n    key: &quot;shared_name&quot;\\n    value {\\n      s: &quot;&quot;\\n    }\\n  }\\n}\\nnode {\\n  name: &quot;W/2_1/Assign&quot;\\n  op: &quot;Assign&quot;\\n  input: &quot;W/2_1&quot;\\n  input: &quot;random/uniform_5&quot;\\n  attr {\\n    key: &quot;T&quot;\\n    value {\\n      type: DT_FLOAT\\n    }\\n  }\\n  attr {\\n    key: &quot;_class&quot;\\n    value {\\n      list {\\n        s: &quot;loc:@W_2_1&quot;\\n      }\\n    }\\n  }\\n  attr {\\n    key: &quot;use_locking&quot;\\n    value {\\n      b: true\\n    }\\n  }\\n  attr {\\n    key: &quot;validate_shape&quot;\\n    value {\\n      b: true\\n    }\\n  }\\n}\\nnode {\\n  name: &quot;W/2_1/read&quot;\\n  op: &quot;Identity&quot;\\n  input: &quot;W/2_1&quot;\\n  attr {\\n    key: &quot;T&quot;\\n    value {\\n      type: DT_FLOAT\\n    }\\n  }\\n  attr {\\n    key: &quot;_class&quot;\\n    value {\\n      list {\\n        s: &quot;loc:@W_2_1&quot;\\n      }\\n    }\\n  }\\n}\\nnode {\\n  name: &quot;MatMul/3&quot;\\n  op: &quot;MatMul&quot;\\n  input: &quot;truediv/1&quot;\\n  input: &quot;W/2_1/read&quot;\\n  attr {\\n    key: &quot;T&quot;\\n    value {\\n      type: DT_FLOAT\\n    }\\n  }\\n  attr {\\n    key: &quot;transpose_a&quot;\\n    value {\\n      b: false\\n    }\\n  }\\n  attr {\\n    key: &quot;transpose_b&quot;\\n    value {\\n      b: false\\n    }\\n  }\\n}\\nnode {\\n  name: &quot;Add/5&quot;\\n  op: &quot;Add&quot;\\n  input: &quot;MatMul/3&quot;\\n  input: &quot;bias/2_1/read&quot;\\n  attr {\\n    key: &quot;T&quot;\\n    value {\\n      type: DT_FLOAT\\n    }\\n  }\\n}\\nnode {\\n  name: &quot;h/2_1&quot;\\n  op: &quot;Elu&quot;\\n  input: &quot;Add/5&quot;\\n  attr {\\n    key: &quot;T&quot;\\n    value {\\n      type: DT_FLOAT\\n    }\\n  }\\n}\\nnode {\\n  name: &quot;g/1&quot;\\n  op: &quot;Add&quot;\\n  input: &quot;h/1_1&quot;\\n  input: &quot;h/2_1&quot;\\n  attr {\\n    key: &quot;T&quot;\\n    value {\\n      type: DT_FLOAT\\n    }\\n  }\\n}\\nnode {\\n  name: &quot;random/uniform_6/shape&quot;\\n  op: &quot;Const&quot;\\n  attr {\\n    key: &quot;dtype&quot;\\n    value {\\n      type: DT_INT32\\n    }\\n  }\\n  attr {\\n    key: &quot;value&quot;\\n    value {\\n      tensor {\\n        dtype: DT_INT32\\n        tensor_shape {\\n          dim {\\n            size: 1\\n          }\\n        }\\n        int_val: 10\\n      }\\n    }\\n  }\\n}\\nnode {\\n  name: &quot;random/uniform_6/min&quot;\\n  op: &quot;Const&quot;\\n  attr {\\n    key: &quot;dtype&quot;\\n    value {\\n      type: DT_FLOAT\\n    }\\n  }\\n  attr {\\n    key: &quot;value&quot;\\n    value {\\n      tensor {\\n        dtype: DT_FLOAT\\n        tensor_shape {\\n        }\\n        float_val: 0.0\\n      }\\n    }\\n  }\\n}\\nnode {\\n  name: &quot;random/uniform_6/max&quot;\\n  op: &quot;Const&quot;\\n  attr {\\n    key: &quot;dtype&quot;\\n    value {\\n      type: DT_FLOAT\\n    }\\n  }\\n  attr {\\n    key: &quot;value&quot;\\n    value {\\n      tensor {\\n        dtype: DT_FLOAT\\n        tensor_shape {\\n        }\\n        float_val: 1.0\\n      }\\n    }\\n  }\\n}\\nnode {\\n  name: &quot;random/uniform_6/RandomUniform&quot;\\n  op: &quot;RandomUniform&quot;\\n  input: &quot;random/uniform_6/shape&quot;\\n  attr {\\n    key: &quot;T&quot;\\n    value {\\n      type: DT_INT32\\n    }\\n  }\\n  attr {\\n    key: &quot;dtype&quot;\\n    value {\\n      type: DT_FLOAT\\n    }\\n  }\\n  attr {\\n    key: &quot;seed&quot;\\n    value {\\n      i: 0\\n    }\\n  }\\n  attr {\\n    key: &quot;seed2&quot;\\n    value {\\n      i: 0\\n    }\\n  }\\n}\\nnode {\\n  name: &quot;random/uniform_6/sub&quot;\\n  op: &quot;Sub&quot;\\n  input: &quot;random/uniform_6/max&quot;\\n  input: &quot;random/uniform_6/min&quot;\\n  attr {\\n    key: &quot;T&quot;\\n    value {\\n      type: DT_FLOAT\\n    }\\n  }\\n}\\nnode {\\n  name: &quot;random/uniform_6/mul&quot;\\n  op: &quot;Mul&quot;\\n  input: &quot;random/uniform_6/RandomUniform&quot;\\n  input: &quot;random/uniform_6/sub&quot;\\n  attr {\\n    key: &quot;T&quot;\\n    value {\\n      type: DT_FLOAT\\n    }\\n  }\\n}\\nnode {\\n  name: &quot;random/uniform_6&quot;\\n  op: &quot;Add&quot;\\n  input: &quot;random/uniform_6/mul&quot;\\n  input: &quot;random/uniform_6/min&quot;\\n  attr {\\n    key: &quot;T&quot;\\n    value {\\n      type: DT_FLOAT\\n    }\\n  }\\n}\\nnode {\\n  name: &quot;bias/1_2&quot;\\n  op: &quot;VariableV2&quot;\\n  attr {\\n    key: &quot;container&quot;\\n    value {\\n      s: &quot;&quot;\\n    }\\n  }\\n  attr {\\n    key: &quot;dtype&quot;\\n    value {\\n      type: DT_FLOAT\\n    }\\n  }\\n  attr {\\n    key: &quot;shape&quot;\\n    value {\\n      shape {\\n        dim {\\n          size: 10\\n        }\\n      }\\n    }\\n  }\\n  attr {\\n    key: &quot;shared_name&quot;\\n    value {\\n      s: &quot;&quot;\\n    }\\n  }\\n}\\nnode {\\n  name: &quot;bias/1_2/Assign&quot;\\n  op: &quot;Assign&quot;\\n  input: &quot;bias/1_2&quot;\\n  input: &quot;random/uniform_6&quot;\\n  attr {\\n    key: &quot;T&quot;\\n    value {\\n      type: DT_FLOAT\\n    }\\n  }\\n  attr {\\n    key: &quot;_class&quot;\\n    value {\\n      list {\\n        s: &quot;loc:@bias_1_2&quot;\\n      }\\n    }\\n  }\\n  attr {\\n    key: &quot;use_locking&quot;\\n    value {\\n      b: true\\n    }\\n  }\\n  attr {\\n    key: &quot;validate_shape&quot;\\n    value {\\n      b: true\\n    }\\n  }\\n}\\nnode {\\n  name: &quot;bias/1_2/read&quot;\\n  op: &quot;Identity&quot;\\n  input: &quot;bias/1_2&quot;\\n  attr {\\n    key: &quot;T&quot;\\n    value {\\n      type: DT_FLOAT\\n    }\\n  }\\n  attr {\\n    key: &quot;_class&quot;\\n    value {\\n      list {\\n        s: &quot;loc:@bias_1_2&quot;\\n      }\\n    }\\n  }\\n}\\nnode {\\n  name: &quot;random/uniform_7/shape&quot;\\n  op: &quot;Const&quot;\\n  attr {\\n    key: &quot;dtype&quot;\\n    value {\\n      type: DT_INT32\\n    }\\n  }\\n  attr {\\n    key: &quot;value&quot;\\n    value {\\n      tensor {\\n        dtype: DT_INT32\\n        tensor_shape {\\n          dim {\\n            size: 2\\n          }\\n        }\\n        tensor_content: &quot;\\\\n\\\\000\\\\000\\\\000\\\\n\\\\000\\\\000\\\\000&quot;\\n      }\\n    }\\n  }\\n}\\nnode {\\n  name: &quot;random/uniform_7/min&quot;\\n  op: &quot;Const&quot;\\n  attr {\\n    key: &quot;dtype&quot;\\n    value {\\n      type: DT_FLOAT\\n    }\\n  }\\n  attr {\\n    key: &quot;value&quot;\\n    value {\\n      tensor {\\n        dtype: DT_FLOAT\\n        tensor_shape {\\n        }\\n        float_val: 0.0\\n      }\\n    }\\n  }\\n}\\nnode {\\n  name: &quot;random/uniform_7/max&quot;\\n  op: &quot;Const&quot;\\n  attr {\\n    key: &quot;dtype&quot;\\n    value {\\n      type: DT_FLOAT\\n    }\\n  }\\n  attr {\\n    key: &quot;value&quot;\\n    value {\\n      tensor {\\n        dtype: DT_FLOAT\\n        tensor_shape {\\n        }\\n        float_val: 1.0\\n      }\\n    }\\n  }\\n}\\nnode {\\n  name: &quot;random/uniform_7/RandomUniform&quot;\\n  op: &quot;RandomUniform&quot;\\n  input: &quot;random/uniform_7/shape&quot;\\n  attr {\\n    key: &quot;T&quot;\\n    value {\\n      type: DT_INT32\\n    }\\n  }\\n  attr {\\n    key: &quot;dtype&quot;\\n    value {\\n      type: DT_FLOAT\\n    }\\n  }\\n  attr {\\n    key: &quot;seed&quot;\\n    value {\\n      i: 0\\n    }\\n  }\\n  attr {\\n    key: &quot;seed2&quot;\\n    value {\\n      i: 0\\n    }\\n  }\\n}\\nnode {\\n  name: &quot;random/uniform_7/sub&quot;\\n  op: &quot;Sub&quot;\\n  input: &quot;random/uniform_7/max&quot;\\n  input: &quot;random/uniform_7/min&quot;\\n  attr {\\n    key: &quot;T&quot;\\n    value {\\n      type: DT_FLOAT\\n    }\\n  }\\n}\\nnode {\\n  name: &quot;random/uniform_7/mul&quot;\\n  op: &quot;Mul&quot;\\n  input: &quot;random/uniform_7/RandomUniform&quot;\\n  input: &quot;random/uniform_7/sub&quot;\\n  attr {\\n    key: &quot;T&quot;\\n    value {\\n      type: DT_FLOAT\\n    }\\n  }\\n}\\nnode {\\n  name: &quot;random/uniform_7&quot;\\n  op: &quot;Add&quot;\\n  input: &quot;random/uniform_7/mul&quot;\\n  input: &quot;random/uniform_7/min&quot;\\n  attr {\\n    key: &quot;T&quot;\\n    value {\\n      type: DT_FLOAT\\n    }\\n  }\\n}\\nnode {\\n  name: &quot;W/1_2&quot;\\n  op: &quot;VariableV2&quot;\\n  attr {\\n    key: &quot;container&quot;\\n    value {\\n      s: &quot;&quot;\\n    }\\n  }\\n  attr {\\n    key: &quot;dtype&quot;\\n    value {\\n      type: DT_FLOAT\\n    }\\n  }\\n  attr {\\n    key: &quot;shape&quot;\\n    value {\\n      shape {\\n        dim {\\n          size: 10\\n        }\\n        dim {\\n          size: 10\\n        }\\n      }\\n    }\\n  }\\n  attr {\\n    key: &quot;shared_name&quot;\\n    value {\\n      s: &quot;&quot;\\n    }\\n  }\\n}\\nnode {\\n  name: &quot;W/1_2/Assign&quot;\\n  op: &quot;Assign&quot;\\n  input: &quot;W/1_2&quot;\\n  input: &quot;random/uniform_7&quot;\\n  attr {\\n    key: &quot;T&quot;\\n    value {\\n      type: DT_FLOAT\\n    }\\n  }\\n  attr {\\n    key: &quot;_class&quot;\\n    value {\\n      list {\\n        s: &quot;loc:@W_1_2&quot;\\n      }\\n    }\\n  }\\n  attr {\\n    key: &quot;use_locking&quot;\\n    value {\\n      b: true\\n    }\\n  }\\n  attr {\\n    key: &quot;validate_shape&quot;\\n    value {\\n      b: true\\n    }\\n  }\\n}\\nnode {\\n  name: &quot;W/1_2/read&quot;\\n  op: &quot;Identity&quot;\\n  input: &quot;W/1_2&quot;\\n  attr {\\n    key: &quot;T&quot;\\n    value {\\n      type: DT_FLOAT\\n    }\\n  }\\n  attr {\\n    key: &quot;_class&quot;\\n    value {\\n      list {\\n        s: &quot;loc:@W_1_2&quot;\\n      }\\n    }\\n  }\\n}\\nnode {\\n  name: &quot;MatMul/4&quot;\\n  op: &quot;MatMul&quot;\\n  input: &quot;g/1&quot;\\n  input: &quot;W/1_2/read&quot;\\n  attr {\\n    key: &quot;T&quot;\\n    value {\\n      type: DT_FLOAT\\n    }\\n  }\\n  attr {\\n    key: &quot;transpose_a&quot;\\n    value {\\n      b: false\\n    }\\n  }\\n  attr {\\n    key: &quot;transpose_b&quot;\\n    value {\\n      b: false\\n    }\\n  }\\n}\\nnode {\\n  name: &quot;Add/6&quot;\\n  op: &quot;Add&quot;\\n  input: &quot;MatMul/4&quot;\\n  input: &quot;bias/1_2/read&quot;\\n  attr {\\n    key: &quot;T&quot;\\n    value {\\n      type: DT_FLOAT\\n    }\\n  }\\n}\\nnode {\\n  name: &quot;h/1_2&quot;\\n  op: &quot;Elu&quot;\\n  input: &quot;Add/6&quot;\\n  attr {\\n    key: &quot;T&quot;\\n    value {\\n      type: DT_FLOAT\\n    }\\n  }\\n}\\nnode {\\n  name: &quot;Const/4&quot;\\n  op: &quot;Const&quot;\\n  attr {\\n    key: &quot;dtype&quot;\\n    value {\\n      type: DT_FLOAT\\n    }\\n  }\\n  attr {\\n    key: &quot;value&quot;\\n    value {\\n      tensor {\\n        dtype: DT_FLOAT\\n        tensor_shape {\\n        }\\n        float_val: 1.0\\n      }\\n    }\\n  }\\n}\\nnode {\\n  name: &quot;Add/7&quot;\\n  op: &quot;Add&quot;\\n  input: &quot;eps&quot;\\n  input: &quot;g/1&quot;\\n  attr {\\n    key: &quot;T&quot;\\n    value {\\n      type: DT_FLOAT\\n    }\\n  }\\n}\\nnode {\\n  name: &quot;truediv/2&quot;\\n  op: &quot;RealDiv&quot;\\n  input: &quot;Const/4&quot;\\n  input: &quot;Add/7&quot;\\n  attr {\\n    key: &quot;T&quot;\\n    value {\\n      type: DT_FLOAT\\n    }\\n  }\\n}\\nnode {\\n  name: &quot;Const/5&quot;\\n  op: &quot;Const&quot;\\n  attr {\\n    key: &quot;dtype&quot;\\n    value {\\n      type: DT_FLOAT\\n    }\\n  }\\n  attr {\\n    key: &quot;value&quot;\\n    value {\\n      tensor {\\n        dtype: DT_FLOAT\\n        tensor_shape {\\n          dim {\\n            size: 10\\n          }\\n        }\\n        float_val: 1.0\\n      }\\n    }\\n  }\\n}\\nnode {\\n  name: &quot;bias/2_2&quot;\\n  op: &quot;VariableV2&quot;\\n  attr {\\n    key: &quot;container&quot;\\n    value {\\n      s: &quot;&quot;\\n    }\\n  }\\n  attr {\\n    key: &quot;dtype&quot;\\n    value {\\n      type: DT_FLOAT\\n    }\\n  }\\n  attr {\\n    key: &quot;shape&quot;\\n    value {\\n      shape {\\n        dim {\\n          size: 10\\n        }\\n      }\\n    }\\n  }\\n  attr {\\n    key: &quot;shared_name&quot;\\n    value {\\n      s: &quot;&quot;\\n    }\\n  }\\n}\\nnode {\\n  name: &quot;bias/2_2/Assign&quot;\\n  op: &quot;Assign&quot;\\n  input: &quot;bias/2_2&quot;\\n  input: &quot;Const/5&quot;\\n  attr {\\n    key: &quot;T&quot;\\n    value {\\n      type: DT_FLOAT\\n    }\\n  }\\n  attr {\\n    key: &quot;_class&quot;\\n    value {\\n      list {\\n        s: &quot;loc:@bias_2_2&quot;\\n      }\\n    }\\n  }\\n  attr {\\n    key: &quot;use_locking&quot;\\n    value {\\n      b: true\\n    }\\n  }\\n  attr {\\n    key: &quot;validate_shape&quot;\\n    value {\\n      b: true\\n    }\\n  }\\n}\\nnode {\\n  name: &quot;bias/2_2/read&quot;\\n  op: &quot;Identity&quot;\\n  input: &quot;bias/2_2&quot;\\n  attr {\\n    key: &quot;T&quot;\\n    value {\\n      type: DT_FLOAT\\n    }\\n  }\\n  attr {\\n    key: &quot;_class&quot;\\n    value {\\n      list {\\n        s: &quot;loc:@bias_2_2&quot;\\n      }\\n    }\\n  }\\n}\\nnode {\\n  name: &quot;random/uniform_8/shape&quot;\\n  op: &quot;Const&quot;\\n  attr {\\n    key: &quot;dtype&quot;\\n    value {\\n      type: DT_INT32\\n    }\\n  }\\n  attr {\\n    key: &quot;value&quot;\\n    value {\\n      tensor {\\n        dtype: DT_INT32\\n        tensor_shape {\\n          dim {\\n            size: 2\\n          }\\n        }\\n        tensor_content: &quot;\\\\n\\\\000\\\\000\\\\000\\\\n\\\\000\\\\000\\\\000&quot;\\n      }\\n    }\\n  }\\n}\\nnode {\\n  name: &quot;random/uniform_8/min&quot;\\n  op: &quot;Const&quot;\\n  attr {\\n    key: &quot;dtype&quot;\\n    value {\\n      type: DT_FLOAT\\n    }\\n  }\\n  attr {\\n    key: &quot;value&quot;\\n    value {\\n      tensor {\\n        dtype: DT_FLOAT\\n        tensor_shape {\\n        }\\n        float_val: 0.0\\n      }\\n    }\\n  }\\n}\\nnode {\\n  name: &quot;random/uniform_8/max&quot;\\n  op: &quot;Const&quot;\\n  attr {\\n    key: &quot;dtype&quot;\\n    value {\\n      type: DT_FLOAT\\n    }\\n  }\\n  attr {\\n    key: &quot;value&quot;\\n    value {\\n      tensor {\\n        dtype: DT_FLOAT\\n        tensor_shape {\\n        }\\n        float_val: 1.0\\n      }\\n    }\\n  }\\n}\\nnode {\\n  name: &quot;random/uniform_8/RandomUniform&quot;\\n  op: &quot;RandomUniform&quot;\\n  input: &quot;random/uniform_8/shape&quot;\\n  attr {\\n    key: &quot;T&quot;\\n    value {\\n      type: DT_INT32\\n    }\\n  }\\n  attr {\\n    key: &quot;dtype&quot;\\n    value {\\n      type: DT_FLOAT\\n    }\\n  }\\n  attr {\\n    key: &quot;seed&quot;\\n    value {\\n      i: 0\\n    }\\n  }\\n  attr {\\n    key: &quot;seed2&quot;\\n    value {\\n      i: 0\\n    }\\n  }\\n}\\nnode {\\n  name: &quot;random/uniform_8/sub&quot;\\n  op: &quot;Sub&quot;\\n  input: &quot;random/uniform_8/max&quot;\\n  input: &quot;random/uniform_8/min&quot;\\n  attr {\\n    key: &quot;T&quot;\\n    value {\\n      type: DT_FLOAT\\n    }\\n  }\\n}\\nnode {\\n  name: &quot;random/uniform_8/mul&quot;\\n  op: &quot;Mul&quot;\\n  input: &quot;random/uniform_8/RandomUniform&quot;\\n  input: &quot;random/uniform_8/sub&quot;\\n  attr {\\n    key: &quot;T&quot;\\n    value {\\n      type: DT_FLOAT\\n    }\\n  }\\n}\\nnode {\\n  name: &quot;random/uniform_8&quot;\\n  op: &quot;Add&quot;\\n  input: &quot;random/uniform_8/mul&quot;\\n  input: &quot;random/uniform_8/min&quot;\\n  attr {\\n    key: &quot;T&quot;\\n    value {\\n      type: DT_FLOAT\\n    }\\n  }\\n}\\nnode {\\n  name: &quot;W/2_2&quot;\\n  op: &quot;VariableV2&quot;\\n  attr {\\n    key: &quot;container&quot;\\n    value {\\n      s: &quot;&quot;\\n    }\\n  }\\n  attr {\\n    key: &quot;dtype&quot;\\n    value {\\n      type: DT_FLOAT\\n    }\\n  }\\n  attr {\\n    key: &quot;shape&quot;\\n    value {\\n      shape {\\n        dim {\\n          size: 10\\n        }\\n        dim {\\n          size: 10\\n        }\\n      }\\n    }\\n  }\\n  attr {\\n    key: &quot;shared_name&quot;\\n    value {\\n      s: &quot;&quot;\\n    }\\n  }\\n}\\nnode {\\n  name: &quot;W/2_2/Assign&quot;\\n  op: &quot;Assign&quot;\\n  input: &quot;W/2_2&quot;\\n  input: &quot;random/uniform_8&quot;\\n  attr {\\n    key: &quot;T&quot;\\n    value {\\n      type: DT_FLOAT\\n    }\\n  }\\n  attr {\\n    key: &quot;_class&quot;\\n    value {\\n      list {\\n        s: &quot;loc:@W_2_2&quot;\\n      }\\n    }\\n  }\\n  attr {\\n    key: &quot;use_locking&quot;\\n    value {\\n      b: true\\n    }\\n  }\\n  attr {\\n    key: &quot;validate_shape&quot;\\n    value {\\n      b: true\\n    }\\n  }\\n}\\nnode {\\n  name: &quot;W/2_2/read&quot;\\n  op: &quot;Identity&quot;\\n  input: &quot;W/2_2&quot;\\n  attr {\\n    key: &quot;T&quot;\\n    value {\\n      type: DT_FLOAT\\n    }\\n  }\\n  attr {\\n    key: &quot;_class&quot;\\n    value {\\n      list {\\n        s: &quot;loc:@W_2_2&quot;\\n      }\\n    }\\n  }\\n}\\nnode {\\n  name: &quot;MatMul/5&quot;\\n  op: &quot;MatMul&quot;\\n  input: &quot;truediv/2&quot;\\n  input: &quot;W/2_2/read&quot;\\n  attr {\\n    key: &quot;T&quot;\\n    value {\\n      type: DT_FLOAT\\n    }\\n  }\\n  attr {\\n    key: &quot;transpose_a&quot;\\n    value {\\n      b: false\\n    }\\n  }\\n  attr {\\n    key: &quot;transpose_b&quot;\\n    value {\\n      b: false\\n    }\\n  }\\n}\\nnode {\\n  name: &quot;Add/8&quot;\\n  op: &quot;Add&quot;\\n  input: &quot;MatMul/5&quot;\\n  input: &quot;bias/2_2/read&quot;\\n  attr {\\n    key: &quot;T&quot;\\n    value {\\n      type: DT_FLOAT\\n    }\\n  }\\n}\\nnode {\\n  name: &quot;h/2_2&quot;\\n  op: &quot;Elu&quot;\\n  input: &quot;Add/8&quot;\\n  attr {\\n    key: &quot;T&quot;\\n    value {\\n      type: DT_FLOAT\\n    }\\n  }\\n}\\nnode {\\n  name: &quot;g/2&quot;\\n  op: &quot;Add&quot;\\n  input: &quot;h/1_2&quot;\\n  input: &quot;h/2_2&quot;\\n  attr {\\n    key: &quot;T&quot;\\n    value {\\n      type: DT_FLOAT\\n    }\\n  }\\n}\\n';\n",
       "          }\n",
       "        </script>\n",
       "        <link rel=&quot;import&quot; href=&quot;https://tensorboard.appspot.com/tf-graph-basic.build.html&quot; onload=load()>\n",
       "        <div style=&quot;height:600px&quot;>\n",
       "          <tf-graph-basic id=&quot;graph0.3516673178684694&quot;></tf-graph-basic>\n",
       "        </div>\n",
       "    \"></iframe>\n",
       "    "
      ],
      "text/plain": [
       "<IPython.core.display.HTML object>"
      ]
     },
     "metadata": {},
     "output_type": "display_data"
    }
   ],
   "source": [
    "from tf_bike.visu import show_graph\n",
    "\n",
    "graph = g_2.graph\n",
    "graph_def = g_2.graph.as_graph_def()\n",
    "\n",
    "layers = [op.name for op in graph.get_operations() if op.type=='Conv2D' and 'import/' in op.name]\n",
    "feature_nums = [int(graph.get_tensor_by_name(name+':0').get_shape()[-1]) for name in layers]\n",
    "\n",
    "print('Number of layers', len(layers))\n",
    "print('Total number of feature channels:', sum(feature_nums))\n",
    "\n",
    "show_graph(g_2.graph)"
   ]
  },
  {
   "cell_type": "code",
   "execution_count": null,
   "metadata": {
    "collapsed": true
   },
   "outputs": [],
   "source": []
  },
  {
   "cell_type": "code",
   "execution_count": 169,
   "metadata": {},
   "outputs": [],
   "source": [
    "training_params = {        \n",
    "    # Network\n",
    "    'network': nn,\n",
    "    \n",
    "    # Loss\n",
    "    'loss': tf_loss,\n",
    "    \n",
    "    # Optimizer\n",
    "    'optimizer': tf.train.GradientDescentOptimizer,\n",
    "    # 'optimizer': tf.train.AdadeltaOptimizer,\n",
    "    \n",
    "    # Metrics\n",
    "    'metrics': [\n",
    "        ('rmse', tf_rmse),\n",
    "    ],\n",
    "    \n",
    "    # Learning rate params\n",
    "    'lr': lambda x, **kwargs: tf.train.exponential_decay(global_step=x, **kwargs),\n",
    "    'lr_kwargs': {\n",
    "        'decay_steps': 100,\n",
    "        'decay_rate': 0.9,\n",
    "        'learning_rate': 0.01,\n",
    "        'staircase': True\n",
    "    },\n",
    "\n",
    "#     'lr': tf.train.piecewise_constant, \n",
    "#     'lr_kwargs': {\n",
    "#         'boundaries': [50, 100, 200, 500, 1000, ],\n",
    "#         'values': [1e-3, 1e-4, 5*1e-5, 0.000001, 0.0000001]\n",
    "#     },\n",
    "    \n",
    "    # Pretrained model\n",
    "    # 'pretrained_model': 'best_from_logs',\n",
    "\n",
    "    'training_epochs': 5000,\n",
    "    'batch_size': 1024,\n",
    "    \n",
    "    'seed': 2017,\n",
    "    \n",
    "}"
   ]
  },
  {
   "cell_type": "code",
   "execution_count": 170,
   "metadata": {},
   "outputs": [],
   "source": [
    "from datetime import datetime\n",
    "trainer = Trainer(log_dir='logs_{}'.format(datetime.now().strftime(\"%Y-%m-%d-%H-%M\")), display_step=50)"
   ]
  },
  {
   "cell_type": "code",
   "execution_count": 171,
   "metadata": {},
   "outputs": [
    {
     "name": "stdout",
     "output_type": "stream",
     "text": [
      "Start training\n",
      "Model contains 10 of trainable variables and 1301 of trainable parameters\n",
      "INFO:tensorflow:Restoring parameters from logs_2017-06-30-15-29\\Model\\net_1_2_seed=2017_loss=8.630745_val_loss=8.622858-24\n",
      "INFO:tensorflow:Starting standard services.\n",
      "INFO:tensorflow:Saving checkpoint to path logs_2017-06-30-15-29\\train\\Model/net_1_2.ckpt\n",
      "INFO:tensorflow:Starting queue runners.\n",
      "Epoch: 0050\n",
      "loss=7.384137094 | rmse=2128.703742981 \n",
      "val_loss=8.376173019 | val_rmse=4341.358886719 \n",
      "Epoch: 0100\n",
      "loss=7.666863024 | rmse=4130.558130264 \n",
      "val_loss=9.618800163 | val_rmse=15043.992187500 \n",
      "Epoch: 0150\n",
      "loss=6.425857604 | rmse=681.560504913 \n",
      "val_loss=7.979336739 | val_rmse=2918.993164062 \n",
      "Epoch: 0200\n",
      "loss=8.787738442 | rmse=6559.737060547 \n",
      "val_loss=8.690260887 | val_rmse=5943.730468750 \n",
      "Epoch: 0250\n",
      "loss=6.909212112 | rmse=1137.864639282 \n",
      "val_loss=5.635318279 | val_rmse=279.148010254 \n",
      "Epoch: 0300\n",
      "loss=6.074972361 | rmse=620.080210209 \n",
      "val_loss=6.035618782 | val_rmse=417.057464600 \n",
      "Epoch: 0350\n",
      "loss=5.991468251 | rmse=460.428531647 \n",
      "val_loss=5.456742287 | val_rmse=233.332824707 \n",
      "Epoch: 0400\n",
      "loss=6.325498760 | rmse=915.746374607 \n",
      "val_loss=7.112162113 | val_rmse=1225.797119141 \n",
      "Epoch: 0450\n",
      "loss=5.396372557 | rmse=257.867324829 \n",
      "val_loss=4.795895100 | val_rmse=120.012657166 \n",
      "Epoch: 0500\n",
      "loss=4.842387438 | rmse=145.557594299 \n",
      "val_loss=5.480835915 | val_rmse=239.047286987 \n",
      "Epoch: 0550\n",
      "loss=4.919703603 | rmse=157.655312538 \n",
      "val_loss=4.621290207 | val_rmse=100.625061035 \n",
      "Epoch: 0600\n",
      "loss=5.130147189 | rmse=277.661076903 \n",
      "val_loss=5.894851685 | val_rmse=362.162933350 \n",
      "Epoch: 0650\n",
      "loss=3.897781193 | rmse=61.330542147 \n",
      "val_loss=5.531120777 | val_rmse=251.426666260 \n",
      "Epoch: 0700\n",
      "loss=3.647528410 | rmse=47.381467760 \n",
      "val_loss=4.711141109 | val_rmse=110.178947449 \n",
      "Epoch: 0750\n",
      "loss=3.507401556 | rmse=41.084850311 \n",
      "val_loss=4.640182972 | val_rmse=102.563316345 \n",
      "Epoch: 0800\n",
      "loss=3.549082696 | rmse=39.189913511 \n",
      "val_loss=2.500728846 | val_rmse=11.191375732 \n",
      "Epoch: 0850\n",
      "loss=3.099684477 | rmse=25.083937585 \n",
      "val_loss=2.031382322 | val_rmse=6.624619484 \n",
      "Epoch: 0900\n",
      "loss=2.902354687 | rmse=19.385059118 \n",
      "val_loss=2.913514376 | val_rmse=17.421424866 \n",
      "Epoch: 0950\n",
      "loss=2.388591349 | rmse=10.915909767 \n",
      "val_loss=2.721409798 | val_rmse=14.201740265 \n",
      "Epoch: 1000\n",
      "loss=2.323204368 | rmse=9.513603926 \n",
      "val_loss=2.032988071 | val_rmse=6.636872292 \n",
      "Epoch: 1050\n",
      "loss=2.118765235 | rmse=7.364421725 \n",
      "val_loss=2.076507092 | val_rmse=6.976559162 \n",
      "Epoch: 1100\n",
      "loss=1.968499184 | rmse=6.162408173 \n",
      "val_loss=2.006440878 | val_rmse=6.436801910 \n",
      "Epoch: 1150\n",
      "loss=1.895893276 | rmse=5.658493578 \n",
      "val_loss=1.980915308 | val_rmse=6.249375343 \n",
      "Epoch: 1200\n",
      "loss=1.890636995 | rmse=5.623586476 \n",
      "val_loss=1.977830410 | val_rmse=6.227046013 \n",
      "Epoch: 1250\n",
      "loss=1.887762219 | rmse=5.604572535 \n",
      "val_loss=1.975368142 | val_rmse=6.209272861 \n",
      "Epoch: 1300\n",
      "loss=1.885909110 | rmse=5.592344880 \n",
      "val_loss=1.974095464 | val_rmse=6.200103760 \n",
      "Epoch: 1350\n",
      "loss=1.884714290 | rmse=5.584472835 \n",
      "val_loss=1.973107219 | val_rmse=6.192992210 \n",
      "Epoch: 1400\n",
      "loss=1.883940175 | rmse=5.579377770 \n",
      "val_loss=1.972723246 | val_rmse=6.190230370 \n",
      "Epoch: 1450\n",
      "loss=1.883451521 | rmse=5.576163530 \n",
      "val_loss=1.972413182 | val_rmse=6.188001633 \n",
      "Epoch: 1500\n",
      "loss=1.883129761 | rmse=5.574047804 \n",
      "val_loss=1.972188473 | val_rmse=6.186386108 \n",
      "Epoch: 1550\n",
      "loss=1.882919431 | rmse=5.572665334 \n",
      "val_loss=1.972041965 | val_rmse=6.185333729 \n",
      "Epoch: 1600\n",
      "loss=1.882792160 | rmse=5.571828842 \n",
      "val_loss=1.971948028 | val_rmse=6.184659004 \n",
      "Epoch: 1650\n",
      "loss=1.882709265 | rmse=5.571284115 \n",
      "val_loss=1.971888185 | val_rmse=6.184228897 \n",
      "Epoch: 1700\n",
      "loss=1.882653043 | rmse=5.570914745 \n",
      "val_loss=1.971845865 | val_rmse=6.183924675 \n",
      "Epoch: 1750\n",
      "loss=1.882619470 | rmse=5.570694029 \n",
      "val_loss=1.971822739 | val_rmse=6.183758736 \n",
      "Epoch: 1800\n",
      "loss=1.882604823 | rmse=5.570597887 \n",
      "val_loss=1.971812725 | val_rmse=6.183686733 \n",
      "Epoch: 1850\n",
      "loss=1.882596776 | rmse=5.570545137 \n",
      "val_loss=1.971807599 | val_rmse=6.183649540 \n",
      "Epoch: 1900\n",
      "loss=1.882594585 | rmse=5.570530772 \n",
      "val_loss=1.971803308 | val_rmse=6.183619499 \n",
      "Epoch: 1950\n",
      "loss=1.882594183 | rmse=5.570527792 \n",
      "val_loss=1.971801996 | val_rmse=6.183609486 \n",
      "Epoch: 2000\n",
      "loss=1.882593721 | rmse=5.570525110 \n",
      "val_loss=1.971800923 | val_rmse=6.183601856 \n",
      "Epoch: 2050\n",
      "loss=1.882593915 | rmse=5.570526302 \n",
      "val_loss=1.971800327 | val_rmse=6.183597565 \n",
      "Epoch: 2100\n",
      "loss=1.882593647 | rmse=5.570524395 \n",
      "val_loss=1.971799970 | val_rmse=6.183594704 \n",
      "Epoch: 2150\n",
      "loss=1.882593632 | rmse=5.570524216 \n",
      "val_loss=1.971799731 | val_rmse=6.183593750 \n",
      "Epoch: 2200\n",
      "loss=1.882593632 | rmse=5.570524216 \n",
      "val_loss=1.971799731 | val_rmse=6.183593750 \n",
      "Epoch: 2250\n",
      "loss=1.882593632 | rmse=5.570524216 \n",
      "val_loss=1.971799731 | val_rmse=6.183593750 \n",
      "Epoch: 2300\n",
      "loss=1.882593632 | rmse=5.570524216 \n",
      "val_loss=1.971799731 | val_rmse=6.183593750 \n",
      "Epoch: 2350\n",
      "loss=1.882593632 | rmse=5.570524216 \n",
      "val_loss=1.971799731 | val_rmse=6.183593750 \n",
      "Epoch: 2400\n",
      "loss=1.882593632 | rmse=5.570524216 \n",
      "val_loss=1.971799731 | val_rmse=6.183593750 \n",
      "Epoch: 2450\n",
      "loss=1.882593632 | rmse=5.570524216 \n",
      "val_loss=1.971799731 | val_rmse=6.183593750 \n",
      "Epoch: 2500\n",
      "loss=1.882593632 | rmse=5.570524216 \n",
      "val_loss=1.971799731 | val_rmse=6.183593750 \n",
      "Epoch: 2550\n",
      "loss=1.882593632 | rmse=5.570524216 \n",
      "val_loss=1.971799731 | val_rmse=6.183593750 \n",
      "Epoch: 2600\n",
      "loss=1.882593632 | rmse=5.570524216 \n",
      "val_loss=1.971799731 | val_rmse=6.183593750 \n",
      "Epoch: 2650\n",
      "loss=1.882593632 | rmse=5.570524216 \n",
      "val_loss=1.971799731 | val_rmse=6.183593750 \n",
      "Epoch: 2700\n",
      "loss=1.882593632 | rmse=5.570524216 \n",
      "val_loss=1.971799731 | val_rmse=6.183593750 \n",
      "Epoch: 2750\n",
      "loss=1.882593632 | rmse=5.570524216 \n",
      "val_loss=1.971799731 | val_rmse=6.183593750 \n",
      "Epoch: 2800\n",
      "loss=1.882593632 | rmse=5.570524216 \n",
      "val_loss=1.971799731 | val_rmse=6.183593750 \n",
      "Epoch: 2850\n",
      "loss=1.882593632 | rmse=5.570524216 \n",
      "val_loss=1.971799731 | val_rmse=6.183593750 \n",
      "Epoch: 2900\n",
      "loss=1.882593632 | rmse=5.570524216 \n",
      "val_loss=1.971799731 | val_rmse=6.183593750 \n",
      "Epoch: 2950\n",
      "loss=1.882593632 | rmse=5.570524216 \n",
      "val_loss=1.971799731 | val_rmse=6.183593750 \n"
     ]
    },
    {
     "ename": "KeyboardInterrupt",
     "evalue": "",
     "output_type": "error",
     "traceback": [
      "\u001b[1;31m---------------------------------------------------------------------------\u001b[0m",
      "\u001b[1;31mKeyboardInterrupt\u001b[0m                         Traceback (most recent call last)",
      "\u001b[1;32m<ipython-input-171-8e81d7b77b5a>\u001b[0m in \u001b[0;36m<module>\u001b[1;34m()\u001b[0m\n\u001b[0;32m      1\u001b[0m trainer.train(trainval_x, to_compact(trainval_y), \n\u001b[0;32m      2\u001b[0m               \u001b[0mtraining_params\u001b[0m\u001b[1;33m=\u001b[0m\u001b[0mtraining_params\u001b[0m\u001b[1;33m,\u001b[0m\u001b[1;33m\u001b[0m\u001b[0m\n\u001b[1;32m----> 3\u001b[1;33m               verbose=1)\n\u001b[0m",
      "\u001b[1;32mD:\\vfomin\\MyExamples\\python\\NN_tests\\tf_bike\\train.py\u001b[0m in \u001b[0;36mtrain\u001b[1;34m(self, trainval_x, trainval_y, training_params, verbose)\u001b[0m\n\u001b[0;32m    242\u001b[0m                                                               \u001b[0mmerged_summary_op\u001b[0m\u001b[1;33m,\u001b[0m\u001b[1;33m\u001b[0m\u001b[0m\n\u001b[0;32m    243\u001b[0m                                                               \u001b[0mval_x\u001b[0m\u001b[1;33m,\u001b[0m \u001b[0mval_y\u001b[0m\u001b[1;33m,\u001b[0m\u001b[1;33m\u001b[0m\u001b[0m\n\u001b[1;32m--> 244\u001b[1;33m                                                               val_writer, is_training_phase=False)\n\u001b[0m\u001b[0;32m    245\u001b[0m \u001b[1;33m\u001b[0m\u001b[0m\n\u001b[0;32m    246\u001b[0m                     \u001b[1;32mif\u001b[0m \u001b[0mbest_avg_val_loss\u001b[0m \u001b[1;32mis\u001b[0m \u001b[1;32mNone\u001b[0m \u001b[1;32mor\u001b[0m \u001b[0mbest_avg_val_loss\u001b[0m \u001b[1;33m>\u001b[0m \u001b[0mval_avg_loss\u001b[0m \u001b[1;33m+\u001b[0m \u001b[1;36m0.005\u001b[0m\u001b[1;33m:\u001b[0m\u001b[1;33m\u001b[0m\u001b[0m\n",
      "\u001b[1;32mD:\\vfomin\\MyExamples\\python\\NN_tests\\tf_bike\\train.py\u001b[0m in \u001b[0;36mrun_epoch\u001b[1;34m(ops, summary_op, _x, _y, _writer, is_training_phase)\u001b[0m\n\u001b[0;32m    183\u001b[0m                         \u001b[0m_writer\u001b[0m\u001b[1;33m.\u001b[0m\u001b[0madd_summary\u001b[0m\u001b[1;33m(\u001b[0m\u001b[0msummary\u001b[0m\u001b[1;33m,\u001b[0m \u001b[0mepoch\u001b[0m\u001b[1;33m)\u001b[0m\u001b[1;33m\u001b[0m\u001b[0m\n\u001b[0;32m    184\u001b[0m                     \u001b[1;32melse\u001b[0m\u001b[1;33m:\u001b[0m\u001b[1;33m\u001b[0m\u001b[0m\n\u001b[1;32m--> 185\u001b[1;33m                         \u001b[0mret\u001b[0m \u001b[1;33m=\u001b[0m \u001b[0msess\u001b[0m\u001b[1;33m.\u001b[0m\u001b[0mrun\u001b[0m\u001b[1;33m(\u001b[0m\u001b[0mops\u001b[0m\u001b[1;33m,\u001b[0m \u001b[0mfeed_dict\u001b[0m\u001b[1;33m=\u001b[0m\u001b[1;33m{\u001b[0m\u001b[0mX\u001b[0m\u001b[1;33m:\u001b[0m \u001b[0mbatch_x\u001b[0m\u001b[1;33m,\u001b[0m \u001b[0mY_true\u001b[0m\u001b[1;33m:\u001b[0m \u001b[0mbatch_y\u001b[0m\u001b[1;33m}\u001b[0m\u001b[1;33m)\u001b[0m\u001b[1;33m\u001b[0m\u001b[0m\n\u001b[0m\u001b[0;32m    186\u001b[0m                         \u001b[0mops_loss_index\u001b[0m \u001b[1;33m=\u001b[0m \u001b[1;36m1\u001b[0m \u001b[1;32mif\u001b[0m \u001b[0mret\u001b[0m\u001b[1;33m[\u001b[0m\u001b[1;36m0\u001b[0m\u001b[1;33m]\u001b[0m \u001b[1;32mis\u001b[0m \u001b[1;32mNone\u001b[0m \u001b[1;32melse\u001b[0m \u001b[1;36m0\u001b[0m\u001b[1;33m\u001b[0m\u001b[0m\n\u001b[0;32m    187\u001b[0m \u001b[1;33m\u001b[0m\u001b[0m\n",
      "\u001b[1;32md:\\vfomin\\myexamples\\venv3\\lib\\site-packages\\tensorflow\\python\\client\\session.py\u001b[0m in \u001b[0;36mrun\u001b[1;34m(self, fetches, feed_dict, options, run_metadata)\u001b[0m\n\u001b[0;32m    787\u001b[0m     \u001b[1;32mtry\u001b[0m\u001b[1;33m:\u001b[0m\u001b[1;33m\u001b[0m\u001b[0m\n\u001b[0;32m    788\u001b[0m       result = self._run(None, fetches, feed_dict, options_ptr,\n\u001b[1;32m--> 789\u001b[1;33m                          run_metadata_ptr)\n\u001b[0m\u001b[0;32m    790\u001b[0m       \u001b[1;32mif\u001b[0m \u001b[0mrun_metadata\u001b[0m\u001b[1;33m:\u001b[0m\u001b[1;33m\u001b[0m\u001b[0m\n\u001b[0;32m    791\u001b[0m         \u001b[0mproto_data\u001b[0m \u001b[1;33m=\u001b[0m \u001b[0mtf_session\u001b[0m\u001b[1;33m.\u001b[0m\u001b[0mTF_GetBuffer\u001b[0m\u001b[1;33m(\u001b[0m\u001b[0mrun_metadata_ptr\u001b[0m\u001b[1;33m)\u001b[0m\u001b[1;33m\u001b[0m\u001b[0m\n",
      "\u001b[1;32md:\\vfomin\\myexamples\\venv3\\lib\\site-packages\\tensorflow\\python\\client\\session.py\u001b[0m in \u001b[0;36m_run\u001b[1;34m(self, handle, fetches, feed_dict, options, run_metadata)\u001b[0m\n\u001b[0;32m    995\u001b[0m     \u001b[1;32mif\u001b[0m \u001b[0mfinal_fetches\u001b[0m \u001b[1;32mor\u001b[0m \u001b[0mfinal_targets\u001b[0m\u001b[1;33m:\u001b[0m\u001b[1;33m\u001b[0m\u001b[0m\n\u001b[0;32m    996\u001b[0m       results = self._do_run(handle, final_targets, final_fetches,\n\u001b[1;32m--> 997\u001b[1;33m                              feed_dict_string, options, run_metadata)\n\u001b[0m\u001b[0;32m    998\u001b[0m     \u001b[1;32melse\u001b[0m\u001b[1;33m:\u001b[0m\u001b[1;33m\u001b[0m\u001b[0m\n\u001b[0;32m    999\u001b[0m       \u001b[0mresults\u001b[0m \u001b[1;33m=\u001b[0m \u001b[1;33m[\u001b[0m\u001b[1;33m]\u001b[0m\u001b[1;33m\u001b[0m\u001b[0m\n",
      "\u001b[1;32md:\\vfomin\\myexamples\\venv3\\lib\\site-packages\\tensorflow\\python\\client\\session.py\u001b[0m in \u001b[0;36m_do_run\u001b[1;34m(self, handle, target_list, fetch_list, feed_dict, options, run_metadata)\u001b[0m\n\u001b[0;32m   1130\u001b[0m     \u001b[1;32mif\u001b[0m \u001b[0mhandle\u001b[0m \u001b[1;32mis\u001b[0m \u001b[1;32mNone\u001b[0m\u001b[1;33m:\u001b[0m\u001b[1;33m\u001b[0m\u001b[0m\n\u001b[0;32m   1131\u001b[0m       return self._do_call(_run_fn, self._session, feed_dict, fetch_list,\n\u001b[1;32m-> 1132\u001b[1;33m                            target_list, options, run_metadata)\n\u001b[0m\u001b[0;32m   1133\u001b[0m     \u001b[1;32melse\u001b[0m\u001b[1;33m:\u001b[0m\u001b[1;33m\u001b[0m\u001b[0m\n\u001b[0;32m   1134\u001b[0m       return self._do_call(_prun_fn, self._session, handle, feed_dict,\n",
      "\u001b[1;32md:\\vfomin\\myexamples\\venv3\\lib\\site-packages\\tensorflow\\python\\client\\session.py\u001b[0m in \u001b[0;36m_do_call\u001b[1;34m(self, fn, *args)\u001b[0m\n\u001b[0;32m   1137\u001b[0m   \u001b[1;32mdef\u001b[0m \u001b[0m_do_call\u001b[0m\u001b[1;33m(\u001b[0m\u001b[0mself\u001b[0m\u001b[1;33m,\u001b[0m \u001b[0mfn\u001b[0m\u001b[1;33m,\u001b[0m \u001b[1;33m*\u001b[0m\u001b[0margs\u001b[0m\u001b[1;33m)\u001b[0m\u001b[1;33m:\u001b[0m\u001b[1;33m\u001b[0m\u001b[0m\n\u001b[0;32m   1138\u001b[0m     \u001b[1;32mtry\u001b[0m\u001b[1;33m:\u001b[0m\u001b[1;33m\u001b[0m\u001b[0m\n\u001b[1;32m-> 1139\u001b[1;33m       \u001b[1;32mreturn\u001b[0m \u001b[0mfn\u001b[0m\u001b[1;33m(\u001b[0m\u001b[1;33m*\u001b[0m\u001b[0margs\u001b[0m\u001b[1;33m)\u001b[0m\u001b[1;33m\u001b[0m\u001b[0m\n\u001b[0m\u001b[0;32m   1140\u001b[0m     \u001b[1;32mexcept\u001b[0m \u001b[0merrors\u001b[0m\u001b[1;33m.\u001b[0m\u001b[0mOpError\u001b[0m \u001b[1;32mas\u001b[0m \u001b[0me\u001b[0m\u001b[1;33m:\u001b[0m\u001b[1;33m\u001b[0m\u001b[0m\n\u001b[0;32m   1141\u001b[0m       \u001b[0mmessage\u001b[0m \u001b[1;33m=\u001b[0m \u001b[0mcompat\u001b[0m\u001b[1;33m.\u001b[0m\u001b[0mas_text\u001b[0m\u001b[1;33m(\u001b[0m\u001b[0me\u001b[0m\u001b[1;33m.\u001b[0m\u001b[0mmessage\u001b[0m\u001b[1;33m)\u001b[0m\u001b[1;33m\u001b[0m\u001b[0m\n",
      "\u001b[1;32md:\\vfomin\\myexamples\\venv3\\lib\\site-packages\\tensorflow\\python\\client\\session.py\u001b[0m in \u001b[0;36m_run_fn\u001b[1;34m(session, feed_dict, fetch_list, target_list, options, run_metadata)\u001b[0m\n\u001b[0;32m   1119\u001b[0m         return tf_session.TF_Run(session, options,\n\u001b[0;32m   1120\u001b[0m                                  \u001b[0mfeed_dict\u001b[0m\u001b[1;33m,\u001b[0m \u001b[0mfetch_list\u001b[0m\u001b[1;33m,\u001b[0m \u001b[0mtarget_list\u001b[0m\u001b[1;33m,\u001b[0m\u001b[1;33m\u001b[0m\u001b[0m\n\u001b[1;32m-> 1121\u001b[1;33m                                  status, run_metadata)\n\u001b[0m\u001b[0;32m   1122\u001b[0m \u001b[1;33m\u001b[0m\u001b[0m\n\u001b[0;32m   1123\u001b[0m     \u001b[1;32mdef\u001b[0m \u001b[0m_prun_fn\u001b[0m\u001b[1;33m(\u001b[0m\u001b[0msession\u001b[0m\u001b[1;33m,\u001b[0m \u001b[0mhandle\u001b[0m\u001b[1;33m,\u001b[0m \u001b[0mfeed_dict\u001b[0m\u001b[1;33m,\u001b[0m \u001b[0mfetch_list\u001b[0m\u001b[1;33m)\u001b[0m\u001b[1;33m:\u001b[0m\u001b[1;33m\u001b[0m\u001b[0m\n",
      "\u001b[1;31mKeyboardInterrupt\u001b[0m: "
     ]
    }
   ],
   "source": [
    "trainer.train(trainval_x, to_compact(trainval_y), \n",
    "              training_params=training_params, \n",
    "              verbose=1)"
   ]
  },
  {
   "cell_type": "code",
   "execution_count": 172,
   "metadata": {
    "collapsed": true
   },
   "outputs": [],
   "source": [
    "training_params['pretrained_model'] = 'best_from_logs'"
   ]
  },
  {
   "cell_type": "code",
   "execution_count": 173,
   "metadata": {},
   "outputs": [
    {
     "name": "stdout",
     "output_type": "stream",
     "text": [
      "Start predictions\n",
      "INFO:tensorflow:Restoring parameters from logs_2017-06-30-15-29\\Model\\net_1_2_seed=2017_loss=1.888447_val_loss=1.975889-9912\n",
      "-- 0 / 10  | 0 - 1024\n",
      "-- 1 / 10  | 1024 - 2048\n",
      "-- 2 / 10  | 2048 - 3072\n",
      "-- 3 / 10  | 3072 - 4096\n",
      "-- 4 / 10  | 4096 - 5120\n",
      "-- 5 / 10  | 5120 - 6144\n",
      "-- 6 / 10  | 6144 - 7168\n",
      "-- 7 / 10  | 7168 - 8192\n",
      "-- 8 / 10  | 8192 - 9216\n",
      "-- 9 / 10  | 9216 - 10000\n"
     ]
    }
   ],
   "source": [
    "y_preds = trainer.predict(test_x, training_params=training_params, verbose=1)"
   ]
  },
  {
   "cell_type": "code",
   "execution_count": 174,
   "metadata": {
    "collapsed": true
   },
   "outputs": [],
   "source": [
    "lss = np_loss_array(test_y[:100], from_compact(y_preds[:100]))"
   ]
  },
  {
   "cell_type": "code",
   "execution_count": 175,
   "metadata": {
    "scrolled": true
   },
   "outputs": [
    {
     "data": {
      "text/plain": [
       "[<matplotlib.lines.Line2D at 0x17e39278>]"
      ]
     },
     "execution_count": 175,
     "metadata": {},
     "output_type": "execute_result"
    },
    {
     "data": {
      "image/png": "[encoded data removed]",
      "text/plain": [
       "<matplotlib.figure.Figure at 0x135535c0>"
      ]
     },
     "metadata": {},
     "output_type": "display_data"
    }
   ],
   "source": [
    "plt.plot(lss)"
   ]
  },
  {
   "cell_type": "code",
   "execution_count": 177,
   "metadata": {},
   "outputs": [
    {
     "data": {
      "text/plain": [
       "(array([[-111.67684002],\n",
       "        [-354.29395427],\n",
       "        [ -94.22359165],\n",
       "        [-167.27725779],\n",
       "        [-108.71277619],\n",
       "        [-297.25644676],\n",
       "        [-174.72413059],\n",
       "        [ -67.40194646],\n",
       "        [-135.8173416 ],\n",
       "        [-156.45284048]]), array([[  2.234972  ],\n",
       "        [ -0.3746472 ],\n",
       "        [  1.16174889],\n",
       "        [  5.14262581],\n",
       "        [  8.18823051],\n",
       "        [  6.82828903],\n",
       "        [ -1.46647072],\n",
       "        [  5.13165092],\n",
       "        [-20.97135735],\n",
       "        [ -7.27970314]]))"
      ]
     },
     "execution_count": 177,
     "metadata": {},
     "output_type": "execute_result"
    }
   ],
   "source": [
    "test_y[:10], y_preds[:10]"
   ]
  },
  {
   "cell_type": "code",
   "execution_count": null,
   "metadata": {
    "collapsed": true
   },
   "outputs": [],
   "source": []
  }
 ],
 "metadata": {
  "kernelspec": {
   "display_name": "Python 3",
   "language": "python",
   "name": "python3"
  },
  "language_info": {
   "codemirror_mode": {
    "name": "ipython",
    "version": 3
   },
   "file_extension": ".py",
   "mimetype": "text/x-python",
   "name": "python",
   "nbconvert_exporter": "python",
   "pygments_lexer": "ipython3",
   "version": "3.6.1"
  }
 },
 "nbformat": 4,
 "nbformat_minor": 1
}
