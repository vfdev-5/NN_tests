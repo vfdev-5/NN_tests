{
 "cells": [
  {
   "cell_type": "markdown",
   "metadata": {},
   "source": [
    "# Formula learning\n",
    "\n",
    "A toy example to learn a formula to predict a synthetic data\n",
    "\n",
    "\n",
    "Let's say we have a regression problem to predict a target value in $\\cal{R}$. \n",
    "Input data has $M$ features and a target is computed as \n",
    "$$\n",
    "y_{i} = f(\\mathbf x)\n",
    "$$\n",
    "we will try various functions $f$ to observe ability to learn it using a DNN."
   ]
  },
  {
   "cell_type": "markdown",
   "metadata": {},
   "source": [
    "## A warm-up\n",
    "\n",
    "Let us predict a simple function : $f(\\mathbf x) = 1 + \\sum_{i} x_i$"
   ]
  },
  {
   "cell_type": "code",
   "execution_count": 1,
   "metadata": {
    "collapsed": true
   },
   "outputs": [],
   "source": [
    "import os\n",
    "\n",
    "import numpy as np\n",
    "import matplotlib.pylab as plt\n",
    "%matplotlib inline\n",
    "\n",
    "\n",
    "n_samples = 10000\n",
    "n_features = 10\n",
    "x_max = 100.0\n",
    "x_min = -100.0\n",
    "trainval_x = (x_max - x_min) * np.random.rand(n_samples, n_features) + x_min"
   ]
  },
  {
   "cell_type": "code",
   "execution_count": 2,
   "metadata": {
    "collapsed": true
   },
   "outputs": [],
   "source": [
    "def f(x):\n",
    "    return np.sum(x) + 1.0"
   ]
  },
  {
   "cell_type": "code",
   "execution_count": 3,
   "metadata": {
    "collapsed": true
   },
   "outputs": [],
   "source": [
    "trainval_y = np.zeros((n_samples, 1))\n",
    "for i, x in enumerate(trainval_x):\n",
    "    trainval_y[i, 0] = f(x)"
   ]
  },
  {
   "cell_type": "code",
   "execution_count": 4,
   "metadata": {
    "collapsed": true
   },
   "outputs": [],
   "source": [
    "import pandas as pd\n",
    "import seaborn as sns\n",
    "\n",
    "cols_x = ['x_%i' % i for i in range(n_features)]\n",
    "df = pd.DataFrame(data=trainval_x, columns=cols_x)\n",
    "df['y'] = trainval_y"
   ]
  },
  {
   "cell_type": "code",
   "execution_count": 5,
   "metadata": {},
   "outputs": [
    {
     "data": {
      "text/html": [
       "<div>\n",
       "<style>\n",
       "    .dataframe thead tr:only-child th {\n",
       "        text-align: right;\n",
       "    }\n",
       "\n",
       "    .dataframe thead th {\n",
       "        text-align: left;\n",
       "    }\n",
       "\n",
       "    .dataframe tbody tr th {\n",
       "        vertical-align: top;\n",
       "    }\n",
       "</style>\n",
       "<table border=\"1\" class=\"dataframe\">\n",
       "  <thead>\n",
       "    <tr style=\"text-align: right;\">\n",
       "      <th></th>\n",
       "      <th>x_0</th>\n",
       "      <th>x_1</th>\n",
       "      <th>x_2</th>\n",
       "      <th>x_3</th>\n",
       "      <th>x_4</th>\n",
       "      <th>x_5</th>\n",
       "      <th>x_6</th>\n",
       "      <th>x_7</th>\n",
       "      <th>x_8</th>\n",
       "      <th>x_9</th>\n",
       "      <th>y</th>\n",
       "    </tr>\n",
       "  </thead>\n",
       "  <tbody>\n",
       "    <tr>\n",
       "      <th>0</th>\n",
       "      <td>-58.163334</td>\n",
       "      <td>2.876890</td>\n",
       "      <td>-89.843547</td>\n",
       "      <td>13.597636</td>\n",
       "      <td>-26.572044</td>\n",
       "      <td>-52.152477</td>\n",
       "      <td>32.912810</td>\n",
       "      <td>-98.227805</td>\n",
       "      <td>-84.341799</td>\n",
       "      <td>-83.654835</td>\n",
       "      <td>-442.568507</td>\n",
       "    </tr>\n",
       "    <tr>\n",
       "      <th>1</th>\n",
       "      <td>-14.444697</td>\n",
       "      <td>16.258739</td>\n",
       "      <td>-55.944373</td>\n",
       "      <td>-30.150949</td>\n",
       "      <td>58.148185</td>\n",
       "      <td>1.005720</td>\n",
       "      <td>-38.929898</td>\n",
       "      <td>-42.154122</td>\n",
       "      <td>59.409346</td>\n",
       "      <td>94.864833</td>\n",
       "      <td>49.062784</td>\n",
       "    </tr>\n",
       "    <tr>\n",
       "      <th>2</th>\n",
       "      <td>-22.632742</td>\n",
       "      <td>-57.130203</td>\n",
       "      <td>-71.475608</td>\n",
       "      <td>-83.588566</td>\n",
       "      <td>-27.231327</td>\n",
       "      <td>64.170899</td>\n",
       "      <td>3.824039</td>\n",
       "      <td>58.297450</td>\n",
       "      <td>13.786903</td>\n",
       "      <td>-96.159502</td>\n",
       "      <td>-217.138657</td>\n",
       "    </tr>\n",
       "    <tr>\n",
       "      <th>3</th>\n",
       "      <td>73.279976</td>\n",
       "      <td>-18.655504</td>\n",
       "      <td>-99.174172</td>\n",
       "      <td>99.073132</td>\n",
       "      <td>-78.238612</td>\n",
       "      <td>-38.438064</td>\n",
       "      <td>14.263687</td>\n",
       "      <td>-4.132039</td>\n",
       "      <td>3.927273</td>\n",
       "      <td>17.312803</td>\n",
       "      <td>-29.781519</td>\n",
       "    </tr>\n",
       "    <tr>\n",
       "      <th>4</th>\n",
       "      <td>-94.038643</td>\n",
       "      <td>-66.885168</td>\n",
       "      <td>84.498374</td>\n",
       "      <td>8.657750</td>\n",
       "      <td>-62.904910</td>\n",
       "      <td>-30.106228</td>\n",
       "      <td>-2.755148</td>\n",
       "      <td>-32.958401</td>\n",
       "      <td>97.845367</td>\n",
       "      <td>71.467683</td>\n",
       "      <td>-26.179324</td>\n",
       "    </tr>\n",
       "  </tbody>\n",
       "</table>\n",
       "</div>"
      ],
      "text/plain": [
       "         x_0        x_1        x_2        x_3        x_4        x_5  \\\n",
       "0 -58.163334   2.876890 -89.843547  13.597636 -26.572044 -52.152477   \n",
       "1 -14.444697  16.258739 -55.944373 -30.150949  58.148185   1.005720   \n",
       "2 -22.632742 -57.130203 -71.475608 -83.588566 -27.231327  64.170899   \n",
       "3  73.279976 -18.655504 -99.174172  99.073132 -78.238612 -38.438064   \n",
       "4 -94.038643 -66.885168  84.498374   8.657750 -62.904910 -30.106228   \n",
       "\n",
       "         x_6        x_7        x_8        x_9           y  \n",
       "0  32.912810 -98.227805 -84.341799 -83.654835 -442.568507  \n",
       "1 -38.929898 -42.154122  59.409346  94.864833   49.062784  \n",
       "2   3.824039  58.297450  13.786903 -96.159502 -217.138657  \n",
       "3  14.263687  -4.132039   3.927273  17.312803  -29.781519  \n",
       "4  -2.755148 -32.958401  97.845367  71.467683  -26.179324  "
      ]
     },
     "execution_count": 5,
     "metadata": {},
     "output_type": "execute_result"
    }
   ],
   "source": [
    "df.head()"
   ]
  },
  {
   "cell_type": "code",
   "execution_count": 6,
   "metadata": {},
   "outputs": [
    {
     "data": {
      "text/plain": [
       "(-442.56850674722648, 49.062784316773119)"
      ]
     },
     "execution_count": 6,
     "metadata": {},
     "output_type": "execute_result"
    }
   ],
   "source": [
    "df.loc[0, ['x_%i' % i for i in range(10)]].sum() + 1.0, df.loc[1, ['x_%i' % i for i in range(10)]].sum() + 1.0 "
   ]
  },
  {
   "cell_type": "code",
   "execution_count": 7,
   "metadata": {},
   "outputs": [
    {
     "data": {
      "image/png": "[encoded data removed]",
      "text/plain": [
       "<matplotlib.figure.Figure at 0x90da550>"
      ]
     },
     "metadata": {},
     "output_type": "display_data"
    },
    {
     "data": {
      "image/png": "[encoded data removed]",
      "text/plain": [
       "<matplotlib.figure.Figure at 0x9a81898>"
      ]
     },
     "metadata": {},
     "output_type": "display_data"
    }
   ],
   "source": [
    "plt.figure(figsize=(12, 4))\n",
    "\n",
    "plt.subplot(121)\n",
    "df['y'].hist(bins=100)\n",
    "plt.title('Y')\n",
    "plt.subplot(122)\n",
    "df['y'].apply(np.log).hist(bins=100)\n",
    "plt.title('Y')\n",
    "\n",
    "plt.figure(figsize=(12, 6))\n",
    "for i in range(n_features):\n",
    "    plt.subplot(2, n_features/2, i+1)\n",
    "    df['x_%i' % i].hist(bins=100)\n",
    "    plt.title('x_%i' % i)"
   ]
  },
  {
   "cell_type": "markdown",
   "metadata": {},
   "source": [
    "### Define a NN\n",
    "\n",
    "\n",
    "Let's define a model as  \n",
    "$$\n",
    "f_{nn}(\\mathbf x) = b_i + \\langle W_i, \\mathbf x \\rangle,\n",
    "$$"
   ]
  },
  {
   "cell_type": "code",
   "execution_count": 8,
   "metadata": {
    "collapsed": true
   },
   "outputs": [],
   "source": [
    "import tensorflow as tf"
   ]
  },
  {
   "cell_type": "code",
   "execution_count": 18,
   "metadata": {
    "collapsed": true
   },
   "outputs": [],
   "source": [
    "def nn(x):    \n",
    "    b = tf.Variable(tf.random_uniform((1,)), name='b')\n",
    "    W = tf.Variable(tf.random_uniform((x.get_shape().as_list()[1], 1)), name='W') \n",
    "    return tf.add(b, tf.matmul(x, W))"
   ]
  },
  {
   "cell_type": "code",
   "execution_count": 19,
   "metadata": {
    "collapsed": true
   },
   "outputs": [],
   "source": [
    "def np_loss(y_true, y_pred):\n",
    "    return np.mean(np.mean(np.power(y_true - y_pred, 2.0), axis=-1))\n",
    "\n",
    "def tf_loss(Y_true, Y_pred):\n",
    "    return tf.reduce_mean(tf.reduce_mean(tf.square(Y_true - Y_pred), axis=-1))\n",
    "\n",
    "def tf_rmse(Y_true, Y_pred):\n",
    "    return tf.reduce_mean(tf.sqrt(tf.reduce_mean(tf.square(Y_true - Y_pred), axis=-1)))"
   ]
  },
  {
   "cell_type": "code",
   "execution_count": 20,
   "metadata": {},
   "outputs": [
    {
     "name": "stdout",
     "output_type": "stream",
     "text": [
      "Loss numpy : 2.36026936027\n",
      "Loss tf : 2.36027\n",
      "RMSE : 1.25758\n"
     ]
    }
   ],
   "source": [
    "y_true = np.ones((100, 1))\n",
    "y_pred = np.linspace(-2, 2, num=100).reshape((100, 1))\n",
    "\n",
    "lss = np_loss(y_true, y_pred)\n",
    "\n",
    "with tf.Session() as sess:    \n",
    "    Y_true = tf.placeholder(tf.float32, shape=(None, 1))\n",
    "    Y_pred = tf.placeholder(tf.float32, shape=(None, 1))\n",
    "    lss2, rmse = sess.run([tf_loss(Y_true, Y_pred), tf_rmse(Y_true, Y_pred)], feed_dict={Y_true: y_true, Y_pred: y_pred})\n",
    "\n",
    "print(\"Loss numpy :\", lss)\n",
    "print(\"Loss tf :\", lss2)\n",
    "print(\"RMSE :\", rmse)\n",
    "    "
   ]
  },
  {
   "cell_type": "code",
   "execution_count": 21,
   "metadata": {
    "collapsed": true
   },
   "outputs": [],
   "source": [
    "tf.reset_default_graph()\n",
    "X = tf.placeholder(tf.float32, shape=(None, n_features))\n",
    "Y_true = tf.placeholder(tf.float32, shape=(None, 1))"
   ]
  },
  {
   "cell_type": "code",
   "execution_count": 22,
   "metadata": {
    "collapsed": true
   },
   "outputs": [],
   "source": [
    "train_params = {    \n",
    "    'lr_kwargs': {\n",
    "        'boundaries': [150, 250, 350],\n",
    "        'values': [0.0001, 0.00005, 0.000001]\n",
    "    },\n",
    "    'lr_f': tf.train.piecewise_constant,        \n",
    "    'training_epochs': 600,\n",
    "    'batch_size': 512,\n",
    "    \n",
    "    # Tensorboard\n",
    "    'logs_path': 'logs'\n",
    "}"
   ]
  },
  {
   "cell_type": "code",
   "execution_count": 23,
   "metadata": {
    "collapsed": true
   },
   "outputs": [],
   "source": [
    "# Construct model and encapsulating all ops into scopes, making\n",
    "# Tensorboard's Graph visualization more convenient\n",
    "with tf.name_scope('Model'):\n",
    "    # Model    \n",
    "    Y_pred = nn(X)\n",
    "    \n",
    "with tf.name_scope('Loss'):\n",
    "    # Minimize error using MAE\n",
    "    loss = tf_loss(Y_true, Y_pred)\n",
    "    \n",
    "with tf.name_scope('Optimizer'):\n",
    "    # Gradient Descent\n",
    "    global_step = tf.Variable(0, trainable=False)    \n",
    "    lr_f = train_params['lr_f'](global_step, **train_params['lr_kwargs'])    \n",
    "    optimizer = tf.train.GradientDescentOptimizer(lr_f).minimize(loss)\n",
    "    \n",
    "with tf.name_scope('RMSE'):    \n",
    "    rmse = tf_rmse(Y_true, Y_pred)\n",
    "\n",
    "# Create a summary to monitor loss tensor\n",
    "tf.summary.scalar(\"loss\", loss)\n",
    "# Create a summary to monitor RMSE tensor\n",
    "tf.summary.scalar(\"RMSE\", rmse)\n",
    "# Merge all summaries into a single op\n",
    "merged_summary_op = tf.summary.merge_all()"
   ]
  },
  {
   "cell_type": "code",
   "execution_count": 35,
   "metadata": {},
   "outputs": [
    {
     "name": "stdout",
     "output_type": "stream",
     "text": [
      "Start training\n",
      "Epoch: 0100\n",
      "loss=0.000100420, rmse=0.009985913\n",
      "val_loss=0.000100997, val_rmse=0.009984126\n",
      "Epoch: 0200\n",
      "loss=0.000057353, rmse=0.007546598\n",
      "val_loss=0.000057724, val_rmse=0.007547798\n",
      "Epoch: 0300\n",
      "loss=0.000032776, rmse=0.005704956\n",
      "val_loss=0.000032970, val_rmse=0.005704305\n",
      "Epoch: 0400\n",
      "loss=0.000018696, rmse=0.004308668\n",
      "val_loss=0.000018806, val_rmse=0.004308622\n",
      "Epoch: 0500\n",
      "loss=0.000010709, rmse=0.003260815\n",
      "val_loss=0.000010770, val_rmse=0.003260247\n",
      "Epoch: 0600\n",
      "loss=0.000006118, rmse=0.002464837\n",
      "val_loss=0.000006150, val_rmse=0.002463641\n",
      "Optimization Finished!\n"
     ]
    }
   ],
   "source": [
    "from sklearn.model_selection import train_test_split\n",
    "\n",
    "verbose = 1\n",
    "display_step = 100\n",
    "\n",
    "# Launch the graph\n",
    "print(\"Start training\")\n",
    "with tf.Session() as sess:\n",
    "    \n",
    "    sess.run(tf.global_variables_initializer())    \n",
    "    # op to write logs to Tensorboard\n",
    "    summary_writer = tf.summary.FileWriter(train_params['logs_path'], graph=sess.graph)\n",
    "\n",
    "    \n",
    "    batch_size = train_params['batch_size']        \n",
    "    train_x, val_x, train_y, val_y = train_test_split(trainval_x, trainval_y, train_size=0.75)\n",
    "    \n",
    "    n_train_batchs = int(train_x.shape[0]/batch_size)\n",
    "    n_val_batchs = int(val_x.shape[0]/batch_size)    \n",
    "    \n",
    "    # Training cycle\n",
    "    for epoch in range(train_params['training_epochs']):\n",
    "               \n",
    "        if verbose > 0 and (epoch+1) % display_step == 0:\n",
    "            print(\"Epoch: %04d\" % (epoch+1))\n",
    "        \n",
    "        avg_loss = 0.0\n",
    "        avg_rmse = 0.0\n",
    "        # Train over all batches            \n",
    "        for i in range(n_train_batchs):\n",
    "\n",
    "            if verbose > 1:\n",
    "                print(\"-- %i / %i\" % (i, n_train_batchs))\n",
    "\n",
    "            \n",
    "            i_start = batch_size*i\n",
    "            i_end = batch_size*(i+1)\n",
    "            batch_xs, batch_ys = train_x[i_start:i_end,:], train_y[i_start:i_end, :] \n",
    "            # Run optimization op (backprop), loss op (to get loss value)\n",
    "            # and summary nodes\n",
    "            _, l, r, y_pred, summary = sess.run([optimizer, loss, rmse, Y_pred, merged_summary_op],\n",
    "                                                feed_dict={X: batch_xs, Y_true: batch_ys})\n",
    "            \n",
    "            if verbose > 2:\n",
    "                print(\"Numpy Loss: %f\" % np_loss(batch_ys, y_pred))\n",
    "                print(\"TF Loss: %f\" % l)\n",
    "                print(\"TF RMSE: %f\" % r)\n",
    "                \n",
    "            # Write logs at every iteration\n",
    "            summary_writer.add_summary(summary, epoch * n_train_batchs + i)\n",
    "            \n",
    "            # Compute average loss\n",
    "            avg_loss += l * 1.0 / n_train_batchs\n",
    "            avg_rmse += r * 1.0 / n_train_batchs            \n",
    "            \n",
    "        # Display logs per epoch step\n",
    "        if verbose > 0 and (epoch+1) % display_step == 0:\n",
    "            print(\"loss=%.9f, rmse=%.9f\" % (avg_loss, avg_rmse))\n",
    "        \n",
    "        # Validation\n",
    "        avg_loss = 0.0\n",
    "        avg_rmse = 0.0        \n",
    "        for i in range(n_val_batchs):\n",
    "            i_start = batch_size*i\n",
    "            i_end = batch_size*(i+1)\n",
    "            batch_xs, batch_ys = val_x[i_start:i_end,:], val_y[i_start:i_end, :] \n",
    "            # Run optimization op (backprop), loss op (to get loss value)\n",
    "            # and summary nodes\n",
    "            run_options = None\n",
    "            run_metadata = None\n",
    "            if i % 100 == 99:\n",
    "                run_options = tf.RunOptions(trace_level=tf.RunOptions.FULL_TRACE)\n",
    "                run_metadata = tf.RunMetadata()\n",
    "            \n",
    "            l, r, summary = sess.run([loss, rmse, merged_summary_op], \n",
    "                                     feed_dict={X: batch_xs, Y_true: batch_ys}, \n",
    "                                     run_metadata=run_metadata, options=run_options)\n",
    "            # Compute average loss\n",
    "            avg_loss += l / n_val_batchs\n",
    "            avg_rmse += r / n_val_batchs            \n",
    "            \n",
    "        # Display logs per epoch step\n",
    "        if verbose > 0 and (epoch+1) % display_step == 0:\n",
    "            print(\"val_loss=%.9f, val_rmse=%.9f\" % (avg_loss, avg_rmse))\n",
    "\n",
    "    print(\"Optimization Finished!\")\n",
    "    \n",
    "    B = sess.graph.get_tensor_by_name('Model/b:0')\n",
    "    Weights = sess.graph.get_tensor_by_name('Model/W:0')\n",
    "    b, weights = sess.run([B, Weights])"
   ]
  },
  {
   "cell_type": "code",
   "execution_count": 36,
   "metadata": {},
   "outputs": [
    {
     "data": {
      "text/plain": [
       "array([ 0.99753976], dtype=float32)"
      ]
     },
     "execution_count": 36,
     "metadata": {},
     "output_type": "execute_result"
    }
   ],
   "source": [
    "b"
   ]
  },
  {
   "cell_type": "code",
   "execution_count": 37,
   "metadata": {},
   "outputs": [
    {
     "data": {
      "text/plain": [
       "array([[ 1.00000381],\n",
       "       [ 1.00000167],\n",
       "       [ 1.00000012],\n",
       "       [ 0.99999899],\n",
       "       [ 0.99999905],\n",
       "       [ 1.00000155],\n",
       "       [ 0.99999893],\n",
       "       [ 1.00000107],\n",
       "       [ 0.99999928],\n",
       "       [ 1.00000012]], dtype=float32)"
      ]
     },
     "execution_count": 37,
     "metadata": {},
     "output_type": "execute_result"
    }
   ],
   "source": [
    "weights"
   ]
  },
  {
   "cell_type": "markdown",
   "metadata": {},
   "source": [
    "## A ratio-like and squared formula\n",
    "\n",
    "Let $M=10$ and the function to learn is defined as \n",
    "$$\n",
    "f(\\mathbf x) = \\frac{\\sum_i a_i x_i + b} {\\sum_i c_i x_i + d} + \\alpha \\sum_{i,j \\neq i} x_i x_j + \\beta\n",
    "$$\n",
    "where coefficients $a_i$, $b$, $c_i$, $d$, $\\alpha$, $\\beta$ are randomly chosen.\n",
    "\n",
    "Setup input data :"
   ]
  },
  {
   "cell_type": "code",
   "execution_count": 38,
   "metadata": {
    "collapsed": true
   },
   "outputs": [],
   "source": [
    "import os\n",
    "import numpy as np\n",
    "import matplotlib.pylab as plt\n",
    "%matplotlib inline\n",
    "\n",
    "n_samples = 10000\n",
    "n_features = 10\n",
    "a = np.random.rand(n_features)\n",
    "b = 1.0\n",
    "c = np.random.rand(n_features)\n",
    "d = np.random.rand() * 100.0\n",
    "alpha = np.random.rand() * 1.0 / 50.0\n",
    "beta = np.random.rand() * 50.0\n",
    "\n",
    "x_max = 100.0\n",
    "x_min = -50.0\n",
    "trainval_x = (x_max - x_min) * np.random.rand(n_samples, n_features) + x_min"
   ]
  },
  {
   "cell_type": "code",
   "execution_count": 39,
   "metadata": {
    "collapsed": true
   },
   "outputs": [],
   "source": [
    "def f(sample_x):\n",
    "    numerator = np.dot(a, sample_x) + b\n",
    "    denominator = np.dot(c, sample_x) + d\n",
    "    t1 = numerator / denominator\n",
    "    \n",
    "    t2 = 0\n",
    "    for v in sample_x:\n",
    "        t2 += v * (np.sum(sample_x) - v)    \n",
    "    t2 *= alpha\n",
    "    return t1 + t2 + beta"
   ]
  },
  {
   "cell_type": "code",
   "execution_count": 40,
   "metadata": {
    "collapsed": true
   },
   "outputs": [],
   "source": [
    "trainval_y = np.zeros((n_samples, 1))\n",
    "for i, x in enumerate(trainval_x):\n",
    "    trainval_y[i] = f(x)"
   ]
  },
  {
   "cell_type": "code",
   "execution_count": 41,
   "metadata": {
    "collapsed": true
   },
   "outputs": [],
   "source": [
    "import pandas as pd\n",
    "import seaborn as sns\n",
    "\n",
    "cols_x = ['x_%i' % i for i in range(n_features)]\n",
    "df = pd.DataFrame(data=trainval_x, columns=cols_x)\n",
    "df['y'] = trainval_y"
   ]
  },
  {
   "cell_type": "code",
   "execution_count": 42,
   "metadata": {},
   "outputs": [
    {
     "data": {
      "text/html": [
       "<div>\n",
       "<style>\n",
       "    .dataframe thead tr:only-child th {\n",
       "        text-align: right;\n",
       "    }\n",
       "\n",
       "    .dataframe thead th {\n",
       "        text-align: left;\n",
       "    }\n",
       "\n",
       "    .dataframe tbody tr th {\n",
       "        vertical-align: top;\n",
       "    }\n",
       "</style>\n",
       "<table border=\"1\" class=\"dataframe\">\n",
       "  <thead>\n",
       "    <tr style=\"text-align: right;\">\n",
       "      <th></th>\n",
       "      <th>x_0</th>\n",
       "      <th>x_1</th>\n",
       "      <th>x_2</th>\n",
       "      <th>x_3</th>\n",
       "      <th>x_4</th>\n",
       "      <th>x_5</th>\n",
       "      <th>x_6</th>\n",
       "      <th>x_7</th>\n",
       "      <th>x_8</th>\n",
       "      <th>x_9</th>\n",
       "      <th>y</th>\n",
       "    </tr>\n",
       "  </thead>\n",
       "  <tbody>\n",
       "    <tr>\n",
       "      <th>0</th>\n",
       "      <td>11.513303</td>\n",
       "      <td>36.769926</td>\n",
       "      <td>-3.870751</td>\n",
       "      <td>-38.994689</td>\n",
       "      <td>91.861252</td>\n",
       "      <td>53.203344</td>\n",
       "      <td>13.077445</td>\n",
       "      <td>-11.462807</td>\n",
       "      <td>38.448680</td>\n",
       "      <td>-38.650759</td>\n",
       "      <td>94.907720</td>\n",
       "    </tr>\n",
       "    <tr>\n",
       "      <th>1</th>\n",
       "      <td>82.538553</td>\n",
       "      <td>98.811235</td>\n",
       "      <td>49.281148</td>\n",
       "      <td>43.695110</td>\n",
       "      <td>36.574020</td>\n",
       "      <td>17.054123</td>\n",
       "      <td>-23.198698</td>\n",
       "      <td>20.270047</td>\n",
       "      <td>-33.915752</td>\n",
       "      <td>40.219298</td>\n",
       "      <td>1366.736816</td>\n",
       "    </tr>\n",
       "    <tr>\n",
       "      <th>2</th>\n",
       "      <td>66.661198</td>\n",
       "      <td>46.549012</td>\n",
       "      <td>96.472850</td>\n",
       "      <td>72.245619</td>\n",
       "      <td>7.420768</td>\n",
       "      <td>16.922571</td>\n",
       "      <td>-26.628587</td>\n",
       "      <td>-5.941434</td>\n",
       "      <td>-28.247721</td>\n",
       "      <td>89.813495</td>\n",
       "      <td>1330.988646</td>\n",
       "    </tr>\n",
       "    <tr>\n",
       "      <th>3</th>\n",
       "      <td>93.149732</td>\n",
       "      <td>67.251168</td>\n",
       "      <td>-3.588349</td>\n",
       "      <td>35.297837</td>\n",
       "      <td>96.399783</td>\n",
       "      <td>-41.895572</td>\n",
       "      <td>42.871415</td>\n",
       "      <td>69.088980</td>\n",
       "      <td>97.687309</td>\n",
       "      <td>76.921817</td>\n",
       "      <td>3864.721315</td>\n",
       "    </tr>\n",
       "    <tr>\n",
       "      <th>4</th>\n",
       "      <td>-42.088323</td>\n",
       "      <td>-24.991506</td>\n",
       "      <td>1.797192</td>\n",
       "      <td>77.362365</td>\n",
       "      <td>-32.680734</td>\n",
       "      <td>-28.926408</td>\n",
       "      <td>24.535549</td>\n",
       "      <td>-20.161910</td>\n",
       "      <td>46.975193</td>\n",
       "      <td>70.306120</td>\n",
       "      <td>-210.178316</td>\n",
       "    </tr>\n",
       "  </tbody>\n",
       "</table>\n",
       "</div>"
      ],
      "text/plain": [
       "         x_0        x_1        x_2        x_3        x_4        x_5  \\\n",
       "0  11.513303  36.769926  -3.870751 -38.994689  91.861252  53.203344   \n",
       "1  82.538553  98.811235  49.281148  43.695110  36.574020  17.054123   \n",
       "2  66.661198  46.549012  96.472850  72.245619   7.420768  16.922571   \n",
       "3  93.149732  67.251168  -3.588349  35.297837  96.399783 -41.895572   \n",
       "4 -42.088323 -24.991506   1.797192  77.362365 -32.680734 -28.926408   \n",
       "\n",
       "         x_6        x_7        x_8        x_9            y  \n",
       "0  13.077445 -11.462807  38.448680 -38.650759    94.907720  \n",
       "1 -23.198698  20.270047 -33.915752  40.219298  1366.736816  \n",
       "2 -26.628587  -5.941434 -28.247721  89.813495  1330.988646  \n",
       "3  42.871415  69.088980  97.687309  76.921817  3864.721315  \n",
       "4  24.535549 -20.161910  46.975193  70.306120  -210.178316  "
      ]
     },
     "execution_count": 42,
     "metadata": {},
     "output_type": "execute_result"
    }
   ],
   "source": [
    "df.head()"
   ]
  },
  {
   "cell_type": "code",
   "execution_count": 43,
   "metadata": {},
   "outputs": [
    {
     "data": {
      "text/plain": [
       "<matplotlib.text.Text at 0xbc5ea20>"
      ]
     },
     "execution_count": 43,
     "metadata": {},
     "output_type": "execute_result"
    },
    {
     "data": {
      "image/png": "[encoded data removed]",
      "text/plain": [
       "<matplotlib.figure.Figure at 0xb9f9f60>"
      ]
     },
     "metadata": {},
     "output_type": "display_data"
    }
   ],
   "source": [
    "plt.figure(figsize=(12, 4))\n",
    "\n",
    "plt.subplot(121)\n",
    "df['y'].hist(bins=100)\n",
    "plt.title('Y')\n",
    "plt.subplot(122)\n",
    "df['y'].apply(np.log).hist(bins=100)\n",
    "plt.title('Y')\n",
    "\n",
    "# plt.figure(figsize=(12, 6))\n",
    "# for i in range(n_features):\n",
    "#     plt.subplot(2, n_features/2, i+1)\n",
    "#     df['x_%i' % i].hist(bins=100)\n",
    "#     plt.title('x_%i' % i)"
   ]
  },
  {
   "cell_type": "markdown",
   "metadata": {},
   "source": [
    "### Define a NN\n",
    "\n",
    "\n",
    "Let's define a model as  \n",
    "$$\n",
    "f_{nn}(\\mathbf x) = \\prod_{i=0}^{l-1} \\left( b_i + \\langle W_i, g(\\mathbf x) \\rangle \\right),\n",
    "$$\n",
    "where \n",
    "$$\n",
    "g(\\mathbf x) = g_m(\\mathbf x) = h^{(1)}_{m,m-1}(\\mathbf x) + \\frac{1}{\\epsilon + h^{(2)}_{m,m-1}(\\mathbf x)}\n",
    "$$\n",
    "and \n",
    "$$\n",
    "h^{(i)}_{m,m-1}(\\mathbf x) = \\text{activation}(\\langle W_{i,m}, g_{m-1}(\\mathbf x) \\rangle + b_{i,m}), \\\\\n",
    "g_{0} (\\mathbf x) = \\mathbf x\n",
    "$$\n"
   ]
  },
  {
   "cell_type": "code",
   "execution_count": 44,
   "metadata": {
    "collapsed": true
   },
   "outputs": [],
   "source": [
    "import tensorflow as tf"
   ]
  },
  {
   "cell_type": "code",
   "execution_count": 76,
   "metadata": {
    "collapsed": true
   },
   "outputs": [],
   "source": [
    "def tf_rmse(Y_true, Y_pred):\n",
    "    return tf.reduce_mean(tf.sqrt(tf.reduce_mean(tf.square(Y_true - Y_pred), axis=-1)))\n",
    "\n",
    "def tf_loss(Y_true, Y_pred):\n",
    "    l1 = tf.reduce_mean(tf.reduce_mean(tf.square(Y_true - Y_pred), axis=-1))\n",
    "    l2 = tf.log(1.0 + tf_rmse(Y_true, Y_pred))\n",
    "    return tf.minimum(l1, l2)"
   ]
  },
  {
   "cell_type": "code",
   "execution_count": 77,
   "metadata": {},
   "outputs": [
    {
     "data": {
      "text/plain": [
       "<matplotlib.legend.Legend at 0x161926d8>"
      ]
     },
     "execution_count": 77,
     "metadata": {},
     "output_type": "execute_result"
    },
    {
     "data": {
      "image/png": "[encoded data removed]",
      "text/plain": [
       "<matplotlib.figure.Figure at 0x13958588>"
      ]
     },
     "metadata": {},
     "output_type": "display_data"
    }
   ],
   "source": [
    "with tf.Session() as sess:\n",
    "    n = 100\n",
    "    Y_true = tf.placeholder(tf.float32, shape=(None, 1))\n",
    "    Y_pred = tf.placeholder(tf.float32, shape=(None, 1))\n",
    "    loss = np.zeros((n,))\n",
    "    yspan = np.linspace(-20, 20, num=n)\n",
    "    for i, v in enumerate(yspan):\n",
    "        y_true = np.ones((1, 1))\n",
    "        y_pred = np.array(v).reshape((1, 1))\n",
    "        loss[i] = sess.run(tf_loss(Y_true, Y_pred), feed_dict={Y_true: y_true, Y_pred: y_pred})\n",
    "\n",
    "plt.figure()\n",
    "plt.plot(yspan, loss, label='loss')\n",
    "plt.legend()\n"
   ]
  },
  {
   "cell_type": "code",
   "execution_count": 122,
   "metadata": {
    "collapsed": true
   },
   "outputs": [],
   "source": [
    "tf.reset_default_graph()\n",
    "X = tf.placeholder(tf.float32, shape=(None, n_features))\n",
    "Y_true = tf.placeholder(tf.float32, shape=(None, 1))\n",
    "\n",
    "train_params = {    \n",
    "    \n",
    "#     'lr_kwargs': {\n",
    "#         'boundaries': [50, 100, 200, 500, 1000, ],\n",
    "#         'values': [1e-3, 1e-4, 5*1e-5, 0.000001, 0.0000001]\n",
    "#     },\n",
    "#     'lr_f': tf.train.piecewise_constant,        \n",
    "    \n",
    "    'lr_kwargs': {\n",
    "        'decay_steps': 100,\n",
    "        'decay_rate': 0.9,\n",
    "        'learning_rate': 0.005,\n",
    "        'staircase': True\n",
    "    },\n",
    "    'lr_f': lambda x, **kwargs: tf.train.exponential_decay(global_step=x, **kwargs),\n",
    "    \n",
    "    'training_epochs': 5000,\n",
    "    'batch_size': 1024,\n",
    "    \n",
    "    'seed': 2017,\n",
    "    \n",
    "    # Tensorboard\n",
    "    'logs_path': 'logs'\n",
    "}"
   ]
  },
  {
   "cell_type": "code",
   "execution_count": 123,
   "metadata": {
    "collapsed": true
   },
   "outputs": [],
   "source": [
    "epsilon = tf.constant(1e-10)\n",
    "\n",
    "def h(index, m, x, n_filters, with_activation=True):    \n",
    "    b = tf.Variable(tf.random_uniform([n_filters]), \n",
    "                    name='bias_%i_%i' % (index, m))\n",
    "    W = tf.Variable(tf.random_uniform(shape=[x.get_shape().as_list()[1], n_filters]), \n",
    "                    name=\"W_%i_%i\" % (index, m))\n",
    "    \n",
    "    name = name='h_%i_%i' % (index, m)\n",
    "    out = tf.add(tf.matmul(x, W), b)\n",
    "    if with_activation:\n",
    "        return tf.nn.elu(out, name=name)\n",
    "    else:\n",
    "        return tf.identity(out, name=name)\n",
    "    \n",
    "    \n",
    "def g(m, x, n_filters_list):        \n",
    "    _x = x if m == 0 else g(m-1, x, n_filters_list)\n",
    "    inv_h2 = tf.divide(tf.constant(1.0), tf.add(epsilon, h(2, m, _x, n_filters_list[m])))\n",
    "    return tf.add(h(1, m, _x, n_filters_list[m]), inv_h2, name='g_%i' % m)\n",
    "\n",
    "\n",
    "def nn(x, k, m):    \n",
    "    nf = 5\n",
    "    n_filters_list = [nf for j in range(m)]       \n",
    "    net = h(3, 0, g(m-1, x, n_filters_list), n_filters=1, with_activation=False)\n",
    "    for i in range(1, k):\n",
    "        n_filters_list = [nf for j in range(m)]               \n",
    "        net = tf.multiply(net, h(3, 0, g(m-1, x, n_filters_list), n_filters=1, with_activation=False))\n",
    "    return net\n",
    "    "
   ]
  },
  {
   "cell_type": "code",
   "execution_count": 124,
   "metadata": {
    "collapsed": true
   },
   "outputs": [],
   "source": [
    "# Construct model and encapsulating all ops into scopes, making\n",
    "# Tensorboard's Graph visualization more convenient\n",
    "with tf.name_scope('Model'):\n",
    "    # Model\n",
    "    Y_pred = nn(X, k=2, m=3)\n",
    "    \n",
    "with tf.name_scope('Loss'):\n",
    "    # Minimize error using MAE\n",
    "    loss = tf_loss(Y_true, Y_pred)\n",
    "    \n",
    "with tf.name_scope('Optimizer'):\n",
    "    # Gradient Descent\n",
    "    global_step = tf.Variable(0, trainable=False)    \n",
    "    lr_f = train_params['lr_f'](global_step, **train_params['lr_kwargs'])    \n",
    "    optimizer = tf.train.GradientDescentOptimizer(lr_f).minimize(loss)\n",
    "    \n",
    "with tf.name_scope('RMSE'):\n",
    "    # Accuracy    \n",
    "    rmse = tf_rmse(Y_true, Y_pred)\n",
    "\n",
    "# Create a summary to monitor cost tensor\n",
    "tf.summary.scalar(\"loss\", loss)\n",
    "# Create a summary to monitor accuracy tensor\n",
    "tf.summary.scalar(\"RMSE\", rmse)\n",
    "# Merge all summaries into a single op\n",
    "merged_summary_op = tf.summary.merge_all()"
   ]
  },
  {
   "cell_type": "code",
   "execution_count": 127,
   "metadata": {
    "scrolled": true
   },
   "outputs": [
    {
     "name": "stdout",
     "output_type": "stream",
     "text": [
      "Start training\n",
      "Epoch: 0010\n",
      "loss=14.844446046, rmse=2801230.035714285 | lr=0.005000\n",
      "val_loss=14.734274387, val_rmse=2506194.000000000\n",
      "Epoch: 0020\n",
      "loss=12.136494092, rmse=509812.040597098 | lr=0.005000\n",
      "val_loss=14.172854900, val_rmse=1429530.000000000\n",
      "Epoch: 0030\n",
      "loss=11.968138967, rmse=183292.291852679 | lr=0.005000\n",
      "val_loss=9.633372784, val_rmse=15264.949707031\n",
      "Epoch: 0040\n",
      "loss=13.164558956, rmse=522764.352678571 | lr=0.005000\n",
      "val_loss=13.009580612, val_rmse=446672.125000000\n",
      "Epoch: 0050\n",
      "loss=10.737809590, rmse=55753.293247768 | lr=0.005000\n",
      "val_loss=10.371188641, val_rmse=31925.432617188\n",
      "Epoch: 0060\n",
      "loss=11.970908301, rmse=158565.484375000 | lr=0.005000\n",
      "val_loss=11.795203686, val_rmse=132614.210937500\n",
      "Epoch: 0070\n",
      "loss=6.496970654, rmse=723.643646240 | lr=0.005000\n",
      "val_loss=7.263734341, val_rmse=1426.585083008\n",
      "Epoch: 0080\n",
      "loss=6.451427460, rmse=656.184295654 | lr=0.005000\n",
      "val_loss=6.458249092, val_rmse=636.943908691\n",
      "Epoch: 0090\n",
      "loss=6.706156594, rmse=840.295676095 | lr=0.005000\n",
      "val_loss=6.241164446, val_rmse=512.458480835\n",
      "Epoch: 0100\n",
      "loss=6.295377731, rmse=598.108677455 | lr=0.005000\n",
      "val_loss=6.863956690, val_rmse=956.156677246\n",
      "Epoch: 0110\n",
      "loss=6.400730406, rmse=619.280691964 | lr=0.004500\n",
      "val_loss=6.448287964, val_rmse=630.620666504\n",
      "Epoch: 0120\n",
      "loss=6.349849020, rmse=626.041809082 | lr=0.004500\n",
      "val_loss=6.201458454, val_rmse=492.468338013\n",
      "Epoch: 0130\n",
      "loss=7.313666412, rmse=2062.211111886 | lr=0.004500\n",
      "val_loss=8.297852039, val_rmse=4041.667968750\n",
      "Epoch: 0140\n",
      "loss=7.240481717, rmse=1641.209237235 | lr=0.004500\n",
      "val_loss=6.903758049, val_rmse=995.035247803\n",
      "Epoch: 0150\n",
      "loss=6.532568727, rmse=704.024383545 | lr=0.004500\n",
      "val_loss=6.402823448, val_rmse=602.568237305\n",
      "Epoch: 0160\n",
      "loss=6.186351776, rmse=487.863307408 | lr=0.004500\n",
      "val_loss=6.414137125, val_rmse=609.429504395\n",
      "Epoch: 0170\n",
      "loss=6.109812941, rmse=451.376499721 | lr=0.004500\n",
      "val_loss=6.265893459, val_rmse=525.319854736\n",
      "Epoch: 0180\n",
      "loss=6.236375877, rmse=525.214521136 | lr=0.004500\n",
      "val_loss=6.429396629, val_rmse=618.843780518\n",
      "Epoch: 0190\n",
      "loss=6.095632894, rmse=448.942661830 | lr=0.004500\n",
      "val_loss=6.145583868, val_rmse=465.704742432\n",
      "Epoch: 0200\n",
      "loss=6.148914814, rmse=476.016278948 | lr=0.004500\n",
      "val_loss=6.203237772, val_rmse=493.353027344\n",
      "Epoch: 0210\n",
      "loss=6.068039622, rmse=438.208378383 | lr=0.004050\n",
      "val_loss=6.096989155, val_rmse=443.590347290\n",
      "Epoch: 0220\n",
      "loss=6.013066087, rmse=415.958378383 | lr=0.004050\n",
      "val_loss=6.163224697, val_rmse=473.962310791\n",
      "Epoch: 0230\n",
      "loss=5.928668499, rmse=382.105542864 | lr=0.004050\n",
      "val_loss=6.078827858, val_rmse=435.526702881\n",
      "Epoch: 0240\n",
      "loss=6.002009392, rmse=413.985530308 | lr=0.004050\n",
      "val_loss=6.609070301, val_rmse=740.795379639\n",
      "Epoch: 0250\n",
      "loss=6.023694243, rmse=424.494362967 | lr=0.004050\n",
      "val_loss=6.026024342, val_rmse=413.065643311\n",
      "Epoch: 0260\n",
      "loss=5.962977205, rmse=402.599243164 | lr=0.004050\n",
      "val_loss=6.217977762, val_rmse=500.687744141\n",
      "Epoch: 0270\n",
      "loss=5.969915799, rmse=402.965645926 | lr=0.004050\n",
      "val_loss=6.439100504, val_rmse=624.880401611\n",
      "Epoch: 0280\n",
      "loss=5.960816656, rmse=407.202854701 | lr=0.004050\n",
      "val_loss=6.321901798, val_rmse=555.631225586\n",
      "Epoch: 0290\n",
      "loss=6.656232970, rmse=804.209725516 | lr=0.004050\n",
      "val_loss=6.735091209, val_rmse=840.435058594\n",
      "Epoch: 0300\n",
      "loss=6.580644199, rmse=734.731471470 | lr=0.004050\n",
      "val_loss=6.778909206, val_rmse=878.128662109\n",
      "Epoch: 0310\n",
      "loss=6.481125287, rmse=683.898720878 | lr=0.003645\n",
      "val_loss=6.064499378, val_rmse=429.344451904\n",
      "Epoch: 0320\n",
      "loss=6.565313339, rmse=735.997545515 | lr=0.003645\n",
      "val_loss=6.224377394, val_rmse=503.943222046\n",
      "Epoch: 0330\n",
      "loss=6.666412354, rmse=799.438406808 | lr=0.003645\n",
      "val_loss=6.756184340, val_rmse=858.375579834\n",
      "Epoch: 0340\n",
      "loss=6.622538294, rmse=764.983843122 | lr=0.003645\n",
      "val_loss=6.796522617, val_rmse=893.743133545\n",
      "Epoch: 0350\n",
      "loss=6.640882901, rmse=782.024605887 | lr=0.003645\n",
      "val_loss=6.302897692, val_rmse=545.185089111\n",
      "Epoch: 0360\n",
      "loss=6.593037742, rmse=750.788574219 | lr=0.003645\n"
     ]
    },
    {
     "ename": "KeyboardInterrupt",
     "evalue": "",
     "output_type": "error",
     "traceback": [
      "\u001b[1;31m---------------------------------------------------------------------------\u001b[0m",
      "\u001b[1;31mKeyboardInterrupt\u001b[0m                         Traceback (most recent call last)",
      "\u001b[1;32m<ipython-input-127-0f5efaf91a37>\u001b[0m in \u001b[0;36m<module>\u001b[1;34m()\u001b[0m\n\u001b[0;32m     86\u001b[0m             l, r, summary = sess.run([loss, rmse, merged_summary_op], \n\u001b[0;32m     87\u001b[0m                                      \u001b[0mfeed_dict\u001b[0m\u001b[1;33m=\u001b[0m\u001b[1;33m{\u001b[0m\u001b[0mX\u001b[0m\u001b[1;33m:\u001b[0m \u001b[0mbatch_xs\u001b[0m\u001b[1;33m,\u001b[0m \u001b[0mY_true\u001b[0m\u001b[1;33m:\u001b[0m \u001b[0mbatch_ys\u001b[0m\u001b[1;33m}\u001b[0m\u001b[1;33m,\u001b[0m\u001b[1;33m\u001b[0m\u001b[0m\n\u001b[1;32m---> 88\u001b[1;33m                                      run_metadata=run_metadata, options=run_options)\n\u001b[0m\u001b[0;32m     89\u001b[0m             \u001b[1;31m# Compute average loss\u001b[0m\u001b[1;33m\u001b[0m\u001b[1;33m\u001b[0m\u001b[0m\n\u001b[0;32m     90\u001b[0m             \u001b[0mavg_loss\u001b[0m \u001b[1;33m+=\u001b[0m \u001b[0ml\u001b[0m \u001b[1;33m/\u001b[0m \u001b[0mn_val_batchs\u001b[0m\u001b[1;33m\u001b[0m\u001b[0m\n",
      "\u001b[1;32md:\\vfomin\\myexamples\\venv3\\lib\\site-packages\\tensorflow\\python\\client\\session.py\u001b[0m in \u001b[0;36mrun\u001b[1;34m(self, fetches, feed_dict, options, run_metadata)\u001b[0m\n\u001b[0;32m    787\u001b[0m     \u001b[1;32mtry\u001b[0m\u001b[1;33m:\u001b[0m\u001b[1;33m\u001b[0m\u001b[0m\n\u001b[0;32m    788\u001b[0m       result = self._run(None, fetches, feed_dict, options_ptr,\n\u001b[1;32m--> 789\u001b[1;33m                          run_metadata_ptr)\n\u001b[0m\u001b[0;32m    790\u001b[0m       \u001b[1;32mif\u001b[0m \u001b[0mrun_metadata\u001b[0m\u001b[1;33m:\u001b[0m\u001b[1;33m\u001b[0m\u001b[0m\n\u001b[0;32m    791\u001b[0m         \u001b[0mproto_data\u001b[0m \u001b[1;33m=\u001b[0m \u001b[0mtf_session\u001b[0m\u001b[1;33m.\u001b[0m\u001b[0mTF_GetBuffer\u001b[0m\u001b[1;33m(\u001b[0m\u001b[0mrun_metadata_ptr\u001b[0m\u001b[1;33m)\u001b[0m\u001b[1;33m\u001b[0m\u001b[0m\n",
      "\u001b[1;32md:\\vfomin\\myexamples\\venv3\\lib\\site-packages\\tensorflow\\python\\client\\session.py\u001b[0m in \u001b[0;36m_run\u001b[1;34m(self, handle, fetches, feed_dict, options, run_metadata)\u001b[0m\n\u001b[0;32m    966\u001b[0m             \u001b[0mfeed_handles\u001b[0m\u001b[1;33m[\u001b[0m\u001b[0msubfeed_name\u001b[0m\u001b[1;33m]\u001b[0m \u001b[1;33m=\u001b[0m \u001b[0msubfeed_val\u001b[0m\u001b[1;33m\u001b[0m\u001b[0m\n\u001b[0;32m    967\u001b[0m           \u001b[1;32melse\u001b[0m\u001b[1;33m:\u001b[0m\u001b[1;33m\u001b[0m\u001b[0m\n\u001b[1;32m--> 968\u001b[1;33m             \u001b[0mnp_val\u001b[0m \u001b[1;33m=\u001b[0m \u001b[0mnp\u001b[0m\u001b[1;33m.\u001b[0m\u001b[0masarray\u001b[0m\u001b[1;33m(\u001b[0m\u001b[0msubfeed_val\u001b[0m\u001b[1;33m,\u001b[0m \u001b[0mdtype\u001b[0m\u001b[1;33m=\u001b[0m\u001b[0msubfeed_dtype\u001b[0m\u001b[1;33m)\u001b[0m\u001b[1;33m\u001b[0m\u001b[0m\n\u001b[0m\u001b[0;32m    969\u001b[0m \u001b[1;33m\u001b[0m\u001b[0m\n\u001b[0;32m    970\u001b[0m           if (not is_tensor_handle_feed and\n",
      "\u001b[1;32md:\\vfomin\\myexamples\\venv3\\lib\\site-packages\\numpy\\core\\numeric.py\u001b[0m in \u001b[0;36masarray\u001b[1;34m(a, dtype, order)\u001b[0m\n\u001b[0;32m    529\u001b[0m \u001b[1;33m\u001b[0m\u001b[0m\n\u001b[0;32m    530\u001b[0m     \"\"\"\n\u001b[1;32m--> 531\u001b[1;33m     \u001b[1;32mreturn\u001b[0m \u001b[0marray\u001b[0m\u001b[1;33m(\u001b[0m\u001b[0ma\u001b[0m\u001b[1;33m,\u001b[0m \u001b[0mdtype\u001b[0m\u001b[1;33m,\u001b[0m \u001b[0mcopy\u001b[0m\u001b[1;33m=\u001b[0m\u001b[1;32mFalse\u001b[0m\u001b[1;33m,\u001b[0m \u001b[0morder\u001b[0m\u001b[1;33m=\u001b[0m\u001b[0morder\u001b[0m\u001b[1;33m)\u001b[0m\u001b[1;33m\u001b[0m\u001b[0m\n\u001b[0m\u001b[0;32m    532\u001b[0m \u001b[1;33m\u001b[0m\u001b[0m\n\u001b[0;32m    533\u001b[0m \u001b[1;33m\u001b[0m\u001b[0m\n",
      "\u001b[1;31mKeyboardInterrupt\u001b[0m: "
     ]
    }
   ],
   "source": [
    "from datetime import datetime\n",
    "from sklearn.model_selection import train_test_split\n",
    "\n",
    "verbose = 1\n",
    "display_step = 10\n",
    "\n",
    "# Launch the graph\n",
    "tf.set_random_seed(train_params['seed'])\n",
    "print(\"Start training\")\n",
    "with tf.Session() as sess:\n",
    "    \n",
    "    sess.run(tf.global_variables_initializer())    \n",
    "    # op to write logs to Tensorboard\n",
    "    summary_writer = tf.summary.FileWriter(os.path.join(train_params['logs_path'], \n",
    "                                                        'run_%s' % str(datetime.now().strftime(\"%Y-%m-%d-%H-%M\"))), \n",
    "                                           graph=sess.graph)\n",
    "\n",
    "    \n",
    "    batch_size = train_params['batch_size']        \n",
    "    train_x, val_x, train_y, val_y = train_test_split(trainval_x, trainval_y, train_size=0.75)\n",
    "    \n",
    "    n_train_batchs = int(train_x.shape[0]/batch_size)\n",
    "    n_val_batchs = int(val_x.shape[0]/batch_size)    \n",
    "    \n",
    "    # Training cycle\n",
    "    for epoch in range(train_params['training_epochs']):\n",
    "               \n",
    "        if verbose > 0 and (epoch+1) % display_step == 0:\n",
    "            print(\"Epoch: %04d\" % (epoch+1))\n",
    "        \n",
    "        avg_loss = 0.0\n",
    "        avg_rmse = 0.0\n",
    "        # Train over all batches\n",
    "        lr = sess.run(lr_f, feed_dict={global_step: epoch})\n",
    "        for i in range(n_train_batchs):\n",
    "\n",
    "            if verbose > 1:\n",
    "                print(\"-- %i / %i\" % (i, n_train_batchs))\n",
    "\n",
    "            \n",
    "            i_start = batch_size*i\n",
    "            i_end = batch_size*(i+1)\n",
    "            batch_xs, batch_ys = train_x[i_start:i_end,:], train_y[i_start:i_end, :] \n",
    "            # Run optimization op (backprop), loss op (to get loss value)\n",
    "            # and summary nodes\n",
    "            run_options = None\n",
    "            run_metadata = None\n",
    "            if i % 100 == 99:\n",
    "                run_options = tf.RunOptions(trace_level=tf.RunOptions.FULL_TRACE)\n",
    "                run_metadata = tf.RunMetadata()\n",
    "            _, l, r, y_pred, summary = sess.run([optimizer, loss, rmse, Y_pred, merged_summary_op],\n",
    "                                                feed_dict={X: batch_xs, Y_true: batch_ys}, \n",
    "                                                run_metadata=run_metadata, options=run_options)\n",
    "            \n",
    "            if verbose > 2:\n",
    "                print(\"Numpy Loss: %f\" % np_loss(batch_ys, y_pred))\n",
    "                print(\"TF Loss: %f\" % l)\n",
    "                print(\"TF RMSE: %f\" % r)\n",
    "                \n",
    "            # Write logs at every iteration\n",
    "            summary_writer.add_summary(summary, epoch * n_train_batchs + i)\n",
    "            \n",
    "            # Compute average loss\n",
    "            avg_loss += l * 1.0 / n_train_batchs\n",
    "            avg_rmse += r * 1.0 / n_train_batchs            \n",
    "            \n",
    "        # Display logs per epoch step\n",
    "        if verbose > 0 and (epoch+1) % display_step == 0:\n",
    "            print(\"loss=%.9f, rmse=%.9f | lr=%f\" % (avg_loss, avg_rmse, lr))\n",
    "        \n",
    "        # Validation\n",
    "        avg_loss = 0.0\n",
    "        avg_rmse = 0.0        \n",
    "        for i in range(n_val_batchs):\n",
    "            i_start = batch_size*i\n",
    "            i_end = batch_size*(i+1)\n",
    "            batch_xs, batch_ys = val_x[i_start:i_end,:], val_y[i_start:i_end, :] \n",
    "            # Run optimization op (backprop), loss op (to get loss value)\n",
    "            # and summary nodes\n",
    "            run_options = None\n",
    "            run_metadata = None\n",
    "            if i % 100 == 99:\n",
    "                run_options = tf.RunOptions(trace_level=tf.RunOptions.FULL_TRACE)\n",
    "                run_metadata = tf.RunMetadata()\n",
    "            \n",
    "            l, r, summary = sess.run([loss, rmse, merged_summary_op], \n",
    "                                     feed_dict={X: batch_xs, Y_true: batch_ys}, \n",
    "                                     run_metadata=run_metadata, options=run_options)\n",
    "            # Compute average loss\n",
    "            avg_loss += l / n_val_batchs\n",
    "            avg_rmse += r / n_val_batchs            \n",
    "            \n",
    "        # Display logs per epoch step\n",
    "        if verbose > 0 and (epoch+1) % display_step == 0:\n",
    "            print(\"val_loss=%.9f, val_rmse=%.9f\" % (avg_loss, avg_rmse))\n",
    "\n",
    "    print(\"Optimization Finished!\")\n"
   ]
  },
  {
   "cell_type": "code",
   "execution_count": null,
   "metadata": {
    "collapsed": true
   },
   "outputs": [],
   "source": []
  },
  {
   "cell_type": "code",
   "execution_count": null,
   "metadata": {
    "collapsed": true
   },
   "outputs": [],
   "source": []
  },
  {
   "cell_type": "code",
   "execution_count": null,
   "metadata": {
    "collapsed": true
   },
   "outputs": [],
   "source": []
  },
  {
   "cell_type": "code",
   "execution_count": null,
   "metadata": {
    "collapsed": true
   },
   "outputs": [],
   "source": []
  }
 ],
 "metadata": {
  "kernelspec": {
   "display_name": "Python 3",
   "language": "python",
   "name": "python3"
  },
  "language_info": {
   "codemirror_mode": {
    "name": "ipython",
    "version": 3
   },
   "file_extension": ".py",
   "mimetype": "text/x-python",
   "name": "python",
   "nbconvert_exporter": "python",
   "pygments_lexer": "ipython3",
   "version": "3.6.1"
  }
 },
 "nbformat": 4,
 "nbformat_minor": 1
}
