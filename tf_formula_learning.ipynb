{
 "cells": [
  {
   "cell_type": "markdown",
   "metadata": {},
   "source": [
    "# Formula learning\n",
    "\n",
    "A toy example to learn a formula to predict a synthetic data\n",
    "\n",
    "\n",
    "Let's say we have a regression problem to predict a target value in $\\cal{R}$. \n",
    "Input data has $M$ features and a target is computed as \n",
    "$$\n",
    "y_{i} = f(\\mathbf x)\n",
    "$$\n",
    "we will try various functions $f$ to observe ability to learn it using a DNN."
   ]
  },
  {
   "cell_type": "markdown",
   "metadata": {},
   "source": [
    "## A warm-up\n",
    "\n",
    "Let us predict a simple function : $f(\\mathbf x) = 1 + \\sum_{i} x_i$"
   ]
  },
  {
   "cell_type": "code",
   "execution_count": 1,
   "metadata": {
    "collapsed": true
   },
   "outputs": [],
   "source": [
    "# https://ipython.org/ipython-doc/3/config/extensions/autoreload.html\n",
    "%load_ext autoreload\n",
    "%autoreload 2"
   ]
  },
  {
   "cell_type": "code",
   "execution_count": 31,
   "metadata": {
    "collapsed": true
   },
   "outputs": [],
   "source": [
    "import os\n",
    "\n",
    "import numpy as np\n",
    "import matplotlib.pylab as plt\n",
    "%matplotlib inline\n",
    "\n",
    "\n",
    "n_samples = 10000\n",
    "n_features = 10\n",
    "x_max = 100.0\n",
    "x_min = -100.0\n",
    "trainval_x = (x_max - x_min) * np.random.rand(n_samples, n_features) + x_min\n",
    "test_x = (x_max - x_min) * np.random.rand(n_samples//5, n_features) + x_min"
   ]
  },
  {
   "cell_type": "code",
   "execution_count": 32,
   "metadata": {
    "collapsed": true
   },
   "outputs": [],
   "source": [
    "def f(x):\n",
    "    return np.sum(x) + 1.0"
   ]
  },
  {
   "cell_type": "code",
   "execution_count": 33,
   "metadata": {},
   "outputs": [],
   "source": [
    "trainval_y = np.zeros((n_samples, 1))\n",
    "test_y = np.zeros((n_samples//5, 1))\n",
    "\n",
    "for i, x in enumerate(trainval_x):\n",
    "    trainval_y[i, 0] = f(x)\n",
    "    \n",
    "for i, x in enumerate(test_x):\n",
    "    test_y[i, 0] = f(x)    "
   ]
  },
  {
   "cell_type": "code",
   "execution_count": 34,
   "metadata": {
    "collapsed": true
   },
   "outputs": [],
   "source": [
    "import pandas as pd\n",
    "import seaborn as sns\n",
    "\n",
    "cols_x = ['x_%i' % i for i in range(n_features)]\n",
    "df = pd.DataFrame(data=trainval_x, columns=cols_x)\n",
    "df['y'] = trainval_y"
   ]
  },
  {
   "cell_type": "code",
   "execution_count": 35,
   "metadata": {},
   "outputs": [
    {
     "data": {
      "text/html": [
       "<div>\n",
       "<style>\n",
       "    .dataframe thead tr:only-child th {\n",
       "        text-align: right;\n",
       "    }\n",
       "\n",
       "    .dataframe thead th {\n",
       "        text-align: left;\n",
       "    }\n",
       "\n",
       "    .dataframe tbody tr th {\n",
       "        vertical-align: top;\n",
       "    }\n",
       "</style>\n",
       "<table border=\"1\" class=\"dataframe\">\n",
       "  <thead>\n",
       "    <tr style=\"text-align: right;\">\n",
       "      <th></th>\n",
       "      <th>x_0</th>\n",
       "      <th>x_1</th>\n",
       "      <th>x_2</th>\n",
       "      <th>x_3</th>\n",
       "      <th>x_4</th>\n",
       "      <th>x_5</th>\n",
       "      <th>x_6</th>\n",
       "      <th>x_7</th>\n",
       "      <th>x_8</th>\n",
       "      <th>x_9</th>\n",
       "      <th>y</th>\n",
       "    </tr>\n",
       "  </thead>\n",
       "  <tbody>\n",
       "    <tr>\n",
       "      <th>0</th>\n",
       "      <td>-6.231932</td>\n",
       "      <td>-5.882621</td>\n",
       "      <td>24.613055</td>\n",
       "      <td>62.417919</td>\n",
       "      <td>97.075089</td>\n",
       "      <td>78.385178</td>\n",
       "      <td>-38.475568</td>\n",
       "      <td>48.600158</td>\n",
       "      <td>-10.755354</td>\n",
       "      <td>-10.509969</td>\n",
       "      <td>240.235956</td>\n",
       "    </tr>\n",
       "    <tr>\n",
       "      <th>1</th>\n",
       "      <td>-18.290302</td>\n",
       "      <td>-14.230423</td>\n",
       "      <td>-77.131978</td>\n",
       "      <td>-80.916952</td>\n",
       "      <td>-53.688595</td>\n",
       "      <td>0.227387</td>\n",
       "      <td>34.309633</td>\n",
       "      <td>36.703977</td>\n",
       "      <td>-25.116072</td>\n",
       "      <td>25.119051</td>\n",
       "      <td>-172.014275</td>\n",
       "    </tr>\n",
       "    <tr>\n",
       "      <th>2</th>\n",
       "      <td>79.403377</td>\n",
       "      <td>22.613168</td>\n",
       "      <td>41.840953</td>\n",
       "      <td>-55.032196</td>\n",
       "      <td>59.038406</td>\n",
       "      <td>49.490027</td>\n",
       "      <td>9.439954</td>\n",
       "      <td>3.065606</td>\n",
       "      <td>65.196460</td>\n",
       "      <td>41.854745</td>\n",
       "      <td>317.910502</td>\n",
       "    </tr>\n",
       "    <tr>\n",
       "      <th>3</th>\n",
       "      <td>56.457412</td>\n",
       "      <td>-61.270650</td>\n",
       "      <td>52.070623</td>\n",
       "      <td>-41.730357</td>\n",
       "      <td>24.035111</td>\n",
       "      <td>-35.312342</td>\n",
       "      <td>-31.665951</td>\n",
       "      <td>-5.372767</td>\n",
       "      <td>37.465681</td>\n",
       "      <td>-44.950515</td>\n",
       "      <td>-49.273756</td>\n",
       "    </tr>\n",
       "    <tr>\n",
       "      <th>4</th>\n",
       "      <td>15.008415</td>\n",
       "      <td>72.501280</td>\n",
       "      <td>-21.445808</td>\n",
       "      <td>82.310602</td>\n",
       "      <td>-20.426569</td>\n",
       "      <td>-89.551883</td>\n",
       "      <td>-41.966660</td>\n",
       "      <td>8.089957</td>\n",
       "      <td>-80.264190</td>\n",
       "      <td>72.421122</td>\n",
       "      <td>-2.323734</td>\n",
       "    </tr>\n",
       "  </tbody>\n",
       "</table>\n",
       "</div>"
      ],
      "text/plain": [
       "         x_0        x_1        x_2        x_3        x_4        x_5  \\\n",
       "0  -6.231932  -5.882621  24.613055  62.417919  97.075089  78.385178   \n",
       "1 -18.290302 -14.230423 -77.131978 -80.916952 -53.688595   0.227387   \n",
       "2  79.403377  22.613168  41.840953 -55.032196  59.038406  49.490027   \n",
       "3  56.457412 -61.270650  52.070623 -41.730357  24.035111 -35.312342   \n",
       "4  15.008415  72.501280 -21.445808  82.310602 -20.426569 -89.551883   \n",
       "\n",
       "         x_6        x_7        x_8        x_9           y  \n",
       "0 -38.475568  48.600158 -10.755354 -10.509969  240.235956  \n",
       "1  34.309633  36.703977 -25.116072  25.119051 -172.014275  \n",
       "2   9.439954   3.065606  65.196460  41.854745  317.910502  \n",
       "3 -31.665951  -5.372767  37.465681 -44.950515  -49.273756  \n",
       "4 -41.966660   8.089957 -80.264190  72.421122   -2.323734  "
      ]
     },
     "execution_count": 35,
     "metadata": {},
     "output_type": "execute_result"
    }
   ],
   "source": [
    "df.head()"
   ]
  },
  {
   "cell_type": "code",
   "execution_count": 36,
   "metadata": {},
   "outputs": [
    {
     "data": {
      "text/plain": [
       "(240.23595575059119, -172.01427478333477)"
      ]
     },
     "execution_count": 36,
     "metadata": {},
     "output_type": "execute_result"
    }
   ],
   "source": [
    "df.loc[0, ['x_%i' % i for i in range(10)]].sum() + 1.0, df.loc[1, ['x_%i' % i for i in range(10)]].sum() + 1.0 "
   ]
  },
  {
   "cell_type": "code",
   "execution_count": 37,
   "metadata": {},
   "outputs": [
    {
     "data": {
      "image/png": "[encoded data removed]",
      "text/plain": [
       "<matplotlib.figure.Figure at 0xbd68be0>"
      ]
     },
     "metadata": {},
     "output_type": "display_data"
    },
    {
     "data": {
      "image/png": "[encoded data removed]",
      "text/plain": [
       "<matplotlib.figure.Figure at 0xb6ca1d0>"
      ]
     },
     "metadata": {},
     "output_type": "display_data"
    }
   ],
   "source": [
    "plt.figure(figsize=(12, 4))\n",
    "\n",
    "plt.subplot(121)\n",
    "df['y'].hist(bins=100)\n",
    "plt.title('Y')\n",
    "plt.subplot(122)\n",
    "df['y'].apply(np.log).hist(bins=100)\n",
    "plt.title('Y')\n",
    "\n",
    "plt.figure(figsize=(12, 6))\n",
    "for i in range(n_features):\n",
    "    plt.subplot(2, n_features/2, i+1)\n",
    "    df['x_%i' % i].hist(bins=100)\n",
    "    plt.title('x_%i' % i)"
   ]
  },
  {
   "cell_type": "markdown",
   "metadata": {},
   "source": [
    "### Define a NN\n",
    "\n",
    "\n",
    "Let's define a model as  \n",
    "$$\n",
    "f_{nn}(\\mathbf x) = b_i + \\langle W_i, \\mathbf x \\rangle,\n",
    "$$"
   ]
  },
  {
   "cell_type": "code",
   "execution_count": 38,
   "metadata": {
    "collapsed": true
   },
   "outputs": [],
   "source": [
    "import tensorflow as tf\n",
    "\n",
    "from tf_bike.train import Trainer"
   ]
  },
  {
   "cell_type": "code",
   "execution_count": 39,
   "metadata": {
    "collapsed": true
   },
   "outputs": [],
   "source": [
    "def nn(x):    \n",
    "    b = tf.Variable(tf.random_uniform((1,)), name='b')\n",
    "    W = tf.Variable(tf.random_uniform((x.get_shape().as_list()[1], 1)), name='W') \n",
    "    return tf.add(b, tf.matmul(x, W), name='trivial_regression_model')"
   ]
  },
  {
   "cell_type": "code",
   "execution_count": 40,
   "metadata": {
    "collapsed": true
   },
   "outputs": [],
   "source": [
    "def np_loss(y_true, y_pred):\n",
    "    return np.mean(np.mean(np.power(y_true - y_pred, 2.0), axis=-1))\n",
    "\n",
    "def tf_loss(Y_true, Y_pred):\n",
    "    return tf.reduce_mean(tf.reduce_mean(tf.square(Y_true - Y_pred), axis=-1))\n",
    "\n",
    "def tf_rmse(Y_true, Y_pred):\n",
    "    return tf.reduce_mean(tf.sqrt(tf.reduce_mean(tf.square(Y_true - Y_pred), axis=-1)))"
   ]
  },
  {
   "cell_type": "code",
   "execution_count": 41,
   "metadata": {},
   "outputs": [
    {
     "name": "stdout",
     "output_type": "stream",
     "text": [
      "Loss numpy : 2.36026936027\n",
      "Loss tf : 2.36027\n",
      "RMSE : 1.25758\n"
     ]
    }
   ],
   "source": [
    "tf.reset_default_graph()\n",
    "y_true = np.ones((100, 1))\n",
    "y_pred = np.linspace(-2, 2, num=100).reshape((100, 1))\n",
    "\n",
    "lss = np_loss(y_true, y_pred)\n",
    "\n",
    "with tf.Session() as sess:    \n",
    "    Y_true = tf.placeholder(tf.float32, shape=(None, 1))\n",
    "    Y_pred = tf.placeholder(tf.float32, shape=(None, 1))\n",
    "    lss2, rmse = sess.run([tf_loss(Y_true, Y_pred), tf_rmse(Y_true, Y_pred)], feed_dict={Y_true: y_true, Y_pred: y_pred})\n",
    "\n",
    "print(\"Loss numpy :\", lss)\n",
    "print(\"Loss tf :\", lss2)\n",
    "print(\"RMSE :\", rmse)\n",
    "    "
   ]
  },
  {
   "cell_type": "code",
   "execution_count": 42,
   "metadata": {
    "collapsed": true
   },
   "outputs": [],
   "source": [
    "from datetime import datetime\n",
    "trainer = Trainer(log_dir='logs_{}'.format(datetime.now().strftime(\"%Y-%m-%d-%H-%M\")))"
   ]
  },
  {
   "cell_type": "code",
   "execution_count": 43,
   "metadata": {
    "collapsed": true
   },
   "outputs": [],
   "source": [
    "train_params = {        \n",
    "    # Network\n",
    "    'network': nn,\n",
    "    \n",
    "    # Loss\n",
    "    'loss': tf_loss,\n",
    "    \n",
    "    # Optimizer\n",
    "    'optimizer': tf.train.GradientDescentOptimizer,\n",
    "    \n",
    "    # Metrics\n",
    "    'metrics': [\n",
    "        ('rmse', tf_rmse),\n",
    "    ],\n",
    "    \n",
    "    # Learning rate params\n",
    "    'lr': tf.train.piecewise_constant,\n",
    "    'lr_kwargs': {\n",
    "        'boundaries': [150, 250, 350],\n",
    "        'values': [0.0001, 0.00007, 0.00003]\n",
    "    },\n",
    "    \n",
    "    # Pretrained model\n",
    "    # 'pretrained_model': \"/path/to/pretrained/model.ckpt\",\n",
    "    \n",
    "    'training_epochs': 1200,\n",
    "    'batch_size': 512,\n",
    "    \n",
    "    'seed': 2017,\n",
    "    \n",
    "}"
   ]
  },
  {
   "cell_type": "code",
   "execution_count": 44,
   "metadata": {
    "scrolled": true
   },
   "outputs": [
    {
     "name": "stdout",
     "output_type": "stream",
     "text": [
      "Start training\n",
      "INFO:tensorflow:Starting standard services.\n",
      "INFO:tensorflow:Saving checkpoint to path logs_2017-06-29-16-51\\train\\Model/trivial_regression_model.ckpt\n",
      "INFO:tensorflow:Starting queue runners.\n",
      "Epoch: 0100\n",
      "loss=0.135099443 | rmse=0.367098855 \n",
      "val_loss=0.134673279 | val_rmse=0.366833970 \n",
      "Epoch: 0200\n",
      "loss=0.114207557 | rmse=0.337523058 \n",
      "val_loss=0.113845581 | val_rmse=0.337277055 \n",
      "Epoch: 0300\n",
      "loss=0.096547297 | rmse=0.310331956 \n",
      "val_loss=0.096240858 | val_rmse=0.310104847 \n",
      "Epoch: 0400\n",
      "loss=0.081617978 | rmse=0.285331036 \n",
      "val_loss=0.081359252 | val_rmse=0.285122991 \n",
      "Epoch: 0500\n",
      "loss=0.068996556 | rmse=0.262343194 \n",
      "val_loss=0.068777705 | val_rmse=0.262151644 \n",
      "Epoch: 0600\n",
      "loss=0.058327617 | rmse=0.241208896 \n",
      "val_loss=0.058141877 | val_rmse=0.241031203 \n",
      "Epoch: 0700\n",
      "loss=0.049307533 | rmse=0.221775150 \n",
      "val_loss=0.049151913 | val_rmse=0.221614990 \n",
      "Epoch: 0800\n",
      "loss=0.041682618 | rmse=0.203907720 \n",
      "val_loss=0.041550934 | val_rmse=0.203760143 \n",
      "Epoch: 0900\n",
      "loss=0.035237425 | rmse=0.187481423 \n",
      "val_loss=0.035124943 | val_rmse=0.187342640 \n",
      "Epoch: 1000\n",
      "loss=0.029788280 | rmse=0.172376843 \n",
      "val_loss=0.029693747 | val_rmse=0.172250673 \n",
      "Epoch: 1100\n",
      "loss=0.025181860 | rmse=0.158489319 \n",
      "val_loss=0.025102805 | val_rmse=0.158376254 \n",
      "Epoch: 1200\n",
      "loss=0.021287935 | rmse=0.145721263 \n",
      "val_loss=0.021220567 | val_rmse=0.145615350 \n",
      "Optimization Finished!\n"
     ]
    }
   ],
   "source": [
    "trainer.train(trainval_x, trainval_y, \n",
    "              training_params=train_params, \n",
    "              verbose=1)"
   ]
  },
  {
   "cell_type": "code",
   "execution_count": null,
   "metadata": {
    "collapsed": true
   },
   "outputs": [],
   "source": []
  },
  {
   "cell_type": "code",
   "execution_count": 45,
   "metadata": {},
   "outputs": [
    {
     "data": {
      "text/plain": [
       "(2000, 10)"
      ]
     },
     "execution_count": 45,
     "metadata": {},
     "output_type": "execute_result"
    }
   ],
   "source": []
  },
  {
   "cell_type": "code",
   "execution_count": null,
   "metadata": {
    "collapsed": true
   },
   "outputs": [],
   "source": []
  },
  {
   "cell_type": "markdown",
   "metadata": {},
   "source": [
    "## A ratio-like and squared formula\n",
    "\n",
    "Let $M=10$ and the function to learn is defined as \n",
    "$$\n",
    "f(\\mathbf x) = \\frac{\\sum_i a_i x_i + b} {\\sum_i c_i x_i + d} + \\alpha \\sum_{i,j \\neq i} x_i x_j + \\beta\n",
    "$$\n",
    "where coefficients $a_i$, $b$, $c_i$, $d$, $\\alpha$, $\\beta$ are randomly chosen.\n",
    "\n",
    "Setup input data :"
   ]
  },
  {
   "cell_type": "code",
   "execution_count": null,
   "metadata": {
    "collapsed": true
   },
   "outputs": [],
   "source": [
    "import os\n",
    "import numpy as np\n",
    "import matplotlib.pylab as plt\n",
    "%matplotlib inline\n",
    "\n",
    "n_samples = 10000\n",
    "n_features = 10\n",
    "a = np.random.rand(n_features)\n",
    "b = 1.0\n",
    "c = np.random.rand(n_features)\n",
    "d = np.random.rand() * 100.0\n",
    "alpha = np.random.rand() * 1.0 / 50.0\n",
    "beta = np.random.rand() * 50.0\n",
    "\n",
    "x_max = 100.0\n",
    "x_min = -50.0\n",
    "trainval_x = (x_max - x_min) * np.random.rand(n_samples, n_features) + x_min"
   ]
  },
  {
   "cell_type": "code",
   "execution_count": null,
   "metadata": {
    "collapsed": true
   },
   "outputs": [],
   "source": [
    "def f(sample_x):\n",
    "    numerator = np.dot(a, sample_x) + b\n",
    "    denominator = np.dot(c, sample_x) + d\n",
    "    t1 = numerator / denominator\n",
    "    \n",
    "    t2 = 0\n",
    "    for v in sample_x:\n",
    "        t2 += v * (np.sum(sample_x) - v)    \n",
    "    t2 *= alpha\n",
    "    return t1 + t2 + beta"
   ]
  },
  {
   "cell_type": "code",
   "execution_count": null,
   "metadata": {
    "collapsed": true
   },
   "outputs": [],
   "source": [
    "trainval_y = np.zeros((n_samples, 1))\n",
    "for i, x in enumerate(trainval_x):\n",
    "    trainval_y[i] = f(x)"
   ]
  },
  {
   "cell_type": "code",
   "execution_count": null,
   "metadata": {
    "collapsed": true
   },
   "outputs": [],
   "source": [
    "import pandas as pd\n",
    "import seaborn as sns\n",
    "\n",
    "cols_x = ['x_%i' % i for i in range(n_features)]\n",
    "df = pd.DataFrame(data=trainval_x, columns=cols_x)\n",
    "df['y'] = trainval_y"
   ]
  },
  {
   "cell_type": "code",
   "execution_count": null,
   "metadata": {
    "collapsed": true
   },
   "outputs": [],
   "source": [
    "df.head()"
   ]
  },
  {
   "cell_type": "code",
   "execution_count": null,
   "metadata": {
    "collapsed": true
   },
   "outputs": [],
   "source": [
    "plt.figure(figsize=(12, 4))\n",
    "\n",
    "plt.subplot(121)\n",
    "df['y'].hist(bins=100)\n",
    "plt.title('Y')\n",
    "plt.subplot(122)\n",
    "df['y'].apply(np.log).hist(bins=100)\n",
    "plt.title('Y')\n",
    "\n",
    "# plt.figure(figsize=(12, 6))\n",
    "# for i in range(n_features):\n",
    "#     plt.subplot(2, n_features/2, i+1)\n",
    "#     df['x_%i' % i].hist(bins=100)\n",
    "#     plt.title('x_%i' % i)"
   ]
  },
  {
   "cell_type": "markdown",
   "metadata": {},
   "source": [
    "### Define a NN\n",
    "\n",
    "\n",
    "Let's define a model as  \n",
    "$$\n",
    "f_{nn}(\\mathbf x) = \\prod_{i=0}^{l-1} \\left( b_i + \\langle W_i, g(\\mathbf x) \\rangle \\right),\n",
    "$$\n",
    "where \n",
    "$$\n",
    "g(\\mathbf x) = g_m(\\mathbf x) = h^{(1)}_{m,m-1}(\\mathbf x) + \\frac{1}{\\epsilon + h^{(2)}_{m,m-1}(\\mathbf x)}\n",
    "$$\n",
    "and \n",
    "$$\n",
    "h^{(i)}_{m,m-1}(\\mathbf x) = \\text{activation}(\\langle W_{i,m}, g_{m-1}(\\mathbf x) \\rangle + b_{i,m}), \\\\\n",
    "g_{0} (\\mathbf x) = \\mathbf x\n",
    "$$\n"
   ]
  },
  {
   "cell_type": "code",
   "execution_count": null,
   "metadata": {
    "collapsed": true
   },
   "outputs": [],
   "source": [
    "import tensorflow as tf"
   ]
  },
  {
   "cell_type": "code",
   "execution_count": null,
   "metadata": {
    "collapsed": true
   },
   "outputs": [],
   "source": [
    "def tf_rmse(Y_true, Y_pred):\n",
    "    return tf.reduce_mean(tf.sqrt(tf.reduce_mean(tf.square(Y_true - Y_pred), axis=-1)))\n",
    "\n",
    "def tf_loss(Y_true, Y_pred):\n",
    "    l1 = tf.reduce_mean(tf.reduce_mean(tf.square(Y_true - Y_pred), axis=-1))\n",
    "    l2 = tf.log(1.0 + tf_rmse(Y_true, Y_pred))\n",
    "    return tf.minimum(l1, l2)"
   ]
  },
  {
   "cell_type": "code",
   "execution_count": null,
   "metadata": {
    "collapsed": true
   },
   "outputs": [],
   "source": [
    "with tf.Session() as sess:\n",
    "    n = 100\n",
    "    Y_true = tf.placeholder(tf.float32, shape=(None, 1))\n",
    "    Y_pred = tf.placeholder(tf.float32, shape=(None, 1))\n",
    "    loss = np.zeros((n,))\n",
    "    yspan = np.linspace(-20, 20, num=n)\n",
    "    for i, v in enumerate(yspan):\n",
    "        y_true = np.ones((1, 1))\n",
    "        y_pred = np.array(v).reshape((1, 1))\n",
    "        loss[i] = sess.run(tf_loss(Y_true, Y_pred), feed_dict={Y_true: y_true, Y_pred: y_pred})\n",
    "\n",
    "plt.figure()\n",
    "plt.plot(yspan, loss, label='loss')\n",
    "plt.legend()\n"
   ]
  },
  {
   "cell_type": "code",
   "execution_count": null,
   "metadata": {
    "collapsed": true
   },
   "outputs": [],
   "source": [
    "tf.reset_default_graph()\n",
    "X = tf.placeholder(tf.float32, shape=(None, n_features))\n",
    "Y_true = tf.placeholder(tf.float32, shape=(None, 1))\n",
    "\n",
    "train_params = {    \n",
    "    \n",
    "#     'lr_kwargs': {\n",
    "#         'boundaries': [50, 100, 200, 500, 1000, ],\n",
    "#         'values': [1e-3, 1e-4, 5*1e-5, 0.000001, 0.0000001]\n",
    "#     },\n",
    "#     'lr_f': tf.train.piecewise_constant,        \n",
    "    \n",
    "    'lr_kwargs': {\n",
    "        'decay_steps': 100,\n",
    "        'decay_rate': 0.9,\n",
    "        'learning_rate': 0.005,\n",
    "        'staircase': True\n",
    "    },\n",
    "    'lr_f': lambda x, **kwargs: tf.train.exponential_decay(global_step=x, **kwargs),\n",
    "    \n",
    "    'training_epochs': 5000,\n",
    "    'batch_size': 1024,\n",
    "    \n",
    "    'seed': 2017,\n",
    "    \n",
    "    # Tensorboard\n",
    "    'logs_path': 'logs'\n",
    "}"
   ]
  },
  {
   "cell_type": "code",
   "execution_count": null,
   "metadata": {
    "collapsed": true
   },
   "outputs": [],
   "source": [
    "epsilon = tf.constant(1e-10)\n",
    "\n",
    "def h(index, m, x, n_filters, with_activation=True):    \n",
    "    b = tf.Variable(tf.random_uniform([n_filters]), \n",
    "                    name='bias_%i_%i' % (index, m))\n",
    "    W = tf.Variable(tf.random_uniform(shape=[x.get_shape().as_list()[1], n_filters]), \n",
    "                    name=\"W_%i_%i\" % (index, m))\n",
    "    \n",
    "    name = name='h_%i_%i' % (index, m)\n",
    "    out = tf.add(tf.matmul(x, W), b)\n",
    "    if with_activation:\n",
    "        return tf.nn.elu(out, name=name)\n",
    "    else:\n",
    "        return tf.identity(out, name=name)\n",
    "    \n",
    "    \n",
    "def g(m, x, n_filters_list):        \n",
    "    _x = x if m == 0 else g(m-1, x, n_filters_list)\n",
    "    inv_h2 = tf.divide(tf.constant(1.0), tf.add(epsilon, h(2, m, _x, n_filters_list[m])))\n",
    "    return tf.add(h(1, m, _x, n_filters_list[m]), inv_h2, name='g_%i' % m)\n",
    "\n",
    "\n",
    "def nn(x, k, m):    \n",
    "    nf = 5\n",
    "    n_filters_list = [nf for j in range(m)]       \n",
    "    net = h(3, 0, g(m-1, x, n_filters_list), n_filters=1, with_activation=False)\n",
    "    for i in range(1, k):\n",
    "        n_filters_list = [nf for j in range(m)]               \n",
    "        net = tf.multiply(net, h(3, 0, g(m-1, x, n_filters_list), n_filters=1, with_activation=False))\n",
    "    return net\n",
    "    "
   ]
  },
  {
   "cell_type": "code",
   "execution_count": null,
   "metadata": {
    "collapsed": true
   },
   "outputs": [],
   "source": [
    "# Construct model and encapsulating all ops into scopes, making\n",
    "# Tensorboard's Graph visualization more convenient\n",
    "with tf.name_scope('Model'):\n",
    "    # Model\n",
    "    Y_pred = nn(X, k=2, m=3)\n",
    "    \n",
    "with tf.name_scope('Loss'):\n",
    "    # Minimize error using MAE\n",
    "    loss = tf_loss(Y_true, Y_pred)\n",
    "    \n",
    "with tf.name_scope('Optimizer'):\n",
    "    # Gradient Descent\n",
    "    global_step = tf.Variable(0, trainable=False)    \n",
    "    lr_f = train_params['lr_f'](global_step, **train_params['lr_kwargs'])    \n",
    "    optimizer = tf.train.GradientDescentOptimizer(lr_f).minimize(loss)\n",
    "    \n",
    "with tf.name_scope('RMSE'):\n",
    "    # Accuracy    \n",
    "    rmse = tf_rmse(Y_true, Y_pred)\n",
    "\n",
    "# Create a summary to monitor cost tensor\n",
    "tf.summary.scalar(\"loss\", loss)\n",
    "# Create a summary to monitor accuracy tensor\n",
    "tf.summary.scalar(\"RMSE\", rmse)\n",
    "# Merge all summaries into a single op\n",
    "merged_summary_op = tf.summary.merge_all()"
   ]
  },
  {
   "cell_type": "code",
   "execution_count": null,
   "metadata": {
    "collapsed": true,
    "scrolled": true
   },
   "outputs": [],
   "source": [
    "from datetime import datetime\n",
    "from sklearn.model_selection import train_test_split\n",
    "\n",
    "verbose = 1\n",
    "display_step = 10\n",
    "\n",
    "# Launch the graph\n",
    "tf.set_random_seed(train_params['seed'])\n",
    "print(\"Start training\")\n",
    "with tf.Session() as sess:\n",
    "    \n",
    "    sess.run(tf.global_variables_initializer())    \n",
    "    # op to write logs to Tensorboard\n",
    "    summary_writer = tf.summary.FileWriter(os.path.join(train_params['logs_path'], \n",
    "                                                        'run_%s' % str(datetime.now().strftime(\"%Y-%m-%d-%H-%M\"))), \n",
    "                                           graph=sess.graph)\n",
    "\n",
    "    \n",
    "    batch_size = train_params['batch_size']        \n",
    "    train_x, val_x, train_y, val_y = train_test_split(trainval_x, trainval_y, train_size=0.75)\n",
    "    \n",
    "    n_train_batchs = int(train_x.shape[0]/batch_size)\n",
    "    n_val_batchs = int(val_x.shape[0]/batch_size)    \n",
    "    \n",
    "    # Training cycle\n",
    "    for epoch in range(train_params['training_epochs']):\n",
    "               \n",
    "        if verbose > 0 and (epoch+1) % display_step == 0:\n",
    "            print(\"Epoch: %04d\" % (epoch+1))\n",
    "        \n",
    "        avg_loss = 0.0\n",
    "        avg_rmse = 0.0\n",
    "        # Train over all batches\n",
    "        lr = sess.run(lr_f, feed_dict={global_step: epoch})\n",
    "        for i in range(n_train_batchs):\n",
    "\n",
    "            if verbose > 1:\n",
    "                print(\"-- %i / %i\" % (i, n_train_batchs))\n",
    "\n",
    "            \n",
    "            i_start = batch_size*i\n",
    "            i_end = batch_size*(i+1)\n",
    "            batch_xs, batch_ys = train_x[i_start:i_end,:], train_y[i_start:i_end, :] \n",
    "            # Run optimization op (backprop), loss op (to get loss value)\n",
    "            # and summary nodes\n",
    "            run_options = None\n",
    "            run_metadata = None\n",
    "            if i % 100 == 99:\n",
    "                run_options = tf.RunOptions(trace_level=tf.RunOptions.FULL_TRACE)\n",
    "                run_metadata = tf.RunMetadata()\n",
    "            _, l, r, y_pred, summary = sess.run([optimizer, loss, rmse, Y_pred, merged_summary_op],\n",
    "                                                feed_dict={X: batch_xs, Y_true: batch_ys}, \n",
    "                                                run_metadata=run_metadata, options=run_options)\n",
    "            \n",
    "            if verbose > 2:\n",
    "                print(\"Numpy Loss: %f\" % np_loss(batch_ys, y_pred))\n",
    "                print(\"TF Loss: %f\" % l)\n",
    "                print(\"TF RMSE: %f\" % r)\n",
    "                \n",
    "            # Write logs at every iteration\n",
    "            summary_writer.add_summary(summary, epoch * n_train_batchs + i)\n",
    "            \n",
    "            # Compute average loss\n",
    "            avg_loss += l * 1.0 / n_train_batchs\n",
    "            avg_rmse += r * 1.0 / n_train_batchs            \n",
    "            \n",
    "        # Display logs per epoch step\n",
    "        if verbose > 0 and (epoch+1) % display_step == 0:\n",
    "            print(\"loss=%.9f, rmse=%.9f | lr=%f\" % (avg_loss, avg_rmse, lr))\n",
    "        \n",
    "        # Validation\n",
    "        avg_loss = 0.0\n",
    "        avg_rmse = 0.0        \n",
    "        for i in range(n_val_batchs):\n",
    "            i_start = batch_size*i\n",
    "            i_end = batch_size*(i+1)\n",
    "            batch_xs, batch_ys = val_x[i_start:i_end,:], val_y[i_start:i_end, :] \n",
    "            # Run optimization op (backprop), loss op (to get loss value)\n",
    "            # and summary nodes\n",
    "            run_options = None\n",
    "            run_metadata = None\n",
    "            if i % 100 == 99:\n",
    "                run_options = tf.RunOptions(trace_level=tf.RunOptions.FULL_TRACE)\n",
    "                run_metadata = tf.RunMetadata()\n",
    "            \n",
    "            l, r, summary = sess.run([loss, rmse, merged_summary_op], \n",
    "                                     feed_dict={X: batch_xs, Y_true: batch_ys}, \n",
    "                                     run_metadata=run_metadata, options=run_options)\n",
    "            # Compute average loss\n",
    "            avg_loss += l / n_val_batchs\n",
    "            avg_rmse += r / n_val_batchs            \n",
    "            \n",
    "        # Display logs per epoch step\n",
    "        if verbose > 0 and (epoch+1) % display_step == 0:\n",
    "            print(\"val_loss=%.9f, val_rmse=%.9f\" % (avg_loss, avg_rmse))\n",
    "\n",
    "    print(\"Optimization Finished!\")\n"
   ]
  },
  {
   "cell_type": "code",
   "execution_count": null,
   "metadata": {
    "collapsed": true
   },
   "outputs": [],
   "source": []
  },
  {
   "cell_type": "code",
   "execution_count": null,
   "metadata": {
    "collapsed": true
   },
   "outputs": [],
   "source": []
  },
  {
   "cell_type": "code",
   "execution_count": null,
   "metadata": {
    "collapsed": true
   },
   "outputs": [],
   "source": []
  },
  {
   "cell_type": "code",
   "execution_count": null,
   "metadata": {
    "collapsed": true
   },
   "outputs": [],
   "source": []
  }
 ],
 "metadata": {
  "kernelspec": {
   "display_name": "Python 3",
   "language": "python",
   "name": "python3"
  },
  "language_info": {
   "codemirror_mode": {
    "name": "ipython",
    "version": 3
   },
   "file_extension": ".py",
   "mimetype": "text/x-python",
   "name": "python",
   "nbconvert_exporter": "python",
   "pygments_lexer": "ipython3",
   "version": "3.6.1"
  }
 },
 "nbformat": 4,
 "nbformat_minor": 1
}
