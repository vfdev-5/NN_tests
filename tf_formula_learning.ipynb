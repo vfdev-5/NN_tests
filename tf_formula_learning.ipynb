{
 "cells": [
  {
   "cell_type": "markdown",
   "metadata": {},
   "source": [
    "# Formula learning\n",
    "\n",
    "A toy example to learn a formula to predict a synthetic data\n",
    "\n",
    "\n",
    "Let's say we have a regression problem to predict a target value in $\\cal{R}$. \n",
    "Input data has $M$ features and a target is computed as \n",
    "$$\n",
    "y_{i} = f(\\mathbf x)\n",
    "$$\n",
    "we will try various functions $f$ to observe ability to learn it using a DNN."
   ]
  },
  {
   "cell_type": "markdown",
   "metadata": {},
   "source": [
    "## A warm-up\n",
    "\n",
    "Let us predict a simple function : $f(\\mathbf x) = 1 + \\sum_{i} x_i$"
   ]
  },
  {
   "cell_type": "code",
   "execution_count": 1,
   "metadata": {},
   "outputs": [],
   "source": [
    "# https://ipython.org/ipython-doc/3/config/extensions/autoreload.html\n",
    "%load_ext autoreload\n",
    "%autoreload 2"
   ]
  },
  {
   "cell_type": "code",
   "execution_count": 26,
   "metadata": {
    "collapsed": true
   },
   "outputs": [],
   "source": [
    "import os\n",
    "\n",
    "import numpy as np\n",
    "import matplotlib.pylab as plt\n",
    "%matplotlib inline\n",
    "\n",
    "\n",
    "n_samples = 10000\n",
    "n_features = 10\n",
    "x_max = 100.0\n",
    "x_min = -100.0\n",
    "trainval_x = (x_max - x_min) * np.random.rand(n_samples, n_features) + x_min\n",
    "test_x = (x_max - x_min) * np.random.rand(n_samples, n_features) + x_min"
   ]
  },
  {
   "cell_type": "code",
   "execution_count": 27,
   "metadata": {
    "collapsed": true
   },
   "outputs": [],
   "source": [
    "def f(x):\n",
    "    return np.sum(x) + 1.0"
   ]
  },
  {
   "cell_type": "code",
   "execution_count": 28,
   "metadata": {},
   "outputs": [],
   "source": [
    "trainval_y = np.zeros((n_samples, 1))\n",
    "test_y = np.zeros((n_samples, 1))\n",
    "\n",
    "for i, x in enumerate(trainval_x):\n",
    "    trainval_y[i, 0] = f(x)\n",
    "    \n",
    "for i, x in enumerate(test_x):\n",
    "    test_y[i, 0] = f(x)    "
   ]
  },
  {
   "cell_type": "code",
   "execution_count": 8,
   "metadata": {
    "collapsed": true
   },
   "outputs": [],
   "source": [
    "import pandas as pd\n",
    "import seaborn as sns\n",
    "\n",
    "cols_x = ['x_%i' % i for i in range(n_features)]\n",
    "df = pd.DataFrame(data=trainval_x, columns=cols_x)\n",
    "df['y'] = trainval_y"
   ]
  },
  {
   "cell_type": "code",
   "execution_count": 9,
   "metadata": {},
   "outputs": [
    {
     "data": {
      "text/html": [
       "<div>\n",
       "<style>\n",
       "    .dataframe thead tr:only-child th {\n",
       "        text-align: right;\n",
       "    }\n",
       "\n",
       "    .dataframe thead th {\n",
       "        text-align: left;\n",
       "    }\n",
       "\n",
       "    .dataframe tbody tr th {\n",
       "        vertical-align: top;\n",
       "    }\n",
       "</style>\n",
       "<table border=\"1\" class=\"dataframe\">\n",
       "  <thead>\n",
       "    <tr style=\"text-align: right;\">\n",
       "      <th></th>\n",
       "      <th>x_0</th>\n",
       "      <th>x_1</th>\n",
       "      <th>x_2</th>\n",
       "      <th>x_3</th>\n",
       "      <th>x_4</th>\n",
       "      <th>x_5</th>\n",
       "      <th>x_6</th>\n",
       "      <th>x_7</th>\n",
       "      <th>x_8</th>\n",
       "      <th>x_9</th>\n",
       "      <th>y</th>\n",
       "    </tr>\n",
       "  </thead>\n",
       "  <tbody>\n",
       "    <tr>\n",
       "      <th>0</th>\n",
       "      <td>15.790368</td>\n",
       "      <td>-8.901867</td>\n",
       "      <td>17.448230</td>\n",
       "      <td>-57.029565</td>\n",
       "      <td>-6.442697</td>\n",
       "      <td>-64.240952</td>\n",
       "      <td>-9.762370</td>\n",
       "      <td>-78.481390</td>\n",
       "      <td>-89.620167</td>\n",
       "      <td>81.789198</td>\n",
       "      <td>-198.451214</td>\n",
       "    </tr>\n",
       "    <tr>\n",
       "      <th>1</th>\n",
       "      <td>89.150978</td>\n",
       "      <td>27.308455</td>\n",
       "      <td>-37.046431</td>\n",
       "      <td>-34.713958</td>\n",
       "      <td>-51.965157</td>\n",
       "      <td>-11.949938</td>\n",
       "      <td>-15.304973</td>\n",
       "      <td>67.151997</td>\n",
       "      <td>-2.752915</td>\n",
       "      <td>71.278274</td>\n",
       "      <td>102.156333</td>\n",
       "    </tr>\n",
       "    <tr>\n",
       "      <th>2</th>\n",
       "      <td>13.926858</td>\n",
       "      <td>72.509506</td>\n",
       "      <td>49.823661</td>\n",
       "      <td>-47.285124</td>\n",
       "      <td>-91.160410</td>\n",
       "      <td>-24.765865</td>\n",
       "      <td>75.429079</td>\n",
       "      <td>-62.649061</td>\n",
       "      <td>-23.597660</td>\n",
       "      <td>-85.976662</td>\n",
       "      <td>-122.745680</td>\n",
       "    </tr>\n",
       "    <tr>\n",
       "      <th>3</th>\n",
       "      <td>26.286640</td>\n",
       "      <td>-82.537791</td>\n",
       "      <td>-73.182807</td>\n",
       "      <td>-87.534468</td>\n",
       "      <td>77.203457</td>\n",
       "      <td>-63.857090</td>\n",
       "      <td>-27.310473</td>\n",
       "      <td>-2.277888</td>\n",
       "      <td>-79.223077</td>\n",
       "      <td>-38.189372</td>\n",
       "      <td>-349.622868</td>\n",
       "    </tr>\n",
       "    <tr>\n",
       "      <th>4</th>\n",
       "      <td>-29.871511</td>\n",
       "      <td>24.656432</td>\n",
       "      <td>93.281033</td>\n",
       "      <td>-93.728025</td>\n",
       "      <td>-1.502599</td>\n",
       "      <td>-99.474990</td>\n",
       "      <td>80.294358</td>\n",
       "      <td>-48.623329</td>\n",
       "      <td>-46.741250</td>\n",
       "      <td>-55.630339</td>\n",
       "      <td>-176.340219</td>\n",
       "    </tr>\n",
       "  </tbody>\n",
       "</table>\n",
       "</div>"
      ],
      "text/plain": [
       "         x_0        x_1        x_2        x_3        x_4        x_5  \\\n",
       "0  15.790368  -8.901867  17.448230 -57.029565  -6.442697 -64.240952   \n",
       "1  89.150978  27.308455 -37.046431 -34.713958 -51.965157 -11.949938   \n",
       "2  13.926858  72.509506  49.823661 -47.285124 -91.160410 -24.765865   \n",
       "3  26.286640 -82.537791 -73.182807 -87.534468  77.203457 -63.857090   \n",
       "4 -29.871511  24.656432  93.281033 -93.728025  -1.502599 -99.474990   \n",
       "\n",
       "         x_6        x_7        x_8        x_9           y  \n",
       "0  -9.762370 -78.481390 -89.620167  81.789198 -198.451214  \n",
       "1 -15.304973  67.151997  -2.752915  71.278274  102.156333  \n",
       "2  75.429079 -62.649061 -23.597660 -85.976662 -122.745680  \n",
       "3 -27.310473  -2.277888 -79.223077 -38.189372 -349.622868  \n",
       "4  80.294358 -48.623329 -46.741250 -55.630339 -176.340219  "
      ]
     },
     "execution_count": 9,
     "metadata": {},
     "output_type": "execute_result"
    }
   ],
   "source": [
    "df.head()"
   ]
  },
  {
   "cell_type": "code",
   "execution_count": 10,
   "metadata": {},
   "outputs": [
    {
     "data": {
      "text/plain": [
       "(-198.45121400520011, 102.15633332358843)"
      ]
     },
     "execution_count": 10,
     "metadata": {},
     "output_type": "execute_result"
    }
   ],
   "source": [
    "df.loc[0, ['x_%i' % i for i in range(10)]].sum() + 1.0, df.loc[1, ['x_%i' % i for i in range(10)]].sum() + 1.0 "
   ]
  },
  {
   "cell_type": "code",
   "execution_count": 11,
   "metadata": {},
   "outputs": [
    {
     "data": {
      "image/png": "[encoded data removed]",
      "text/plain": [
       "<matplotlib.figure.Figure at 0x94b6438>"
      ]
     },
     "metadata": {},
     "output_type": "display_data"
    },
    {
     "data": {
      "image/png": "[encoded data removed]",
      "text/plain": [
       "<matplotlib.figure.Figure at 0x9c49048>"
      ]
     },
     "metadata": {},
     "output_type": "display_data"
    }
   ],
   "source": [
    "plt.figure(figsize=(12, 4))\n",
    "\n",
    "plt.subplot(121)\n",
    "df['y'].hist(bins=100)\n",
    "plt.title('Y')\n",
    "plt.subplot(122)\n",
    "df['y'].apply(np.log).hist(bins=100)\n",
    "plt.title('Y')\n",
    "\n",
    "plt.figure(figsize=(12, 6))\n",
    "for i in range(n_features):\n",
    "    plt.subplot(2, n_features/2, i+1)\n",
    "    df['x_%i' % i].hist(bins=100)\n",
    "    plt.title('x_%i' % i)"
   ]
  },
  {
   "cell_type": "markdown",
   "metadata": {},
   "source": [
    "### Define a NN\n",
    "\n",
    "\n",
    "Let's define a model as  \n",
    "$$\n",
    "f_{nn}(\\mathbf x) = b_i + \\langle W_i, \\mathbf x \\rangle,\n",
    "$$"
   ]
  },
  {
   "cell_type": "code",
   "execution_count": 12,
   "metadata": {
    "collapsed": true
   },
   "outputs": [],
   "source": [
    "import tensorflow as tf\n",
    "tf.reset_default_graph()\n",
    "from tf_bike.train import Trainer"
   ]
  },
  {
   "cell_type": "code",
   "execution_count": 32,
   "metadata": {
    "collapsed": true
   },
   "outputs": [],
   "source": [
    "def nn(x):    \n",
    "    b = tf.Variable(tf.random_uniform(shape=(1,)), name='b')\n",
    "    W = tf.Variable(tf.random_uniform(shape=(x.get_shape().as_list()[1], 1)), name='W') \n",
    "    return tf.add(b, tf.matmul(x, W), name='trivial_regression_model')"
   ]
  },
  {
   "cell_type": "code",
   "execution_count": 33,
   "metadata": {
    "collapsed": true
   },
   "outputs": [],
   "source": [
    "def np_loss(y_true, y_pred):\n",
    "    return np.mean(np.mean(np.power(y_true - y_pred, 2.0), axis=-1))\n",
    "\n",
    "def np_loss_array(y_true, y_pred):\n",
    "    return np.mean(np.power(y_true - y_pred, 2.0), axis=-1)\n",
    "\n",
    "def tf_loss(Y_true, Y_pred):\n",
    "    return tf.reduce_mean(tf.reduce_mean(tf.square(Y_true - Y_pred), axis=-1))\n",
    "\n",
    "def tf_rmse(Y_true, Y_pred):\n",
    "    return tf.reduce_mean(tf.sqrt(tf.reduce_mean(tf.square(Y_true - Y_pred), axis=-1)))"
   ]
  },
  {
   "cell_type": "code",
   "execution_count": 34,
   "metadata": {},
   "outputs": [
    {
     "name": "stdout",
     "output_type": "stream",
     "text": [
      "Loss numpy : 2.36026936027\n",
      "Loss tf : 2.36027\n",
      "RMSE : 1.25758\n"
     ]
    }
   ],
   "source": [
    "tf.reset_default_graph()\n",
    "y_true = np.ones((100, 1))\n",
    "y_pred = np.linspace(-2, 2, num=100).reshape((100, 1))\n",
    "\n",
    "lss = np_loss(y_true, y_pred)\n",
    "\n",
    "with tf.Session() as sess:    \n",
    "    Y_true = tf.placeholder(tf.float32, shape=(None, 1))\n",
    "    Y_pred = tf.placeholder(tf.float32, shape=(None, 1))\n",
    "    lss2, rmse = sess.run([tf_loss(Y_true, Y_pred), tf_rmse(Y_true, Y_pred)], feed_dict={Y_true: y_true, Y_pred: y_pred})\n",
    "\n",
    "print(\"Loss numpy :\", lss)\n",
    "print(\"Loss tf :\", lss2)\n",
    "print(\"RMSE :\", rmse)\n",
    "    "
   ]
  },
  {
   "cell_type": "code",
   "execution_count": 36,
   "metadata": {
    "collapsed": true
   },
   "outputs": [],
   "source": [
    "training_params = {        \n",
    "    # Network\n",
    "    'network': nn,\n",
    "    \n",
    "    # Loss\n",
    "    'loss': tf_loss,\n",
    "    \n",
    "    # Optimizer\n",
    "    'optimizer': tf.train.GradientDescentOptimizer,\n",
    "    \n",
    "    # Metrics\n",
    "    'metrics': [\n",
    "        ('rmse', tf_rmse),\n",
    "    ],\n",
    "    \n",
    "    # Learning rate params\n",
    "    'lr': tf.train.piecewise_constant,\n",
    "    'lr_kwargs': {\n",
    "        'boundaries': [250, 350, 850],\n",
    "        'values': [0.0001, 0.00006, 0.00001]\n",
    "    },\n",
    "    \n",
    "    # Pretrained model\n",
    "    # 'pretrained_model': 'best_from_logs',\n",
    "    \n",
    "    'training_epochs': 2500,\n",
    "    'batch_size': 512,\n",
    "    \n",
    "    'seed': 2017,\n",
    "    \n",
    "}"
   ]
  },
  {
   "cell_type": "code",
   "execution_count": 48,
   "metadata": {
    "collapsed": true
   },
   "outputs": [],
   "source": [
    "from datetime import datetime\n",
    "trainer = Trainer(log_dir='logs_{}'.format(datetime.now().strftime(\"%Y-%m-%d-%H-%M\")))"
   ]
  },
  {
   "cell_type": "code",
   "execution_count": 49,
   "metadata": {
    "collapsed": true
   },
   "outputs": [
    {
     "name": "stdout",
     "output_type": "stream",
     "text": [
      "Start training\n",
      "Model contains 2 of trainable variables and 11 of trainable parameters\n",
      "INFO:tensorflow:Starting standard services.\n",
      "INFO:tensorflow:Saving checkpoint to path logs_2017-06-30-13-18\\train\\Model/trivial_regression_model.ckpt\n",
      "INFO:tensorflow:Starting queue runners.\n",
      "Epoch: 0100\n",
      "loss=0.007095950 | rmse=0.083506941 \n",
      "val_loss=0.007424986 | val_rmse=0.085459672 \n",
      "Epoch: 0200\n",
      "loss=0.006689183 | rmse=0.081077135 \n",
      "val_loss=0.006999802 | val_rmse=0.082975529 \n",
      "Epoch: 0300\n",
      "loss=0.006305071 | rmse=0.078714075 \n",
      "val_loss=0.006597372 | val_rmse=0.080553710 \n",
      "Epoch: 0400\n",
      "loss=0.005944459 | rmse=0.076429754 \n",
      "val_loss=0.006220275 | val_rmse=0.078217655 \n",
      "Epoch: 0500\n",
      "loss=0.005605218 | rmse=0.074216606 \n",
      "val_loss=0.005864827 | val_rmse=0.075949684 \n",
      "Epoch: 0600\n",
      "loss=0.005284105 | rmse=0.072058850 \n",
      "val_loss=0.005528978 | val_rmse=0.073742665 \n",
      "Epoch: 0700\n",
      "loss=0.004979660 | rmse=0.069952143 \n",
      "val_loss=0.005210804 | val_rmse=0.071589455 \n",
      "Epoch: 0800\n",
      "loss=0.004696123 | rmse=0.067930855 \n",
      "val_loss=0.004914304 | val_rmse=0.069522135 \n",
      "Epoch: 0900\n",
      "loss=0.004427528 | rmse=0.065959724 \n",
      "val_loss=0.004633583 | val_rmse=0.067507207 \n",
      "Epoch: 1000\n",
      "loss=0.004172191 | rmse=0.064029037 \n",
      "val_loss=0.004366352 | val_rmse=0.065530971 \n",
      "Epoch: 1100\n",
      "loss=0.003935259 | rmse=0.062184076 \n",
      "val_loss=0.004118095 | val_rmse=0.063640513 \n",
      "Epoch: 1200\n",
      "loss=0.003709608 | rmse=0.060374326 \n",
      "val_loss=0.003881825 | val_rmse=0.061788000 \n",
      "Epoch: 1300\n",
      "loss=0.003496674 | rmse=0.058615939 \n",
      "val_loss=0.003659011 | val_rmse=0.059987575 \n",
      "Epoch: 1400\n",
      "loss=0.003297635 | rmse=0.056922650 \n",
      "val_loss=0.003450922 | val_rmse=0.058256499 \n",
      "Epoch: 1500\n",
      "loss=0.003106789 | rmse=0.055250727 \n",
      "val_loss=0.003251414 | val_rmse=0.056547590 \n",
      "Epoch: 1600\n",
      "loss=0.002930871 | rmse=0.053663371 \n",
      "val_loss=0.003067167 | val_rmse=0.054921404 \n",
      "Epoch: 1700\n",
      "loss=0.002761143 | rmse=0.052085874 \n",
      "val_loss=0.002889499 | val_rmse=0.053306725 \n",
      "Epoch: 1800\n",
      "loss=0.002605107 | rmse=0.050592735 \n",
      "val_loss=0.002726401 | val_rmse=0.051780015 \n",
      "Epoch: 1900\n",
      "loss=0.002453794 | rmse=0.049101001 \n",
      "val_loss=0.002568266 | val_rmse=0.050255679 \n",
      "Epoch: 2000\n",
      "loss=0.002315376 | rmse=0.047696049 \n",
      "val_loss=0.002423199 | val_rmse=0.048815314 \n",
      "Epoch: 2100\n",
      "loss=0.002180954 | rmse=0.046290176 \n",
      "val_loss=0.002282597 | val_rmse=0.047377940 \n",
      "Epoch: 2200\n",
      "loss=0.002057913 | rmse=0.044965307 \n",
      "val_loss=0.002153649 | val_rmse=0.046019547 \n",
      "Epoch: 2300\n",
      "loss=0.001938974 | rmse=0.043646519 \n",
      "val_loss=0.002029276 | val_rmse=0.044670876 \n",
      "Epoch: 2400\n",
      "loss=0.001828773 | rmse=0.042387426 \n",
      "val_loss=0.001913834 | val_rmse=0.043381192 \n",
      "Epoch: 2500\n",
      "loss=0.001724175 | rmse=0.041157094 \n",
      "val_loss=0.001804461 | val_rmse=0.042122990 \n",
      "Optimization Finished!\n"
     ]
    }
   ],
   "source": [
    "trainer.train(trainval_x, trainval_y, \n",
    "              training_params=training_params, \n",
    "              verbose=1)"
   ]
  },
  {
   "cell_type": "code",
   "execution_count": 19,
   "metadata": {
    "collapsed": true
   },
   "outputs": [],
   "source": [
    "training_params['pretrained_model'] = 'best_from_logs'"
   ]
  },
  {
   "cell_type": "code",
   "execution_count": 29,
   "metadata": {
    "collapsed": true
   },
   "outputs": [
    {
     "name": "stdout",
     "output_type": "stream",
     "text": [
      "Start predictions\n",
      "INFO:tensorflow:Restoring parameters from logs_2017-06-30-12-35\\Model\\trivial_regression_model_seed=2017_loss=0.129069_val_loss=0.129036-2500\n",
      "-- 0 / 20  | 0 - 512\n",
      "-- 1 / 20  | 512 - 1024\n",
      "-- 2 / 20  | 1024 - 1536\n",
      "-- 3 / 20  | 1536 - 2048\n",
      "-- 4 / 20  | 2048 - 2560\n",
      "-- 5 / 20  | 2560 - 3072\n",
      "-- 6 / 20  | 3072 - 3584\n",
      "-- 7 / 20  | 3584 - 4096\n",
      "-- 8 / 20  | 4096 - 4608\n",
      "-- 9 / 20  | 4608 - 5120\n",
      "-- 10 / 20  | 5120 - 5632\n",
      "-- 11 / 20  | 5632 - 6144\n",
      "-- 12 / 20  | 6144 - 6656\n",
      "-- 13 / 20  | 6656 - 7168\n",
      "-- 14 / 20  | 7168 - 7680\n",
      "-- 15 / 20  | 7680 - 8192\n",
      "-- 16 / 20  | 8192 - 8704\n",
      "-- 17 / 20  | 8704 - 9216\n",
      "-- 18 / 20  | 9216 - 9728\n",
      "-- 19 / 20  | 9728 - 10000\n"
     ]
    }
   ],
   "source": [
    "y_preds = trainer.predict(test_x, training_params=training_params, verbose=1)"
   ]
  },
  {
   "cell_type": "code",
   "execution_count": 30,
   "metadata": {},
   "outputs": [],
   "source": [
    "lss = np_loss_array(test_y, y_preds)"
   ]
  },
  {
   "cell_type": "code",
   "execution_count": 31,
   "metadata": {},
   "outputs": [
    {
     "data": {
      "text/plain": [
       "[<matplotlib.lines.Line2D at 0xbe075c0>]"
      ]
     },
     "execution_count": 31,
     "metadata": {},
     "output_type": "execute_result"
    },
    {
     "data": {
      "image/png": "[encoded data removed]",
      "text/plain": [
       "<matplotlib.figure.Figure at 0xbcbfcc0>"
      ]
     },
     "metadata": {},
     "output_type": "display_data"
    }
   ],
   "source": [
    "plt.plot(lss)"
   ]
  },
  {
   "cell_type": "code",
   "execution_count": null,
   "metadata": {
    "collapsed": true
   },
   "outputs": [],
   "source": []
  },
  {
   "cell_type": "code",
   "execution_count": null,
   "metadata": {
    "collapsed": true
   },
   "outputs": [],
   "source": []
  },
  {
   "cell_type": "markdown",
   "metadata": {},
   "source": [
    "## A ratio-like and squared formula\n",
    "\n",
    "Let $M=10$ and the function to learn is defined as \n",
    "$$\n",
    "f(\\mathbf x) = \\frac{\\sum_i a_i x_i + b} {\\sum_i c_i x_i + d} + \\alpha \\sum_{i,j \\neq i} x_i x_j + \\beta\n",
    "$$\n",
    "where coefficients $a_i$, $b$, $c_i$, $d$, $\\alpha$, $\\beta$ are randomly chosen.\n",
    "\n",
    "Setup input data :"
   ]
  },
  {
   "cell_type": "code",
   "execution_count": 107,
   "metadata": {
    "collapsed": true
   },
   "outputs": [],
   "source": [
    "import os\n",
    "import numpy as np\n",
    "import matplotlib.pylab as plt\n",
    "%matplotlib inline\n",
    "\n",
    "n_samples = 10000\n",
    "n_features = 10\n",
    "a = np.random.rand(n_features)\n",
    "b = 1.0\n",
    "c = np.random.rand(n_features)\n",
    "d = np.random.rand() * 100.0\n",
    "alpha = np.random.rand() * 1.0 / 50.0\n",
    "beta = np.random.rand() * 50.0\n",
    "\n",
    "x_max = 100.0\n",
    "x_min = -100.0\n",
    "trainval_x = (x_max - x_min) * np.random.rand(n_samples, n_features) + x_min\n",
    "test_x = (x_max - x_min) * np.random.rand(n_samples, n_features) + x_min"
   ]
  },
  {
   "cell_type": "code",
   "execution_count": 108,
   "metadata": {
    "collapsed": true
   },
   "outputs": [],
   "source": [
    "def f(sample_x):\n",
    "    numerator = np.dot(a, sample_x) + b\n",
    "    denominator = np.dot(c, sample_x) + d\n",
    "    t1 = numerator / denominator\n",
    "    \n",
    "    t2 = 0\n",
    "    for v in sample_x:\n",
    "        t2 += v * (np.sum(sample_x) - v)    \n",
    "    t2 *= alpha\n",
    "    return t1 + t2 + beta"
   ]
  },
  {
   "cell_type": "code",
   "execution_count": 109,
   "metadata": {
    "collapsed": true
   },
   "outputs": [],
   "source": [
    "trainval_y = np.zeros((n_samples, 1))\n",
    "test_y = np.zeros((n_samples, 1))\n",
    "\n",
    "for i, x in enumerate(trainval_x):\n",
    "    trainval_y[i] = f(x)\n",
    "    \n",
    "for i, x in enumerate(test_x):\n",
    "    test_y[i] = f(x)    "
   ]
  },
  {
   "cell_type": "code",
   "execution_count": 110,
   "metadata": {
    "collapsed": true
   },
   "outputs": [],
   "source": [
    "import pandas as pd\n",
    "import seaborn as sns\n",
    "\n",
    "cols_x = ['x_%i' % i for i in range(n_features)]\n",
    "df = pd.DataFrame(data=trainval_x, columns=cols_x)\n",
    "df['y'] = trainval_y"
   ]
  },
  {
   "cell_type": "code",
   "execution_count": 111,
   "metadata": {},
   "outputs": [
    {
     "data": {
      "text/html": [
       "<div>\n",
       "<style>\n",
       "    .dataframe thead tr:only-child th {\n",
       "        text-align: right;\n",
       "    }\n",
       "\n",
       "    .dataframe thead th {\n",
       "        text-align: left;\n",
       "    }\n",
       "\n",
       "    .dataframe tbody tr th {\n",
       "        vertical-align: top;\n",
       "    }\n",
       "</style>\n",
       "<table border=\"1\" class=\"dataframe\">\n",
       "  <thead>\n",
       "    <tr style=\"text-align: right;\">\n",
       "      <th></th>\n",
       "      <th>x_0</th>\n",
       "      <th>x_1</th>\n",
       "      <th>x_2</th>\n",
       "      <th>x_3</th>\n",
       "      <th>x_4</th>\n",
       "      <th>x_5</th>\n",
       "      <th>x_6</th>\n",
       "      <th>x_7</th>\n",
       "      <th>x_8</th>\n",
       "      <th>x_9</th>\n",
       "      <th>y</th>\n",
       "    </tr>\n",
       "  </thead>\n",
       "  <tbody>\n",
       "    <tr>\n",
       "      <th>0</th>\n",
       "      <td>18.908035</td>\n",
       "      <td>-65.778817</td>\n",
       "      <td>-76.054391</td>\n",
       "      <td>-66.212981</td>\n",
       "      <td>25.293067</td>\n",
       "      <td>19.119351</td>\n",
       "      <td>96.409735</td>\n",
       "      <td>57.607497</td>\n",
       "      <td>69.593030</td>\n",
       "      <td>-55.191581</td>\n",
       "      <td>-280.165355</td>\n",
       "    </tr>\n",
       "    <tr>\n",
       "      <th>1</th>\n",
       "      <td>-28.461742</td>\n",
       "      <td>62.323780</td>\n",
       "      <td>72.126596</td>\n",
       "      <td>85.355943</td>\n",
       "      <td>52.468099</td>\n",
       "      <td>-62.622827</td>\n",
       "      <td>24.144203</td>\n",
       "      <td>0.812550</td>\n",
       "      <td>-8.390462</td>\n",
       "      <td>31.654618</td>\n",
       "      <td>226.375988</td>\n",
       "    </tr>\n",
       "    <tr>\n",
       "      <th>2</th>\n",
       "      <td>-35.821878</td>\n",
       "      <td>44.524547</td>\n",
       "      <td>24.867569</td>\n",
       "      <td>36.366375</td>\n",
       "      <td>43.815772</td>\n",
       "      <td>-27.064073</td>\n",
       "      <td>67.136307</td>\n",
       "      <td>56.898283</td>\n",
       "      <td>9.977495</td>\n",
       "      <td>77.475432</td>\n",
       "      <td>548.374236</td>\n",
       "    </tr>\n",
       "    <tr>\n",
       "      <th>3</th>\n",
       "      <td>36.697332</td>\n",
       "      <td>-74.866707</td>\n",
       "      <td>-57.317503</td>\n",
       "      <td>90.349568</td>\n",
       "      <td>17.427056</td>\n",
       "      <td>80.388137</td>\n",
       "      <td>39.394559</td>\n",
       "      <td>-72.655997</td>\n",
       "      <td>-88.765190</td>\n",
       "      <td>45.267448</td>\n",
       "      <td>-327.751197</td>\n",
       "    </tr>\n",
       "    <tr>\n",
       "      <th>4</th>\n",
       "      <td>38.520690</td>\n",
       "      <td>-57.429805</td>\n",
       "      <td>81.155612</td>\n",
       "      <td>-42.665324</td>\n",
       "      <td>33.379119</td>\n",
       "      <td>-12.809968</td>\n",
       "      <td>49.171190</td>\n",
       "      <td>-53.091985</td>\n",
       "      <td>91.739268</td>\n",
       "      <td>-92.615075</td>\n",
       "      <td>-279.064649</td>\n",
       "    </tr>\n",
       "  </tbody>\n",
       "</table>\n",
       "</div>"
      ],
      "text/plain": [
       "         x_0        x_1        x_2        x_3        x_4        x_5  \\\n",
       "0  18.908035 -65.778817 -76.054391 -66.212981  25.293067  19.119351   \n",
       "1 -28.461742  62.323780  72.126596  85.355943  52.468099 -62.622827   \n",
       "2 -35.821878  44.524547  24.867569  36.366375  43.815772 -27.064073   \n",
       "3  36.697332 -74.866707 -57.317503  90.349568  17.427056  80.388137   \n",
       "4  38.520690 -57.429805  81.155612 -42.665324  33.379119 -12.809968   \n",
       "\n",
       "         x_6        x_7        x_8        x_9           y  \n",
       "0  96.409735  57.607497  69.593030 -55.191581 -280.165355  \n",
       "1  24.144203   0.812550  -8.390462  31.654618  226.375988  \n",
       "2  67.136307  56.898283   9.977495  77.475432  548.374236  \n",
       "3  39.394559 -72.655997 -88.765190  45.267448 -327.751197  \n",
       "4  49.171190 -53.091985  91.739268 -92.615075 -279.064649  "
      ]
     },
     "execution_count": 111,
     "metadata": {},
     "output_type": "execute_result"
    }
   ],
   "source": [
    "df.head()"
   ]
  },
  {
   "cell_type": "code",
   "execution_count": 558,
   "metadata": {},
   "outputs": [],
   "source": [
    "y_min = df['y'].min()\n",
    "y_max = df['y'].max()\n",
    "\n",
    "y_mean = df['y'].mean()\n",
    "y_std = df['y'].std()\n",
    "\n",
    "def to_compact(y):\n",
    "    return (y - y_min) / (y_max - y_min)    \n",
    "\n",
    "def from_compact(y):\n",
    "    return (y_max - y_min) * y + y_min\n",
    "\n",
    "def normalize(y):\n",
    "    return ( y - y_mean ) / (1e-10 + y_std)\n",
    "\n",
    "def unnormalize(y):\n",
    "    return  y_std * y + y_mean\n"
   ]
  },
  {
   "cell_type": "code",
   "execution_count": 559,
   "metadata": {},
   "outputs": [
    {
     "data": {
      "text/plain": [
       "<matplotlib.text.Text at 0x1df09358>"
      ]
     },
     "execution_count": 559,
     "metadata": {},
     "output_type": "execute_result"
    },
    {
     "data": {
      "image/png": "[encoded data removed]",
      "text/plain": [
       "<matplotlib.figure.Figure at 0x1e4e9518>"
      ]
     },
     "metadata": {},
     "output_type": "display_data"
    }
   ],
   "source": [
    "plt.figure(figsize=(12, 4))\n",
    "\n",
    "plt.subplot(131)\n",
    "df['y'].hist(bins=200)\n",
    "plt.title('Y')\n",
    "plt.subplot(132)\n",
    "df['y'].apply(to_compact).hist(bins=200)\n",
    "plt.title('Y')\n",
    "plt.subplot(133)\n",
    "df['y'].apply(normalize).hist(bins=200)\n",
    "plt.title('Y')\n",
    "\n",
    "\n",
    "# plt.figure(figsize=(12, 6))\n",
    "# for i in range(n_features):\n",
    "#     plt.subplot(2, n_features/2, i+1)\n",
    "#     df['x_%i' % i].hist(bins=100)\n",
    "#     plt.title('x_%i' % i)"
   ]
  },
  {
   "cell_type": "markdown",
   "metadata": {},
   "source": [
    "### Define a NN\n",
    "\n",
    "\n",
    "Let's define a model as  \n",
    "$$\n",
    "f_{nn}(\\mathbf x) = \\prod_{i=0}^{k-1} \\left( b_i + \\langle W_i, g(\\mathbf x) \\rangle \\right),\n",
    "$$\n",
    "where \n",
    "$$\n",
    "g(\\mathbf x) = g_m(\\mathbf x) = h^{(1)}_{m,m-1}(\\mathbf x) +  h^{(2)}_{m,m-1}\\left(\\frac{1}{\\epsilon +\\mathbf x}\\right)\n",
    "$$\n",
    "and \n",
    "$$\n",
    "h^{(i)}_{m,m-1}(\\mathbf x) = \\text{activation}(\\langle W_{i,m}, g_{m-1}(\\mathbf x) \\rangle + b_{i,m}), \\\\\n",
    "g_{0} (\\mathbf x) = \\mathbf x\n",
    "$$\n"
   ]
  },
  {
   "cell_type": "code",
   "execution_count": 86,
   "metadata": {
    "collapsed": true
   },
   "outputs": [],
   "source": [
    "import tensorflow as tf\n",
    "from tf_bike.train import Trainer\n",
    "tf.reset_default_graph()"
   ]
  },
  {
   "cell_type": "code",
   "execution_count": 606,
   "metadata": {
    "collapsed": true
   },
   "outputs": [],
   "source": [
    "def tf_rmse(Y_true, Y_pred):\n",
    "    return tf.reduce_mean(tf.sqrt(tf.reduce_mean(tf.square(Y_true - Y_pred), axis=-1)))\n",
    "\n",
    "\n",
    "def tf_unnorm_rmse(Y_true, Y_pred):\n",
    "    _Y_mean = tf.constant(y_mean, dtype=tf.float32)\n",
    "    _Y_std = tf.constant(y_std, dtype=tf.float32)\n",
    "    def _unnorm(Y):\n",
    "        return _Y_std * Y + _Y_mean\n",
    "    return tf.reduce_mean(tf.sqrt(tf.reduce_mean(tf.square(_unnorm(Y_true) - _unnorm(Y_pred)), axis=-1)))\n",
    "\n",
    "\n",
    "def tf_loss(Y_true, Y_pred):\n",
    "    l1 = tf.reduce_mean(tf.reduce_mean(tf.square(Y_true - Y_pred), axis=-1))\n",
    "    l2 = tf.log(1.0 + tf_rmse(Y_true, Y_pred))    \n",
    "    return tf.minimum(l1, l2)"
   ]
  },
  {
   "cell_type": "code",
   "execution_count": 607,
   "metadata": {
    "collapsed": true
   },
   "outputs": [],
   "source": [
    "def h(index, m, x, n_filters, with_activation=True, seed=None):    \n",
    "    \n",
    "    b = tf.Variable(tf.random_uniform([n_filters], seed=seed), \n",
    "                    name='bias_%i_%i' % (index, m), dtype=tf.float32)\n",
    "    W = tf.Variable(tf.random_uniform(shape=[x.get_shape().as_list()[1], n_filters], seed=seed), \n",
    "                    name=\"W_%i_%i\" % (index, m), dtype=tf.float32)\n",
    "\n",
    "    name = 'h_%i_%i' % (index, m)\n",
    "    out = tf.add(tf.matmul(x, W), b)\n",
    "    if with_activation:\n",
    "        return tf.nn.elu(out, name=name)\n",
    "    else:\n",
    "        return tf.identity(out, name=name)\n",
    "    \n",
    "    \n",
    "def g(m, x, n_filters_list, suffix='', **params):     \n",
    "    assert len(n_filters_list) == m + 1, \"n_filters_list should be of length m+1\"\n",
    "    epsilon = tf.constant(1e-10, name='eps')   \n",
    "    _x = x if m == 0 else g(m-1, x, n_filters_list[:-1], suffix=suffix, **params)\n",
    "    h1 = h(1, m, _x, n_filters_list[m], **params)\n",
    "    h2 = h(2, m, tf.divide(tf.constant(1.0, dtype=tf.float32), tf.add(epsilon, _x)), n_filters_list[m], **params)\n",
    "    return tf.add(h1, h2, name='g_%i%s' % (m, suffix))\n",
    "\n",
    "\n",
    "def generic_nn(x, k, m, n_filters_lists, **params):  \n",
    "    assert k > 0, \"Parameter k should be positive\"\n",
    "    assert m > 0, \"Parameter m should be positive\"\n",
    "    n_filters_list = n_filters_lists[0]   \n",
    "    subnets = [h(3, 0, g(m-1, x, n_filters_list, **params), n_filters=1, with_activation=False, **params), ]\n",
    "    for i in range(1, k):\n",
    "        n_filters_list = n_filters_lists[i]        \n",
    "        subnets.append(tf.multiply(subnets[-1], \n",
    "                                   h(3, i, g(m-1, x, n_filters_list, suffix=\"_%i\" % i, **params), \n",
    "                                     n_filters=1, with_activation=False, **params)))\n",
    "    net = tf.identity(subnets[-1], name=\"net_%i_%i\" % (k, m))\n",
    "    return net"
   ]
  },
  {
   "cell_type": "code",
   "execution_count": 533,
   "metadata": {},
   "outputs": [
    {
     "data": {
      "text/html": [
       "\n",
       "        <iframe seamless style=\"width:800px;height:620px;border:0\" srcdoc=\"\n",
       "        <script>\n",
       "          function load() {\n",
       "            document.getElementById(&quot;graph0.9824448830007099&quot;).pbtxt = 'node {\\n  name: &quot;X&quot;\\n  op: &quot;Placeholder&quot;\\n  attr {\\n    key: &quot;dtype&quot;\\n    value {\\n      type: DT_FLOAT\\n    }\\n  }\\n  attr {\\n    key: &quot;shape&quot;\\n    value {\\n      shape {\\n        dim {\\n          size: -1\\n        }\\n        dim {\\n          size: 10\\n        }\\n      }\\n    }\\n  }\\n}\\nnode {\\n  name: &quot;eps&quot;\\n  op: &quot;Const&quot;\\n  attr {\\n    key: &quot;dtype&quot;\\n    value {\\n      type: DT_FLOAT\\n    }\\n  }\\n  attr {\\n    key: &quot;value&quot;\\n    value {\\n      tensor {\\n        dtype: DT_FLOAT\\n        tensor_shape {\\n        }\\n        float_val: 1.000000013351432e-10\\n      }\\n    }\\n  }\\n}\\nnode {\\n  name: &quot;eps/1&quot;\\n  op: &quot;Const&quot;\\n  attr {\\n    key: &quot;dtype&quot;\\n    value {\\n      type: DT_FLOAT\\n    }\\n  }\\n  attr {\\n    key: &quot;value&quot;\\n    value {\\n      tensor {\\n        dtype: DT_FLOAT\\n        tensor_shape {\\n        }\\n        float_val: 1.000000013351432e-10\\n      }\\n    }\\n  }\\n}\\nnode {\\n  name: &quot;eps/2&quot;\\n  op: &quot;Const&quot;\\n  attr {\\n    key: &quot;dtype&quot;\\n    value {\\n      type: DT_FLOAT\\n    }\\n  }\\n  attr {\\n    key: &quot;value&quot;\\n    value {\\n      tensor {\\n        dtype: DT_FLOAT\\n        tensor_shape {\\n        }\\n        float_val: 1.000000013351432e-10\\n      }\\n    }\\n  }\\n}\\nnode {\\n  name: &quot;eps/3&quot;\\n  op: &quot;Const&quot;\\n  attr {\\n    key: &quot;dtype&quot;\\n    value {\\n      type: DT_FLOAT\\n    }\\n  }\\n  attr {\\n    key: &quot;value&quot;\\n    value {\\n      tensor {\\n        dtype: DT_FLOAT\\n        tensor_shape {\\n        }\\n        float_val: 1.000000013351432e-10\\n      }\\n    }\\n  }\\n}\\nnode {\\n  name: &quot;random/uniform/shape&quot;\\n  op: &quot;Const&quot;\\n  attr {\\n    key: &quot;dtype&quot;\\n    value {\\n      type: DT_INT32\\n    }\\n  }\\n  attr {\\n    key: &quot;value&quot;\\n    value {\\n      tensor {\\n        dtype: DT_INT32\\n        tensor_shape {\\n          dim {\\n            size: 1\\n          }\\n        }\\n        int_val: 5\\n      }\\n    }\\n  }\\n}\\nnode {\\n  name: &quot;random/uniform/min&quot;\\n  op: &quot;Const&quot;\\n  attr {\\n    key: &quot;dtype&quot;\\n    value {\\n      type: DT_FLOAT\\n    }\\n  }\\n  attr {\\n    key: &quot;value&quot;\\n    value {\\n      tensor {\\n        dtype: DT_FLOAT\\n        tensor_shape {\\n        }\\n        float_val: 0.0\\n      }\\n    }\\n  }\\n}\\nnode {\\n  name: &quot;random/uniform/max&quot;\\n  op: &quot;Const&quot;\\n  attr {\\n    key: &quot;dtype&quot;\\n    value {\\n      type: DT_FLOAT\\n    }\\n  }\\n  attr {\\n    key: &quot;value&quot;\\n    value {\\n      tensor {\\n        dtype: DT_FLOAT\\n        tensor_shape {\\n        }\\n        float_val: 1.0\\n      }\\n    }\\n  }\\n}\\nnode {\\n  name: &quot;random/uniform/RandomUniform&quot;\\n  op: &quot;RandomUniform&quot;\\n  input: &quot;random/uniform/shape&quot;\\n  attr {\\n    key: &quot;T&quot;\\n    value {\\n      type: DT_INT32\\n    }\\n  }\\n  attr {\\n    key: &quot;dtype&quot;\\n    value {\\n      type: DT_FLOAT\\n    }\\n  }\\n  attr {\\n    key: &quot;seed&quot;\\n    value {\\n      i: 0\\n    }\\n  }\\n  attr {\\n    key: &quot;seed2&quot;\\n    value {\\n      i: 0\\n    }\\n  }\\n}\\nnode {\\n  name: &quot;random/uniform/sub&quot;\\n  op: &quot;Sub&quot;\\n  input: &quot;random/uniform/max&quot;\\n  input: &quot;random/uniform/min&quot;\\n  attr {\\n    key: &quot;T&quot;\\n    value {\\n      type: DT_FLOAT\\n    }\\n  }\\n}\\nnode {\\n  name: &quot;random/uniform/mul&quot;\\n  op: &quot;Mul&quot;\\n  input: &quot;random/uniform/RandomUniform&quot;\\n  input: &quot;random/uniform/sub&quot;\\n  attr {\\n    key: &quot;T&quot;\\n    value {\\n      type: DT_FLOAT\\n    }\\n  }\\n}\\nnode {\\n  name: &quot;random/uniform&quot;\\n  op: &quot;Add&quot;\\n  input: &quot;random/uniform/mul&quot;\\n  input: &quot;random/uniform/min&quot;\\n  attr {\\n    key: &quot;T&quot;\\n    value {\\n      type: DT_FLOAT\\n    }\\n  }\\n}\\nnode {\\n  name: &quot;bias/1_0&quot;\\n  op: &quot;VariableV2&quot;\\n  attr {\\n    key: &quot;container&quot;\\n    value {\\n      s: &quot;&quot;\\n    }\\n  }\\n  attr {\\n    key: &quot;dtype&quot;\\n    value {\\n      type: DT_FLOAT\\n    }\\n  }\\n  attr {\\n    key: &quot;shape&quot;\\n    value {\\n      shape {\\n        dim {\\n          size: 5\\n        }\\n      }\\n    }\\n  }\\n  attr {\\n    key: &quot;shared_name&quot;\\n    value {\\n      s: &quot;&quot;\\n    }\\n  }\\n}\\nnode {\\n  name: &quot;bias/1_0/Assign&quot;\\n  op: &quot;Assign&quot;\\n  input: &quot;bias/1_0&quot;\\n  input: &quot;random/uniform&quot;\\n  attr {\\n    key: &quot;T&quot;\\n    value {\\n      type: DT_FLOAT\\n    }\\n  }\\n  attr {\\n    key: &quot;_class&quot;\\n    value {\\n      list {\\n        s: &quot;loc:@bias_1_0&quot;\\n      }\\n    }\\n  }\\n  attr {\\n    key: &quot;use_locking&quot;\\n    value {\\n      b: true\\n    }\\n  }\\n  attr {\\n    key: &quot;validate_shape&quot;\\n    value {\\n      b: true\\n    }\\n  }\\n}\\nnode {\\n  name: &quot;bias/1_0/read&quot;\\n  op: &quot;Identity&quot;\\n  input: &quot;bias/1_0&quot;\\n  attr {\\n    key: &quot;T&quot;\\n    value {\\n      type: DT_FLOAT\\n    }\\n  }\\n  attr {\\n    key: &quot;_class&quot;\\n    value {\\n      list {\\n        s: &quot;loc:@bias_1_0&quot;\\n      }\\n    }\\n  }\\n}\\nnode {\\n  name: &quot;random/uniform_1/shape&quot;\\n  op: &quot;Const&quot;\\n  attr {\\n    key: &quot;dtype&quot;\\n    value {\\n      type: DT_INT32\\n    }\\n  }\\n  attr {\\n    key: &quot;value&quot;\\n    value {\\n      tensor {\\n        dtype: DT_INT32\\n        tensor_shape {\\n          dim {\\n            size: 2\\n          }\\n        }\\n        tensor_content: &quot;\\\\n\\\\000\\\\000\\\\000\\\\005\\\\000\\\\000\\\\000&quot;\\n      }\\n    }\\n  }\\n}\\nnode {\\n  name: &quot;random/uniform_1/min&quot;\\n  op: &quot;Const&quot;\\n  attr {\\n    key: &quot;dtype&quot;\\n    value {\\n      type: DT_FLOAT\\n    }\\n  }\\n  attr {\\n    key: &quot;value&quot;\\n    value {\\n      tensor {\\n        dtype: DT_FLOAT\\n        tensor_shape {\\n        }\\n        float_val: 0.0\\n      }\\n    }\\n  }\\n}\\nnode {\\n  name: &quot;random/uniform_1/max&quot;\\n  op: &quot;Const&quot;\\n  attr {\\n    key: &quot;dtype&quot;\\n    value {\\n      type: DT_FLOAT\\n    }\\n  }\\n  attr {\\n    key: &quot;value&quot;\\n    value {\\n      tensor {\\n        dtype: DT_FLOAT\\n        tensor_shape {\\n        }\\n        float_val: 1.0\\n      }\\n    }\\n  }\\n}\\nnode {\\n  name: &quot;random/uniform_1/RandomUniform&quot;\\n  op: &quot;RandomUniform&quot;\\n  input: &quot;random/uniform_1/shape&quot;\\n  attr {\\n    key: &quot;T&quot;\\n    value {\\n      type: DT_INT32\\n    }\\n  }\\n  attr {\\n    key: &quot;dtype&quot;\\n    value {\\n      type: DT_FLOAT\\n    }\\n  }\\n  attr {\\n    key: &quot;seed&quot;\\n    value {\\n      i: 0\\n    }\\n  }\\n  attr {\\n    key: &quot;seed2&quot;\\n    value {\\n      i: 0\\n    }\\n  }\\n}\\nnode {\\n  name: &quot;random/uniform_1/sub&quot;\\n  op: &quot;Sub&quot;\\n  input: &quot;random/uniform_1/max&quot;\\n  input: &quot;random/uniform_1/min&quot;\\n  attr {\\n    key: &quot;T&quot;\\n    value {\\n      type: DT_FLOAT\\n    }\\n  }\\n}\\nnode {\\n  name: &quot;random/uniform_1/mul&quot;\\n  op: &quot;Mul&quot;\\n  input: &quot;random/uniform_1/RandomUniform&quot;\\n  input: &quot;random/uniform_1/sub&quot;\\n  attr {\\n    key: &quot;T&quot;\\n    value {\\n      type: DT_FLOAT\\n    }\\n  }\\n}\\nnode {\\n  name: &quot;random/uniform_1&quot;\\n  op: &quot;Add&quot;\\n  input: &quot;random/uniform_1/mul&quot;\\n  input: &quot;random/uniform_1/min&quot;\\n  attr {\\n    key: &quot;T&quot;\\n    value {\\n      type: DT_FLOAT\\n    }\\n  }\\n}\\nnode {\\n  name: &quot;W/1_0&quot;\\n  op: &quot;VariableV2&quot;\\n  attr {\\n    key: &quot;container&quot;\\n    value {\\n      s: &quot;&quot;\\n    }\\n  }\\n  attr {\\n    key: &quot;dtype&quot;\\n    value {\\n      type: DT_FLOAT\\n    }\\n  }\\n  attr {\\n    key: &quot;shape&quot;\\n    value {\\n      shape {\\n        dim {\\n          size: 10\\n        }\\n        dim {\\n          size: 5\\n        }\\n      }\\n    }\\n  }\\n  attr {\\n    key: &quot;shared_name&quot;\\n    value {\\n      s: &quot;&quot;\\n    }\\n  }\\n}\\nnode {\\n  name: &quot;W/1_0/Assign&quot;\\n  op: &quot;Assign&quot;\\n  input: &quot;W/1_0&quot;\\n  input: &quot;random/uniform_1&quot;\\n  attr {\\n    key: &quot;T&quot;\\n    value {\\n      type: DT_FLOAT\\n    }\\n  }\\n  attr {\\n    key: &quot;_class&quot;\\n    value {\\n      list {\\n        s: &quot;loc:@W_1_0&quot;\\n      }\\n    }\\n  }\\n  attr {\\n    key: &quot;use_locking&quot;\\n    value {\\n      b: true\\n    }\\n  }\\n  attr {\\n    key: &quot;validate_shape&quot;\\n    value {\\n      b: true\\n    }\\n  }\\n}\\nnode {\\n  name: &quot;W/1_0/read&quot;\\n  op: &quot;Identity&quot;\\n  input: &quot;W/1_0&quot;\\n  attr {\\n    key: &quot;T&quot;\\n    value {\\n      type: DT_FLOAT\\n    }\\n  }\\n  attr {\\n    key: &quot;_class&quot;\\n    value {\\n      list {\\n        s: &quot;loc:@W_1_0&quot;\\n      }\\n    }\\n  }\\n}\\nnode {\\n  name: &quot;MatMul&quot;\\n  op: &quot;MatMul&quot;\\n  input: &quot;X&quot;\\n  input: &quot;W/1_0/read&quot;\\n  attr {\\n    key: &quot;T&quot;\\n    value {\\n      type: DT_FLOAT\\n    }\\n  }\\n  attr {\\n    key: &quot;transpose_a&quot;\\n    value {\\n      b: false\\n    }\\n  }\\n  attr {\\n    key: &quot;transpose_b&quot;\\n    value {\\n      b: false\\n    }\\n  }\\n}\\nnode {\\n  name: &quot;Add&quot;\\n  op: &quot;Add&quot;\\n  input: &quot;MatMul&quot;\\n  input: &quot;bias/1_0/read&quot;\\n  attr {\\n    key: &quot;T&quot;\\n    value {\\n      type: DT_FLOAT\\n    }\\n  }\\n}\\nnode {\\n  name: &quot;h/1_0&quot;\\n  op: &quot;Relu&quot;\\n  input: &quot;Add&quot;\\n  attr {\\n    key: &quot;T&quot;\\n    value {\\n      type: DT_FLOAT\\n    }\\n  }\\n}\\nnode {\\n  name: &quot;Const&quot;\\n  op: &quot;Const&quot;\\n  attr {\\n    key: &quot;dtype&quot;\\n    value {\\n      type: DT_FLOAT\\n    }\\n  }\\n  attr {\\n    key: &quot;value&quot;\\n    value {\\n      tensor {\\n        dtype: DT_FLOAT\\n        tensor_shape {\\n        }\\n        float_val: 1.0\\n      }\\n    }\\n  }\\n}\\nnode {\\n  name: &quot;Add/1&quot;\\n  op: &quot;Add&quot;\\n  input: &quot;eps/3&quot;\\n  input: &quot;X&quot;\\n  attr {\\n    key: &quot;T&quot;\\n    value {\\n      type: DT_FLOAT\\n    }\\n  }\\n}\\nnode {\\n  name: &quot;truediv&quot;\\n  op: &quot;RealDiv&quot;\\n  input: &quot;Const&quot;\\n  input: &quot;Add/1&quot;\\n  attr {\\n    key: &quot;T&quot;\\n    value {\\n      type: DT_FLOAT\\n    }\\n  }\\n}\\nnode {\\n  name: &quot;random/uniform_2/shape&quot;\\n  op: &quot;Const&quot;\\n  attr {\\n    key: &quot;dtype&quot;\\n    value {\\n      type: DT_INT32\\n    }\\n  }\\n  attr {\\n    key: &quot;value&quot;\\n    value {\\n      tensor {\\n        dtype: DT_INT32\\n        tensor_shape {\\n          dim {\\n            size: 1\\n          }\\n        }\\n        int_val: 5\\n      }\\n    }\\n  }\\n}\\nnode {\\n  name: &quot;random/uniform_2/min&quot;\\n  op: &quot;Const&quot;\\n  attr {\\n    key: &quot;dtype&quot;\\n    value {\\n      type: DT_FLOAT\\n    }\\n  }\\n  attr {\\n    key: &quot;value&quot;\\n    value {\\n      tensor {\\n        dtype: DT_FLOAT\\n        tensor_shape {\\n        }\\n        float_val: 0.0\\n      }\\n    }\\n  }\\n}\\nnode {\\n  name: &quot;random/uniform_2/max&quot;\\n  op: &quot;Const&quot;\\n  attr {\\n    key: &quot;dtype&quot;\\n    value {\\n      type: DT_FLOAT\\n    }\\n  }\\n  attr {\\n    key: &quot;value&quot;\\n    value {\\n      tensor {\\n        dtype: DT_FLOAT\\n        tensor_shape {\\n        }\\n        float_val: 1.0\\n      }\\n    }\\n  }\\n}\\nnode {\\n  name: &quot;random/uniform_2/RandomUniform&quot;\\n  op: &quot;RandomUniform&quot;\\n  input: &quot;random/uniform_2/shape&quot;\\n  attr {\\n    key: &quot;T&quot;\\n    value {\\n      type: DT_INT32\\n    }\\n  }\\n  attr {\\n    key: &quot;dtype&quot;\\n    value {\\n      type: DT_FLOAT\\n    }\\n  }\\n  attr {\\n    key: &quot;seed&quot;\\n    value {\\n      i: 0\\n    }\\n  }\\n  attr {\\n    key: &quot;seed2&quot;\\n    value {\\n      i: 0\\n    }\\n  }\\n}\\nnode {\\n  name: &quot;random/uniform_2/sub&quot;\\n  op: &quot;Sub&quot;\\n  input: &quot;random/uniform_2/max&quot;\\n  input: &quot;random/uniform_2/min&quot;\\n  attr {\\n    key: &quot;T&quot;\\n    value {\\n      type: DT_FLOAT\\n    }\\n  }\\n}\\nnode {\\n  name: &quot;random/uniform_2/mul&quot;\\n  op: &quot;Mul&quot;\\n  input: &quot;random/uniform_2/RandomUniform&quot;\\n  input: &quot;random/uniform_2/sub&quot;\\n  attr {\\n    key: &quot;T&quot;\\n    value {\\n      type: DT_FLOAT\\n    }\\n  }\\n}\\nnode {\\n  name: &quot;random/uniform_2&quot;\\n  op: &quot;Add&quot;\\n  input: &quot;random/uniform_2/mul&quot;\\n  input: &quot;random/uniform_2/min&quot;\\n  attr {\\n    key: &quot;T&quot;\\n    value {\\n      type: DT_FLOAT\\n    }\\n  }\\n}\\nnode {\\n  name: &quot;bias/2_0&quot;\\n  op: &quot;VariableV2&quot;\\n  attr {\\n    key: &quot;container&quot;\\n    value {\\n      s: &quot;&quot;\\n    }\\n  }\\n  attr {\\n    key: &quot;dtype&quot;\\n    value {\\n      type: DT_FLOAT\\n    }\\n  }\\n  attr {\\n    key: &quot;shape&quot;\\n    value {\\n      shape {\\n        dim {\\n          size: 5\\n        }\\n      }\\n    }\\n  }\\n  attr {\\n    key: &quot;shared_name&quot;\\n    value {\\n      s: &quot;&quot;\\n    }\\n  }\\n}\\nnode {\\n  name: &quot;bias/2_0/Assign&quot;\\n  op: &quot;Assign&quot;\\n  input: &quot;bias/2_0&quot;\\n  input: &quot;random/uniform_2&quot;\\n  attr {\\n    key: &quot;T&quot;\\n    value {\\n      type: DT_FLOAT\\n    }\\n  }\\n  attr {\\n    key: &quot;_class&quot;\\n    value {\\n      list {\\n        s: &quot;loc:@bias_2_0&quot;\\n      }\\n    }\\n  }\\n  attr {\\n    key: &quot;use_locking&quot;\\n    value {\\n      b: true\\n    }\\n  }\\n  attr {\\n    key: &quot;validate_shape&quot;\\n    value {\\n      b: true\\n    }\\n  }\\n}\\nnode {\\n  name: &quot;bias/2_0/read&quot;\\n  op: &quot;Identity&quot;\\n  input: &quot;bias/2_0&quot;\\n  attr {\\n    key: &quot;T&quot;\\n    value {\\n      type: DT_FLOAT\\n    }\\n  }\\n  attr {\\n    key: &quot;_class&quot;\\n    value {\\n      list {\\n        s: &quot;loc:@bias_2_0&quot;\\n      }\\n    }\\n  }\\n}\\nnode {\\n  name: &quot;random/uniform_3/shape&quot;\\n  op: &quot;Const&quot;\\n  attr {\\n    key: &quot;dtype&quot;\\n    value {\\n      type: DT_INT32\\n    }\\n  }\\n  attr {\\n    key: &quot;value&quot;\\n    value {\\n      tensor {\\n        dtype: DT_INT32\\n        tensor_shape {\\n          dim {\\n            size: 2\\n          }\\n        }\\n        tensor_content: &quot;\\\\n\\\\000\\\\000\\\\000\\\\005\\\\000\\\\000\\\\000&quot;\\n      }\\n    }\\n  }\\n}\\nnode {\\n  name: &quot;random/uniform_3/min&quot;\\n  op: &quot;Const&quot;\\n  attr {\\n    key: &quot;dtype&quot;\\n    value {\\n      type: DT_FLOAT\\n    }\\n  }\\n  attr {\\n    key: &quot;value&quot;\\n    value {\\n      tensor {\\n        dtype: DT_FLOAT\\n        tensor_shape {\\n        }\\n        float_val: 0.0\\n      }\\n    }\\n  }\\n}\\nnode {\\n  name: &quot;random/uniform_3/max&quot;\\n  op: &quot;Const&quot;\\n  attr {\\n    key: &quot;dtype&quot;\\n    value {\\n      type: DT_FLOAT\\n    }\\n  }\\n  attr {\\n    key: &quot;value&quot;\\n    value {\\n      tensor {\\n        dtype: DT_FLOAT\\n        tensor_shape {\\n        }\\n        float_val: 1.0\\n      }\\n    }\\n  }\\n}\\nnode {\\n  name: &quot;random/uniform_3/RandomUniform&quot;\\n  op: &quot;RandomUniform&quot;\\n  input: &quot;random/uniform_3/shape&quot;\\n  attr {\\n    key: &quot;T&quot;\\n    value {\\n      type: DT_INT32\\n    }\\n  }\\n  attr {\\n    key: &quot;dtype&quot;\\n    value {\\n      type: DT_FLOAT\\n    }\\n  }\\n  attr {\\n    key: &quot;seed&quot;\\n    value {\\n      i: 0\\n    }\\n  }\\n  attr {\\n    key: &quot;seed2&quot;\\n    value {\\n      i: 0\\n    }\\n  }\\n}\\nnode {\\n  name: &quot;random/uniform_3/sub&quot;\\n  op: &quot;Sub&quot;\\n  input: &quot;random/uniform_3/max&quot;\\n  input: &quot;random/uniform_3/min&quot;\\n  attr {\\n    key: &quot;T&quot;\\n    value {\\n      type: DT_FLOAT\\n    }\\n  }\\n}\\nnode {\\n  name: &quot;random/uniform_3/mul&quot;\\n  op: &quot;Mul&quot;\\n  input: &quot;random/uniform_3/RandomUniform&quot;\\n  input: &quot;random/uniform_3/sub&quot;\\n  attr {\\n    key: &quot;T&quot;\\n    value {\\n      type: DT_FLOAT\\n    }\\n  }\\n}\\nnode {\\n  name: &quot;random/uniform_3&quot;\\n  op: &quot;Add&quot;\\n  input: &quot;random/uniform_3/mul&quot;\\n  input: &quot;random/uniform_3/min&quot;\\n  attr {\\n    key: &quot;T&quot;\\n    value {\\n      type: DT_FLOAT\\n    }\\n  }\\n}\\nnode {\\n  name: &quot;W/2_0&quot;\\n  op: &quot;VariableV2&quot;\\n  attr {\\n    key: &quot;container&quot;\\n    value {\\n      s: &quot;&quot;\\n    }\\n  }\\n  attr {\\n    key: &quot;dtype&quot;\\n    value {\\n      type: DT_FLOAT\\n    }\\n  }\\n  attr {\\n    key: &quot;shape&quot;\\n    value {\\n      shape {\\n        dim {\\n          size: 10\\n        }\\n        dim {\\n          size: 5\\n        }\\n      }\\n    }\\n  }\\n  attr {\\n    key: &quot;shared_name&quot;\\n    value {\\n      s: &quot;&quot;\\n    }\\n  }\\n}\\nnode {\\n  name: &quot;W/2_0/Assign&quot;\\n  op: &quot;Assign&quot;\\n  input: &quot;W/2_0&quot;\\n  input: &quot;random/uniform_3&quot;\\n  attr {\\n    key: &quot;T&quot;\\n    value {\\n      type: DT_FLOAT\\n    }\\n  }\\n  attr {\\n    key: &quot;_class&quot;\\n    value {\\n      list {\\n        s: &quot;loc:@W_2_0&quot;\\n      }\\n    }\\n  }\\n  attr {\\n    key: &quot;use_locking&quot;\\n    value {\\n      b: true\\n    }\\n  }\\n  attr {\\n    key: &quot;validate_shape&quot;\\n    value {\\n      b: true\\n    }\\n  }\\n}\\nnode {\\n  name: &quot;W/2_0/read&quot;\\n  op: &quot;Identity&quot;\\n  input: &quot;W/2_0&quot;\\n  attr {\\n    key: &quot;T&quot;\\n    value {\\n      type: DT_FLOAT\\n    }\\n  }\\n  attr {\\n    key: &quot;_class&quot;\\n    value {\\n      list {\\n        s: &quot;loc:@W_2_0&quot;\\n      }\\n    }\\n  }\\n}\\nnode {\\n  name: &quot;MatMul/1&quot;\\n  op: &quot;MatMul&quot;\\n  input: &quot;truediv&quot;\\n  input: &quot;W/2_0/read&quot;\\n  attr {\\n    key: &quot;T&quot;\\n    value {\\n      type: DT_FLOAT\\n    }\\n  }\\n  attr {\\n    key: &quot;transpose_a&quot;\\n    value {\\n      b: false\\n    }\\n  }\\n  attr {\\n    key: &quot;transpose_b&quot;\\n    value {\\n      b: false\\n    }\\n  }\\n}\\nnode {\\n  name: &quot;Add/2&quot;\\n  op: &quot;Add&quot;\\n  input: &quot;MatMul/1&quot;\\n  input: &quot;bias/2_0/read&quot;\\n  attr {\\n    key: &quot;T&quot;\\n    value {\\n      type: DT_FLOAT\\n    }\\n  }\\n}\\nnode {\\n  name: &quot;h/2_0&quot;\\n  op: &quot;Relu&quot;\\n  input: &quot;Add/2&quot;\\n  attr {\\n    key: &quot;T&quot;\\n    value {\\n      type: DT_FLOAT\\n    }\\n  }\\n}\\nnode {\\n  name: &quot;g/0&quot;\\n  op: &quot;Add&quot;\\n  input: &quot;h/1_0&quot;\\n  input: &quot;h/2_0&quot;\\n  attr {\\n    key: &quot;T&quot;\\n    value {\\n      type: DT_FLOAT\\n    }\\n  }\\n}\\nnode {\\n  name: &quot;random/uniform_4/shape&quot;\\n  op: &quot;Const&quot;\\n  attr {\\n    key: &quot;dtype&quot;\\n    value {\\n      type: DT_INT32\\n    }\\n  }\\n  attr {\\n    key: &quot;value&quot;\\n    value {\\n      tensor {\\n        dtype: DT_INT32\\n        tensor_shape {\\n          dim {\\n            size: 1\\n          }\\n        }\\n        int_val: 6\\n      }\\n    }\\n  }\\n}\\nnode {\\n  name: &quot;random/uniform_4/min&quot;\\n  op: &quot;Const&quot;\\n  attr {\\n    key: &quot;dtype&quot;\\n    value {\\n      type: DT_FLOAT\\n    }\\n  }\\n  attr {\\n    key: &quot;value&quot;\\n    value {\\n      tensor {\\n        dtype: DT_FLOAT\\n        tensor_shape {\\n        }\\n        float_val: 0.0\\n      }\\n    }\\n  }\\n}\\nnode {\\n  name: &quot;random/uniform_4/max&quot;\\n  op: &quot;Const&quot;\\n  attr {\\n    key: &quot;dtype&quot;\\n    value {\\n      type: DT_FLOAT\\n    }\\n  }\\n  attr {\\n    key: &quot;value&quot;\\n    value {\\n      tensor {\\n        dtype: DT_FLOAT\\n        tensor_shape {\\n        }\\n        float_val: 1.0\\n      }\\n    }\\n  }\\n}\\nnode {\\n  name: &quot;random/uniform_4/RandomUniform&quot;\\n  op: &quot;RandomUniform&quot;\\n  input: &quot;random/uniform_4/shape&quot;\\n  attr {\\n    key: &quot;T&quot;\\n    value {\\n      type: DT_INT32\\n    }\\n  }\\n  attr {\\n    key: &quot;dtype&quot;\\n    value {\\n      type: DT_FLOAT\\n    }\\n  }\\n  attr {\\n    key: &quot;seed&quot;\\n    value {\\n      i: 0\\n    }\\n  }\\n  attr {\\n    key: &quot;seed2&quot;\\n    value {\\n      i: 0\\n    }\\n  }\\n}\\nnode {\\n  name: &quot;random/uniform_4/sub&quot;\\n  op: &quot;Sub&quot;\\n  input: &quot;random/uniform_4/max&quot;\\n  input: &quot;random/uniform_4/min&quot;\\n  attr {\\n    key: &quot;T&quot;\\n    value {\\n      type: DT_FLOAT\\n    }\\n  }\\n}\\nnode {\\n  name: &quot;random/uniform_4/mul&quot;\\n  op: &quot;Mul&quot;\\n  input: &quot;random/uniform_4/RandomUniform&quot;\\n  input: &quot;random/uniform_4/sub&quot;\\n  attr {\\n    key: &quot;T&quot;\\n    value {\\n      type: DT_FLOAT\\n    }\\n  }\\n}\\nnode {\\n  name: &quot;random/uniform_4&quot;\\n  op: &quot;Add&quot;\\n  input: &quot;random/uniform_4/mul&quot;\\n  input: &quot;random/uniform_4/min&quot;\\n  attr {\\n    key: &quot;T&quot;\\n    value {\\n      type: DT_FLOAT\\n    }\\n  }\\n}\\nnode {\\n  name: &quot;bias/1_1&quot;\\n  op: &quot;VariableV2&quot;\\n  attr {\\n    key: &quot;container&quot;\\n    value {\\n      s: &quot;&quot;\\n    }\\n  }\\n  attr {\\n    key: &quot;dtype&quot;\\n    value {\\n      type: DT_FLOAT\\n    }\\n  }\\n  attr {\\n    key: &quot;shape&quot;\\n    value {\\n      shape {\\n        dim {\\n          size: 6\\n        }\\n      }\\n    }\\n  }\\n  attr {\\n    key: &quot;shared_name&quot;\\n    value {\\n      s: &quot;&quot;\\n    }\\n  }\\n}\\nnode {\\n  name: &quot;bias/1_1/Assign&quot;\\n  op: &quot;Assign&quot;\\n  input: &quot;bias/1_1&quot;\\n  input: &quot;random/uniform_4&quot;\\n  attr {\\n    key: &quot;T&quot;\\n    value {\\n      type: DT_FLOAT\\n    }\\n  }\\n  attr {\\n    key: &quot;_class&quot;\\n    value {\\n      list {\\n        s: &quot;loc:@bias_1_1&quot;\\n      }\\n    }\\n  }\\n  attr {\\n    key: &quot;use_locking&quot;\\n    value {\\n      b: true\\n    }\\n  }\\n  attr {\\n    key: &quot;validate_shape&quot;\\n    value {\\n      b: true\\n    }\\n  }\\n}\\nnode {\\n  name: &quot;bias/1_1/read&quot;\\n  op: &quot;Identity&quot;\\n  input: &quot;bias/1_1&quot;\\n  attr {\\n    key: &quot;T&quot;\\n    value {\\n      type: DT_FLOAT\\n    }\\n  }\\n  attr {\\n    key: &quot;_class&quot;\\n    value {\\n      list {\\n        s: &quot;loc:@bias_1_1&quot;\\n      }\\n    }\\n  }\\n}\\nnode {\\n  name: &quot;random/uniform_5/shape&quot;\\n  op: &quot;Const&quot;\\n  attr {\\n    key: &quot;dtype&quot;\\n    value {\\n      type: DT_INT32\\n    }\\n  }\\n  attr {\\n    key: &quot;value&quot;\\n    value {\\n      tensor {\\n        dtype: DT_INT32\\n        tensor_shape {\\n          dim {\\n            size: 2\\n          }\\n        }\\n        tensor_content: &quot;\\\\005\\\\000\\\\000\\\\000\\\\006\\\\000\\\\000\\\\000&quot;\\n      }\\n    }\\n  }\\n}\\nnode {\\n  name: &quot;random/uniform_5/min&quot;\\n  op: &quot;Const&quot;\\n  attr {\\n    key: &quot;dtype&quot;\\n    value {\\n      type: DT_FLOAT\\n    }\\n  }\\n  attr {\\n    key: &quot;value&quot;\\n    value {\\n      tensor {\\n        dtype: DT_FLOAT\\n        tensor_shape {\\n        }\\n        float_val: 0.0\\n      }\\n    }\\n  }\\n}\\nnode {\\n  name: &quot;random/uniform_5/max&quot;\\n  op: &quot;Const&quot;\\n  attr {\\n    key: &quot;dtype&quot;\\n    value {\\n      type: DT_FLOAT\\n    }\\n  }\\n  attr {\\n    key: &quot;value&quot;\\n    value {\\n      tensor {\\n        dtype: DT_FLOAT\\n        tensor_shape {\\n        }\\n        float_val: 1.0\\n      }\\n    }\\n  }\\n}\\nnode {\\n  name: &quot;random/uniform_5/RandomUniform&quot;\\n  op: &quot;RandomUniform&quot;\\n  input: &quot;random/uniform_5/shape&quot;\\n  attr {\\n    key: &quot;T&quot;\\n    value {\\n      type: DT_INT32\\n    }\\n  }\\n  attr {\\n    key: &quot;dtype&quot;\\n    value {\\n      type: DT_FLOAT\\n    }\\n  }\\n  attr {\\n    key: &quot;seed&quot;\\n    value {\\n      i: 0\\n    }\\n  }\\n  attr {\\n    key: &quot;seed2&quot;\\n    value {\\n      i: 0\\n    }\\n  }\\n}\\nnode {\\n  name: &quot;random/uniform_5/sub&quot;\\n  op: &quot;Sub&quot;\\n  input: &quot;random/uniform_5/max&quot;\\n  input: &quot;random/uniform_5/min&quot;\\n  attr {\\n    key: &quot;T&quot;\\n    value {\\n      type: DT_FLOAT\\n    }\\n  }\\n}\\nnode {\\n  name: &quot;random/uniform_5/mul&quot;\\n  op: &quot;Mul&quot;\\n  input: &quot;random/uniform_5/RandomUniform&quot;\\n  input: &quot;random/uniform_5/sub&quot;\\n  attr {\\n    key: &quot;T&quot;\\n    value {\\n      type: DT_FLOAT\\n    }\\n  }\\n}\\nnode {\\n  name: &quot;random/uniform_5&quot;\\n  op: &quot;Add&quot;\\n  input: &quot;random/uniform_5/mul&quot;\\n  input: &quot;random/uniform_5/min&quot;\\n  attr {\\n    key: &quot;T&quot;\\n    value {\\n      type: DT_FLOAT\\n    }\\n  }\\n}\\nnode {\\n  name: &quot;W/1_1&quot;\\n  op: &quot;VariableV2&quot;\\n  attr {\\n    key: &quot;container&quot;\\n    value {\\n      s: &quot;&quot;\\n    }\\n  }\\n  attr {\\n    key: &quot;dtype&quot;\\n    value {\\n      type: DT_FLOAT\\n    }\\n  }\\n  attr {\\n    key: &quot;shape&quot;\\n    value {\\n      shape {\\n        dim {\\n          size: 5\\n        }\\n        dim {\\n          size: 6\\n        }\\n      }\\n    }\\n  }\\n  attr {\\n    key: &quot;shared_name&quot;\\n    value {\\n      s: &quot;&quot;\\n    }\\n  }\\n}\\nnode {\\n  name: &quot;W/1_1/Assign&quot;\\n  op: &quot;Assign&quot;\\n  input: &quot;W/1_1&quot;\\n  input: &quot;random/uniform_5&quot;\\n  attr {\\n    key: &quot;T&quot;\\n    value {\\n      type: DT_FLOAT\\n    }\\n  }\\n  attr {\\n    key: &quot;_class&quot;\\n    value {\\n      list {\\n        s: &quot;loc:@W_1_1&quot;\\n      }\\n    }\\n  }\\n  attr {\\n    key: &quot;use_locking&quot;\\n    value {\\n      b: true\\n    }\\n  }\\n  attr {\\n    key: &quot;validate_shape&quot;\\n    value {\\n      b: true\\n    }\\n  }\\n}\\nnode {\\n  name: &quot;W/1_1/read&quot;\\n  op: &quot;Identity&quot;\\n  input: &quot;W/1_1&quot;\\n  attr {\\n    key: &quot;T&quot;\\n    value {\\n      type: DT_FLOAT\\n    }\\n  }\\n  attr {\\n    key: &quot;_class&quot;\\n    value {\\n      list {\\n        s: &quot;loc:@W_1_1&quot;\\n      }\\n    }\\n  }\\n}\\nnode {\\n  name: &quot;MatMul/2&quot;\\n  op: &quot;MatMul&quot;\\n  input: &quot;g/0&quot;\\n  input: &quot;W/1_1/read&quot;\\n  attr {\\n    key: &quot;T&quot;\\n    value {\\n      type: DT_FLOAT\\n    }\\n  }\\n  attr {\\n    key: &quot;transpose_a&quot;\\n    value {\\n      b: false\\n    }\\n  }\\n  attr {\\n    key: &quot;transpose_b&quot;\\n    value {\\n      b: false\\n    }\\n  }\\n}\\nnode {\\n  name: &quot;Add/3&quot;\\n  op: &quot;Add&quot;\\n  input: &quot;MatMul/2&quot;\\n  input: &quot;bias/1_1/read&quot;\\n  attr {\\n    key: &quot;T&quot;\\n    value {\\n      type: DT_FLOAT\\n    }\\n  }\\n}\\nnode {\\n  name: &quot;h/1_1&quot;\\n  op: &quot;Relu&quot;\\n  input: &quot;Add/3&quot;\\n  attr {\\n    key: &quot;T&quot;\\n    value {\\n      type: DT_FLOAT\\n    }\\n  }\\n}\\nnode {\\n  name: &quot;Const/1&quot;\\n  op: &quot;Const&quot;\\n  attr {\\n    key: &quot;dtype&quot;\\n    value {\\n      type: DT_FLOAT\\n    }\\n  }\\n  attr {\\n    key: &quot;value&quot;\\n    value {\\n      tensor {\\n        dtype: DT_FLOAT\\n        tensor_shape {\\n        }\\n        float_val: 1.0\\n      }\\n    }\\n  }\\n}\\nnode {\\n  name: &quot;Add/4&quot;\\n  op: &quot;Add&quot;\\n  input: &quot;eps/2&quot;\\n  input: &quot;g/0&quot;\\n  attr {\\n    key: &quot;T&quot;\\n    value {\\n      type: DT_FLOAT\\n    }\\n  }\\n}\\nnode {\\n  name: &quot;truediv/1&quot;\\n  op: &quot;RealDiv&quot;\\n  input: &quot;Const/1&quot;\\n  input: &quot;Add/4&quot;\\n  attr {\\n    key: &quot;T&quot;\\n    value {\\n      type: DT_FLOAT\\n    }\\n  }\\n}\\nnode {\\n  name: &quot;random/uniform_6/shape&quot;\\n  op: &quot;Const&quot;\\n  attr {\\n    key: &quot;dtype&quot;\\n    value {\\n      type: DT_INT32\\n    }\\n  }\\n  attr {\\n    key: &quot;value&quot;\\n    value {\\n      tensor {\\n        dtype: DT_INT32\\n        tensor_shape {\\n          dim {\\n            size: 1\\n          }\\n        }\\n        int_val: 6\\n      }\\n    }\\n  }\\n}\\nnode {\\n  name: &quot;random/uniform_6/min&quot;\\n  op: &quot;Const&quot;\\n  attr {\\n    key: &quot;dtype&quot;\\n    value {\\n      type: DT_FLOAT\\n    }\\n  }\\n  attr {\\n    key: &quot;value&quot;\\n    value {\\n      tensor {\\n        dtype: DT_FLOAT\\n        tensor_shape {\\n        }\\n        float_val: 0.0\\n      }\\n    }\\n  }\\n}\\nnode {\\n  name: &quot;random/uniform_6/max&quot;\\n  op: &quot;Const&quot;\\n  attr {\\n    key: &quot;dtype&quot;\\n    value {\\n      type: DT_FLOAT\\n    }\\n  }\\n  attr {\\n    key: &quot;value&quot;\\n    value {\\n      tensor {\\n        dtype: DT_FLOAT\\n        tensor_shape {\\n        }\\n        float_val: 1.0\\n      }\\n    }\\n  }\\n}\\nnode {\\n  name: &quot;random/uniform_6/RandomUniform&quot;\\n  op: &quot;RandomUniform&quot;\\n  input: &quot;random/uniform_6/shape&quot;\\n  attr {\\n    key: &quot;T&quot;\\n    value {\\n      type: DT_INT32\\n    }\\n  }\\n  attr {\\n    key: &quot;dtype&quot;\\n    value {\\n      type: DT_FLOAT\\n    }\\n  }\\n  attr {\\n    key: &quot;seed&quot;\\n    value {\\n      i: 0\\n    }\\n  }\\n  attr {\\n    key: &quot;seed2&quot;\\n    value {\\n      i: 0\\n    }\\n  }\\n}\\nnode {\\n  name: &quot;random/uniform_6/sub&quot;\\n  op: &quot;Sub&quot;\\n  input: &quot;random/uniform_6/max&quot;\\n  input: &quot;random/uniform_6/min&quot;\\n  attr {\\n    key: &quot;T&quot;\\n    value {\\n      type: DT_FLOAT\\n    }\\n  }\\n}\\nnode {\\n  name: &quot;random/uniform_6/mul&quot;\\n  op: &quot;Mul&quot;\\n  input: &quot;random/uniform_6/RandomUniform&quot;\\n  input: &quot;random/uniform_6/sub&quot;\\n  attr {\\n    key: &quot;T&quot;\\n    value {\\n      type: DT_FLOAT\\n    }\\n  }\\n}\\nnode {\\n  name: &quot;random/uniform_6&quot;\\n  op: &quot;Add&quot;\\n  input: &quot;random/uniform_6/mul&quot;\\n  input: &quot;random/uniform_6/min&quot;\\n  attr {\\n    key: &quot;T&quot;\\n    value {\\n      type: DT_FLOAT\\n    }\\n  }\\n}\\nnode {\\n  name: &quot;bias/2_1&quot;\\n  op: &quot;VariableV2&quot;\\n  attr {\\n    key: &quot;container&quot;\\n    value {\\n      s: &quot;&quot;\\n    }\\n  }\\n  attr {\\n    key: &quot;dtype&quot;\\n    value {\\n      type: DT_FLOAT\\n    }\\n  }\\n  attr {\\n    key: &quot;shape&quot;\\n    value {\\n      shape {\\n        dim {\\n          size: 6\\n        }\\n      }\\n    }\\n  }\\n  attr {\\n    key: &quot;shared_name&quot;\\n    value {\\n      s: &quot;&quot;\\n    }\\n  }\\n}\\nnode {\\n  name: &quot;bias/2_1/Assign&quot;\\n  op: &quot;Assign&quot;\\n  input: &quot;bias/2_1&quot;\\n  input: &quot;random/uniform_6&quot;\\n  attr {\\n    key: &quot;T&quot;\\n    value {\\n      type: DT_FLOAT\\n    }\\n  }\\n  attr {\\n    key: &quot;_class&quot;\\n    value {\\n      list {\\n        s: &quot;loc:@bias_2_1&quot;\\n      }\\n    }\\n  }\\n  attr {\\n    key: &quot;use_locking&quot;\\n    value {\\n      b: true\\n    }\\n  }\\n  attr {\\n    key: &quot;validate_shape&quot;\\n    value {\\n      b: true\\n    }\\n  }\\n}\\nnode {\\n  name: &quot;bias/2_1/read&quot;\\n  op: &quot;Identity&quot;\\n  input: &quot;bias/2_1&quot;\\n  attr {\\n    key: &quot;T&quot;\\n    value {\\n      type: DT_FLOAT\\n    }\\n  }\\n  attr {\\n    key: &quot;_class&quot;\\n    value {\\n      list {\\n        s: &quot;loc:@bias_2_1&quot;\\n      }\\n    }\\n  }\\n}\\nnode {\\n  name: &quot;random/uniform_7/shape&quot;\\n  op: &quot;Const&quot;\\n  attr {\\n    key: &quot;dtype&quot;\\n    value {\\n      type: DT_INT32\\n    }\\n  }\\n  attr {\\n    key: &quot;value&quot;\\n    value {\\n      tensor {\\n        dtype: DT_INT32\\n        tensor_shape {\\n          dim {\\n            size: 2\\n          }\\n        }\\n        tensor_content: &quot;\\\\005\\\\000\\\\000\\\\000\\\\006\\\\000\\\\000\\\\000&quot;\\n      }\\n    }\\n  }\\n}\\nnode {\\n  name: &quot;random/uniform_7/min&quot;\\n  op: &quot;Const&quot;\\n  attr {\\n    key: &quot;dtype&quot;\\n    value {\\n      type: DT_FLOAT\\n    }\\n  }\\n  attr {\\n    key: &quot;value&quot;\\n    value {\\n      tensor {\\n        dtype: DT_FLOAT\\n        tensor_shape {\\n        }\\n        float_val: 0.0\\n      }\\n    }\\n  }\\n}\\nnode {\\n  name: &quot;random/uniform_7/max&quot;\\n  op: &quot;Const&quot;\\n  attr {\\n    key: &quot;dtype&quot;\\n    value {\\n      type: DT_FLOAT\\n    }\\n  }\\n  attr {\\n    key: &quot;value&quot;\\n    value {\\n      tensor {\\n        dtype: DT_FLOAT\\n        tensor_shape {\\n        }\\n        float_val: 1.0\\n      }\\n    }\\n  }\\n}\\nnode {\\n  name: &quot;random/uniform_7/RandomUniform&quot;\\n  op: &quot;RandomUniform&quot;\\n  input: &quot;random/uniform_7/shape&quot;\\n  attr {\\n    key: &quot;T&quot;\\n    value {\\n      type: DT_INT32\\n    }\\n  }\\n  attr {\\n    key: &quot;dtype&quot;\\n    value {\\n      type: DT_FLOAT\\n    }\\n  }\\n  attr {\\n    key: &quot;seed&quot;\\n    value {\\n      i: 0\\n    }\\n  }\\n  attr {\\n    key: &quot;seed2&quot;\\n    value {\\n      i: 0\\n    }\\n  }\\n}\\nnode {\\n  name: &quot;random/uniform_7/sub&quot;\\n  op: &quot;Sub&quot;\\n  input: &quot;random/uniform_7/max&quot;\\n  input: &quot;random/uniform_7/min&quot;\\n  attr {\\n    key: &quot;T&quot;\\n    value {\\n      type: DT_FLOAT\\n    }\\n  }\\n}\\nnode {\\n  name: &quot;random/uniform_7/mul&quot;\\n  op: &quot;Mul&quot;\\n  input: &quot;random/uniform_7/RandomUniform&quot;\\n  input: &quot;random/uniform_7/sub&quot;\\n  attr {\\n    key: &quot;T&quot;\\n    value {\\n      type: DT_FLOAT\\n    }\\n  }\\n}\\nnode {\\n  name: &quot;random/uniform_7&quot;\\n  op: &quot;Add&quot;\\n  input: &quot;random/uniform_7/mul&quot;\\n  input: &quot;random/uniform_7/min&quot;\\n  attr {\\n    key: &quot;T&quot;\\n    value {\\n      type: DT_FLOAT\\n    }\\n  }\\n}\\nnode {\\n  name: &quot;W/2_1&quot;\\n  op: &quot;VariableV2&quot;\\n  attr {\\n    key: &quot;container&quot;\\n    value {\\n      s: &quot;&quot;\\n    }\\n  }\\n  attr {\\n    key: &quot;dtype&quot;\\n    value {\\n      type: DT_FLOAT\\n    }\\n  }\\n  attr {\\n    key: &quot;shape&quot;\\n    value {\\n      shape {\\n        dim {\\n          size: 5\\n        }\\n        dim {\\n          size: 6\\n        }\\n      }\\n    }\\n  }\\n  attr {\\n    key: &quot;shared_name&quot;\\n    value {\\n      s: &quot;&quot;\\n    }\\n  }\\n}\\nnode {\\n  name: &quot;W/2_1/Assign&quot;\\n  op: &quot;Assign&quot;\\n  input: &quot;W/2_1&quot;\\n  input: &quot;random/uniform_7&quot;\\n  attr {\\n    key: &quot;T&quot;\\n    value {\\n      type: DT_FLOAT\\n    }\\n  }\\n  attr {\\n    key: &quot;_class&quot;\\n    value {\\n      list {\\n        s: &quot;loc:@W_2_1&quot;\\n      }\\n    }\\n  }\\n  attr {\\n    key: &quot;use_locking&quot;\\n    value {\\n      b: true\\n    }\\n  }\\n  attr {\\n    key: &quot;validate_shape&quot;\\n    value {\\n      b: true\\n    }\\n  }\\n}\\nnode {\\n  name: &quot;W/2_1/read&quot;\\n  op: &quot;Identity&quot;\\n  input: &quot;W/2_1&quot;\\n  attr {\\n    key: &quot;T&quot;\\n    value {\\n      type: DT_FLOAT\\n    }\\n  }\\n  attr {\\n    key: &quot;_class&quot;\\n    value {\\n      list {\\n        s: &quot;loc:@W_2_1&quot;\\n      }\\n    }\\n  }\\n}\\nnode {\\n  name: &quot;MatMul/3&quot;\\n  op: &quot;MatMul&quot;\\n  input: &quot;truediv/1&quot;\\n  input: &quot;W/2_1/read&quot;\\n  attr {\\n    key: &quot;T&quot;\\n    value {\\n      type: DT_FLOAT\\n    }\\n  }\\n  attr {\\n    key: &quot;transpose_a&quot;\\n    value {\\n      b: false\\n    }\\n  }\\n  attr {\\n    key: &quot;transpose_b&quot;\\n    value {\\n      b: false\\n    }\\n  }\\n}\\nnode {\\n  name: &quot;Add/5&quot;\\n  op: &quot;Add&quot;\\n  input: &quot;MatMul/3&quot;\\n  input: &quot;bias/2_1/read&quot;\\n  attr {\\n    key: &quot;T&quot;\\n    value {\\n      type: DT_FLOAT\\n    }\\n  }\\n}\\nnode {\\n  name: &quot;h/2_1&quot;\\n  op: &quot;Relu&quot;\\n  input: &quot;Add/5&quot;\\n  attr {\\n    key: &quot;T&quot;\\n    value {\\n      type: DT_FLOAT\\n    }\\n  }\\n}\\nnode {\\n  name: &quot;g/1&quot;\\n  op: &quot;Add&quot;\\n  input: &quot;h/1_1&quot;\\n  input: &quot;h/2_1&quot;\\n  attr {\\n    key: &quot;T&quot;\\n    value {\\n      type: DT_FLOAT\\n    }\\n  }\\n}\\nnode {\\n  name: &quot;random/uniform_8/shape&quot;\\n  op: &quot;Const&quot;\\n  attr {\\n    key: &quot;dtype&quot;\\n    value {\\n      type: DT_INT32\\n    }\\n  }\\n  attr {\\n    key: &quot;value&quot;\\n    value {\\n      tensor {\\n        dtype: DT_INT32\\n        tensor_shape {\\n          dim {\\n            size: 1\\n          }\\n        }\\n        int_val: 7\\n      }\\n    }\\n  }\\n}\\nnode {\\n  name: &quot;random/uniform_8/min&quot;\\n  op: &quot;Const&quot;\\n  attr {\\n    key: &quot;dtype&quot;\\n    value {\\n      type: DT_FLOAT\\n    }\\n  }\\n  attr {\\n    key: &quot;value&quot;\\n    value {\\n      tensor {\\n        dtype: DT_FLOAT\\n        tensor_shape {\\n        }\\n        float_val: 0.0\\n      }\\n    }\\n  }\\n}\\nnode {\\n  name: &quot;random/uniform_8/max&quot;\\n  op: &quot;Const&quot;\\n  attr {\\n    key: &quot;dtype&quot;\\n    value {\\n      type: DT_FLOAT\\n    }\\n  }\\n  attr {\\n    key: &quot;value&quot;\\n    value {\\n      tensor {\\n        dtype: DT_FLOAT\\n        tensor_shape {\\n        }\\n        float_val: 1.0\\n      }\\n    }\\n  }\\n}\\nnode {\\n  name: &quot;random/uniform_8/RandomUniform&quot;\\n  op: &quot;RandomUniform&quot;\\n  input: &quot;random/uniform_8/shape&quot;\\n  attr {\\n    key: &quot;T&quot;\\n    value {\\n      type: DT_INT32\\n    }\\n  }\\n  attr {\\n    key: &quot;dtype&quot;\\n    value {\\n      type: DT_FLOAT\\n    }\\n  }\\n  attr {\\n    key: &quot;seed&quot;\\n    value {\\n      i: 0\\n    }\\n  }\\n  attr {\\n    key: &quot;seed2&quot;\\n    value {\\n      i: 0\\n    }\\n  }\\n}\\nnode {\\n  name: &quot;random/uniform_8/sub&quot;\\n  op: &quot;Sub&quot;\\n  input: &quot;random/uniform_8/max&quot;\\n  input: &quot;random/uniform_8/min&quot;\\n  attr {\\n    key: &quot;T&quot;\\n    value {\\n      type: DT_FLOAT\\n    }\\n  }\\n}\\nnode {\\n  name: &quot;random/uniform_8/mul&quot;\\n  op: &quot;Mul&quot;\\n  input: &quot;random/uniform_8/RandomUniform&quot;\\n  input: &quot;random/uniform_8/sub&quot;\\n  attr {\\n    key: &quot;T&quot;\\n    value {\\n      type: DT_FLOAT\\n    }\\n  }\\n}\\nnode {\\n  name: &quot;random/uniform_8&quot;\\n  op: &quot;Add&quot;\\n  input: &quot;random/uniform_8/mul&quot;\\n  input: &quot;random/uniform_8/min&quot;\\n  attr {\\n    key: &quot;T&quot;\\n    value {\\n      type: DT_FLOAT\\n    }\\n  }\\n}\\nnode {\\n  name: &quot;bias/1_2&quot;\\n  op: &quot;VariableV2&quot;\\n  attr {\\n    key: &quot;container&quot;\\n    value {\\n      s: &quot;&quot;\\n    }\\n  }\\n  attr {\\n    key: &quot;dtype&quot;\\n    value {\\n      type: DT_FLOAT\\n    }\\n  }\\n  attr {\\n    key: &quot;shape&quot;\\n    value {\\n      shape {\\n        dim {\\n          size: 7\\n        }\\n      }\\n    }\\n  }\\n  attr {\\n    key: &quot;shared_name&quot;\\n    value {\\n      s: &quot;&quot;\\n    }\\n  }\\n}\\nnode {\\n  name: &quot;bias/1_2/Assign&quot;\\n  op: &quot;Assign&quot;\\n  input: &quot;bias/1_2&quot;\\n  input: &quot;random/uniform_8&quot;\\n  attr {\\n    key: &quot;T&quot;\\n    value {\\n      type: DT_FLOAT\\n    }\\n  }\\n  attr {\\n    key: &quot;_class&quot;\\n    value {\\n      list {\\n        s: &quot;loc:@bias_1_2&quot;\\n      }\\n    }\\n  }\\n  attr {\\n    key: &quot;use_locking&quot;\\n    value {\\n      b: true\\n    }\\n  }\\n  attr {\\n    key: &quot;validate_shape&quot;\\n    value {\\n      b: true\\n    }\\n  }\\n}\\nnode {\\n  name: &quot;bias/1_2/read&quot;\\n  op: &quot;Identity&quot;\\n  input: &quot;bias/1_2&quot;\\n  attr {\\n    key: &quot;T&quot;\\n    value {\\n      type: DT_FLOAT\\n    }\\n  }\\n  attr {\\n    key: &quot;_class&quot;\\n    value {\\n      list {\\n        s: &quot;loc:@bias_1_2&quot;\\n      }\\n    }\\n  }\\n}\\nnode {\\n  name: &quot;random/uniform_9/shape&quot;\\n  op: &quot;Const&quot;\\n  attr {\\n    key: &quot;dtype&quot;\\n    value {\\n      type: DT_INT32\\n    }\\n  }\\n  attr {\\n    key: &quot;value&quot;\\n    value {\\n      tensor {\\n        dtype: DT_INT32\\n        tensor_shape {\\n          dim {\\n            size: 2\\n          }\\n        }\\n        tensor_content: &quot;\\\\006\\\\000\\\\000\\\\000\\\\007\\\\000\\\\000\\\\000&quot;\\n      }\\n    }\\n  }\\n}\\nnode {\\n  name: &quot;random/uniform_9/min&quot;\\n  op: &quot;Const&quot;\\n  attr {\\n    key: &quot;dtype&quot;\\n    value {\\n      type: DT_FLOAT\\n    }\\n  }\\n  attr {\\n    key: &quot;value&quot;\\n    value {\\n      tensor {\\n        dtype: DT_FLOAT\\n        tensor_shape {\\n        }\\n        float_val: 0.0\\n      }\\n    }\\n  }\\n}\\nnode {\\n  name: &quot;random/uniform_9/max&quot;\\n  op: &quot;Const&quot;\\n  attr {\\n    key: &quot;dtype&quot;\\n    value {\\n      type: DT_FLOAT\\n    }\\n  }\\n  attr {\\n    key: &quot;value&quot;\\n    value {\\n      tensor {\\n        dtype: DT_FLOAT\\n        tensor_shape {\\n        }\\n        float_val: 1.0\\n      }\\n    }\\n  }\\n}\\nnode {\\n  name: &quot;random/uniform_9/RandomUniform&quot;\\n  op: &quot;RandomUniform&quot;\\n  input: &quot;random/uniform_9/shape&quot;\\n  attr {\\n    key: &quot;T&quot;\\n    value {\\n      type: DT_INT32\\n    }\\n  }\\n  attr {\\n    key: &quot;dtype&quot;\\n    value {\\n      type: DT_FLOAT\\n    }\\n  }\\n  attr {\\n    key: &quot;seed&quot;\\n    value {\\n      i: 0\\n    }\\n  }\\n  attr {\\n    key: &quot;seed2&quot;\\n    value {\\n      i: 0\\n    }\\n  }\\n}\\nnode {\\n  name: &quot;random/uniform_9/sub&quot;\\n  op: &quot;Sub&quot;\\n  input: &quot;random/uniform_9/max&quot;\\n  input: &quot;random/uniform_9/min&quot;\\n  attr {\\n    key: &quot;T&quot;\\n    value {\\n      type: DT_FLOAT\\n    }\\n  }\\n}\\nnode {\\n  name: &quot;random/uniform_9/mul&quot;\\n  op: &quot;Mul&quot;\\n  input: &quot;random/uniform_9/RandomUniform&quot;\\n  input: &quot;random/uniform_9/sub&quot;\\n  attr {\\n    key: &quot;T&quot;\\n    value {\\n      type: DT_FLOAT\\n    }\\n  }\\n}\\nnode {\\n  name: &quot;random/uniform_9&quot;\\n  op: &quot;Add&quot;\\n  input: &quot;random/uniform_9/mul&quot;\\n  input: &quot;random/uniform_9/min&quot;\\n  attr {\\n    key: &quot;T&quot;\\n    value {\\n      type: DT_FLOAT\\n    }\\n  }\\n}\\nnode {\\n  name: &quot;W/1_2&quot;\\n  op: &quot;VariableV2&quot;\\n  attr {\\n    key: &quot;container&quot;\\n    value {\\n      s: &quot;&quot;\\n    }\\n  }\\n  attr {\\n    key: &quot;dtype&quot;\\n    value {\\n      type: DT_FLOAT\\n    }\\n  }\\n  attr {\\n    key: &quot;shape&quot;\\n    value {\\n      shape {\\n        dim {\\n          size: 6\\n        }\\n        dim {\\n          size: 7\\n        }\\n      }\\n    }\\n  }\\n  attr {\\n    key: &quot;shared_name&quot;\\n    value {\\n      s: &quot;&quot;\\n    }\\n  }\\n}\\nnode {\\n  name: &quot;W/1_2/Assign&quot;\\n  op: &quot;Assign&quot;\\n  input: &quot;W/1_2&quot;\\n  input: &quot;random/uniform_9&quot;\\n  attr {\\n    key: &quot;T&quot;\\n    value {\\n      type: DT_FLOAT\\n    }\\n  }\\n  attr {\\n    key: &quot;_class&quot;\\n    value {\\n      list {\\n        s: &quot;loc:@W_1_2&quot;\\n      }\\n    }\\n  }\\n  attr {\\n    key: &quot;use_locking&quot;\\n    value {\\n      b: true\\n    }\\n  }\\n  attr {\\n    key: &quot;validate_shape&quot;\\n    value {\\n      b: true\\n    }\\n  }\\n}\\nnode {\\n  name: &quot;W/1_2/read&quot;\\n  op: &quot;Identity&quot;\\n  input: &quot;W/1_2&quot;\\n  attr {\\n    key: &quot;T&quot;\\n    value {\\n      type: DT_FLOAT\\n    }\\n  }\\n  attr {\\n    key: &quot;_class&quot;\\n    value {\\n      list {\\n        s: &quot;loc:@W_1_2&quot;\\n      }\\n    }\\n  }\\n}\\nnode {\\n  name: &quot;MatMul/4&quot;\\n  op: &quot;MatMul&quot;\\n  input: &quot;g/1&quot;\\n  input: &quot;W/1_2/read&quot;\\n  attr {\\n    key: &quot;T&quot;\\n    value {\\n      type: DT_FLOAT\\n    }\\n  }\\n  attr {\\n    key: &quot;transpose_a&quot;\\n    value {\\n      b: false\\n    }\\n  }\\n  attr {\\n    key: &quot;transpose_b&quot;\\n    value {\\n      b: false\\n    }\\n  }\\n}\\nnode {\\n  name: &quot;Add/6&quot;\\n  op: &quot;Add&quot;\\n  input: &quot;MatMul/4&quot;\\n  input: &quot;bias/1_2/read&quot;\\n  attr {\\n    key: &quot;T&quot;\\n    value {\\n      type: DT_FLOAT\\n    }\\n  }\\n}\\nnode {\\n  name: &quot;h/1_2&quot;\\n  op: &quot;Relu&quot;\\n  input: &quot;Add/6&quot;\\n  attr {\\n    key: &quot;T&quot;\\n    value {\\n      type: DT_FLOAT\\n    }\\n  }\\n}\\nnode {\\n  name: &quot;Const/2&quot;\\n  op: &quot;Const&quot;\\n  attr {\\n    key: &quot;dtype&quot;\\n    value {\\n      type: DT_FLOAT\\n    }\\n  }\\n  attr {\\n    key: &quot;value&quot;\\n    value {\\n      tensor {\\n        dtype: DT_FLOAT\\n        tensor_shape {\\n        }\\n        float_val: 1.0\\n      }\\n    }\\n  }\\n}\\nnode {\\n  name: &quot;Add/7&quot;\\n  op: &quot;Add&quot;\\n  input: &quot;eps/1&quot;\\n  input: &quot;g/1&quot;\\n  attr {\\n    key: &quot;T&quot;\\n    value {\\n      type: DT_FLOAT\\n    }\\n  }\\n}\\nnode {\\n  name: &quot;truediv/2&quot;\\n  op: &quot;RealDiv&quot;\\n  input: &quot;Const/2&quot;\\n  input: &quot;Add/7&quot;\\n  attr {\\n    key: &quot;T&quot;\\n    value {\\n      type: DT_FLOAT\\n    }\\n  }\\n}\\nnode {\\n  name: &quot;random/uniform_10/shape&quot;\\n  op: &quot;Const&quot;\\n  attr {\\n    key: &quot;dtype&quot;\\n    value {\\n      type: DT_INT32\\n    }\\n  }\\n  attr {\\n    key: &quot;value&quot;\\n    value {\\n      tensor {\\n        dtype: DT_INT32\\n        tensor_shape {\\n          dim {\\n            size: 1\\n          }\\n        }\\n        int_val: 7\\n      }\\n    }\\n  }\\n}\\nnode {\\n  name: &quot;random/uniform_10/min&quot;\\n  op: &quot;Const&quot;\\n  attr {\\n    key: &quot;dtype&quot;\\n    value {\\n      type: DT_FLOAT\\n    }\\n  }\\n  attr {\\n    key: &quot;value&quot;\\n    value {\\n      tensor {\\n        dtype: DT_FLOAT\\n        tensor_shape {\\n        }\\n        float_val: 0.0\\n      }\\n    }\\n  }\\n}\\nnode {\\n  name: &quot;random/uniform_10/max&quot;\\n  op: &quot;Const&quot;\\n  attr {\\n    key: &quot;dtype&quot;\\n    value {\\n      type: DT_FLOAT\\n    }\\n  }\\n  attr {\\n    key: &quot;value&quot;\\n    value {\\n      tensor {\\n        dtype: DT_FLOAT\\n        tensor_shape {\\n        }\\n        float_val: 1.0\\n      }\\n    }\\n  }\\n}\\nnode {\\n  name: &quot;random/uniform_10/RandomUniform&quot;\\n  op: &quot;RandomUniform&quot;\\n  input: &quot;random/uniform_10/shape&quot;\\n  attr {\\n    key: &quot;T&quot;\\n    value {\\n      type: DT_INT32\\n    }\\n  }\\n  attr {\\n    key: &quot;dtype&quot;\\n    value {\\n      type: DT_FLOAT\\n    }\\n  }\\n  attr {\\n    key: &quot;seed&quot;\\n    value {\\n      i: 0\\n    }\\n  }\\n  attr {\\n    key: &quot;seed2&quot;\\n    value {\\n      i: 0\\n    }\\n  }\\n}\\nnode {\\n  name: &quot;random/uniform_10/sub&quot;\\n  op: &quot;Sub&quot;\\n  input: &quot;random/uniform_10/max&quot;\\n  input: &quot;random/uniform_10/min&quot;\\n  attr {\\n    key: &quot;T&quot;\\n    value {\\n      type: DT_FLOAT\\n    }\\n  }\\n}\\nnode {\\n  name: &quot;random/uniform_10/mul&quot;\\n  op: &quot;Mul&quot;\\n  input: &quot;random/uniform_10/RandomUniform&quot;\\n  input: &quot;random/uniform_10/sub&quot;\\n  attr {\\n    key: &quot;T&quot;\\n    value {\\n      type: DT_FLOAT\\n    }\\n  }\\n}\\nnode {\\n  name: &quot;random/uniform_10&quot;\\n  op: &quot;Add&quot;\\n  input: &quot;random/uniform_10/mul&quot;\\n  input: &quot;random/uniform_10/min&quot;\\n  attr {\\n    key: &quot;T&quot;\\n    value {\\n      type: DT_FLOAT\\n    }\\n  }\\n}\\nnode {\\n  name: &quot;bias/2_2&quot;\\n  op: &quot;VariableV2&quot;\\n  attr {\\n    key: &quot;container&quot;\\n    value {\\n      s: &quot;&quot;\\n    }\\n  }\\n  attr {\\n    key: &quot;dtype&quot;\\n    value {\\n      type: DT_FLOAT\\n    }\\n  }\\n  attr {\\n    key: &quot;shape&quot;\\n    value {\\n      shape {\\n        dim {\\n          size: 7\\n        }\\n      }\\n    }\\n  }\\n  attr {\\n    key: &quot;shared_name&quot;\\n    value {\\n      s: &quot;&quot;\\n    }\\n  }\\n}\\nnode {\\n  name: &quot;bias/2_2/Assign&quot;\\n  op: &quot;Assign&quot;\\n  input: &quot;bias/2_2&quot;\\n  input: &quot;random/uniform_10&quot;\\n  attr {\\n    key: &quot;T&quot;\\n    value {\\n      type: DT_FLOAT\\n    }\\n  }\\n  attr {\\n    key: &quot;_class&quot;\\n    value {\\n      list {\\n        s: &quot;loc:@bias_2_2&quot;\\n      }\\n    }\\n  }\\n  attr {\\n    key: &quot;use_locking&quot;\\n    value {\\n      b: true\\n    }\\n  }\\n  attr {\\n    key: &quot;validate_shape&quot;\\n    value {\\n      b: true\\n    }\\n  }\\n}\\nnode {\\n  name: &quot;bias/2_2/read&quot;\\n  op: &quot;Identity&quot;\\n  input: &quot;bias/2_2&quot;\\n  attr {\\n    key: &quot;T&quot;\\n    value {\\n      type: DT_FLOAT\\n    }\\n  }\\n  attr {\\n    key: &quot;_class&quot;\\n    value {\\n      list {\\n        s: &quot;loc:@bias_2_2&quot;\\n      }\\n    }\\n  }\\n}\\nnode {\\n  name: &quot;random/uniform_11/shape&quot;\\n  op: &quot;Const&quot;\\n  attr {\\n    key: &quot;dtype&quot;\\n    value {\\n      type: DT_INT32\\n    }\\n  }\\n  attr {\\n    key: &quot;value&quot;\\n    value {\\n      tensor {\\n        dtype: DT_INT32\\n        tensor_shape {\\n          dim {\\n            size: 2\\n          }\\n        }\\n        tensor_content: &quot;\\\\006\\\\000\\\\000\\\\000\\\\007\\\\000\\\\000\\\\000&quot;\\n      }\\n    }\\n  }\\n}\\nnode {\\n  name: &quot;random/uniform_11/min&quot;\\n  op: &quot;Const&quot;\\n  attr {\\n    key: &quot;dtype&quot;\\n    value {\\n      type: DT_FLOAT\\n    }\\n  }\\n  attr {\\n    key: &quot;value&quot;\\n    value {\\n      tensor {\\n        dtype: DT_FLOAT\\n        tensor_shape {\\n        }\\n        float_val: 0.0\\n      }\\n    }\\n  }\\n}\\nnode {\\n  name: &quot;random/uniform_11/max&quot;\\n  op: &quot;Const&quot;\\n  attr {\\n    key: &quot;dtype&quot;\\n    value {\\n      type: DT_FLOAT\\n    }\\n  }\\n  attr {\\n    key: &quot;value&quot;\\n    value {\\n      tensor {\\n        dtype: DT_FLOAT\\n        tensor_shape {\\n        }\\n        float_val: 1.0\\n      }\\n    }\\n  }\\n}\\nnode {\\n  name: &quot;random/uniform_11/RandomUniform&quot;\\n  op: &quot;RandomUniform&quot;\\n  input: &quot;random/uniform_11/shape&quot;\\n  attr {\\n    key: &quot;T&quot;\\n    value {\\n      type: DT_INT32\\n    }\\n  }\\n  attr {\\n    key: &quot;dtype&quot;\\n    value {\\n      type: DT_FLOAT\\n    }\\n  }\\n  attr {\\n    key: &quot;seed&quot;\\n    value {\\n      i: 0\\n    }\\n  }\\n  attr {\\n    key: &quot;seed2&quot;\\n    value {\\n      i: 0\\n    }\\n  }\\n}\\nnode {\\n  name: &quot;random/uniform_11/sub&quot;\\n  op: &quot;Sub&quot;\\n  input: &quot;random/uniform_11/max&quot;\\n  input: &quot;random/uniform_11/min&quot;\\n  attr {\\n    key: &quot;T&quot;\\n    value {\\n      type: DT_FLOAT\\n    }\\n  }\\n}\\nnode {\\n  name: &quot;random/uniform_11/mul&quot;\\n  op: &quot;Mul&quot;\\n  input: &quot;random/uniform_11/RandomUniform&quot;\\n  input: &quot;random/uniform_11/sub&quot;\\n  attr {\\n    key: &quot;T&quot;\\n    value {\\n      type: DT_FLOAT\\n    }\\n  }\\n}\\nnode {\\n  name: &quot;random/uniform_11&quot;\\n  op: &quot;Add&quot;\\n  input: &quot;random/uniform_11/mul&quot;\\n  input: &quot;random/uniform_11/min&quot;\\n  attr {\\n    key: &quot;T&quot;\\n    value {\\n      type: DT_FLOAT\\n    }\\n  }\\n}\\nnode {\\n  name: &quot;W/2_2&quot;\\n  op: &quot;VariableV2&quot;\\n  attr {\\n    key: &quot;container&quot;\\n    value {\\n      s: &quot;&quot;\\n    }\\n  }\\n  attr {\\n    key: &quot;dtype&quot;\\n    value {\\n      type: DT_FLOAT\\n    }\\n  }\\n  attr {\\n    key: &quot;shape&quot;\\n    value {\\n      shape {\\n        dim {\\n          size: 6\\n        }\\n        dim {\\n          size: 7\\n        }\\n      }\\n    }\\n  }\\n  attr {\\n    key: &quot;shared_name&quot;\\n    value {\\n      s: &quot;&quot;\\n    }\\n  }\\n}\\nnode {\\n  name: &quot;W/2_2/Assign&quot;\\n  op: &quot;Assign&quot;\\n  input: &quot;W/2_2&quot;\\n  input: &quot;random/uniform_11&quot;\\n  attr {\\n    key: &quot;T&quot;\\n    value {\\n      type: DT_FLOAT\\n    }\\n  }\\n  attr {\\n    key: &quot;_class&quot;\\n    value {\\n      list {\\n        s: &quot;loc:@W_2_2&quot;\\n      }\\n    }\\n  }\\n  attr {\\n    key: &quot;use_locking&quot;\\n    value {\\n      b: true\\n    }\\n  }\\n  attr {\\n    key: &quot;validate_shape&quot;\\n    value {\\n      b: true\\n    }\\n  }\\n}\\nnode {\\n  name: &quot;W/2_2/read&quot;\\n  op: &quot;Identity&quot;\\n  input: &quot;W/2_2&quot;\\n  attr {\\n    key: &quot;T&quot;\\n    value {\\n      type: DT_FLOAT\\n    }\\n  }\\n  attr {\\n    key: &quot;_class&quot;\\n    value {\\n      list {\\n        s: &quot;loc:@W_2_2&quot;\\n      }\\n    }\\n  }\\n}\\nnode {\\n  name: &quot;MatMul/5&quot;\\n  op: &quot;MatMul&quot;\\n  input: &quot;truediv/2&quot;\\n  input: &quot;W/2_2/read&quot;\\n  attr {\\n    key: &quot;T&quot;\\n    value {\\n      type: DT_FLOAT\\n    }\\n  }\\n  attr {\\n    key: &quot;transpose_a&quot;\\n    value {\\n      b: false\\n    }\\n  }\\n  attr {\\n    key: &quot;transpose_b&quot;\\n    value {\\n      b: false\\n    }\\n  }\\n}\\nnode {\\n  name: &quot;Add/8&quot;\\n  op: &quot;Add&quot;\\n  input: &quot;MatMul/5&quot;\\n  input: &quot;bias/2_2/read&quot;\\n  attr {\\n    key: &quot;T&quot;\\n    value {\\n      type: DT_FLOAT\\n    }\\n  }\\n}\\nnode {\\n  name: &quot;h/2_2&quot;\\n  op: &quot;Relu&quot;\\n  input: &quot;Add/8&quot;\\n  attr {\\n    key: &quot;T&quot;\\n    value {\\n      type: DT_FLOAT\\n    }\\n  }\\n}\\nnode {\\n  name: &quot;g/2&quot;\\n  op: &quot;Add&quot;\\n  input: &quot;h/1_2&quot;\\n  input: &quot;h/2_2&quot;\\n  attr {\\n    key: &quot;T&quot;\\n    value {\\n      type: DT_FLOAT\\n    }\\n  }\\n}\\nnode {\\n  name: &quot;random/uniform_12/shape&quot;\\n  op: &quot;Const&quot;\\n  attr {\\n    key: &quot;dtype&quot;\\n    value {\\n      type: DT_INT32\\n    }\\n  }\\n  attr {\\n    key: &quot;value&quot;\\n    value {\\n      tensor {\\n        dtype: DT_INT32\\n        tensor_shape {\\n          dim {\\n            size: 1\\n          }\\n        }\\n        int_val: 8\\n      }\\n    }\\n  }\\n}\\nnode {\\n  name: &quot;random/uniform_12/min&quot;\\n  op: &quot;Const&quot;\\n  attr {\\n    key: &quot;dtype&quot;\\n    value {\\n      type: DT_FLOAT\\n    }\\n  }\\n  attr {\\n    key: &quot;value&quot;\\n    value {\\n      tensor {\\n        dtype: DT_FLOAT\\n        tensor_shape {\\n        }\\n        float_val: 0.0\\n      }\\n    }\\n  }\\n}\\nnode {\\n  name: &quot;random/uniform_12/max&quot;\\n  op: &quot;Const&quot;\\n  attr {\\n    key: &quot;dtype&quot;\\n    value {\\n      type: DT_FLOAT\\n    }\\n  }\\n  attr {\\n    key: &quot;value&quot;\\n    value {\\n      tensor {\\n        dtype: DT_FLOAT\\n        tensor_shape {\\n        }\\n        float_val: 1.0\\n      }\\n    }\\n  }\\n}\\nnode {\\n  name: &quot;random/uniform_12/RandomUniform&quot;\\n  op: &quot;RandomUniform&quot;\\n  input: &quot;random/uniform_12/shape&quot;\\n  attr {\\n    key: &quot;T&quot;\\n    value {\\n      type: DT_INT32\\n    }\\n  }\\n  attr {\\n    key: &quot;dtype&quot;\\n    value {\\n      type: DT_FLOAT\\n    }\\n  }\\n  attr {\\n    key: &quot;seed&quot;\\n    value {\\n      i: 0\\n    }\\n  }\\n  attr {\\n    key: &quot;seed2&quot;\\n    value {\\n      i: 0\\n    }\\n  }\\n}\\nnode {\\n  name: &quot;random/uniform_12/sub&quot;\\n  op: &quot;Sub&quot;\\n  input: &quot;random/uniform_12/max&quot;\\n  input: &quot;random/uniform_12/min&quot;\\n  attr {\\n    key: &quot;T&quot;\\n    value {\\n      type: DT_FLOAT\\n    }\\n  }\\n}\\nnode {\\n  name: &quot;random/uniform_12/mul&quot;\\n  op: &quot;Mul&quot;\\n  input: &quot;random/uniform_12/RandomUniform&quot;\\n  input: &quot;random/uniform_12/sub&quot;\\n  attr {\\n    key: &quot;T&quot;\\n    value {\\n      type: DT_FLOAT\\n    }\\n  }\\n}\\nnode {\\n  name: &quot;random/uniform_12&quot;\\n  op: &quot;Add&quot;\\n  input: &quot;random/uniform_12/mul&quot;\\n  input: &quot;random/uniform_12/min&quot;\\n  attr {\\n    key: &quot;T&quot;\\n    value {\\n      type: DT_FLOAT\\n    }\\n  }\\n}\\nnode {\\n  name: &quot;bias/1_3&quot;\\n  op: &quot;VariableV2&quot;\\n  attr {\\n    key: &quot;container&quot;\\n    value {\\n      s: &quot;&quot;\\n    }\\n  }\\n  attr {\\n    key: &quot;dtype&quot;\\n    value {\\n      type: DT_FLOAT\\n    }\\n  }\\n  attr {\\n    key: &quot;shape&quot;\\n    value {\\n      shape {\\n        dim {\\n          size: 8\\n        }\\n      }\\n    }\\n  }\\n  attr {\\n    key: &quot;shared_name&quot;\\n    value {\\n      s: &quot;&quot;\\n    }\\n  }\\n}\\nnode {\\n  name: &quot;bias/1_3/Assign&quot;\\n  op: &quot;Assign&quot;\\n  input: &quot;bias/1_3&quot;\\n  input: &quot;random/uniform_12&quot;\\n  attr {\\n    key: &quot;T&quot;\\n    value {\\n      type: DT_FLOAT\\n    }\\n  }\\n  attr {\\n    key: &quot;_class&quot;\\n    value {\\n      list {\\n        s: &quot;loc:@bias_1_3&quot;\\n      }\\n    }\\n  }\\n  attr {\\n    key: &quot;use_locking&quot;\\n    value {\\n      b: true\\n    }\\n  }\\n  attr {\\n    key: &quot;validate_shape&quot;\\n    value {\\n      b: true\\n    }\\n  }\\n}\\nnode {\\n  name: &quot;bias/1_3/read&quot;\\n  op: &quot;Identity&quot;\\n  input: &quot;bias/1_3&quot;\\n  attr {\\n    key: &quot;T&quot;\\n    value {\\n      type: DT_FLOAT\\n    }\\n  }\\n  attr {\\n    key: &quot;_class&quot;\\n    value {\\n      list {\\n        s: &quot;loc:@bias_1_3&quot;\\n      }\\n    }\\n  }\\n}\\nnode {\\n  name: &quot;random/uniform_13/shape&quot;\\n  op: &quot;Const&quot;\\n  attr {\\n    key: &quot;dtype&quot;\\n    value {\\n      type: DT_INT32\\n    }\\n  }\\n  attr {\\n    key: &quot;value&quot;\\n    value {\\n      tensor {\\n        dtype: DT_INT32\\n        tensor_shape {\\n          dim {\\n            size: 2\\n          }\\n        }\\n        tensor_content: &quot;\\\\007\\\\000\\\\000\\\\000\\\\010\\\\000\\\\000\\\\000&quot;\\n      }\\n    }\\n  }\\n}\\nnode {\\n  name: &quot;random/uniform_13/min&quot;\\n  op: &quot;Const&quot;\\n  attr {\\n    key: &quot;dtype&quot;\\n    value {\\n      type: DT_FLOAT\\n    }\\n  }\\n  attr {\\n    key: &quot;value&quot;\\n    value {\\n      tensor {\\n        dtype: DT_FLOAT\\n        tensor_shape {\\n        }\\n        float_val: 0.0\\n      }\\n    }\\n  }\\n}\\nnode {\\n  name: &quot;random/uniform_13/max&quot;\\n  op: &quot;Const&quot;\\n  attr {\\n    key: &quot;dtype&quot;\\n    value {\\n      type: DT_FLOAT\\n    }\\n  }\\n  attr {\\n    key: &quot;value&quot;\\n    value {\\n      tensor {\\n        dtype: DT_FLOAT\\n        tensor_shape {\\n        }\\n        float_val: 1.0\\n      }\\n    }\\n  }\\n}\\nnode {\\n  name: &quot;random/uniform_13/RandomUniform&quot;\\n  op: &quot;RandomUniform&quot;\\n  input: &quot;random/uniform_13/shape&quot;\\n  attr {\\n    key: &quot;T&quot;\\n    value {\\n      type: DT_INT32\\n    }\\n  }\\n  attr {\\n    key: &quot;dtype&quot;\\n    value {\\n      type: DT_FLOAT\\n    }\\n  }\\n  attr {\\n    key: &quot;seed&quot;\\n    value {\\n      i: 0\\n    }\\n  }\\n  attr {\\n    key: &quot;seed2&quot;\\n    value {\\n      i: 0\\n    }\\n  }\\n}\\nnode {\\n  name: &quot;random/uniform_13/sub&quot;\\n  op: &quot;Sub&quot;\\n  input: &quot;random/uniform_13/max&quot;\\n  input: &quot;random/uniform_13/min&quot;\\n  attr {\\n    key: &quot;T&quot;\\n    value {\\n      type: DT_FLOAT\\n    }\\n  }\\n}\\nnode {\\n  name: &quot;random/uniform_13/mul&quot;\\n  op: &quot;Mul&quot;\\n  input: &quot;random/uniform_13/RandomUniform&quot;\\n  input: &quot;random/uniform_13/sub&quot;\\n  attr {\\n    key: &quot;T&quot;\\n    value {\\n      type: DT_FLOAT\\n    }\\n  }\\n}\\nnode {\\n  name: &quot;random/uniform_13&quot;\\n  op: &quot;Add&quot;\\n  input: &quot;random/uniform_13/mul&quot;\\n  input: &quot;random/uniform_13/min&quot;\\n  attr {\\n    key: &quot;T&quot;\\n    value {\\n      type: DT_FLOAT\\n    }\\n  }\\n}\\nnode {\\n  name: &quot;W/1_3&quot;\\n  op: &quot;VariableV2&quot;\\n  attr {\\n    key: &quot;container&quot;\\n    value {\\n      s: &quot;&quot;\\n    }\\n  }\\n  attr {\\n    key: &quot;dtype&quot;\\n    value {\\n      type: DT_FLOAT\\n    }\\n  }\\n  attr {\\n    key: &quot;shape&quot;\\n    value {\\n      shape {\\n        dim {\\n          size: 7\\n        }\\n        dim {\\n          size: 8\\n        }\\n      }\\n    }\\n  }\\n  attr {\\n    key: &quot;shared_name&quot;\\n    value {\\n      s: &quot;&quot;\\n    }\\n  }\\n}\\nnode {\\n  name: &quot;W/1_3/Assign&quot;\\n  op: &quot;Assign&quot;\\n  input: &quot;W/1_3&quot;\\n  input: &quot;random/uniform_13&quot;\\n  attr {\\n    key: &quot;T&quot;\\n    value {\\n      type: DT_FLOAT\\n    }\\n  }\\n  attr {\\n    key: &quot;_class&quot;\\n    value {\\n      list {\\n        s: &quot;loc:@W_1_3&quot;\\n      }\\n    }\\n  }\\n  attr {\\n    key: &quot;use_locking&quot;\\n    value {\\n      b: true\\n    }\\n  }\\n  attr {\\n    key: &quot;validate_shape&quot;\\n    value {\\n      b: true\\n    }\\n  }\\n}\\nnode {\\n  name: &quot;W/1_3/read&quot;\\n  op: &quot;Identity&quot;\\n  input: &quot;W/1_3&quot;\\n  attr {\\n    key: &quot;T&quot;\\n    value {\\n      type: DT_FLOAT\\n    }\\n  }\\n  attr {\\n    key: &quot;_class&quot;\\n    value {\\n      list {\\n        s: &quot;loc:@W_1_3&quot;\\n      }\\n    }\\n  }\\n}\\nnode {\\n  name: &quot;MatMul/6&quot;\\n  op: &quot;MatMul&quot;\\n  input: &quot;g/2&quot;\\n  input: &quot;W/1_3/read&quot;\\n  attr {\\n    key: &quot;T&quot;\\n    value {\\n      type: DT_FLOAT\\n    }\\n  }\\n  attr {\\n    key: &quot;transpose_a&quot;\\n    value {\\n      b: false\\n    }\\n  }\\n  attr {\\n    key: &quot;transpose_b&quot;\\n    value {\\n      b: false\\n    }\\n  }\\n}\\nnode {\\n  name: &quot;Add/9&quot;\\n  op: &quot;Add&quot;\\n  input: &quot;MatMul/6&quot;\\n  input: &quot;bias/1_3/read&quot;\\n  attr {\\n    key: &quot;T&quot;\\n    value {\\n      type: DT_FLOAT\\n    }\\n  }\\n}\\nnode {\\n  name: &quot;h/1_3&quot;\\n  op: &quot;Relu&quot;\\n  input: &quot;Add/9&quot;\\n  attr {\\n    key: &quot;T&quot;\\n    value {\\n      type: DT_FLOAT\\n    }\\n  }\\n}\\nnode {\\n  name: &quot;Const/3&quot;\\n  op: &quot;Const&quot;\\n  attr {\\n    key: &quot;dtype&quot;\\n    value {\\n      type: DT_FLOAT\\n    }\\n  }\\n  attr {\\n    key: &quot;value&quot;\\n    value {\\n      tensor {\\n        dtype: DT_FLOAT\\n        tensor_shape {\\n        }\\n        float_val: 1.0\\n      }\\n    }\\n  }\\n}\\nnode {\\n  name: &quot;Add/10&quot;\\n  op: &quot;Add&quot;\\n  input: &quot;eps&quot;\\n  input: &quot;g/2&quot;\\n  attr {\\n    key: &quot;T&quot;\\n    value {\\n      type: DT_FLOAT\\n    }\\n  }\\n}\\nnode {\\n  name: &quot;truediv/3&quot;\\n  op: &quot;RealDiv&quot;\\n  input: &quot;Const/3&quot;\\n  input: &quot;Add/10&quot;\\n  attr {\\n    key: &quot;T&quot;\\n    value {\\n      type: DT_FLOAT\\n    }\\n  }\\n}\\nnode {\\n  name: &quot;random/uniform_14/shape&quot;\\n  op: &quot;Const&quot;\\n  attr {\\n    key: &quot;dtype&quot;\\n    value {\\n      type: DT_INT32\\n    }\\n  }\\n  attr {\\n    key: &quot;value&quot;\\n    value {\\n      tensor {\\n        dtype: DT_INT32\\n        tensor_shape {\\n          dim {\\n            size: 1\\n          }\\n        }\\n        int_val: 8\\n      }\\n    }\\n  }\\n}\\nnode {\\n  name: &quot;random/uniform_14/min&quot;\\n  op: &quot;Const&quot;\\n  attr {\\n    key: &quot;dtype&quot;\\n    value {\\n      type: DT_FLOAT\\n    }\\n  }\\n  attr {\\n    key: &quot;value&quot;\\n    value {\\n      tensor {\\n        dtype: DT_FLOAT\\n        tensor_shape {\\n        }\\n        float_val: 0.0\\n      }\\n    }\\n  }\\n}\\nnode {\\n  name: &quot;random/uniform_14/max&quot;\\n  op: &quot;Const&quot;\\n  attr {\\n    key: &quot;dtype&quot;\\n    value {\\n      type: DT_FLOAT\\n    }\\n  }\\n  attr {\\n    key: &quot;value&quot;\\n    value {\\n      tensor {\\n        dtype: DT_FLOAT\\n        tensor_shape {\\n        }\\n        float_val: 1.0\\n      }\\n    }\\n  }\\n}\\nnode {\\n  name: &quot;random/uniform_14/RandomUniform&quot;\\n  op: &quot;RandomUniform&quot;\\n  input: &quot;random/uniform_14/shape&quot;\\n  attr {\\n    key: &quot;T&quot;\\n    value {\\n      type: DT_INT32\\n    }\\n  }\\n  attr {\\n    key: &quot;dtype&quot;\\n    value {\\n      type: DT_FLOAT\\n    }\\n  }\\n  attr {\\n    key: &quot;seed&quot;\\n    value {\\n      i: 0\\n    }\\n  }\\n  attr {\\n    key: &quot;seed2&quot;\\n    value {\\n      i: 0\\n    }\\n  }\\n}\\nnode {\\n  name: &quot;random/uniform_14/sub&quot;\\n  op: &quot;Sub&quot;\\n  input: &quot;random/uniform_14/max&quot;\\n  input: &quot;random/uniform_14/min&quot;\\n  attr {\\n    key: &quot;T&quot;\\n    value {\\n      type: DT_FLOAT\\n    }\\n  }\\n}\\nnode {\\n  name: &quot;random/uniform_14/mul&quot;\\n  op: &quot;Mul&quot;\\n  input: &quot;random/uniform_14/RandomUniform&quot;\\n  input: &quot;random/uniform_14/sub&quot;\\n  attr {\\n    key: &quot;T&quot;\\n    value {\\n      type: DT_FLOAT\\n    }\\n  }\\n}\\nnode {\\n  name: &quot;random/uniform_14&quot;\\n  op: &quot;Add&quot;\\n  input: &quot;random/uniform_14/mul&quot;\\n  input: &quot;random/uniform_14/min&quot;\\n  attr {\\n    key: &quot;T&quot;\\n    value {\\n      type: DT_FLOAT\\n    }\\n  }\\n}\\nnode {\\n  name: &quot;bias/2_3&quot;\\n  op: &quot;VariableV2&quot;\\n  attr {\\n    key: &quot;container&quot;\\n    value {\\n      s: &quot;&quot;\\n    }\\n  }\\n  attr {\\n    key: &quot;dtype&quot;\\n    value {\\n      type: DT_FLOAT\\n    }\\n  }\\n  attr {\\n    key: &quot;shape&quot;\\n    value {\\n      shape {\\n        dim {\\n          size: 8\\n        }\\n      }\\n    }\\n  }\\n  attr {\\n    key: &quot;shared_name&quot;\\n    value {\\n      s: &quot;&quot;\\n    }\\n  }\\n}\\nnode {\\n  name: &quot;bias/2_3/Assign&quot;\\n  op: &quot;Assign&quot;\\n  input: &quot;bias/2_3&quot;\\n  input: &quot;random/uniform_14&quot;\\n  attr {\\n    key: &quot;T&quot;\\n    value {\\n      type: DT_FLOAT\\n    }\\n  }\\n  attr {\\n    key: &quot;_class&quot;\\n    value {\\n      list {\\n        s: &quot;loc:@bias_2_3&quot;\\n      }\\n    }\\n  }\\n  attr {\\n    key: &quot;use_locking&quot;\\n    value {\\n      b: true\\n    }\\n  }\\n  attr {\\n    key: &quot;validate_shape&quot;\\n    value {\\n      b: true\\n    }\\n  }\\n}\\nnode {\\n  name: &quot;bias/2_3/read&quot;\\n  op: &quot;Identity&quot;\\n  input: &quot;bias/2_3&quot;\\n  attr {\\n    key: &quot;T&quot;\\n    value {\\n      type: DT_FLOAT\\n    }\\n  }\\n  attr {\\n    key: &quot;_class&quot;\\n    value {\\n      list {\\n        s: &quot;loc:@bias_2_3&quot;\\n      }\\n    }\\n  }\\n}\\nnode {\\n  name: &quot;random/uniform_15/shape&quot;\\n  op: &quot;Const&quot;\\n  attr {\\n    key: &quot;dtype&quot;\\n    value {\\n      type: DT_INT32\\n    }\\n  }\\n  attr {\\n    key: &quot;value&quot;\\n    value {\\n      tensor {\\n        dtype: DT_INT32\\n        tensor_shape {\\n          dim {\\n            size: 2\\n          }\\n        }\\n        tensor_content: &quot;\\\\007\\\\000\\\\000\\\\000\\\\010\\\\000\\\\000\\\\000&quot;\\n      }\\n    }\\n  }\\n}\\nnode {\\n  name: &quot;random/uniform_15/min&quot;\\n  op: &quot;Const&quot;\\n  attr {\\n    key: &quot;dtype&quot;\\n    value {\\n      type: DT_FLOAT\\n    }\\n  }\\n  attr {\\n    key: &quot;value&quot;\\n    value {\\n      tensor {\\n        dtype: DT_FLOAT\\n        tensor_shape {\\n        }\\n        float_val: 0.0\\n      }\\n    }\\n  }\\n}\\nnode {\\n  name: &quot;random/uniform_15/max&quot;\\n  op: &quot;Const&quot;\\n  attr {\\n    key: &quot;dtype&quot;\\n    value {\\n      type: DT_FLOAT\\n    }\\n  }\\n  attr {\\n    key: &quot;value&quot;\\n    value {\\n      tensor {\\n        dtype: DT_FLOAT\\n        tensor_shape {\\n        }\\n        float_val: 1.0\\n      }\\n    }\\n  }\\n}\\nnode {\\n  name: &quot;random/uniform_15/RandomUniform&quot;\\n  op: &quot;RandomUniform&quot;\\n  input: &quot;random/uniform_15/shape&quot;\\n  attr {\\n    key: &quot;T&quot;\\n    value {\\n      type: DT_INT32\\n    }\\n  }\\n  attr {\\n    key: &quot;dtype&quot;\\n    value {\\n      type: DT_FLOAT\\n    }\\n  }\\n  attr {\\n    key: &quot;seed&quot;\\n    value {\\n      i: 0\\n    }\\n  }\\n  attr {\\n    key: &quot;seed2&quot;\\n    value {\\n      i: 0\\n    }\\n  }\\n}\\nnode {\\n  name: &quot;random/uniform_15/sub&quot;\\n  op: &quot;Sub&quot;\\n  input: &quot;random/uniform_15/max&quot;\\n  input: &quot;random/uniform_15/min&quot;\\n  attr {\\n    key: &quot;T&quot;\\n    value {\\n      type: DT_FLOAT\\n    }\\n  }\\n}\\nnode {\\n  name: &quot;random/uniform_15/mul&quot;\\n  op: &quot;Mul&quot;\\n  input: &quot;random/uniform_15/RandomUniform&quot;\\n  input: &quot;random/uniform_15/sub&quot;\\n  attr {\\n    key: &quot;T&quot;\\n    value {\\n      type: DT_FLOAT\\n    }\\n  }\\n}\\nnode {\\n  name: &quot;random/uniform_15&quot;\\n  op: &quot;Add&quot;\\n  input: &quot;random/uniform_15/mul&quot;\\n  input: &quot;random/uniform_15/min&quot;\\n  attr {\\n    key: &quot;T&quot;\\n    value {\\n      type: DT_FLOAT\\n    }\\n  }\\n}\\nnode {\\n  name: &quot;W/2_3&quot;\\n  op: &quot;VariableV2&quot;\\n  attr {\\n    key: &quot;container&quot;\\n    value {\\n      s: &quot;&quot;\\n    }\\n  }\\n  attr {\\n    key: &quot;dtype&quot;\\n    value {\\n      type: DT_FLOAT\\n    }\\n  }\\n  attr {\\n    key: &quot;shape&quot;\\n    value {\\n      shape {\\n        dim {\\n          size: 7\\n        }\\n        dim {\\n          size: 8\\n        }\\n      }\\n    }\\n  }\\n  attr {\\n    key: &quot;shared_name&quot;\\n    value {\\n      s: &quot;&quot;\\n    }\\n  }\\n}\\nnode {\\n  name: &quot;W/2_3/Assign&quot;\\n  op: &quot;Assign&quot;\\n  input: &quot;W/2_3&quot;\\n  input: &quot;random/uniform_15&quot;\\n  attr {\\n    key: &quot;T&quot;\\n    value {\\n      type: DT_FLOAT\\n    }\\n  }\\n  attr {\\n    key: &quot;_class&quot;\\n    value {\\n      list {\\n        s: &quot;loc:@W_2_3&quot;\\n      }\\n    }\\n  }\\n  attr {\\n    key: &quot;use_locking&quot;\\n    value {\\n      b: true\\n    }\\n  }\\n  attr {\\n    key: &quot;validate_shape&quot;\\n    value {\\n      b: true\\n    }\\n  }\\n}\\nnode {\\n  name: &quot;W/2_3/read&quot;\\n  op: &quot;Identity&quot;\\n  input: &quot;W/2_3&quot;\\n  attr {\\n    key: &quot;T&quot;\\n    value {\\n      type: DT_FLOAT\\n    }\\n  }\\n  attr {\\n    key: &quot;_class&quot;\\n    value {\\n      list {\\n        s: &quot;loc:@W_2_3&quot;\\n      }\\n    }\\n  }\\n}\\nnode {\\n  name: &quot;MatMul/7&quot;\\n  op: &quot;MatMul&quot;\\n  input: &quot;truediv/3&quot;\\n  input: &quot;W/2_3/read&quot;\\n  attr {\\n    key: &quot;T&quot;\\n    value {\\n      type: DT_FLOAT\\n    }\\n  }\\n  attr {\\n    key: &quot;transpose_a&quot;\\n    value {\\n      b: false\\n    }\\n  }\\n  attr {\\n    key: &quot;transpose_b&quot;\\n    value {\\n      b: false\\n    }\\n  }\\n}\\nnode {\\n  name: &quot;Add/11&quot;\\n  op: &quot;Add&quot;\\n  input: &quot;MatMul/7&quot;\\n  input: &quot;bias/2_3/read&quot;\\n  attr {\\n    key: &quot;T&quot;\\n    value {\\n      type: DT_FLOAT\\n    }\\n  }\\n}\\nnode {\\n  name: &quot;h/2_3&quot;\\n  op: &quot;Relu&quot;\\n  input: &quot;Add/11&quot;\\n  attr {\\n    key: &quot;T&quot;\\n    value {\\n      type: DT_FLOAT\\n    }\\n  }\\n}\\nnode {\\n  name: &quot;g/3&quot;\\n  op: &quot;Add&quot;\\n  input: &quot;h/1_3&quot;\\n  input: &quot;h/2_3&quot;\\n  attr {\\n    key: &quot;T&quot;\\n    value {\\n      type: DT_FLOAT\\n    }\\n  }\\n}\\nnode {\\n  name: &quot;random/uniform_16/shape&quot;\\n  op: &quot;Const&quot;\\n  attr {\\n    key: &quot;dtype&quot;\\n    value {\\n      type: DT_INT32\\n    }\\n  }\\n  attr {\\n    key: &quot;value&quot;\\n    value {\\n      tensor {\\n        dtype: DT_INT32\\n        tensor_shape {\\n          dim {\\n            size: 1\\n          }\\n        }\\n        int_val: 1\\n      }\\n    }\\n  }\\n}\\nnode {\\n  name: &quot;random/uniform_16/min&quot;\\n  op: &quot;Const&quot;\\n  attr {\\n    key: &quot;dtype&quot;\\n    value {\\n      type: DT_FLOAT\\n    }\\n  }\\n  attr {\\n    key: &quot;value&quot;\\n    value {\\n      tensor {\\n        dtype: DT_FLOAT\\n        tensor_shape {\\n        }\\n        float_val: 0.0\\n      }\\n    }\\n  }\\n}\\nnode {\\n  name: &quot;random/uniform_16/max&quot;\\n  op: &quot;Const&quot;\\n  attr {\\n    key: &quot;dtype&quot;\\n    value {\\n      type: DT_FLOAT\\n    }\\n  }\\n  attr {\\n    key: &quot;value&quot;\\n    value {\\n      tensor {\\n        dtype: DT_FLOAT\\n        tensor_shape {\\n        }\\n        float_val: 1.0\\n      }\\n    }\\n  }\\n}\\nnode {\\n  name: &quot;random/uniform_16/RandomUniform&quot;\\n  op: &quot;RandomUniform&quot;\\n  input: &quot;random/uniform_16/shape&quot;\\n  attr {\\n    key: &quot;T&quot;\\n    value {\\n      type: DT_INT32\\n    }\\n  }\\n  attr {\\n    key: &quot;dtype&quot;\\n    value {\\n      type: DT_FLOAT\\n    }\\n  }\\n  attr {\\n    key: &quot;seed&quot;\\n    value {\\n      i: 0\\n    }\\n  }\\n  attr {\\n    key: &quot;seed2&quot;\\n    value {\\n      i: 0\\n    }\\n  }\\n}\\nnode {\\n  name: &quot;random/uniform_16/sub&quot;\\n  op: &quot;Sub&quot;\\n  input: &quot;random/uniform_16/max&quot;\\n  input: &quot;random/uniform_16/min&quot;\\n  attr {\\n    key: &quot;T&quot;\\n    value {\\n      type: DT_FLOAT\\n    }\\n  }\\n}\\nnode {\\n  name: &quot;random/uniform_16/mul&quot;\\n  op: &quot;Mul&quot;\\n  input: &quot;random/uniform_16/RandomUniform&quot;\\n  input: &quot;random/uniform_16/sub&quot;\\n  attr {\\n    key: &quot;T&quot;\\n    value {\\n      type: DT_FLOAT\\n    }\\n  }\\n}\\nnode {\\n  name: &quot;random/uniform_16&quot;\\n  op: &quot;Add&quot;\\n  input: &quot;random/uniform_16/mul&quot;\\n  input: &quot;random/uniform_16/min&quot;\\n  attr {\\n    key: &quot;T&quot;\\n    value {\\n      type: DT_FLOAT\\n    }\\n  }\\n}\\nnode {\\n  name: &quot;bias/3_0&quot;\\n  op: &quot;VariableV2&quot;\\n  attr {\\n    key: &quot;container&quot;\\n    value {\\n      s: &quot;&quot;\\n    }\\n  }\\n  attr {\\n    key: &quot;dtype&quot;\\n    value {\\n      type: DT_FLOAT\\n    }\\n  }\\n  attr {\\n    key: &quot;shape&quot;\\n    value {\\n      shape {\\n        dim {\\n          size: 1\\n        }\\n      }\\n    }\\n  }\\n  attr {\\n    key: &quot;shared_name&quot;\\n    value {\\n      s: &quot;&quot;\\n    }\\n  }\\n}\\nnode {\\n  name: &quot;bias/3_0/Assign&quot;\\n  op: &quot;Assign&quot;\\n  input: &quot;bias/3_0&quot;\\n  input: &quot;random/uniform_16&quot;\\n  attr {\\n    key: &quot;T&quot;\\n    value {\\n      type: DT_FLOAT\\n    }\\n  }\\n  attr {\\n    key: &quot;_class&quot;\\n    value {\\n      list {\\n        s: &quot;loc:@bias_3_0&quot;\\n      }\\n    }\\n  }\\n  attr {\\n    key: &quot;use_locking&quot;\\n    value {\\n      b: true\\n    }\\n  }\\n  attr {\\n    key: &quot;validate_shape&quot;\\n    value {\\n      b: true\\n    }\\n  }\\n}\\nnode {\\n  name: &quot;bias/3_0/read&quot;\\n  op: &quot;Identity&quot;\\n  input: &quot;bias/3_0&quot;\\n  attr {\\n    key: &quot;T&quot;\\n    value {\\n      type: DT_FLOAT\\n    }\\n  }\\n  attr {\\n    key: &quot;_class&quot;\\n    value {\\n      list {\\n        s: &quot;loc:@bias_3_0&quot;\\n      }\\n    }\\n  }\\n}\\nnode {\\n  name: &quot;random/uniform_17/shape&quot;\\n  op: &quot;Const&quot;\\n  attr {\\n    key: &quot;dtype&quot;\\n    value {\\n      type: DT_INT32\\n    }\\n  }\\n  attr {\\n    key: &quot;value&quot;\\n    value {\\n      tensor {\\n        dtype: DT_INT32\\n        tensor_shape {\\n          dim {\\n            size: 2\\n          }\\n        }\\n        tensor_content: &quot;\\\\010\\\\000\\\\000\\\\000\\\\001\\\\000\\\\000\\\\000&quot;\\n      }\\n    }\\n  }\\n}\\nnode {\\n  name: &quot;random/uniform_17/min&quot;\\n  op: &quot;Const&quot;\\n  attr {\\n    key: &quot;dtype&quot;\\n    value {\\n      type: DT_FLOAT\\n    }\\n  }\\n  attr {\\n    key: &quot;value&quot;\\n    value {\\n      tensor {\\n        dtype: DT_FLOAT\\n        tensor_shape {\\n        }\\n        float_val: 0.0\\n      }\\n    }\\n  }\\n}\\nnode {\\n  name: &quot;random/uniform_17/max&quot;\\n  op: &quot;Const&quot;\\n  attr {\\n    key: &quot;dtype&quot;\\n    value {\\n      type: DT_FLOAT\\n    }\\n  }\\n  attr {\\n    key: &quot;value&quot;\\n    value {\\n      tensor {\\n        dtype: DT_FLOAT\\n        tensor_shape {\\n        }\\n        float_val: 1.0\\n      }\\n    }\\n  }\\n}\\nnode {\\n  name: &quot;random/uniform_17/RandomUniform&quot;\\n  op: &quot;RandomUniform&quot;\\n  input: &quot;random/uniform_17/shape&quot;\\n  attr {\\n    key: &quot;T&quot;\\n    value {\\n      type: DT_INT32\\n    }\\n  }\\n  attr {\\n    key: &quot;dtype&quot;\\n    value {\\n      type: DT_FLOAT\\n    }\\n  }\\n  attr {\\n    key: &quot;seed&quot;\\n    value {\\n      i: 0\\n    }\\n  }\\n  attr {\\n    key: &quot;seed2&quot;\\n    value {\\n      i: 0\\n    }\\n  }\\n}\\nnode {\\n  name: &quot;random/uniform_17/sub&quot;\\n  op: &quot;Sub&quot;\\n  input: &quot;random/uniform_17/max&quot;\\n  input: &quot;random/uniform_17/min&quot;\\n  attr {\\n    key: &quot;T&quot;\\n    value {\\n      type: DT_FLOAT\\n    }\\n  }\\n}\\nnode {\\n  name: &quot;random/uniform_17/mul&quot;\\n  op: &quot;Mul&quot;\\n  input: &quot;random/uniform_17/RandomUniform&quot;\\n  input: &quot;random/uniform_17/sub&quot;\\n  attr {\\n    key: &quot;T&quot;\\n    value {\\n      type: DT_FLOAT\\n    }\\n  }\\n}\\nnode {\\n  name: &quot;random/uniform_17&quot;\\n  op: &quot;Add&quot;\\n  input: &quot;random/uniform_17/mul&quot;\\n  input: &quot;random/uniform_17/min&quot;\\n  attr {\\n    key: &quot;T&quot;\\n    value {\\n      type: DT_FLOAT\\n    }\\n  }\\n}\\nnode {\\n  name: &quot;W/3_0&quot;\\n  op: &quot;VariableV2&quot;\\n  attr {\\n    key: &quot;container&quot;\\n    value {\\n      s: &quot;&quot;\\n    }\\n  }\\n  attr {\\n    key: &quot;dtype&quot;\\n    value {\\n      type: DT_FLOAT\\n    }\\n  }\\n  attr {\\n    key: &quot;shape&quot;\\n    value {\\n      shape {\\n        dim {\\n          size: 8\\n        }\\n        dim {\\n          size: 1\\n        }\\n      }\\n    }\\n  }\\n  attr {\\n    key: &quot;shared_name&quot;\\n    value {\\n      s: &quot;&quot;\\n    }\\n  }\\n}\\nnode {\\n  name: &quot;W/3_0/Assign&quot;\\n  op: &quot;Assign&quot;\\n  input: &quot;W/3_0&quot;\\n  input: &quot;random/uniform_17&quot;\\n  attr {\\n    key: &quot;T&quot;\\n    value {\\n      type: DT_FLOAT\\n    }\\n  }\\n  attr {\\n    key: &quot;_class&quot;\\n    value {\\n      list {\\n        s: &quot;loc:@W_3_0&quot;\\n      }\\n    }\\n  }\\n  attr {\\n    key: &quot;use_locking&quot;\\n    value {\\n      b: true\\n    }\\n  }\\n  attr {\\n    key: &quot;validate_shape&quot;\\n    value {\\n      b: true\\n    }\\n  }\\n}\\nnode {\\n  name: &quot;W/3_0/read&quot;\\n  op: &quot;Identity&quot;\\n  input: &quot;W/3_0&quot;\\n  attr {\\n    key: &quot;T&quot;\\n    value {\\n      type: DT_FLOAT\\n    }\\n  }\\n  attr {\\n    key: &quot;_class&quot;\\n    value {\\n      list {\\n        s: &quot;loc:@W_3_0&quot;\\n      }\\n    }\\n  }\\n}\\nnode {\\n  name: &quot;MatMul/8&quot;\\n  op: &quot;MatMul&quot;\\n  input: &quot;g/3&quot;\\n  input: &quot;W/3_0/read&quot;\\n  attr {\\n    key: &quot;T&quot;\\n    value {\\n      type: DT_FLOAT\\n    }\\n  }\\n  attr {\\n    key: &quot;transpose_a&quot;\\n    value {\\n      b: false\\n    }\\n  }\\n  attr {\\n    key: &quot;transpose_b&quot;\\n    value {\\n      b: false\\n    }\\n  }\\n}\\nnode {\\n  name: &quot;Add/12&quot;\\n  op: &quot;Add&quot;\\n  input: &quot;MatMul/8&quot;\\n  input: &quot;bias/3_0/read&quot;\\n  attr {\\n    key: &quot;T&quot;\\n    value {\\n      type: DT_FLOAT\\n    }\\n  }\\n}\\nnode {\\n  name: &quot;h/3_0&quot;\\n  op: &quot;Identity&quot;\\n  input: &quot;Add/12&quot;\\n  attr {\\n    key: &quot;T&quot;\\n    value {\\n      type: DT_FLOAT\\n    }\\n  }\\n}\\nnode {\\n  name: &quot;eps/4&quot;\\n  op: &quot;Const&quot;\\n  attr {\\n    key: &quot;dtype&quot;\\n    value {\\n      type: DT_FLOAT\\n    }\\n  }\\n  attr {\\n    key: &quot;value&quot;\\n    value {\\n      tensor {\\n        dtype: DT_FLOAT\\n        tensor_shape {\\n        }\\n        float_val: 1.000000013351432e-10\\n      }\\n    }\\n  }\\n}\\nnode {\\n  name: &quot;eps/5&quot;\\n  op: &quot;Const&quot;\\n  attr {\\n    key: &quot;dtype&quot;\\n    value {\\n      type: DT_FLOAT\\n    }\\n  }\\n  attr {\\n    key: &quot;value&quot;\\n    value {\\n      tensor {\\n        dtype: DT_FLOAT\\n        tensor_shape {\\n        }\\n        float_val: 1.000000013351432e-10\\n      }\\n    }\\n  }\\n}\\nnode {\\n  name: &quot;eps/6&quot;\\n  op: &quot;Const&quot;\\n  attr {\\n    key: &quot;dtype&quot;\\n    value {\\n      type: DT_FLOAT\\n    }\\n  }\\n  attr {\\n    key: &quot;value&quot;\\n    value {\\n      tensor {\\n        dtype: DT_FLOAT\\n        tensor_shape {\\n        }\\n        float_val: 1.000000013351432e-10\\n      }\\n    }\\n  }\\n}\\nnode {\\n  name: &quot;eps/7&quot;\\n  op: &quot;Const&quot;\\n  attr {\\n    key: &quot;dtype&quot;\\n    value {\\n      type: DT_FLOAT\\n    }\\n  }\\n  attr {\\n    key: &quot;value&quot;\\n    value {\\n      tensor {\\n        dtype: DT_FLOAT\\n        tensor_shape {\\n        }\\n        float_val: 1.000000013351432e-10\\n      }\\n    }\\n  }\\n}\\nnode {\\n  name: &quot;random/uniform_18/shape&quot;\\n  op: &quot;Const&quot;\\n  attr {\\n    key: &quot;dtype&quot;\\n    value {\\n      type: DT_INT32\\n    }\\n  }\\n  attr {\\n    key: &quot;value&quot;\\n    value {\\n      tensor {\\n        dtype: DT_INT32\\n        tensor_shape {\\n          dim {\\n            size: 1\\n          }\\n        }\\n        int_val: 9\\n      }\\n    }\\n  }\\n}\\nnode {\\n  name: &quot;random/uniform_18/min&quot;\\n  op: &quot;Const&quot;\\n  attr {\\n    key: &quot;dtype&quot;\\n    value {\\n      type: DT_FLOAT\\n    }\\n  }\\n  attr {\\n    key: &quot;value&quot;\\n    value {\\n      tensor {\\n        dtype: DT_FLOAT\\n        tensor_shape {\\n        }\\n        float_val: 0.0\\n      }\\n    }\\n  }\\n}\\nnode {\\n  name: &quot;random/uniform_18/max&quot;\\n  op: &quot;Const&quot;\\n  attr {\\n    key: &quot;dtype&quot;\\n    value {\\n      type: DT_FLOAT\\n    }\\n  }\\n  attr {\\n    key: &quot;value&quot;\\n    value {\\n      tensor {\\n        dtype: DT_FLOAT\\n        tensor_shape {\\n        }\\n        float_val: 1.0\\n      }\\n    }\\n  }\\n}\\nnode {\\n  name: &quot;random/uniform_18/RandomUniform&quot;\\n  op: &quot;RandomUniform&quot;\\n  input: &quot;random/uniform_18/shape&quot;\\n  attr {\\n    key: &quot;T&quot;\\n    value {\\n      type: DT_INT32\\n    }\\n  }\\n  attr {\\n    key: &quot;dtype&quot;\\n    value {\\n      type: DT_FLOAT\\n    }\\n  }\\n  attr {\\n    key: &quot;seed&quot;\\n    value {\\n      i: 0\\n    }\\n  }\\n  attr {\\n    key: &quot;seed2&quot;\\n    value {\\n      i: 0\\n    }\\n  }\\n}\\nnode {\\n  name: &quot;random/uniform_18/sub&quot;\\n  op: &quot;Sub&quot;\\n  input: &quot;random/uniform_18/max&quot;\\n  input: &quot;random/uniform_18/min&quot;\\n  attr {\\n    key: &quot;T&quot;\\n    value {\\n      type: DT_FLOAT\\n    }\\n  }\\n}\\nnode {\\n  name: &quot;random/uniform_18/mul&quot;\\n  op: &quot;Mul&quot;\\n  input: &quot;random/uniform_18/RandomUniform&quot;\\n  input: &quot;random/uniform_18/sub&quot;\\n  attr {\\n    key: &quot;T&quot;\\n    value {\\n      type: DT_FLOAT\\n    }\\n  }\\n}\\nnode {\\n  name: &quot;random/uniform_18&quot;\\n  op: &quot;Add&quot;\\n  input: &quot;random/uniform_18/mul&quot;\\n  input: &quot;random/uniform_18/min&quot;\\n  attr {\\n    key: &quot;T&quot;\\n    value {\\n      type: DT_FLOAT\\n    }\\n  }\\n}\\nnode {\\n  name: &quot;bias/1_0_1&quot;\\n  op: &quot;VariableV2&quot;\\n  attr {\\n    key: &quot;container&quot;\\n    value {\\n      s: &quot;&quot;\\n    }\\n  }\\n  attr {\\n    key: &quot;dtype&quot;\\n    value {\\n      type: DT_FLOAT\\n    }\\n  }\\n  attr {\\n    key: &quot;shape&quot;\\n    value {\\n      shape {\\n        dim {\\n          size: 9\\n        }\\n      }\\n    }\\n  }\\n  attr {\\n    key: &quot;shared_name&quot;\\n    value {\\n      s: &quot;&quot;\\n    }\\n  }\\n}\\nnode {\\n  name: &quot;bias/1_0_1/Assign&quot;\\n  op: &quot;Assign&quot;\\n  input: &quot;bias/1_0_1&quot;\\n  input: &quot;random/uniform_18&quot;\\n  attr {\\n    key: &quot;T&quot;\\n    value {\\n      type: DT_FLOAT\\n    }\\n  }\\n  attr {\\n    key: &quot;_class&quot;\\n    value {\\n      list {\\n        s: &quot;loc:@bias_1_0_1&quot;\\n      }\\n    }\\n  }\\n  attr {\\n    key: &quot;use_locking&quot;\\n    value {\\n      b: true\\n    }\\n  }\\n  attr {\\n    key: &quot;validate_shape&quot;\\n    value {\\n      b: true\\n    }\\n  }\\n}\\nnode {\\n  name: &quot;bias/1_0_1/read&quot;\\n  op: &quot;Identity&quot;\\n  input: &quot;bias/1_0_1&quot;\\n  attr {\\n    key: &quot;T&quot;\\n    value {\\n      type: DT_FLOAT\\n    }\\n  }\\n  attr {\\n    key: &quot;_class&quot;\\n    value {\\n      list {\\n        s: &quot;loc:@bias_1_0_1&quot;\\n      }\\n    }\\n  }\\n}\\nnode {\\n  name: &quot;random/uniform_19/shape&quot;\\n  op: &quot;Const&quot;\\n  attr {\\n    key: &quot;dtype&quot;\\n    value {\\n      type: DT_INT32\\n    }\\n  }\\n  attr {\\n    key: &quot;value&quot;\\n    value {\\n      tensor {\\n        dtype: DT_INT32\\n        tensor_shape {\\n          dim {\\n            size: 2\\n          }\\n        }\\n        tensor_content: &quot;\\\\n\\\\000\\\\000\\\\000\\\\t\\\\000\\\\000\\\\000&quot;\\n      }\\n    }\\n  }\\n}\\nnode {\\n  name: &quot;random/uniform_19/min&quot;\\n  op: &quot;Const&quot;\\n  attr {\\n    key: &quot;dtype&quot;\\n    value {\\n      type: DT_FLOAT\\n    }\\n  }\\n  attr {\\n    key: &quot;value&quot;\\n    value {\\n      tensor {\\n        dtype: DT_FLOAT\\n        tensor_shape {\\n        }\\n        float_val: 0.0\\n      }\\n    }\\n  }\\n}\\nnode {\\n  name: &quot;random/uniform_19/max&quot;\\n  op: &quot;Const&quot;\\n  attr {\\n    key: &quot;dtype&quot;\\n    value {\\n      type: DT_FLOAT\\n    }\\n  }\\n  attr {\\n    key: &quot;value&quot;\\n    value {\\n      tensor {\\n        dtype: DT_FLOAT\\n        tensor_shape {\\n        }\\n        float_val: 1.0\\n      }\\n    }\\n  }\\n}\\nnode {\\n  name: &quot;random/uniform_19/RandomUniform&quot;\\n  op: &quot;RandomUniform&quot;\\n  input: &quot;random/uniform_19/shape&quot;\\n  attr {\\n    key: &quot;T&quot;\\n    value {\\n      type: DT_INT32\\n    }\\n  }\\n  attr {\\n    key: &quot;dtype&quot;\\n    value {\\n      type: DT_FLOAT\\n    }\\n  }\\n  attr {\\n    key: &quot;seed&quot;\\n    value {\\n      i: 0\\n    }\\n  }\\n  attr {\\n    key: &quot;seed2&quot;\\n    value {\\n      i: 0\\n    }\\n  }\\n}\\nnode {\\n  name: &quot;random/uniform_19/sub&quot;\\n  op: &quot;Sub&quot;\\n  input: &quot;random/uniform_19/max&quot;\\n  input: &quot;random/uniform_19/min&quot;\\n  attr {\\n    key: &quot;T&quot;\\n    value {\\n      type: DT_FLOAT\\n    }\\n  }\\n}\\nnode {\\n  name: &quot;random/uniform_19/mul&quot;\\n  op: &quot;Mul&quot;\\n  input: &quot;random/uniform_19/RandomUniform&quot;\\n  input: &quot;random/uniform_19/sub&quot;\\n  attr {\\n    key: &quot;T&quot;\\n    value {\\n      type: DT_FLOAT\\n    }\\n  }\\n}\\nnode {\\n  name: &quot;random/uniform_19&quot;\\n  op: &quot;Add&quot;\\n  input: &quot;random/uniform_19/mul&quot;\\n  input: &quot;random/uniform_19/min&quot;\\n  attr {\\n    key: &quot;T&quot;\\n    value {\\n      type: DT_FLOAT\\n    }\\n  }\\n}\\nnode {\\n  name: &quot;W/1_0_1&quot;\\n  op: &quot;VariableV2&quot;\\n  attr {\\n    key: &quot;container&quot;\\n    value {\\n      s: &quot;&quot;\\n    }\\n  }\\n  attr {\\n    key: &quot;dtype&quot;\\n    value {\\n      type: DT_FLOAT\\n    }\\n  }\\n  attr {\\n    key: &quot;shape&quot;\\n    value {\\n      shape {\\n        dim {\\n          size: 10\\n        }\\n        dim {\\n          size: 9\\n        }\\n      }\\n    }\\n  }\\n  attr {\\n    key: &quot;shared_name&quot;\\n    value {\\n      s: &quot;&quot;\\n    }\\n  }\\n}\\nnode {\\n  name: &quot;W/1_0_1/Assign&quot;\\n  op: &quot;Assign&quot;\\n  input: &quot;W/1_0_1&quot;\\n  input: &quot;random/uniform_19&quot;\\n  attr {\\n    key: &quot;T&quot;\\n    value {\\n      type: DT_FLOAT\\n    }\\n  }\\n  attr {\\n    key: &quot;_class&quot;\\n    value {\\n      list {\\n        s: &quot;loc:@W_1_0_1&quot;\\n      }\\n    }\\n  }\\n  attr {\\n    key: &quot;use_locking&quot;\\n    value {\\n      b: true\\n    }\\n  }\\n  attr {\\n    key: &quot;validate_shape&quot;\\n    value {\\n      b: true\\n    }\\n  }\\n}\\nnode {\\n  name: &quot;W/1_0_1/read&quot;\\n  op: &quot;Identity&quot;\\n  input: &quot;W/1_0_1&quot;\\n  attr {\\n    key: &quot;T&quot;\\n    value {\\n      type: DT_FLOAT\\n    }\\n  }\\n  attr {\\n    key: &quot;_class&quot;\\n    value {\\n      list {\\n        s: &quot;loc:@W_1_0_1&quot;\\n      }\\n    }\\n  }\\n}\\nnode {\\n  name: &quot;MatMul/9&quot;\\n  op: &quot;MatMul&quot;\\n  input: &quot;X&quot;\\n  input: &quot;W/1_0_1/read&quot;\\n  attr {\\n    key: &quot;T&quot;\\n    value {\\n      type: DT_FLOAT\\n    }\\n  }\\n  attr {\\n    key: &quot;transpose_a&quot;\\n    value {\\n      b: false\\n    }\\n  }\\n  attr {\\n    key: &quot;transpose_b&quot;\\n    value {\\n      b: false\\n    }\\n  }\\n}\\nnode {\\n  name: &quot;Add/13&quot;\\n  op: &quot;Add&quot;\\n  input: &quot;MatMul/9&quot;\\n  input: &quot;bias/1_0_1/read&quot;\\n  attr {\\n    key: &quot;T&quot;\\n    value {\\n      type: DT_FLOAT\\n    }\\n  }\\n}\\nnode {\\n  name: &quot;h/1_0_1&quot;\\n  op: &quot;Relu&quot;\\n  input: &quot;Add/13&quot;\\n  attr {\\n    key: &quot;T&quot;\\n    value {\\n      type: DT_FLOAT\\n    }\\n  }\\n}\\nnode {\\n  name: &quot;Const/4&quot;\\n  op: &quot;Const&quot;\\n  attr {\\n    key: &quot;dtype&quot;\\n    value {\\n      type: DT_FLOAT\\n    }\\n  }\\n  attr {\\n    key: &quot;value&quot;\\n    value {\\n      tensor {\\n        dtype: DT_FLOAT\\n        tensor_shape {\\n        }\\n        float_val: 1.0\\n      }\\n    }\\n  }\\n}\\nnode {\\n  name: &quot;Add/14&quot;\\n  op: &quot;Add&quot;\\n  input: &quot;eps/7&quot;\\n  input: &quot;X&quot;\\n  attr {\\n    key: &quot;T&quot;\\n    value {\\n      type: DT_FLOAT\\n    }\\n  }\\n}\\nnode {\\n  name: &quot;truediv/4&quot;\\n  op: &quot;RealDiv&quot;\\n  input: &quot;Const/4&quot;\\n  input: &quot;Add/14&quot;\\n  attr {\\n    key: &quot;T&quot;\\n    value {\\n      type: DT_FLOAT\\n    }\\n  }\\n}\\nnode {\\n  name: &quot;random/uniform_20/shape&quot;\\n  op: &quot;Const&quot;\\n  attr {\\n    key: &quot;dtype&quot;\\n    value {\\n      type: DT_INT32\\n    }\\n  }\\n  attr {\\n    key: &quot;value&quot;\\n    value {\\n      tensor {\\n        dtype: DT_INT32\\n        tensor_shape {\\n          dim {\\n            size: 1\\n          }\\n        }\\n        int_val: 9\\n      }\\n    }\\n  }\\n}\\nnode {\\n  name: &quot;random/uniform_20/min&quot;\\n  op: &quot;Const&quot;\\n  attr {\\n    key: &quot;dtype&quot;\\n    value {\\n      type: DT_FLOAT\\n    }\\n  }\\n  attr {\\n    key: &quot;value&quot;\\n    value {\\n      tensor {\\n        dtype: DT_FLOAT\\n        tensor_shape {\\n        }\\n        float_val: 0.0\\n      }\\n    }\\n  }\\n}\\nnode {\\n  name: &quot;random/uniform_20/max&quot;\\n  op: &quot;Const&quot;\\n  attr {\\n    key: &quot;dtype&quot;\\n    value {\\n      type: DT_FLOAT\\n    }\\n  }\\n  attr {\\n    key: &quot;value&quot;\\n    value {\\n      tensor {\\n        dtype: DT_FLOAT\\n        tensor_shape {\\n        }\\n        float_val: 1.0\\n      }\\n    }\\n  }\\n}\\nnode {\\n  name: &quot;random/uniform_20/RandomUniform&quot;\\n  op: &quot;RandomUniform&quot;\\n  input: &quot;random/uniform_20/shape&quot;\\n  attr {\\n    key: &quot;T&quot;\\n    value {\\n      type: DT_INT32\\n    }\\n  }\\n  attr {\\n    key: &quot;dtype&quot;\\n    value {\\n      type: DT_FLOAT\\n    }\\n  }\\n  attr {\\n    key: &quot;seed&quot;\\n    value {\\n      i: 0\\n    }\\n  }\\n  attr {\\n    key: &quot;seed2&quot;\\n    value {\\n      i: 0\\n    }\\n  }\\n}\\nnode {\\n  name: &quot;random/uniform_20/sub&quot;\\n  op: &quot;Sub&quot;\\n  input: &quot;random/uniform_20/max&quot;\\n  input: &quot;random/uniform_20/min&quot;\\n  attr {\\n    key: &quot;T&quot;\\n    value {\\n      type: DT_FLOAT\\n    }\\n  }\\n}\\nnode {\\n  name: &quot;random/uniform_20/mul&quot;\\n  op: &quot;Mul&quot;\\n  input: &quot;random/uniform_20/RandomUniform&quot;\\n  input: &quot;random/uniform_20/sub&quot;\\n  attr {\\n    key: &quot;T&quot;\\n    value {\\n      type: DT_FLOAT\\n    }\\n  }\\n}\\nnode {\\n  name: &quot;random/uniform_20&quot;\\n  op: &quot;Add&quot;\\n  input: &quot;random/uniform_20/mul&quot;\\n  input: &quot;random/uniform_20/min&quot;\\n  attr {\\n    key: &quot;T&quot;\\n    value {\\n      type: DT_FLOAT\\n    }\\n  }\\n}\\nnode {\\n  name: &quot;bias/2_0_1&quot;\\n  op: &quot;VariableV2&quot;\\n  attr {\\n    key: &quot;container&quot;\\n    value {\\n      s: &quot;&quot;\\n    }\\n  }\\n  attr {\\n    key: &quot;dtype&quot;\\n    value {\\n      type: DT_FLOAT\\n    }\\n  }\\n  attr {\\n    key: &quot;shape&quot;\\n    value {\\n      shape {\\n        dim {\\n          size: 9\\n        }\\n      }\\n    }\\n  }\\n  attr {\\n    key: &quot;shared_name&quot;\\n    value {\\n      s: &quot;&quot;\\n    }\\n  }\\n}\\nnode {\\n  name: &quot;bias/2_0_1/Assign&quot;\\n  op: &quot;Assign&quot;\\n  input: &quot;bias/2_0_1&quot;\\n  input: &quot;random/uniform_20&quot;\\n  attr {\\n    key: &quot;T&quot;\\n    value {\\n      type: DT_FLOAT\\n    }\\n  }\\n  attr {\\n    key: &quot;_class&quot;\\n    value {\\n      list {\\n        s: &quot;loc:@bias_2_0_1&quot;\\n      }\\n    }\\n  }\\n  attr {\\n    key: &quot;use_locking&quot;\\n    value {\\n      b: true\\n    }\\n  }\\n  attr {\\n    key: &quot;validate_shape&quot;\\n    value {\\n      b: true\\n    }\\n  }\\n}\\nnode {\\n  name: &quot;bias/2_0_1/read&quot;\\n  op: &quot;Identity&quot;\\n  input: &quot;bias/2_0_1&quot;\\n  attr {\\n    key: &quot;T&quot;\\n    value {\\n      type: DT_FLOAT\\n    }\\n  }\\n  attr {\\n    key: &quot;_class&quot;\\n    value {\\n      list {\\n        s: &quot;loc:@bias_2_0_1&quot;\\n      }\\n    }\\n  }\\n}\\nnode {\\n  name: &quot;random/uniform_21/shape&quot;\\n  op: &quot;Const&quot;\\n  attr {\\n    key: &quot;dtype&quot;\\n    value {\\n      type: DT_INT32\\n    }\\n  }\\n  attr {\\n    key: &quot;value&quot;\\n    value {\\n      tensor {\\n        dtype: DT_INT32\\n        tensor_shape {\\n          dim {\\n            size: 2\\n          }\\n        }\\n        tensor_content: &quot;\\\\n\\\\000\\\\000\\\\000\\\\t\\\\000\\\\000\\\\000&quot;\\n      }\\n    }\\n  }\\n}\\nnode {\\n  name: &quot;random/uniform_21/min&quot;\\n  op: &quot;Const&quot;\\n  attr {\\n    key: &quot;dtype&quot;\\n    value {\\n      type: DT_FLOAT\\n    }\\n  }\\n  attr {\\n    key: &quot;value&quot;\\n    value {\\n      tensor {\\n        dtype: DT_FLOAT\\n        tensor_shape {\\n        }\\n        float_val: 0.0\\n      }\\n    }\\n  }\\n}\\nnode {\\n  name: &quot;random/uniform_21/max&quot;\\n  op: &quot;Const&quot;\\n  attr {\\n    key: &quot;dtype&quot;\\n    value {\\n      type: DT_FLOAT\\n    }\\n  }\\n  attr {\\n    key: &quot;value&quot;\\n    value {\\n      tensor {\\n        dtype: DT_FLOAT\\n        tensor_shape {\\n        }\\n        float_val: 1.0\\n      }\\n    }\\n  }\\n}\\nnode {\\n  name: &quot;random/uniform_21/RandomUniform&quot;\\n  op: &quot;RandomUniform&quot;\\n  input: &quot;random/uniform_21/shape&quot;\\n  attr {\\n    key: &quot;T&quot;\\n    value {\\n      type: DT_INT32\\n    }\\n  }\\n  attr {\\n    key: &quot;dtype&quot;\\n    value {\\n      type: DT_FLOAT\\n    }\\n  }\\n  attr {\\n    key: &quot;seed&quot;\\n    value {\\n      i: 0\\n    }\\n  }\\n  attr {\\n    key: &quot;seed2&quot;\\n    value {\\n      i: 0\\n    }\\n  }\\n}\\nnode {\\n  name: &quot;random/uniform_21/sub&quot;\\n  op: &quot;Sub&quot;\\n  input: &quot;random/uniform_21/max&quot;\\n  input: &quot;random/uniform_21/min&quot;\\n  attr {\\n    key: &quot;T&quot;\\n    value {\\n      type: DT_FLOAT\\n    }\\n  }\\n}\\nnode {\\n  name: &quot;random/uniform_21/mul&quot;\\n  op: &quot;Mul&quot;\\n  input: &quot;random/uniform_21/RandomUniform&quot;\\n  input: &quot;random/uniform_21/sub&quot;\\n  attr {\\n    key: &quot;T&quot;\\n    value {\\n      type: DT_FLOAT\\n    }\\n  }\\n}\\nnode {\\n  name: &quot;random/uniform_21&quot;\\n  op: &quot;Add&quot;\\n  input: &quot;random/uniform_21/mul&quot;\\n  input: &quot;random/uniform_21/min&quot;\\n  attr {\\n    key: &quot;T&quot;\\n    value {\\n      type: DT_FLOAT\\n    }\\n  }\\n}\\nnode {\\n  name: &quot;W/2_0_1&quot;\\n  op: &quot;VariableV2&quot;\\n  attr {\\n    key: &quot;container&quot;\\n    value {\\n      s: &quot;&quot;\\n    }\\n  }\\n  attr {\\n    key: &quot;dtype&quot;\\n    value {\\n      type: DT_FLOAT\\n    }\\n  }\\n  attr {\\n    key: &quot;shape&quot;\\n    value {\\n      shape {\\n        dim {\\n          size: 10\\n        }\\n        dim {\\n          size: 9\\n        }\\n      }\\n    }\\n  }\\n  attr {\\n    key: &quot;shared_name&quot;\\n    value {\\n      s: &quot;&quot;\\n    }\\n  }\\n}\\nnode {\\n  name: &quot;W/2_0_1/Assign&quot;\\n  op: &quot;Assign&quot;\\n  input: &quot;W/2_0_1&quot;\\n  input: &quot;random/uniform_21&quot;\\n  attr {\\n    key: &quot;T&quot;\\n    value {\\n      type: DT_FLOAT\\n    }\\n  }\\n  attr {\\n    key: &quot;_class&quot;\\n    value {\\n      list {\\n        s: &quot;loc:@W_2_0_1&quot;\\n      }\\n    }\\n  }\\n  attr {\\n    key: &quot;use_locking&quot;\\n    value {\\n      b: true\\n    }\\n  }\\n  attr {\\n    key: &quot;validate_shape&quot;\\n    value {\\n      b: true\\n    }\\n  }\\n}\\nnode {\\n  name: &quot;W/2_0_1/read&quot;\\n  op: &quot;Identity&quot;\\n  input: &quot;W/2_0_1&quot;\\n  attr {\\n    key: &quot;T&quot;\\n    value {\\n      type: DT_FLOAT\\n    }\\n  }\\n  attr {\\n    key: &quot;_class&quot;\\n    value {\\n      list {\\n        s: &quot;loc:@W_2_0_1&quot;\\n      }\\n    }\\n  }\\n}\\nnode {\\n  name: &quot;MatMul/10&quot;\\n  op: &quot;MatMul&quot;\\n  input: &quot;truediv/4&quot;\\n  input: &quot;W/2_0_1/read&quot;\\n  attr {\\n    key: &quot;T&quot;\\n    value {\\n      type: DT_FLOAT\\n    }\\n  }\\n  attr {\\n    key: &quot;transpose_a&quot;\\n    value {\\n      b: false\\n    }\\n  }\\n  attr {\\n    key: &quot;transpose_b&quot;\\n    value {\\n      b: false\\n    }\\n  }\\n}\\nnode {\\n  name: &quot;Add/15&quot;\\n  op: &quot;Add&quot;\\n  input: &quot;MatMul/10&quot;\\n  input: &quot;bias/2_0_1/read&quot;\\n  attr {\\n    key: &quot;T&quot;\\n    value {\\n      type: DT_FLOAT\\n    }\\n  }\\n}\\nnode {\\n  name: &quot;h/2_0_1&quot;\\n  op: &quot;Relu&quot;\\n  input: &quot;Add/15&quot;\\n  attr {\\n    key: &quot;T&quot;\\n    value {\\n      type: DT_FLOAT\\n    }\\n  }\\n}\\nnode {\\n  name: &quot;g/0_1&quot;\\n  op: &quot;Add&quot;\\n  input: &quot;h/1_0_1&quot;\\n  input: &quot;h/2_0_1&quot;\\n  attr {\\n    key: &quot;T&quot;\\n    value {\\n      type: DT_FLOAT\\n    }\\n  }\\n}\\nnode {\\n  name: &quot;random/uniform_22/shape&quot;\\n  op: &quot;Const&quot;\\n  attr {\\n    key: &quot;dtype&quot;\\n    value {\\n      type: DT_INT32\\n    }\\n  }\\n  attr {\\n    key: &quot;value&quot;\\n    value {\\n      tensor {\\n        dtype: DT_INT32\\n        tensor_shape {\\n          dim {\\n            size: 1\\n          }\\n        }\\n        int_val: 12\\n      }\\n    }\\n  }\\n}\\nnode {\\n  name: &quot;random/uniform_22/min&quot;\\n  op: &quot;Const&quot;\\n  attr {\\n    key: &quot;dtype&quot;\\n    value {\\n      type: DT_FLOAT\\n    }\\n  }\\n  attr {\\n    key: &quot;value&quot;\\n    value {\\n      tensor {\\n        dtype: DT_FLOAT\\n        tensor_shape {\\n        }\\n        float_val: 0.0\\n      }\\n    }\\n  }\\n}\\nnode {\\n  name: &quot;random/uniform_22/max&quot;\\n  op: &quot;Const&quot;\\n  attr {\\n    key: &quot;dtype&quot;\\n    value {\\n      type: DT_FLOAT\\n    }\\n  }\\n  attr {\\n    key: &quot;value&quot;\\n    value {\\n      tensor {\\n        dtype: DT_FLOAT\\n        tensor_shape {\\n        }\\n        float_val: 1.0\\n      }\\n    }\\n  }\\n}\\nnode {\\n  name: &quot;random/uniform_22/RandomUniform&quot;\\n  op: &quot;RandomUniform&quot;\\n  input: &quot;random/uniform_22/shape&quot;\\n  attr {\\n    key: &quot;T&quot;\\n    value {\\n      type: DT_INT32\\n    }\\n  }\\n  attr {\\n    key: &quot;dtype&quot;\\n    value {\\n      type: DT_FLOAT\\n    }\\n  }\\n  attr {\\n    key: &quot;seed&quot;\\n    value {\\n      i: 0\\n    }\\n  }\\n  attr {\\n    key: &quot;seed2&quot;\\n    value {\\n      i: 0\\n    }\\n  }\\n}\\nnode {\\n  name: &quot;random/uniform_22/sub&quot;\\n  op: &quot;Sub&quot;\\n  input: &quot;random/uniform_22/max&quot;\\n  input: &quot;random/uniform_22/min&quot;\\n  attr {\\n    key: &quot;T&quot;\\n    value {\\n      type: DT_FLOAT\\n    }\\n  }\\n}\\nnode {\\n  name: &quot;random/uniform_22/mul&quot;\\n  op: &quot;Mul&quot;\\n  input: &quot;random/uniform_22/RandomUniform&quot;\\n  input: &quot;random/uniform_22/sub&quot;\\n  attr {\\n    key: &quot;T&quot;\\n    value {\\n      type: DT_FLOAT\\n    }\\n  }\\n}\\nnode {\\n  name: &quot;random/uniform_22&quot;\\n  op: &quot;Add&quot;\\n  input: &quot;random/uniform_22/mul&quot;\\n  input: &quot;random/uniform_22/min&quot;\\n  attr {\\n    key: &quot;T&quot;\\n    value {\\n      type: DT_FLOAT\\n    }\\n  }\\n}\\nnode {\\n  name: &quot;bias/1_1_1&quot;\\n  op: &quot;VariableV2&quot;\\n  attr {\\n    key: &quot;container&quot;\\n    value {\\n      s: &quot;&quot;\\n    }\\n  }\\n  attr {\\n    key: &quot;dtype&quot;\\n    value {\\n      type: DT_FLOAT\\n    }\\n  }\\n  attr {\\n    key: &quot;shape&quot;\\n    value {\\n      shape {\\n        dim {\\n          size: 12\\n        }\\n      }\\n    }\\n  }\\n  attr {\\n    key: &quot;shared_name&quot;\\n    value {\\n      s: &quot;&quot;\\n    }\\n  }\\n}\\nnode {\\n  name: &quot;bias/1_1_1/Assign&quot;\\n  op: &quot;Assign&quot;\\n  input: &quot;bias/1_1_1&quot;\\n  input: &quot;random/uniform_22&quot;\\n  attr {\\n    key: &quot;T&quot;\\n    value {\\n      type: DT_FLOAT\\n    }\\n  }\\n  attr {\\n    key: &quot;_class&quot;\\n    value {\\n      list {\\n        s: &quot;loc:@bias_1_1_1&quot;\\n      }\\n    }\\n  }\\n  attr {\\n    key: &quot;use_locking&quot;\\n    value {\\n      b: true\\n    }\\n  }\\n  attr {\\n    key: &quot;validate_shape&quot;\\n    value {\\n      b: true\\n    }\\n  }\\n}\\nnode {\\n  name: &quot;bias/1_1_1/read&quot;\\n  op: &quot;Identity&quot;\\n  input: &quot;bias/1_1_1&quot;\\n  attr {\\n    key: &quot;T&quot;\\n    value {\\n      type: DT_FLOAT\\n    }\\n  }\\n  attr {\\n    key: &quot;_class&quot;\\n    value {\\n      list {\\n        s: &quot;loc:@bias_1_1_1&quot;\\n      }\\n    }\\n  }\\n}\\nnode {\\n  name: &quot;random/uniform_23/shape&quot;\\n  op: &quot;Const&quot;\\n  attr {\\n    key: &quot;dtype&quot;\\n    value {\\n      type: DT_INT32\\n    }\\n  }\\n  attr {\\n    key: &quot;value&quot;\\n    value {\\n      tensor {\\n        dtype: DT_INT32\\n        tensor_shape {\\n          dim {\\n            size: 2\\n          }\\n        }\\n        tensor_content: &quot;\\\\t\\\\000\\\\000\\\\000\\\\014\\\\000\\\\000\\\\000&quot;\\n      }\\n    }\\n  }\\n}\\nnode {\\n  name: &quot;random/uniform_23/min&quot;\\n  op: &quot;Const&quot;\\n  attr {\\n    key: &quot;dtype&quot;\\n    value {\\n      type: DT_FLOAT\\n    }\\n  }\\n  attr {\\n    key: &quot;value&quot;\\n    value {\\n      tensor {\\n        dtype: DT_FLOAT\\n        tensor_shape {\\n        }\\n        float_val: 0.0\\n      }\\n    }\\n  }\\n}\\nnode {\\n  name: &quot;random/uniform_23/max&quot;\\n  op: &quot;Const&quot;\\n  attr {\\n    key: &quot;dtype&quot;\\n    value {\\n      type: DT_FLOAT\\n    }\\n  }\\n  attr {\\n    key: &quot;value&quot;\\n    value {\\n      tensor {\\n        dtype: DT_FLOAT\\n        tensor_shape {\\n        }\\n        float_val: 1.0\\n      }\\n    }\\n  }\\n}\\nnode {\\n  name: &quot;random/uniform_23/RandomUniform&quot;\\n  op: &quot;RandomUniform&quot;\\n  input: &quot;random/uniform_23/shape&quot;\\n  attr {\\n    key: &quot;T&quot;\\n    value {\\n      type: DT_INT32\\n    }\\n  }\\n  attr {\\n    key: &quot;dtype&quot;\\n    value {\\n      type: DT_FLOAT\\n    }\\n  }\\n  attr {\\n    key: &quot;seed&quot;\\n    value {\\n      i: 0\\n    }\\n  }\\n  attr {\\n    key: &quot;seed2&quot;\\n    value {\\n      i: 0\\n    }\\n  }\\n}\\nnode {\\n  name: &quot;random/uniform_23/sub&quot;\\n  op: &quot;Sub&quot;\\n  input: &quot;random/uniform_23/max&quot;\\n  input: &quot;random/uniform_23/min&quot;\\n  attr {\\n    key: &quot;T&quot;\\n    value {\\n      type: DT_FLOAT\\n    }\\n  }\\n}\\nnode {\\n  name: &quot;random/uniform_23/mul&quot;\\n  op: &quot;Mul&quot;\\n  input: &quot;random/uniform_23/RandomUniform&quot;\\n  input: &quot;random/uniform_23/sub&quot;\\n  attr {\\n    key: &quot;T&quot;\\n    value {\\n      type: DT_FLOAT\\n    }\\n  }\\n}\\nnode {\\n  name: &quot;random/uniform_23&quot;\\n  op: &quot;Add&quot;\\n  input: &quot;random/uniform_23/mul&quot;\\n  input: &quot;random/uniform_23/min&quot;\\n  attr {\\n    key: &quot;T&quot;\\n    value {\\n      type: DT_FLOAT\\n    }\\n  }\\n}\\nnode {\\n  name: &quot;W/1_1_1&quot;\\n  op: &quot;VariableV2&quot;\\n  attr {\\n    key: &quot;container&quot;\\n    value {\\n      s: &quot;&quot;\\n    }\\n  }\\n  attr {\\n    key: &quot;dtype&quot;\\n    value {\\n      type: DT_FLOAT\\n    }\\n  }\\n  attr {\\n    key: &quot;shape&quot;\\n    value {\\n      shape {\\n        dim {\\n          size: 9\\n        }\\n        dim {\\n          size: 12\\n        }\\n      }\\n    }\\n  }\\n  attr {\\n    key: &quot;shared_name&quot;\\n    value {\\n      s: &quot;&quot;\\n    }\\n  }\\n}\\nnode {\\n  name: &quot;W/1_1_1/Assign&quot;\\n  op: &quot;Assign&quot;\\n  input: &quot;W/1_1_1&quot;\\n  input: &quot;random/uniform_23&quot;\\n  attr {\\n    key: &quot;T&quot;\\n    value {\\n      type: DT_FLOAT\\n    }\\n  }\\n  attr {\\n    key: &quot;_class&quot;\\n    value {\\n      list {\\n        s: &quot;loc:@W_1_1_1&quot;\\n      }\\n    }\\n  }\\n  attr {\\n    key: &quot;use_locking&quot;\\n    value {\\n      b: true\\n    }\\n  }\\n  attr {\\n    key: &quot;validate_shape&quot;\\n    value {\\n      b: true\\n    }\\n  }\\n}\\nnode {\\n  name: &quot;W/1_1_1/read&quot;\\n  op: &quot;Identity&quot;\\n  input: &quot;W/1_1_1&quot;\\n  attr {\\n    key: &quot;T&quot;\\n    value {\\n      type: DT_FLOAT\\n    }\\n  }\\n  attr {\\n    key: &quot;_class&quot;\\n    value {\\n      list {\\n        s: &quot;loc:@W_1_1_1&quot;\\n      }\\n    }\\n  }\\n}\\nnode {\\n  name: &quot;MatMul/11&quot;\\n  op: &quot;MatMul&quot;\\n  input: &quot;g/0_1&quot;\\n  input: &quot;W/1_1_1/read&quot;\\n  attr {\\n    key: &quot;T&quot;\\n    value {\\n      type: DT_FLOAT\\n    }\\n  }\\n  attr {\\n    key: &quot;transpose_a&quot;\\n    value {\\n      b: false\\n    }\\n  }\\n  attr {\\n    key: &quot;transpose_b&quot;\\n    value {\\n      b: false\\n    }\\n  }\\n}\\nnode {\\n  name: &quot;Add/16&quot;\\n  op: &quot;Add&quot;\\n  input: &quot;MatMul/11&quot;\\n  input: &quot;bias/1_1_1/read&quot;\\n  attr {\\n    key: &quot;T&quot;\\n    value {\\n      type: DT_FLOAT\\n    }\\n  }\\n}\\nnode {\\n  name: &quot;h/1_1_1&quot;\\n  op: &quot;Relu&quot;\\n  input: &quot;Add/16&quot;\\n  attr {\\n    key: &quot;T&quot;\\n    value {\\n      type: DT_FLOAT\\n    }\\n  }\\n}\\nnode {\\n  name: &quot;Const/5&quot;\\n  op: &quot;Const&quot;\\n  attr {\\n    key: &quot;dtype&quot;\\n    value {\\n      type: DT_FLOAT\\n    }\\n  }\\n  attr {\\n    key: &quot;value&quot;\\n    value {\\n      tensor {\\n        dtype: DT_FLOAT\\n        tensor_shape {\\n        }\\n        float_val: 1.0\\n      }\\n    }\\n  }\\n}\\nnode {\\n  name: &quot;Add/17&quot;\\n  op: &quot;Add&quot;\\n  input: &quot;eps/6&quot;\\n  input: &quot;g/0_1&quot;\\n  attr {\\n    key: &quot;T&quot;\\n    value {\\n      type: DT_FLOAT\\n    }\\n  }\\n}\\nnode {\\n  name: &quot;truediv/5&quot;\\n  op: &quot;RealDiv&quot;\\n  input: &quot;Const/5&quot;\\n  input: &quot;Add/17&quot;\\n  attr {\\n    key: &quot;T&quot;\\n    value {\\n      type: DT_FLOAT\\n    }\\n  }\\n}\\nnode {\\n  name: &quot;random/uniform_24/shape&quot;\\n  op: &quot;Const&quot;\\n  attr {\\n    key: &quot;dtype&quot;\\n    value {\\n      type: DT_INT32\\n    }\\n  }\\n  attr {\\n    key: &quot;value&quot;\\n    value {\\n      tensor {\\n        dtype: DT_INT32\\n        tensor_shape {\\n          dim {\\n            size: 1\\n          }\\n        }\\n        int_val: 12\\n      }\\n    }\\n  }\\n}\\nnode {\\n  name: &quot;random/uniform_24/min&quot;\\n  op: &quot;Const&quot;\\n  attr {\\n    key: &quot;dtype&quot;\\n    value {\\n      type: DT_FLOAT\\n    }\\n  }\\n  attr {\\n    key: &quot;value&quot;\\n    value {\\n      tensor {\\n        dtype: DT_FLOAT\\n        tensor_shape {\\n        }\\n        float_val: 0.0\\n      }\\n    }\\n  }\\n}\\nnode {\\n  name: &quot;random/uniform_24/max&quot;\\n  op: &quot;Const&quot;\\n  attr {\\n    key: &quot;dtype&quot;\\n    value {\\n      type: DT_FLOAT\\n    }\\n  }\\n  attr {\\n    key: &quot;value&quot;\\n    value {\\n      tensor {\\n        dtype: DT_FLOAT\\n        tensor_shape {\\n        }\\n        float_val: 1.0\\n      }\\n    }\\n  }\\n}\\nnode {\\n  name: &quot;random/uniform_24/RandomUniform&quot;\\n  op: &quot;RandomUniform&quot;\\n  input: &quot;random/uniform_24/shape&quot;\\n  attr {\\n    key: &quot;T&quot;\\n    value {\\n      type: DT_INT32\\n    }\\n  }\\n  attr {\\n    key: &quot;dtype&quot;\\n    value {\\n      type: DT_FLOAT\\n    }\\n  }\\n  attr {\\n    key: &quot;seed&quot;\\n    value {\\n      i: 0\\n    }\\n  }\\n  attr {\\n    key: &quot;seed2&quot;\\n    value {\\n      i: 0\\n    }\\n  }\\n}\\nnode {\\n  name: &quot;random/uniform_24/sub&quot;\\n  op: &quot;Sub&quot;\\n  input: &quot;random/uniform_24/max&quot;\\n  input: &quot;random/uniform_24/min&quot;\\n  attr {\\n    key: &quot;T&quot;\\n    value {\\n      type: DT_FLOAT\\n    }\\n  }\\n}\\nnode {\\n  name: &quot;random/uniform_24/mul&quot;\\n  op: &quot;Mul&quot;\\n  input: &quot;random/uniform_24/RandomUniform&quot;\\n  input: &quot;random/uniform_24/sub&quot;\\n  attr {\\n    key: &quot;T&quot;\\n    value {\\n      type: DT_FLOAT\\n    }\\n  }\\n}\\nnode {\\n  name: &quot;random/uniform_24&quot;\\n  op: &quot;Add&quot;\\n  input: &quot;random/uniform_24/mul&quot;\\n  input: &quot;random/uniform_24/min&quot;\\n  attr {\\n    key: &quot;T&quot;\\n    value {\\n      type: DT_FLOAT\\n    }\\n  }\\n}\\nnode {\\n  name: &quot;bias/2_1_1&quot;\\n  op: &quot;VariableV2&quot;\\n  attr {\\n    key: &quot;container&quot;\\n    value {\\n      s: &quot;&quot;\\n    }\\n  }\\n  attr {\\n    key: &quot;dtype&quot;\\n    value {\\n      type: DT_FLOAT\\n    }\\n  }\\n  attr {\\n    key: &quot;shape&quot;\\n    value {\\n      shape {\\n        dim {\\n          size: 12\\n        }\\n      }\\n    }\\n  }\\n  attr {\\n    key: &quot;shared_name&quot;\\n    value {\\n      s: &quot;&quot;\\n    }\\n  }\\n}\\nnode {\\n  name: &quot;bias/2_1_1/Assign&quot;\\n  op: &quot;Assign&quot;\\n  input: &quot;bias/2_1_1&quot;\\n  input: &quot;random/uniform_24&quot;\\n  attr {\\n    key: &quot;T&quot;\\n    value {\\n      type: DT_FLOAT\\n    }\\n  }\\n  attr {\\n    key: &quot;_class&quot;\\n    value {\\n      list {\\n        s: &quot;loc:@bias_2_1_1&quot;\\n      }\\n    }\\n  }\\n  attr {\\n    key: &quot;use_locking&quot;\\n    value {\\n      b: true\\n    }\\n  }\\n  attr {\\n    key: &quot;validate_shape&quot;\\n    value {\\n      b: true\\n    }\\n  }\\n}\\nnode {\\n  name: &quot;bias/2_1_1/read&quot;\\n  op: &quot;Identity&quot;\\n  input: &quot;bias/2_1_1&quot;\\n  attr {\\n    key: &quot;T&quot;\\n    value {\\n      type: DT_FLOAT\\n    }\\n  }\\n  attr {\\n    key: &quot;_class&quot;\\n    value {\\n      list {\\n        s: &quot;loc:@bias_2_1_1&quot;\\n      }\\n    }\\n  }\\n}\\nnode {\\n  name: &quot;random/uniform_25/shape&quot;\\n  op: &quot;Const&quot;\\n  attr {\\n    key: &quot;dtype&quot;\\n    value {\\n      type: DT_INT32\\n    }\\n  }\\n  attr {\\n    key: &quot;value&quot;\\n    value {\\n      tensor {\\n        dtype: DT_INT32\\n        tensor_shape {\\n          dim {\\n            size: 2\\n          }\\n        }\\n        tensor_content: &quot;\\\\t\\\\000\\\\000\\\\000\\\\014\\\\000\\\\000\\\\000&quot;\\n      }\\n    }\\n  }\\n}\\nnode {\\n  name: &quot;random/uniform_25/min&quot;\\n  op: &quot;Const&quot;\\n  attr {\\n    key: &quot;dtype&quot;\\n    value {\\n      type: DT_FLOAT\\n    }\\n  }\\n  attr {\\n    key: &quot;value&quot;\\n    value {\\n      tensor {\\n        dtype: DT_FLOAT\\n        tensor_shape {\\n        }\\n        float_val: 0.0\\n      }\\n    }\\n  }\\n}\\nnode {\\n  name: &quot;random/uniform_25/max&quot;\\n  op: &quot;Const&quot;\\n  attr {\\n    key: &quot;dtype&quot;\\n    value {\\n      type: DT_FLOAT\\n    }\\n  }\\n  attr {\\n    key: &quot;value&quot;\\n    value {\\n      tensor {\\n        dtype: DT_FLOAT\\n        tensor_shape {\\n        }\\n        float_val: 1.0\\n      }\\n    }\\n  }\\n}\\nnode {\\n  name: &quot;random/uniform_25/RandomUniform&quot;\\n  op: &quot;RandomUniform&quot;\\n  input: &quot;random/uniform_25/shape&quot;\\n  attr {\\n    key: &quot;T&quot;\\n    value {\\n      type: DT_INT32\\n    }\\n  }\\n  attr {\\n    key: &quot;dtype&quot;\\n    value {\\n      type: DT_FLOAT\\n    }\\n  }\\n  attr {\\n    key: &quot;seed&quot;\\n    value {\\n      i: 0\\n    }\\n  }\\n  attr {\\n    key: &quot;seed2&quot;\\n    value {\\n      i: 0\\n    }\\n  }\\n}\\nnode {\\n  name: &quot;random/uniform_25/sub&quot;\\n  op: &quot;Sub&quot;\\n  input: &quot;random/uniform_25/max&quot;\\n  input: &quot;random/uniform_25/min&quot;\\n  attr {\\n    key: &quot;T&quot;\\n    value {\\n      type: DT_FLOAT\\n    }\\n  }\\n}\\nnode {\\n  name: &quot;random/uniform_25/mul&quot;\\n  op: &quot;Mul&quot;\\n  input: &quot;random/uniform_25/RandomUniform&quot;\\n  input: &quot;random/uniform_25/sub&quot;\\n  attr {\\n    key: &quot;T&quot;\\n    value {\\n      type: DT_FLOAT\\n    }\\n  }\\n}\\nnode {\\n  name: &quot;random/uniform_25&quot;\\n  op: &quot;Add&quot;\\n  input: &quot;random/uniform_25/mul&quot;\\n  input: &quot;random/uniform_25/min&quot;\\n  attr {\\n    key: &quot;T&quot;\\n    value {\\n      type: DT_FLOAT\\n    }\\n  }\\n}\\nnode {\\n  name: &quot;W/2_1_1&quot;\\n  op: &quot;VariableV2&quot;\\n  attr {\\n    key: &quot;container&quot;\\n    value {\\n      s: &quot;&quot;\\n    }\\n  }\\n  attr {\\n    key: &quot;dtype&quot;\\n    value {\\n      type: DT_FLOAT\\n    }\\n  }\\n  attr {\\n    key: &quot;shape&quot;\\n    value {\\n      shape {\\n        dim {\\n          size: 9\\n        }\\n        dim {\\n          size: 12\\n        }\\n      }\\n    }\\n  }\\n  attr {\\n    key: &quot;shared_name&quot;\\n    value {\\n      s: &quot;&quot;\\n    }\\n  }\\n}\\nnode {\\n  name: &quot;W/2_1_1/Assign&quot;\\n  op: &quot;Assign&quot;\\n  input: &quot;W/2_1_1&quot;\\n  input: &quot;random/uniform_25&quot;\\n  attr {\\n    key: &quot;T&quot;\\n    value {\\n      type: DT_FLOAT\\n    }\\n  }\\n  attr {\\n    key: &quot;_class&quot;\\n    value {\\n      list {\\n        s: &quot;loc:@W_2_1_1&quot;\\n      }\\n    }\\n  }\\n  attr {\\n    key: &quot;use_locking&quot;\\n    value {\\n      b: true\\n    }\\n  }\\n  attr {\\n    key: &quot;validate_shape&quot;\\n    value {\\n      b: true\\n    }\\n  }\\n}\\nnode {\\n  name: &quot;W/2_1_1/read&quot;\\n  op: &quot;Identity&quot;\\n  input: &quot;W/2_1_1&quot;\\n  attr {\\n    key: &quot;T&quot;\\n    value {\\n      type: DT_FLOAT\\n    }\\n  }\\n  attr {\\n    key: &quot;_class&quot;\\n    value {\\n      list {\\n        s: &quot;loc:@W_2_1_1&quot;\\n      }\\n    }\\n  }\\n}\\nnode {\\n  name: &quot;MatMul/12&quot;\\n  op: &quot;MatMul&quot;\\n  input: &quot;truediv/5&quot;\\n  input: &quot;W/2_1_1/read&quot;\\n  attr {\\n    key: &quot;T&quot;\\n    value {\\n      type: DT_FLOAT\\n    }\\n  }\\n  attr {\\n    key: &quot;transpose_a&quot;\\n    value {\\n      b: false\\n    }\\n  }\\n  attr {\\n    key: &quot;transpose_b&quot;\\n    value {\\n      b: false\\n    }\\n  }\\n}\\nnode {\\n  name: &quot;Add/18&quot;\\n  op: &quot;Add&quot;\\n  input: &quot;MatMul/12&quot;\\n  input: &quot;bias/2_1_1/read&quot;\\n  attr {\\n    key: &quot;T&quot;\\n    value {\\n      type: DT_FLOAT\\n    }\\n  }\\n}\\nnode {\\n  name: &quot;h/2_1_1&quot;\\n  op: &quot;Relu&quot;\\n  input: &quot;Add/18&quot;\\n  attr {\\n    key: &quot;T&quot;\\n    value {\\n      type: DT_FLOAT\\n    }\\n  }\\n}\\nnode {\\n  name: &quot;g/1_1&quot;\\n  op: &quot;Add&quot;\\n  input: &quot;h/1_1_1&quot;\\n  input: &quot;h/2_1_1&quot;\\n  attr {\\n    key: &quot;T&quot;\\n    value {\\n      type: DT_FLOAT\\n    }\\n  }\\n}\\nnode {\\n  name: &quot;random/uniform_26/shape&quot;\\n  op: &quot;Const&quot;\\n  attr {\\n    key: &quot;dtype&quot;\\n    value {\\n      type: DT_INT32\\n    }\\n  }\\n  attr {\\n    key: &quot;value&quot;\\n    value {\\n      tensor {\\n        dtype: DT_INT32\\n        tensor_shape {\\n          dim {\\n            size: 1\\n          }\\n        }\\n        int_val: 11\\n      }\\n    }\\n  }\\n}\\nnode {\\n  name: &quot;random/uniform_26/min&quot;\\n  op: &quot;Const&quot;\\n  attr {\\n    key: &quot;dtype&quot;\\n    value {\\n      type: DT_FLOAT\\n    }\\n  }\\n  attr {\\n    key: &quot;value&quot;\\n    value {\\n      tensor {\\n        dtype: DT_FLOAT\\n        tensor_shape {\\n        }\\n        float_val: 0.0\\n      }\\n    }\\n  }\\n}\\nnode {\\n  name: &quot;random/uniform_26/max&quot;\\n  op: &quot;Const&quot;\\n  attr {\\n    key: &quot;dtype&quot;\\n    value {\\n      type: DT_FLOAT\\n    }\\n  }\\n  attr {\\n    key: &quot;value&quot;\\n    value {\\n      tensor {\\n        dtype: DT_FLOAT\\n        tensor_shape {\\n        }\\n        float_val: 1.0\\n      }\\n    }\\n  }\\n}\\nnode {\\n  name: &quot;random/uniform_26/RandomUniform&quot;\\n  op: &quot;RandomUniform&quot;\\n  input: &quot;random/uniform_26/shape&quot;\\n  attr {\\n    key: &quot;T&quot;\\n    value {\\n      type: DT_INT32\\n    }\\n  }\\n  attr {\\n    key: &quot;dtype&quot;\\n    value {\\n      type: DT_FLOAT\\n    }\\n  }\\n  attr {\\n    key: &quot;seed&quot;\\n    value {\\n      i: 0\\n    }\\n  }\\n  attr {\\n    key: &quot;seed2&quot;\\n    value {\\n      i: 0\\n    }\\n  }\\n}\\nnode {\\n  name: &quot;random/uniform_26/sub&quot;\\n  op: &quot;Sub&quot;\\n  input: &quot;random/uniform_26/max&quot;\\n  input: &quot;random/uniform_26/min&quot;\\n  attr {\\n    key: &quot;T&quot;\\n    value {\\n      type: DT_FLOAT\\n    }\\n  }\\n}\\nnode {\\n  name: &quot;random/uniform_26/mul&quot;\\n  op: &quot;Mul&quot;\\n  input: &quot;random/uniform_26/RandomUniform&quot;\\n  input: &quot;random/uniform_26/sub&quot;\\n  attr {\\n    key: &quot;T&quot;\\n    value {\\n      type: DT_FLOAT\\n    }\\n  }\\n}\\nnode {\\n  name: &quot;random/uniform_26&quot;\\n  op: &quot;Add&quot;\\n  input: &quot;random/uniform_26/mul&quot;\\n  input: &quot;random/uniform_26/min&quot;\\n  attr {\\n    key: &quot;T&quot;\\n    value {\\n      type: DT_FLOAT\\n    }\\n  }\\n}\\nnode {\\n  name: &quot;bias/1_2_1&quot;\\n  op: &quot;VariableV2&quot;\\n  attr {\\n    key: &quot;container&quot;\\n    value {\\n      s: &quot;&quot;\\n    }\\n  }\\n  attr {\\n    key: &quot;dtype&quot;\\n    value {\\n      type: DT_FLOAT\\n    }\\n  }\\n  attr {\\n    key: &quot;shape&quot;\\n    value {\\n      shape {\\n        dim {\\n          size: 11\\n        }\\n      }\\n    }\\n  }\\n  attr {\\n    key: &quot;shared_name&quot;\\n    value {\\n      s: &quot;&quot;\\n    }\\n  }\\n}\\nnode {\\n  name: &quot;bias/1_2_1/Assign&quot;\\n  op: &quot;Assign&quot;\\n  input: &quot;bias/1_2_1&quot;\\n  input: &quot;random/uniform_26&quot;\\n  attr {\\n    key: &quot;T&quot;\\n    value {\\n      type: DT_FLOAT\\n    }\\n  }\\n  attr {\\n    key: &quot;_class&quot;\\n    value {\\n      list {\\n        s: &quot;loc:@bias_1_2_1&quot;\\n      }\\n    }\\n  }\\n  attr {\\n    key: &quot;use_locking&quot;\\n    value {\\n      b: true\\n    }\\n  }\\n  attr {\\n    key: &quot;validate_shape&quot;\\n    value {\\n      b: true\\n    }\\n  }\\n}\\nnode {\\n  name: &quot;bias/1_2_1/read&quot;\\n  op: &quot;Identity&quot;\\n  input: &quot;bias/1_2_1&quot;\\n  attr {\\n    key: &quot;T&quot;\\n    value {\\n      type: DT_FLOAT\\n    }\\n  }\\n  attr {\\n    key: &quot;_class&quot;\\n    value {\\n      list {\\n        s: &quot;loc:@bias_1_2_1&quot;\\n      }\\n    }\\n  }\\n}\\nnode {\\n  name: &quot;random/uniform_27/shape&quot;\\n  op: &quot;Const&quot;\\n  attr {\\n    key: &quot;dtype&quot;\\n    value {\\n      type: DT_INT32\\n    }\\n  }\\n  attr {\\n    key: &quot;value&quot;\\n    value {\\n      tensor {\\n        dtype: DT_INT32\\n        tensor_shape {\\n          dim {\\n            size: 2\\n          }\\n        }\\n        tensor_content: &quot;\\\\014\\\\000\\\\000\\\\000\\\\013\\\\000\\\\000\\\\000&quot;\\n      }\\n    }\\n  }\\n}\\nnode {\\n  name: &quot;random/uniform_27/min&quot;\\n  op: &quot;Const&quot;\\n  attr {\\n    key: &quot;dtype&quot;\\n    value {\\n      type: DT_FLOAT\\n    }\\n  }\\n  attr {\\n    key: &quot;value&quot;\\n    value {\\n      tensor {\\n        dtype: DT_FLOAT\\n        tensor_shape {\\n        }\\n        float_val: 0.0\\n      }\\n    }\\n  }\\n}\\nnode {\\n  name: &quot;random/uniform_27/max&quot;\\n  op: &quot;Const&quot;\\n  attr {\\n    key: &quot;dtype&quot;\\n    value {\\n      type: DT_FLOAT\\n    }\\n  }\\n  attr {\\n    key: &quot;value&quot;\\n    value {\\n      tensor {\\n        dtype: DT_FLOAT\\n        tensor_shape {\\n        }\\n        float_val: 1.0\\n      }\\n    }\\n  }\\n}\\nnode {\\n  name: &quot;random/uniform_27/RandomUniform&quot;\\n  op: &quot;RandomUniform&quot;\\n  input: &quot;random/uniform_27/shape&quot;\\n  attr {\\n    key: &quot;T&quot;\\n    value {\\n      type: DT_INT32\\n    }\\n  }\\n  attr {\\n    key: &quot;dtype&quot;\\n    value {\\n      type: DT_FLOAT\\n    }\\n  }\\n  attr {\\n    key: &quot;seed&quot;\\n    value {\\n      i: 0\\n    }\\n  }\\n  attr {\\n    key: &quot;seed2&quot;\\n    value {\\n      i: 0\\n    }\\n  }\\n}\\nnode {\\n  name: &quot;random/uniform_27/sub&quot;\\n  op: &quot;Sub&quot;\\n  input: &quot;random/uniform_27/max&quot;\\n  input: &quot;random/uniform_27/min&quot;\\n  attr {\\n    key: &quot;T&quot;\\n    value {\\n      type: DT_FLOAT\\n    }\\n  }\\n}\\nnode {\\n  name: &quot;random/uniform_27/mul&quot;\\n  op: &quot;Mul&quot;\\n  input: &quot;random/uniform_27/RandomUniform&quot;\\n  input: &quot;random/uniform_27/sub&quot;\\n  attr {\\n    key: &quot;T&quot;\\n    value {\\n      type: DT_FLOAT\\n    }\\n  }\\n}\\nnode {\\n  name: &quot;random/uniform_27&quot;\\n  op: &quot;Add&quot;\\n  input: &quot;random/uniform_27/mul&quot;\\n  input: &quot;random/uniform_27/min&quot;\\n  attr {\\n    key: &quot;T&quot;\\n    value {\\n      type: DT_FLOAT\\n    }\\n  }\\n}\\nnode {\\n  name: &quot;W/1_2_1&quot;\\n  op: &quot;VariableV2&quot;\\n  attr {\\n    key: &quot;container&quot;\\n    value {\\n      s: &quot;&quot;\\n    }\\n  }\\n  attr {\\n    key: &quot;dtype&quot;\\n    value {\\n      type: DT_FLOAT\\n    }\\n  }\\n  attr {\\n    key: &quot;shape&quot;\\n    value {\\n      shape {\\n        dim {\\n          size: 12\\n        }\\n        dim {\\n          size: 11\\n        }\\n      }\\n    }\\n  }\\n  attr {\\n    key: &quot;shared_name&quot;\\n    value {\\n      s: &quot;&quot;\\n    }\\n  }\\n}\\nnode {\\n  name: &quot;W/1_2_1/Assign&quot;\\n  op: &quot;Assign&quot;\\n  input: &quot;W/1_2_1&quot;\\n  input: &quot;random/uniform_27&quot;\\n  attr {\\n    key: &quot;T&quot;\\n    value {\\n      type: DT_FLOAT\\n    }\\n  }\\n  attr {\\n    key: &quot;_class&quot;\\n    value {\\n      list {\\n        s: &quot;loc:@W_1_2_1&quot;\\n      }\\n    }\\n  }\\n  attr {\\n    key: &quot;use_locking&quot;\\n    value {\\n      b: true\\n    }\\n  }\\n  attr {\\n    key: &quot;validate_shape&quot;\\n    value {\\n      b: true\\n    }\\n  }\\n}\\nnode {\\n  name: &quot;W/1_2_1/read&quot;\\n  op: &quot;Identity&quot;\\n  input: &quot;W/1_2_1&quot;\\n  attr {\\n    key: &quot;T&quot;\\n    value {\\n      type: DT_FLOAT\\n    }\\n  }\\n  attr {\\n    key: &quot;_class&quot;\\n    value {\\n      list {\\n        s: &quot;loc:@W_1_2_1&quot;\\n      }\\n    }\\n  }\\n}\\nnode {\\n  name: &quot;MatMul/13&quot;\\n  op: &quot;MatMul&quot;\\n  input: &quot;g/1_1&quot;\\n  input: &quot;W/1_2_1/read&quot;\\n  attr {\\n    key: &quot;T&quot;\\n    value {\\n      type: DT_FLOAT\\n    }\\n  }\\n  attr {\\n    key: &quot;transpose_a&quot;\\n    value {\\n      b: false\\n    }\\n  }\\n  attr {\\n    key: &quot;transpose_b&quot;\\n    value {\\n      b: false\\n    }\\n  }\\n}\\nnode {\\n  name: &quot;Add/19&quot;\\n  op: &quot;Add&quot;\\n  input: &quot;MatMul/13&quot;\\n  input: &quot;bias/1_2_1/read&quot;\\n  attr {\\n    key: &quot;T&quot;\\n    value {\\n      type: DT_FLOAT\\n    }\\n  }\\n}\\nnode {\\n  name: &quot;h/1_2_1&quot;\\n  op: &quot;Relu&quot;\\n  input: &quot;Add/19&quot;\\n  attr {\\n    key: &quot;T&quot;\\n    value {\\n      type: DT_FLOAT\\n    }\\n  }\\n}\\nnode {\\n  name: &quot;Const/6&quot;\\n  op: &quot;Const&quot;\\n  attr {\\n    key: &quot;dtype&quot;\\n    value {\\n      type: DT_FLOAT\\n    }\\n  }\\n  attr {\\n    key: &quot;value&quot;\\n    value {\\n      tensor {\\n        dtype: DT_FLOAT\\n        tensor_shape {\\n        }\\n        float_val: 1.0\\n      }\\n    }\\n  }\\n}\\nnode {\\n  name: &quot;Add/20&quot;\\n  op: &quot;Add&quot;\\n  input: &quot;eps/5&quot;\\n  input: &quot;g/1_1&quot;\\n  attr {\\n    key: &quot;T&quot;\\n    value {\\n      type: DT_FLOAT\\n    }\\n  }\\n}\\nnode {\\n  name: &quot;truediv/6&quot;\\n  op: &quot;RealDiv&quot;\\n  input: &quot;Const/6&quot;\\n  input: &quot;Add/20&quot;\\n  attr {\\n    key: &quot;T&quot;\\n    value {\\n      type: DT_FLOAT\\n    }\\n  }\\n}\\nnode {\\n  name: &quot;random/uniform_28/shape&quot;\\n  op: &quot;Const&quot;\\n  attr {\\n    key: &quot;dtype&quot;\\n    value {\\n      type: DT_INT32\\n    }\\n  }\\n  attr {\\n    key: &quot;value&quot;\\n    value {\\n      tensor {\\n        dtype: DT_INT32\\n        tensor_shape {\\n          dim {\\n            size: 1\\n          }\\n        }\\n        int_val: 11\\n      }\\n    }\\n  }\\n}\\nnode {\\n  name: &quot;random/uniform_28/min&quot;\\n  op: &quot;Const&quot;\\n  attr {\\n    key: &quot;dtype&quot;\\n    value {\\n      type: DT_FLOAT\\n    }\\n  }\\n  attr {\\n    key: &quot;value&quot;\\n    value {\\n      tensor {\\n        dtype: DT_FLOAT\\n        tensor_shape {\\n        }\\n        float_val: 0.0\\n      }\\n    }\\n  }\\n}\\nnode {\\n  name: &quot;random/uniform_28/max&quot;\\n  op: &quot;Const&quot;\\n  attr {\\n    key: &quot;dtype&quot;\\n    value {\\n      type: DT_FLOAT\\n    }\\n  }\\n  attr {\\n    key: &quot;value&quot;\\n    value {\\n      tensor {\\n        dtype: DT_FLOAT\\n        tensor_shape {\\n        }\\n        float_val: 1.0\\n      }\\n    }\\n  }\\n}\\nnode {\\n  name: &quot;random/uniform_28/RandomUniform&quot;\\n  op: &quot;RandomUniform&quot;\\n  input: &quot;random/uniform_28/shape&quot;\\n  attr {\\n    key: &quot;T&quot;\\n    value {\\n      type: DT_INT32\\n    }\\n  }\\n  attr {\\n    key: &quot;dtype&quot;\\n    value {\\n      type: DT_FLOAT\\n    }\\n  }\\n  attr {\\n    key: &quot;seed&quot;\\n    value {\\n      i: 0\\n    }\\n  }\\n  attr {\\n    key: &quot;seed2&quot;\\n    value {\\n      i: 0\\n    }\\n  }\\n}\\nnode {\\n  name: &quot;random/uniform_28/sub&quot;\\n  op: &quot;Sub&quot;\\n  input: &quot;random/uniform_28/max&quot;\\n  input: &quot;random/uniform_28/min&quot;\\n  attr {\\n    key: &quot;T&quot;\\n    value {\\n      type: DT_FLOAT\\n    }\\n  }\\n}\\nnode {\\n  name: &quot;random/uniform_28/mul&quot;\\n  op: &quot;Mul&quot;\\n  input: &quot;random/uniform_28/RandomUniform&quot;\\n  input: &quot;random/uniform_28/sub&quot;\\n  attr {\\n    key: &quot;T&quot;\\n    value {\\n      type: DT_FLOAT\\n    }\\n  }\\n}\\nnode {\\n  name: &quot;random/uniform_28&quot;\\n  op: &quot;Add&quot;\\n  input: &quot;random/uniform_28/mul&quot;\\n  input: &quot;random/uniform_28/min&quot;\\n  attr {\\n    key: &quot;T&quot;\\n    value {\\n      type: DT_FLOAT\\n    }\\n  }\\n}\\nnode {\\n  name: &quot;bias/2_2_1&quot;\\n  op: &quot;VariableV2&quot;\\n  attr {\\n    key: &quot;container&quot;\\n    value {\\n      s: &quot;&quot;\\n    }\\n  }\\n  attr {\\n    key: &quot;dtype&quot;\\n    value {\\n      type: DT_FLOAT\\n    }\\n  }\\n  attr {\\n    key: &quot;shape&quot;\\n    value {\\n      shape {\\n        dim {\\n          size: 11\\n        }\\n      }\\n    }\\n  }\\n  attr {\\n    key: &quot;shared_name&quot;\\n    value {\\n      s: &quot;&quot;\\n    }\\n  }\\n}\\nnode {\\n  name: &quot;bias/2_2_1/Assign&quot;\\n  op: &quot;Assign&quot;\\n  input: &quot;bias/2_2_1&quot;\\n  input: &quot;random/uniform_28&quot;\\n  attr {\\n    key: &quot;T&quot;\\n    value {\\n      type: DT_FLOAT\\n    }\\n  }\\n  attr {\\n    key: &quot;_class&quot;\\n    value {\\n      list {\\n        s: &quot;loc:@bias_2_2_1&quot;\\n      }\\n    }\\n  }\\n  attr {\\n    key: &quot;use_locking&quot;\\n    value {\\n      b: true\\n    }\\n  }\\n  attr {\\n    key: &quot;validate_shape&quot;\\n    value {\\n      b: true\\n    }\\n  }\\n}\\nnode {\\n  name: &quot;bias/2_2_1/read&quot;\\n  op: &quot;Identity&quot;\\n  input: &quot;bias/2_2_1&quot;\\n  attr {\\n    key: &quot;T&quot;\\n    value {\\n      type: DT_FLOAT\\n    }\\n  }\\n  attr {\\n    key: &quot;_class&quot;\\n    value {\\n      list {\\n        s: &quot;loc:@bias_2_2_1&quot;\\n      }\\n    }\\n  }\\n}\\nnode {\\n  name: &quot;random/uniform_29/shape&quot;\\n  op: &quot;Const&quot;\\n  attr {\\n    key: &quot;dtype&quot;\\n    value {\\n      type: DT_INT32\\n    }\\n  }\\n  attr {\\n    key: &quot;value&quot;\\n    value {\\n      tensor {\\n        dtype: DT_INT32\\n        tensor_shape {\\n          dim {\\n            size: 2\\n          }\\n        }\\n        tensor_content: &quot;\\\\014\\\\000\\\\000\\\\000\\\\013\\\\000\\\\000\\\\000&quot;\\n      }\\n    }\\n  }\\n}\\nnode {\\n  name: &quot;random/uniform_29/min&quot;\\n  op: &quot;Const&quot;\\n  attr {\\n    key: &quot;dtype&quot;\\n    value {\\n      type: DT_FLOAT\\n    }\\n  }\\n  attr {\\n    key: &quot;value&quot;\\n    value {\\n      tensor {\\n        dtype: DT_FLOAT\\n        tensor_shape {\\n        }\\n        float_val: 0.0\\n      }\\n    }\\n  }\\n}\\nnode {\\n  name: &quot;random/uniform_29/max&quot;\\n  op: &quot;Const&quot;\\n  attr {\\n    key: &quot;dtype&quot;\\n    value {\\n      type: DT_FLOAT\\n    }\\n  }\\n  attr {\\n    key: &quot;value&quot;\\n    value {\\n      tensor {\\n        dtype: DT_FLOAT\\n        tensor_shape {\\n        }\\n        float_val: 1.0\\n      }\\n    }\\n  }\\n}\\nnode {\\n  name: &quot;random/uniform_29/RandomUniform&quot;\\n  op: &quot;RandomUniform&quot;\\n  input: &quot;random/uniform_29/shape&quot;\\n  attr {\\n    key: &quot;T&quot;\\n    value {\\n      type: DT_INT32\\n    }\\n  }\\n  attr {\\n    key: &quot;dtype&quot;\\n    value {\\n      type: DT_FLOAT\\n    }\\n  }\\n  attr {\\n    key: &quot;seed&quot;\\n    value {\\n      i: 0\\n    }\\n  }\\n  attr {\\n    key: &quot;seed2&quot;\\n    value {\\n      i: 0\\n    }\\n  }\\n}\\nnode {\\n  name: &quot;random/uniform_29/sub&quot;\\n  op: &quot;Sub&quot;\\n  input: &quot;random/uniform_29/max&quot;\\n  input: &quot;random/uniform_29/min&quot;\\n  attr {\\n    key: &quot;T&quot;\\n    value {\\n      type: DT_FLOAT\\n    }\\n  }\\n}\\nnode {\\n  name: &quot;random/uniform_29/mul&quot;\\n  op: &quot;Mul&quot;\\n  input: &quot;random/uniform_29/RandomUniform&quot;\\n  input: &quot;random/uniform_29/sub&quot;\\n  attr {\\n    key: &quot;T&quot;\\n    value {\\n      type: DT_FLOAT\\n    }\\n  }\\n}\\nnode {\\n  name: &quot;random/uniform_29&quot;\\n  op: &quot;Add&quot;\\n  input: &quot;random/uniform_29/mul&quot;\\n  input: &quot;random/uniform_29/min&quot;\\n  attr {\\n    key: &quot;T&quot;\\n    value {\\n      type: DT_FLOAT\\n    }\\n  }\\n}\\nnode {\\n  name: &quot;W/2_2_1&quot;\\n  op: &quot;VariableV2&quot;\\n  attr {\\n    key: &quot;container&quot;\\n    value {\\n      s: &quot;&quot;\\n    }\\n  }\\n  attr {\\n    key: &quot;dtype&quot;\\n    value {\\n      type: DT_FLOAT\\n    }\\n  }\\n  attr {\\n    key: &quot;shape&quot;\\n    value {\\n      shape {\\n        dim {\\n          size: 12\\n        }\\n        dim {\\n          size: 11\\n        }\\n      }\\n    }\\n  }\\n  attr {\\n    key: &quot;shared_name&quot;\\n    value {\\n      s: &quot;&quot;\\n    }\\n  }\\n}\\nnode {\\n  name: &quot;W/2_2_1/Assign&quot;\\n  op: &quot;Assign&quot;\\n  input: &quot;W/2_2_1&quot;\\n  input: &quot;random/uniform_29&quot;\\n  attr {\\n    key: &quot;T&quot;\\n    value {\\n      type: DT_FLOAT\\n    }\\n  }\\n  attr {\\n    key: &quot;_class&quot;\\n    value {\\n      list {\\n        s: &quot;loc:@W_2_2_1&quot;\\n      }\\n    }\\n  }\\n  attr {\\n    key: &quot;use_locking&quot;\\n    value {\\n      b: true\\n    }\\n  }\\n  attr {\\n    key: &quot;validate_shape&quot;\\n    value {\\n      b: true\\n    }\\n  }\\n}\\nnode {\\n  name: &quot;W/2_2_1/read&quot;\\n  op: &quot;Identity&quot;\\n  input: &quot;W/2_2_1&quot;\\n  attr {\\n    key: &quot;T&quot;\\n    value {\\n      type: DT_FLOAT\\n    }\\n  }\\n  attr {\\n    key: &quot;_class&quot;\\n    value {\\n      list {\\n        s: &quot;loc:@W_2_2_1&quot;\\n      }\\n    }\\n  }\\n}\\nnode {\\n  name: &quot;MatMul/14&quot;\\n  op: &quot;MatMul&quot;\\n  input: &quot;truediv/6&quot;\\n  input: &quot;W/2_2_1/read&quot;\\n  attr {\\n    key: &quot;T&quot;\\n    value {\\n      type: DT_FLOAT\\n    }\\n  }\\n  attr {\\n    key: &quot;transpose_a&quot;\\n    value {\\n      b: false\\n    }\\n  }\\n  attr {\\n    key: &quot;transpose_b&quot;\\n    value {\\n      b: false\\n    }\\n  }\\n}\\nnode {\\n  name: &quot;Add/21&quot;\\n  op: &quot;Add&quot;\\n  input: &quot;MatMul/14&quot;\\n  input: &quot;bias/2_2_1/read&quot;\\n  attr {\\n    key: &quot;T&quot;\\n    value {\\n      type: DT_FLOAT\\n    }\\n  }\\n}\\nnode {\\n  name: &quot;h/2_2_1&quot;\\n  op: &quot;Relu&quot;\\n  input: &quot;Add/21&quot;\\n  attr {\\n    key: &quot;T&quot;\\n    value {\\n      type: DT_FLOAT\\n    }\\n  }\\n}\\nnode {\\n  name: &quot;g/2_1&quot;\\n  op: &quot;Add&quot;\\n  input: &quot;h/1_2_1&quot;\\n  input: &quot;h/2_2_1&quot;\\n  attr {\\n    key: &quot;T&quot;\\n    value {\\n      type: DT_FLOAT\\n    }\\n  }\\n}\\nnode {\\n  name: &quot;random/uniform_30/shape&quot;\\n  op: &quot;Const&quot;\\n  attr {\\n    key: &quot;dtype&quot;\\n    value {\\n      type: DT_INT32\\n    }\\n  }\\n  attr {\\n    key: &quot;value&quot;\\n    value {\\n      tensor {\\n        dtype: DT_INT32\\n        tensor_shape {\\n          dim {\\n            size: 1\\n          }\\n        }\\n        int_val: 13\\n      }\\n    }\\n  }\\n}\\nnode {\\n  name: &quot;random/uniform_30/min&quot;\\n  op: &quot;Const&quot;\\n  attr {\\n    key: &quot;dtype&quot;\\n    value {\\n      type: DT_FLOAT\\n    }\\n  }\\n  attr {\\n    key: &quot;value&quot;\\n    value {\\n      tensor {\\n        dtype: DT_FLOAT\\n        tensor_shape {\\n        }\\n        float_val: 0.0\\n      }\\n    }\\n  }\\n}\\nnode {\\n  name: &quot;random/uniform_30/max&quot;\\n  op: &quot;Const&quot;\\n  attr {\\n    key: &quot;dtype&quot;\\n    value {\\n      type: DT_FLOAT\\n    }\\n  }\\n  attr {\\n    key: &quot;value&quot;\\n    value {\\n      tensor {\\n        dtype: DT_FLOAT\\n        tensor_shape {\\n        }\\n        float_val: 1.0\\n      }\\n    }\\n  }\\n}\\nnode {\\n  name: &quot;random/uniform_30/RandomUniform&quot;\\n  op: &quot;RandomUniform&quot;\\n  input: &quot;random/uniform_30/shape&quot;\\n  attr {\\n    key: &quot;T&quot;\\n    value {\\n      type: DT_INT32\\n    }\\n  }\\n  attr {\\n    key: &quot;dtype&quot;\\n    value {\\n      type: DT_FLOAT\\n    }\\n  }\\n  attr {\\n    key: &quot;seed&quot;\\n    value {\\n      i: 0\\n    }\\n  }\\n  attr {\\n    key: &quot;seed2&quot;\\n    value {\\n      i: 0\\n    }\\n  }\\n}\\nnode {\\n  name: &quot;random/uniform_30/sub&quot;\\n  op: &quot;Sub&quot;\\n  input: &quot;random/uniform_30/max&quot;\\n  input: &quot;random/uniform_30/min&quot;\\n  attr {\\n    key: &quot;T&quot;\\n    value {\\n      type: DT_FLOAT\\n    }\\n  }\\n}\\nnode {\\n  name: &quot;random/uniform_30/mul&quot;\\n  op: &quot;Mul&quot;\\n  input: &quot;random/uniform_30/RandomUniform&quot;\\n  input: &quot;random/uniform_30/sub&quot;\\n  attr {\\n    key: &quot;T&quot;\\n    value {\\n      type: DT_FLOAT\\n    }\\n  }\\n}\\nnode {\\n  name: &quot;random/uniform_30&quot;\\n  op: &quot;Add&quot;\\n  input: &quot;random/uniform_30/mul&quot;\\n  input: &quot;random/uniform_30/min&quot;\\n  attr {\\n    key: &quot;T&quot;\\n    value {\\n      type: DT_FLOAT\\n    }\\n  }\\n}\\nnode {\\n  name: &quot;bias/1_3_1&quot;\\n  op: &quot;VariableV2&quot;\\n  attr {\\n    key: &quot;container&quot;\\n    value {\\n      s: &quot;&quot;\\n    }\\n  }\\n  attr {\\n    key: &quot;dtype&quot;\\n    value {\\n      type: DT_FLOAT\\n    }\\n  }\\n  attr {\\n    key: &quot;shape&quot;\\n    value {\\n      shape {\\n        dim {\\n          size: 13\\n        }\\n      }\\n    }\\n  }\\n  attr {\\n    key: &quot;shared_name&quot;\\n    value {\\n      s: &quot;&quot;\\n    }\\n  }\\n}\\nnode {\\n  name: &quot;bias/1_3_1/Assign&quot;\\n  op: &quot;Assign&quot;\\n  input: &quot;bias/1_3_1&quot;\\n  input: &quot;random/uniform_30&quot;\\n  attr {\\n    key: &quot;T&quot;\\n    value {\\n      type: DT_FLOAT\\n    }\\n  }\\n  attr {\\n    key: &quot;_class&quot;\\n    value {\\n      list {\\n        s: &quot;loc:@bias_1_3_1&quot;\\n      }\\n    }\\n  }\\n  attr {\\n    key: &quot;use_locking&quot;\\n    value {\\n      b: true\\n    }\\n  }\\n  attr {\\n    key: &quot;validate_shape&quot;\\n    value {\\n      b: true\\n    }\\n  }\\n}\\nnode {\\n  name: &quot;bias/1_3_1/read&quot;\\n  op: &quot;Identity&quot;\\n  input: &quot;bias/1_3_1&quot;\\n  attr {\\n    key: &quot;T&quot;\\n    value {\\n      type: DT_FLOAT\\n    }\\n  }\\n  attr {\\n    key: &quot;_class&quot;\\n    value {\\n      list {\\n        s: &quot;loc:@bias_1_3_1&quot;\\n      }\\n    }\\n  }\\n}\\nnode {\\n  name: &quot;random/uniform_31/shape&quot;\\n  op: &quot;Const&quot;\\n  attr {\\n    key: &quot;dtype&quot;\\n    value {\\n      type: DT_INT32\\n    }\\n  }\\n  attr {\\n    key: &quot;value&quot;\\n    value {\\n      tensor {\\n        dtype: DT_INT32\\n        tensor_shape {\\n          dim {\\n            size: 2\\n          }\\n        }\\n        tensor_content: &quot;\\\\013\\\\000\\\\000\\\\000\\\\r\\\\000\\\\000\\\\000&quot;\\n      }\\n    }\\n  }\\n}\\nnode {\\n  name: &quot;random/uniform_31/min&quot;\\n  op: &quot;Const&quot;\\n  attr {\\n    key: &quot;dtype&quot;\\n    value {\\n      type: DT_FLOAT\\n    }\\n  }\\n  attr {\\n    key: &quot;value&quot;\\n    value {\\n      tensor {\\n        dtype: DT_FLOAT\\n        tensor_shape {\\n        }\\n        float_val: 0.0\\n      }\\n    }\\n  }\\n}\\nnode {\\n  name: &quot;random/uniform_31/max&quot;\\n  op: &quot;Const&quot;\\n  attr {\\n    key: &quot;dtype&quot;\\n    value {\\n      type: DT_FLOAT\\n    }\\n  }\\n  attr {\\n    key: &quot;value&quot;\\n    value {\\n      tensor {\\n        dtype: DT_FLOAT\\n        tensor_shape {\\n        }\\n        float_val: 1.0\\n      }\\n    }\\n  }\\n}\\nnode {\\n  name: &quot;random/uniform_31/RandomUniform&quot;\\n  op: &quot;RandomUniform&quot;\\n  input: &quot;random/uniform_31/shape&quot;\\n  attr {\\n    key: &quot;T&quot;\\n    value {\\n      type: DT_INT32\\n    }\\n  }\\n  attr {\\n    key: &quot;dtype&quot;\\n    value {\\n      type: DT_FLOAT\\n    }\\n  }\\n  attr {\\n    key: &quot;seed&quot;\\n    value {\\n      i: 0\\n    }\\n  }\\n  attr {\\n    key: &quot;seed2&quot;\\n    value {\\n      i: 0\\n    }\\n  }\\n}\\nnode {\\n  name: &quot;random/uniform_31/sub&quot;\\n  op: &quot;Sub&quot;\\n  input: &quot;random/uniform_31/max&quot;\\n  input: &quot;random/uniform_31/min&quot;\\n  attr {\\n    key: &quot;T&quot;\\n    value {\\n      type: DT_FLOAT\\n    }\\n  }\\n}\\nnode {\\n  name: &quot;random/uniform_31/mul&quot;\\n  op: &quot;Mul&quot;\\n  input: &quot;random/uniform_31/RandomUniform&quot;\\n  input: &quot;random/uniform_31/sub&quot;\\n  attr {\\n    key: &quot;T&quot;\\n    value {\\n      type: DT_FLOAT\\n    }\\n  }\\n}\\nnode {\\n  name: &quot;random/uniform_31&quot;\\n  op: &quot;Add&quot;\\n  input: &quot;random/uniform_31/mul&quot;\\n  input: &quot;random/uniform_31/min&quot;\\n  attr {\\n    key: &quot;T&quot;\\n    value {\\n      type: DT_FLOAT\\n    }\\n  }\\n}\\nnode {\\n  name: &quot;W/1_3_1&quot;\\n  op: &quot;VariableV2&quot;\\n  attr {\\n    key: &quot;container&quot;\\n    value {\\n      s: &quot;&quot;\\n    }\\n  }\\n  attr {\\n    key: &quot;dtype&quot;\\n    value {\\n      type: DT_FLOAT\\n    }\\n  }\\n  attr {\\n    key: &quot;shape&quot;\\n    value {\\n      shape {\\n        dim {\\n          size: 11\\n        }\\n        dim {\\n          size: 13\\n        }\\n      }\\n    }\\n  }\\n  attr {\\n    key: &quot;shared_name&quot;\\n    value {\\n      s: &quot;&quot;\\n    }\\n  }\\n}\\nnode {\\n  name: &quot;W/1_3_1/Assign&quot;\\n  op: &quot;Assign&quot;\\n  input: &quot;W/1_3_1&quot;\\n  input: &quot;random/uniform_31&quot;\\n  attr {\\n    key: &quot;T&quot;\\n    value {\\n      type: DT_FLOAT\\n    }\\n  }\\n  attr {\\n    key: &quot;_class&quot;\\n    value {\\n      list {\\n        s: &quot;loc:@W_1_3_1&quot;\\n      }\\n    }\\n  }\\n  attr {\\n    key: &quot;use_locking&quot;\\n    value {\\n      b: true\\n    }\\n  }\\n  attr {\\n    key: &quot;validate_shape&quot;\\n    value {\\n      b: true\\n    }\\n  }\\n}\\nnode {\\n  name: &quot;W/1_3_1/read&quot;\\n  op: &quot;Identity&quot;\\n  input: &quot;W/1_3_1&quot;\\n  attr {\\n    key: &quot;T&quot;\\n    value {\\n      type: DT_FLOAT\\n    }\\n  }\\n  attr {\\n    key: &quot;_class&quot;\\n    value {\\n      list {\\n        s: &quot;loc:@W_1_3_1&quot;\\n      }\\n    }\\n  }\\n}\\nnode {\\n  name: &quot;MatMul/15&quot;\\n  op: &quot;MatMul&quot;\\n  input: &quot;g/2_1&quot;\\n  input: &quot;W/1_3_1/read&quot;\\n  attr {\\n    key: &quot;T&quot;\\n    value {\\n      type: DT_FLOAT\\n    }\\n  }\\n  attr {\\n    key: &quot;transpose_a&quot;\\n    value {\\n      b: false\\n    }\\n  }\\n  attr {\\n    key: &quot;transpose_b&quot;\\n    value {\\n      b: false\\n    }\\n  }\\n}\\nnode {\\n  name: &quot;Add/22&quot;\\n  op: &quot;Add&quot;\\n  input: &quot;MatMul/15&quot;\\n  input: &quot;bias/1_3_1/read&quot;\\n  attr {\\n    key: &quot;T&quot;\\n    value {\\n      type: DT_FLOAT\\n    }\\n  }\\n}\\nnode {\\n  name: &quot;h/1_3_1&quot;\\n  op: &quot;Relu&quot;\\n  input: &quot;Add/22&quot;\\n  attr {\\n    key: &quot;T&quot;\\n    value {\\n      type: DT_FLOAT\\n    }\\n  }\\n}\\nnode {\\n  name: &quot;Const/7&quot;\\n  op: &quot;Const&quot;\\n  attr {\\n    key: &quot;dtype&quot;\\n    value {\\n      type: DT_FLOAT\\n    }\\n  }\\n  attr {\\n    key: &quot;value&quot;\\n    value {\\n      tensor {\\n        dtype: DT_FLOAT\\n        tensor_shape {\\n        }\\n        float_val: 1.0\\n      }\\n    }\\n  }\\n}\\nnode {\\n  name: &quot;Add/23&quot;\\n  op: &quot;Add&quot;\\n  input: &quot;eps/4&quot;\\n  input: &quot;g/2_1&quot;\\n  attr {\\n    key: &quot;T&quot;\\n    value {\\n      type: DT_FLOAT\\n    }\\n  }\\n}\\nnode {\\n  name: &quot;truediv/7&quot;\\n  op: &quot;RealDiv&quot;\\n  input: &quot;Const/7&quot;\\n  input: &quot;Add/23&quot;\\n  attr {\\n    key: &quot;T&quot;\\n    value {\\n      type: DT_FLOAT\\n    }\\n  }\\n}\\nnode {\\n  name: &quot;random/uniform_32/shape&quot;\\n  op: &quot;Const&quot;\\n  attr {\\n    key: &quot;dtype&quot;\\n    value {\\n      type: DT_INT32\\n    }\\n  }\\n  attr {\\n    key: &quot;value&quot;\\n    value {\\n      tensor {\\n        dtype: DT_INT32\\n        tensor_shape {\\n          dim {\\n            size: 1\\n          }\\n        }\\n        int_val: 13\\n      }\\n    }\\n  }\\n}\\nnode {\\n  name: &quot;random/uniform_32/min&quot;\\n  op: &quot;Const&quot;\\n  attr {\\n    key: &quot;dtype&quot;\\n    value {\\n      type: DT_FLOAT\\n    }\\n  }\\n  attr {\\n    key: &quot;value&quot;\\n    value {\\n      tensor {\\n        dtype: DT_FLOAT\\n        tensor_shape {\\n        }\\n        float_val: 0.0\\n      }\\n    }\\n  }\\n}\\nnode {\\n  name: &quot;random/uniform_32/max&quot;\\n  op: &quot;Const&quot;\\n  attr {\\n    key: &quot;dtype&quot;\\n    value {\\n      type: DT_FLOAT\\n    }\\n  }\\n  attr {\\n    key: &quot;value&quot;\\n    value {\\n      tensor {\\n        dtype: DT_FLOAT\\n        tensor_shape {\\n        }\\n        float_val: 1.0\\n      }\\n    }\\n  }\\n}\\nnode {\\n  name: &quot;random/uniform_32/RandomUniform&quot;\\n  op: &quot;RandomUniform&quot;\\n  input: &quot;random/uniform_32/shape&quot;\\n  attr {\\n    key: &quot;T&quot;\\n    value {\\n      type: DT_INT32\\n    }\\n  }\\n  attr {\\n    key: &quot;dtype&quot;\\n    value {\\n      type: DT_FLOAT\\n    }\\n  }\\n  attr {\\n    key: &quot;seed&quot;\\n    value {\\n      i: 0\\n    }\\n  }\\n  attr {\\n    key: &quot;seed2&quot;\\n    value {\\n      i: 0\\n    }\\n  }\\n}\\nnode {\\n  name: &quot;random/uniform_32/sub&quot;\\n  op: &quot;Sub&quot;\\n  input: &quot;random/uniform_32/max&quot;\\n  input: &quot;random/uniform_32/min&quot;\\n  attr {\\n    key: &quot;T&quot;\\n    value {\\n      type: DT_FLOAT\\n    }\\n  }\\n}\\nnode {\\n  name: &quot;random/uniform_32/mul&quot;\\n  op: &quot;Mul&quot;\\n  input: &quot;random/uniform_32/RandomUniform&quot;\\n  input: &quot;random/uniform_32/sub&quot;\\n  attr {\\n    key: &quot;T&quot;\\n    value {\\n      type: DT_FLOAT\\n    }\\n  }\\n}\\nnode {\\n  name: &quot;random/uniform_32&quot;\\n  op: &quot;Add&quot;\\n  input: &quot;random/uniform_32/mul&quot;\\n  input: &quot;random/uniform_32/min&quot;\\n  attr {\\n    key: &quot;T&quot;\\n    value {\\n      type: DT_FLOAT\\n    }\\n  }\\n}\\nnode {\\n  name: &quot;bias/2_3_1&quot;\\n  op: &quot;VariableV2&quot;\\n  attr {\\n    key: &quot;container&quot;\\n    value {\\n      s: &quot;&quot;\\n    }\\n  }\\n  attr {\\n    key: &quot;dtype&quot;\\n    value {\\n      type: DT_FLOAT\\n    }\\n  }\\n  attr {\\n    key: &quot;shape&quot;\\n    value {\\n      shape {\\n        dim {\\n          size: 13\\n        }\\n      }\\n    }\\n  }\\n  attr {\\n    key: &quot;shared_name&quot;\\n    value {\\n      s: &quot;&quot;\\n    }\\n  }\\n}\\nnode {\\n  name: &quot;bias/2_3_1/Assign&quot;\\n  op: &quot;Assign&quot;\\n  input: &quot;bias/2_3_1&quot;\\n  input: &quot;random/uniform_32&quot;\\n  attr {\\n    key: &quot;T&quot;\\n    value {\\n      type: DT_FLOAT\\n    }\\n  }\\n  attr {\\n    key: &quot;_class&quot;\\n    value {\\n      list {\\n        s: &quot;loc:@bias_2_3_1&quot;\\n      }\\n    }\\n  }\\n  attr {\\n    key: &quot;use_locking&quot;\\n    value {\\n      b: true\\n    }\\n  }\\n  attr {\\n    key: &quot;validate_shape&quot;\\n    value {\\n      b: true\\n    }\\n  }\\n}\\nnode {\\n  name: &quot;bias/2_3_1/read&quot;\\n  op: &quot;Identity&quot;\\n  input: &quot;bias/2_3_1&quot;\\n  attr {\\n    key: &quot;T&quot;\\n    value {\\n      type: DT_FLOAT\\n    }\\n  }\\n  attr {\\n    key: &quot;_class&quot;\\n    value {\\n      list {\\n        s: &quot;loc:@bias_2_3_1&quot;\\n      }\\n    }\\n  }\\n}\\nnode {\\n  name: &quot;random/uniform_33/shape&quot;\\n  op: &quot;Const&quot;\\n  attr {\\n    key: &quot;dtype&quot;\\n    value {\\n      type: DT_INT32\\n    }\\n  }\\n  attr {\\n    key: &quot;value&quot;\\n    value {\\n      tensor {\\n        dtype: DT_INT32\\n        tensor_shape {\\n          dim {\\n            size: 2\\n          }\\n        }\\n        tensor_content: &quot;\\\\013\\\\000\\\\000\\\\000\\\\r\\\\000\\\\000\\\\000&quot;\\n      }\\n    }\\n  }\\n}\\nnode {\\n  name: &quot;random/uniform_33/min&quot;\\n  op: &quot;Const&quot;\\n  attr {\\n    key: &quot;dtype&quot;\\n    value {\\n      type: DT_FLOAT\\n    }\\n  }\\n  attr {\\n    key: &quot;value&quot;\\n    value {\\n      tensor {\\n        dtype: DT_FLOAT\\n        tensor_shape {\\n        }\\n        float_val: 0.0\\n      }\\n    }\\n  }\\n}\\nnode {\\n  name: &quot;random/uniform_33/max&quot;\\n  op: &quot;Const&quot;\\n  attr {\\n    key: &quot;dtype&quot;\\n    value {\\n      type: DT_FLOAT\\n    }\\n  }\\n  attr {\\n    key: &quot;value&quot;\\n    value {\\n      tensor {\\n        dtype: DT_FLOAT\\n        tensor_shape {\\n        }\\n        float_val: 1.0\\n      }\\n    }\\n  }\\n}\\nnode {\\n  name: &quot;random/uniform_33/RandomUniform&quot;\\n  op: &quot;RandomUniform&quot;\\n  input: &quot;random/uniform_33/shape&quot;\\n  attr {\\n    key: &quot;T&quot;\\n    value {\\n      type: DT_INT32\\n    }\\n  }\\n  attr {\\n    key: &quot;dtype&quot;\\n    value {\\n      type: DT_FLOAT\\n    }\\n  }\\n  attr {\\n    key: &quot;seed&quot;\\n    value {\\n      i: 0\\n    }\\n  }\\n  attr {\\n    key: &quot;seed2&quot;\\n    value {\\n      i: 0\\n    }\\n  }\\n}\\nnode {\\n  name: &quot;random/uniform_33/sub&quot;\\n  op: &quot;Sub&quot;\\n  input: &quot;random/uniform_33/max&quot;\\n  input: &quot;random/uniform_33/min&quot;\\n  attr {\\n    key: &quot;T&quot;\\n    value {\\n      type: DT_FLOAT\\n    }\\n  }\\n}\\nnode {\\n  name: &quot;random/uniform_33/mul&quot;\\n  op: &quot;Mul&quot;\\n  input: &quot;random/uniform_33/RandomUniform&quot;\\n  input: &quot;random/uniform_33/sub&quot;\\n  attr {\\n    key: &quot;T&quot;\\n    value {\\n      type: DT_FLOAT\\n    }\\n  }\\n}\\nnode {\\n  name: &quot;random/uniform_33&quot;\\n  op: &quot;Add&quot;\\n  input: &quot;random/uniform_33/mul&quot;\\n  input: &quot;random/uniform_33/min&quot;\\n  attr {\\n    key: &quot;T&quot;\\n    value {\\n      type: DT_FLOAT\\n    }\\n  }\\n}\\nnode {\\n  name: &quot;W/2_3_1&quot;\\n  op: &quot;VariableV2&quot;\\n  attr {\\n    key: &quot;container&quot;\\n    value {\\n      s: &quot;&quot;\\n    }\\n  }\\n  attr {\\n    key: &quot;dtype&quot;\\n    value {\\n      type: DT_FLOAT\\n    }\\n  }\\n  attr {\\n    key: &quot;shape&quot;\\n    value {\\n      shape {\\n        dim {\\n          size: 11\\n        }\\n        dim {\\n          size: 13\\n        }\\n      }\\n    }\\n  }\\n  attr {\\n    key: &quot;shared_name&quot;\\n    value {\\n      s: &quot;&quot;\\n    }\\n  }\\n}\\nnode {\\n  name: &quot;W/2_3_1/Assign&quot;\\n  op: &quot;Assign&quot;\\n  input: &quot;W/2_3_1&quot;\\n  input: &quot;random/uniform_33&quot;\\n  attr {\\n    key: &quot;T&quot;\\n    value {\\n      type: DT_FLOAT\\n    }\\n  }\\n  attr {\\n    key: &quot;_class&quot;\\n    value {\\n      list {\\n        s: &quot;loc:@W_2_3_1&quot;\\n      }\\n    }\\n  }\\n  attr {\\n    key: &quot;use_locking&quot;\\n    value {\\n      b: true\\n    }\\n  }\\n  attr {\\n    key: &quot;validate_shape&quot;\\n    value {\\n      b: true\\n    }\\n  }\\n}\\nnode {\\n  name: &quot;W/2_3_1/read&quot;\\n  op: &quot;Identity&quot;\\n  input: &quot;W/2_3_1&quot;\\n  attr {\\n    key: &quot;T&quot;\\n    value {\\n      type: DT_FLOAT\\n    }\\n  }\\n  attr {\\n    key: &quot;_class&quot;\\n    value {\\n      list {\\n        s: &quot;loc:@W_2_3_1&quot;\\n      }\\n    }\\n  }\\n}\\nnode {\\n  name: &quot;MatMul/16&quot;\\n  op: &quot;MatMul&quot;\\n  input: &quot;truediv/7&quot;\\n  input: &quot;W/2_3_1/read&quot;\\n  attr {\\n    key: &quot;T&quot;\\n    value {\\n      type: DT_FLOAT\\n    }\\n  }\\n  attr {\\n    key: &quot;transpose_a&quot;\\n    value {\\n      b: false\\n    }\\n  }\\n  attr {\\n    key: &quot;transpose_b&quot;\\n    value {\\n      b: false\\n    }\\n  }\\n}\\nnode {\\n  name: &quot;Add/24&quot;\\n  op: &quot;Add&quot;\\n  input: &quot;MatMul/16&quot;\\n  input: &quot;bias/2_3_1/read&quot;\\n  attr {\\n    key: &quot;T&quot;\\n    value {\\n      type: DT_FLOAT\\n    }\\n  }\\n}\\nnode {\\n  name: &quot;h/2_3_1&quot;\\n  op: &quot;Relu&quot;\\n  input: &quot;Add/24&quot;\\n  attr {\\n    key: &quot;T&quot;\\n    value {\\n      type: DT_FLOAT\\n    }\\n  }\\n}\\nnode {\\n  name: &quot;g/3_1&quot;\\n  op: &quot;Add&quot;\\n  input: &quot;h/1_3_1&quot;\\n  input: &quot;h/2_3_1&quot;\\n  attr {\\n    key: &quot;T&quot;\\n    value {\\n      type: DT_FLOAT\\n    }\\n  }\\n}\\nnode {\\n  name: &quot;random/uniform_34/shape&quot;\\n  op: &quot;Const&quot;\\n  attr {\\n    key: &quot;dtype&quot;\\n    value {\\n      type: DT_INT32\\n    }\\n  }\\n  attr {\\n    key: &quot;value&quot;\\n    value {\\n      tensor {\\n        dtype: DT_INT32\\n        tensor_shape {\\n          dim {\\n            size: 1\\n          }\\n        }\\n        int_val: 1\\n      }\\n    }\\n  }\\n}\\nnode {\\n  name: &quot;random/uniform_34/min&quot;\\n  op: &quot;Const&quot;\\n  attr {\\n    key: &quot;dtype&quot;\\n    value {\\n      type: DT_FLOAT\\n    }\\n  }\\n  attr {\\n    key: &quot;value&quot;\\n    value {\\n      tensor {\\n        dtype: DT_FLOAT\\n        tensor_shape {\\n        }\\n        float_val: 0.0\\n      }\\n    }\\n  }\\n}\\nnode {\\n  name: &quot;random/uniform_34/max&quot;\\n  op: &quot;Const&quot;\\n  attr {\\n    key: &quot;dtype&quot;\\n    value {\\n      type: DT_FLOAT\\n    }\\n  }\\n  attr {\\n    key: &quot;value&quot;\\n    value {\\n      tensor {\\n        dtype: DT_FLOAT\\n        tensor_shape {\\n        }\\n        float_val: 1.0\\n      }\\n    }\\n  }\\n}\\nnode {\\n  name: &quot;random/uniform_34/RandomUniform&quot;\\n  op: &quot;RandomUniform&quot;\\n  input: &quot;random/uniform_34/shape&quot;\\n  attr {\\n    key: &quot;T&quot;\\n    value {\\n      type: DT_INT32\\n    }\\n  }\\n  attr {\\n    key: &quot;dtype&quot;\\n    value {\\n      type: DT_FLOAT\\n    }\\n  }\\n  attr {\\n    key: &quot;seed&quot;\\n    value {\\n      i: 0\\n    }\\n  }\\n  attr {\\n    key: &quot;seed2&quot;\\n    value {\\n      i: 0\\n    }\\n  }\\n}\\nnode {\\n  name: &quot;random/uniform_34/sub&quot;\\n  op: &quot;Sub&quot;\\n  input: &quot;random/uniform_34/max&quot;\\n  input: &quot;random/uniform_34/min&quot;\\n  attr {\\n    key: &quot;T&quot;\\n    value {\\n      type: DT_FLOAT\\n    }\\n  }\\n}\\nnode {\\n  name: &quot;random/uniform_34/mul&quot;\\n  op: &quot;Mul&quot;\\n  input: &quot;random/uniform_34/RandomUniform&quot;\\n  input: &quot;random/uniform_34/sub&quot;\\n  attr {\\n    key: &quot;T&quot;\\n    value {\\n      type: DT_FLOAT\\n    }\\n  }\\n}\\nnode {\\n  name: &quot;random/uniform_34&quot;\\n  op: &quot;Add&quot;\\n  input: &quot;random/uniform_34/mul&quot;\\n  input: &quot;random/uniform_34/min&quot;\\n  attr {\\n    key: &quot;T&quot;\\n    value {\\n      type: DT_FLOAT\\n    }\\n  }\\n}\\nnode {\\n  name: &quot;bias/3_1&quot;\\n  op: &quot;VariableV2&quot;\\n  attr {\\n    key: &quot;container&quot;\\n    value {\\n      s: &quot;&quot;\\n    }\\n  }\\n  attr {\\n    key: &quot;dtype&quot;\\n    value {\\n      type: DT_FLOAT\\n    }\\n  }\\n  attr {\\n    key: &quot;shape&quot;\\n    value {\\n      shape {\\n        dim {\\n          size: 1\\n        }\\n      }\\n    }\\n  }\\n  attr {\\n    key: &quot;shared_name&quot;\\n    value {\\n      s: &quot;&quot;\\n    }\\n  }\\n}\\nnode {\\n  name: &quot;bias/3_1/Assign&quot;\\n  op: &quot;Assign&quot;\\n  input: &quot;bias/3_1&quot;\\n  input: &quot;random/uniform_34&quot;\\n  attr {\\n    key: &quot;T&quot;\\n    value {\\n      type: DT_FLOAT\\n    }\\n  }\\n  attr {\\n    key: &quot;_class&quot;\\n    value {\\n      list {\\n        s: &quot;loc:@bias_3_1&quot;\\n      }\\n    }\\n  }\\n  attr {\\n    key: &quot;use_locking&quot;\\n    value {\\n      b: true\\n    }\\n  }\\n  attr {\\n    key: &quot;validate_shape&quot;\\n    value {\\n      b: true\\n    }\\n  }\\n}\\nnode {\\n  name: &quot;bias/3_1/read&quot;\\n  op: &quot;Identity&quot;\\n  input: &quot;bias/3_1&quot;\\n  attr {\\n    key: &quot;T&quot;\\n    value {\\n      type: DT_FLOAT\\n    }\\n  }\\n  attr {\\n    key: &quot;_class&quot;\\n    value {\\n      list {\\n        s: &quot;loc:@bias_3_1&quot;\\n      }\\n    }\\n  }\\n}\\nnode {\\n  name: &quot;random/uniform_35/shape&quot;\\n  op: &quot;Const&quot;\\n  attr {\\n    key: &quot;dtype&quot;\\n    value {\\n      type: DT_INT32\\n    }\\n  }\\n  attr {\\n    key: &quot;value&quot;\\n    value {\\n      tensor {\\n        dtype: DT_INT32\\n        tensor_shape {\\n          dim {\\n            size: 2\\n          }\\n        }\\n        tensor_content: &quot;\\\\r\\\\000\\\\000\\\\000\\\\001\\\\000\\\\000\\\\000&quot;\\n      }\\n    }\\n  }\\n}\\nnode {\\n  name: &quot;random/uniform_35/min&quot;\\n  op: &quot;Const&quot;\\n  attr {\\n    key: &quot;dtype&quot;\\n    value {\\n      type: DT_FLOAT\\n    }\\n  }\\n  attr {\\n    key: &quot;value&quot;\\n    value {\\n      tensor {\\n        dtype: DT_FLOAT\\n        tensor_shape {\\n        }\\n        float_val: 0.0\\n      }\\n    }\\n  }\\n}\\nnode {\\n  name: &quot;random/uniform_35/max&quot;\\n  op: &quot;Const&quot;\\n  attr {\\n    key: &quot;dtype&quot;\\n    value {\\n      type: DT_FLOAT\\n    }\\n  }\\n  attr {\\n    key: &quot;value&quot;\\n    value {\\n      tensor {\\n        dtype: DT_FLOAT\\n        tensor_shape {\\n        }\\n        float_val: 1.0\\n      }\\n    }\\n  }\\n}\\nnode {\\n  name: &quot;random/uniform_35/RandomUniform&quot;\\n  op: &quot;RandomUniform&quot;\\n  input: &quot;random/uniform_35/shape&quot;\\n  attr {\\n    key: &quot;T&quot;\\n    value {\\n      type: DT_INT32\\n    }\\n  }\\n  attr {\\n    key: &quot;dtype&quot;\\n    value {\\n      type: DT_FLOAT\\n    }\\n  }\\n  attr {\\n    key: &quot;seed&quot;\\n    value {\\n      i: 0\\n    }\\n  }\\n  attr {\\n    key: &quot;seed2&quot;\\n    value {\\n      i: 0\\n    }\\n  }\\n}\\nnode {\\n  name: &quot;random/uniform_35/sub&quot;\\n  op: &quot;Sub&quot;\\n  input: &quot;random/uniform_35/max&quot;\\n  input: &quot;random/uniform_35/min&quot;\\n  attr {\\n    key: &quot;T&quot;\\n    value {\\n      type: DT_FLOAT\\n    }\\n  }\\n}\\nnode {\\n  name: &quot;random/uniform_35/mul&quot;\\n  op: &quot;Mul&quot;\\n  input: &quot;random/uniform_35/RandomUniform&quot;\\n  input: &quot;random/uniform_35/sub&quot;\\n  attr {\\n    key: &quot;T&quot;\\n    value {\\n      type: DT_FLOAT\\n    }\\n  }\\n}\\nnode {\\n  name: &quot;random/uniform_35&quot;\\n  op: &quot;Add&quot;\\n  input: &quot;random/uniform_35/mul&quot;\\n  input: &quot;random/uniform_35/min&quot;\\n  attr {\\n    key: &quot;T&quot;\\n    value {\\n      type: DT_FLOAT\\n    }\\n  }\\n}\\nnode {\\n  name: &quot;W/3_1&quot;\\n  op: &quot;VariableV2&quot;\\n  attr {\\n    key: &quot;container&quot;\\n    value {\\n      s: &quot;&quot;\\n    }\\n  }\\n  attr {\\n    key: &quot;dtype&quot;\\n    value {\\n      type: DT_FLOAT\\n    }\\n  }\\n  attr {\\n    key: &quot;shape&quot;\\n    value {\\n      shape {\\n        dim {\\n          size: 13\\n        }\\n        dim {\\n          size: 1\\n        }\\n      }\\n    }\\n  }\\n  attr {\\n    key: &quot;shared_name&quot;\\n    value {\\n      s: &quot;&quot;\\n    }\\n  }\\n}\\nnode {\\n  name: &quot;W/3_1/Assign&quot;\\n  op: &quot;Assign&quot;\\n  input: &quot;W/3_1&quot;\\n  input: &quot;random/uniform_35&quot;\\n  attr {\\n    key: &quot;T&quot;\\n    value {\\n      type: DT_FLOAT\\n    }\\n  }\\n  attr {\\n    key: &quot;_class&quot;\\n    value {\\n      list {\\n        s: &quot;loc:@W_3_1&quot;\\n      }\\n    }\\n  }\\n  attr {\\n    key: &quot;use_locking&quot;\\n    value {\\n      b: true\\n    }\\n  }\\n  attr {\\n    key: &quot;validate_shape&quot;\\n    value {\\n      b: true\\n    }\\n  }\\n}\\nnode {\\n  name: &quot;W/3_1/read&quot;\\n  op: &quot;Identity&quot;\\n  input: &quot;W/3_1&quot;\\n  attr {\\n    key: &quot;T&quot;\\n    value {\\n      type: DT_FLOAT\\n    }\\n  }\\n  attr {\\n    key: &quot;_class&quot;\\n    value {\\n      list {\\n        s: &quot;loc:@W_3_1&quot;\\n      }\\n    }\\n  }\\n}\\nnode {\\n  name: &quot;MatMul/17&quot;\\n  op: &quot;MatMul&quot;\\n  input: &quot;g/3_1&quot;\\n  input: &quot;W/3_1/read&quot;\\n  attr {\\n    key: &quot;T&quot;\\n    value {\\n      type: DT_FLOAT\\n    }\\n  }\\n  attr {\\n    key: &quot;transpose_a&quot;\\n    value {\\n      b: false\\n    }\\n  }\\n  attr {\\n    key: &quot;transpose_b&quot;\\n    value {\\n      b: false\\n    }\\n  }\\n}\\nnode {\\n  name: &quot;Add/25&quot;\\n  op: &quot;Add&quot;\\n  input: &quot;MatMul/17&quot;\\n  input: &quot;bias/3_1/read&quot;\\n  attr {\\n    key: &quot;T&quot;\\n    value {\\n      type: DT_FLOAT\\n    }\\n  }\\n}\\nnode {\\n  name: &quot;h/3_1&quot;\\n  op: &quot;Identity&quot;\\n  input: &quot;Add/25&quot;\\n  attr {\\n    key: &quot;T&quot;\\n    value {\\n      type: DT_FLOAT\\n    }\\n  }\\n}\\nnode {\\n  name: &quot;Mul&quot;\\n  op: &quot;Mul&quot;\\n  input: &quot;h/3_0&quot;\\n  input: &quot;h/3_1&quot;\\n  attr {\\n    key: &quot;T&quot;\\n    value {\\n      type: DT_FLOAT\\n    }\\n  }\\n}\\nnode {\\n  name: &quot;net/2_4&quot;\\n  op: &quot;Identity&quot;\\n  input: &quot;Mul&quot;\\n  attr {\\n    key: &quot;T&quot;\\n    value {\\n      type: DT_FLOAT\\n    }\\n  }\\n}\\n';\n",
       "          }\n",
       "        </script>\n",
       "        <link rel=&quot;import&quot; href=&quot;https://tensorboard.appspot.com/tf-graph-basic.build.html&quot; onload=load()>\n",
       "        <div style=&quot;height:600px&quot;>\n",
       "          <tf-graph-basic id=&quot;graph0.9824448830007099&quot;></tf-graph-basic>\n",
       "        </div>\n",
       "    \"></iframe>\n",
       "    "
      ],
      "text/plain": [
       "<IPython.core.display.HTML object>"
      ]
     },
     "metadata": {},
     "output_type": "display_data"
    }
   ],
   "source": [
    "from tf_bike.visu import show_graph\n",
    "\n",
    "tf.reset_default_graph()\n",
    "X = tf.placeholder(dtype=tf.float32, shape=(None, n_features), name=\"X\")\n",
    "n_filters_lists = [\n",
    "    [5, 6, 7, 8],\n",
    "    [9, 12, 11, 13],\n",
    "]\n",
    "network = generic_nn(X, 2, 4, n_filters_lists)\n",
    "\n",
    "show_graph(network.graph)"
   ]
  },
  {
   "cell_type": "code",
   "execution_count": null,
   "metadata": {
    "collapsed": true
   },
   "outputs": [],
   "source": []
  },
  {
   "cell_type": "code",
   "execution_count": 620,
   "metadata": {},
   "outputs": [],
   "source": [
    "training_params = {        \n",
    "   \n",
    "    # Loss\n",
    "    'loss': tf_loss,\n",
    "    \n",
    "    # Optimizer\n",
    "    'optimizer': tf.train.GradientDescentOptimizer,\n",
    "    # 'optimizer': tf.train.AdadeltaOptimizer,\n",
    "    \n",
    "    # Metrics\n",
    "    'metrics': [\n",
    "        ('rmse', tf_rmse),\n",
    "        ('unnorm_rmse', tf_unnorm_rmse),\n",
    "    ],\n",
    "    \n",
    "    # Learning rate params\n",
    "    'lr': lambda x, **kwargs: tf.train.exponential_decay(global_step=x, **kwargs),\n",
    "    'lr_kwargs': {\n",
    "        'decay_steps': 200,\n",
    "        'decay_rate': 0.94,\n",
    "        'learning_rate': 0.008,\n",
    "        'staircase': True\n",
    "    },\n",
    "\n",
    "#     'lr': tf.train.piecewise_constant, \n",
    "#     'lr_kwargs': {\n",
    "#         'boundaries': [50, 100, 200, 500, 1000, ],\n",
    "#         'values': [1e-4, 5*1e-5, 5*1e-5, 1e-6, 1e-7]\n",
    "#     },\n",
    "    \n",
    "    # Pretrained model\n",
    "    # 'pretrained_model': 'best_from_logs',\n",
    "\n",
    "    'training_epochs': 5000,\n",
    "    'batch_size': 1024,\n",
    "    \n",
    "    'seed': 2017,\n",
    "    \n",
    "}\n",
    "\n",
    "def nn(x):\n",
    "    k = 3\n",
    "    m = 4\n",
    "    n_filters_lists = [\n",
    "        [5, 5, 5, 5],\n",
    "        [5, 5, 5, 5],        \n",
    "        [5, 5, 5, 5],        \n",
    "    ]\n",
    "    \n",
    "    return generic_nn(x, k=k, m=m, n_filters_lists=n_filters_lists, seed=training_params['seed'])\n",
    "\n",
    "# Network\n",
    "training_params['network'] = nn\n",
    "\n"
   ]
  },
  {
   "cell_type": "code",
   "execution_count": 621,
   "metadata": {},
   "outputs": [],
   "source": [
    "from datetime import datetime\n",
    "trainer = Trainer(log_dir='logs_{}'.format(datetime.now().strftime(\"%Y-%m-%d-%H-%M\")), display_step=50)"
   ]
  },
  {
   "cell_type": "code",
   "execution_count": 622,
   "metadata": {
    "scrolled": true
   },
   "outputs": [
    {
     "name": "stdout",
     "output_type": "stream",
     "text": [
      "Start training\n",
      "Model contains 54 trainable variables and 888 trainable parameters\n",
      "INFO:tensorflow:Starting standard services.\n",
      "INFO:tensorflow:Saving checkpoint to path logs_2017-07-03-14-48\\train\\Model/net_3_4.ckpt\n",
      "INFO:tensorflow:Starting queue runners.\n",
      "Epoch: 0050\n",
      "loss=0.885078892 | rmse=1.769216038, unnorm_rmse=642.839523315, \n",
      "val_loss=0.617011726 | val_rmse=0.853381395, val_unnorm_rmse=310.073730469, \n",
      "Epoch: 0100\n",
      "loss=0.480273001 | rmse=0.616515666, unnorm_rmse=224.009185791, \n",
      "val_loss=0.495910406 | val_rmse=0.641992450, val_unnorm_rmse=233.266067505, \n",
      "Epoch: 0150\n",
      "loss=0.478681434 | rmse=0.613944896, unnorm_rmse=223.075096130, \n",
      "val_loss=0.489481926 | val_rmse=0.631470799, val_unnorm_rmse=229.443099976, \n",
      "Epoch: 0200\n",
      "loss=0.477724008 | rmse=0.612400398, unnorm_rmse=222.513887405, \n",
      "val_loss=0.491388887 | val_rmse=0.634584963, val_unnorm_rmse=230.574539185, \n",
      "Epoch: 0250\n",
      "loss=0.477469664 | rmse=0.611990370, unnorm_rmse=222.364921570, \n",
      "val_loss=0.493172020 | val_rmse=0.637502193, val_unnorm_rmse=231.634521484, \n",
      "Epoch: 0300\n",
      "loss=0.477287836 | rmse=0.611697257, unnorm_rmse=222.258432388, \n",
      "val_loss=0.490699619 | val_rmse=0.633458555, val_unnorm_rmse=230.165374756, \n",
      "Epoch: 0350\n",
      "loss=0.477033932 | rmse=0.611288138, unnorm_rmse=222.109796524, \n",
      "val_loss=0.490341514 | val_rmse=0.632873833, val_unnorm_rmse=229.952987671, \n",
      "Epoch: 0400\n",
      "loss=0.500199489 | rmse=0.649050191, unnorm_rmse=235.830495834, \n",
      "val_loss=0.510223269 | val_rmse=0.665663004, val_unnorm_rmse=241.866744995, \n",
      "Epoch: 0450\n",
      "loss=0.498121515 | rmse=0.645627089, unnorm_rmse=234.586719513, \n",
      "val_loss=0.508658171 | val_rmse=0.663058162, val_unnorm_rmse=240.920196533, \n",
      "Epoch: 0500\n",
      "loss=0.496785857 | rmse=0.643430538, unnorm_rmse=233.788633347, \n",
      "val_loss=0.506772816 | val_rmse=0.659925640, val_unnorm_rmse=239.782104492, \n",
      "Epoch: 0550\n",
      "loss=0.495781157 | rmse=0.641780220, unnorm_rmse=233.188991547, \n",
      "val_loss=0.505832672 | val_rmse=0.658365846, val_unnorm_rmse=239.215347290, \n",
      "Epoch: 0600\n",
      "loss=0.543211862 | rmse=0.721528187, unnorm_rmse=262.165149689, \n",
      "val_loss=0.568455458 | val_rmse=0.765538037, val_unnorm_rmse=278.156127930, \n",
      "Epoch: 0650\n",
      "loss=0.521021999 | rmse=0.683747552, unnorm_rmse=248.437707901, \n",
      "val_loss=0.538683474 | val_rmse=0.713749170, val_unnorm_rmse=259.338684082, \n",
      "Epoch: 0700\n",
      "loss=0.517118253 | rmse=0.677187450, unnorm_rmse=246.054079056, \n",
      "val_loss=0.533439934 | val_rmse=0.704786539, val_unnorm_rmse=256.082092285, \n",
      "Epoch: 0750\n",
      "loss=0.524651930 | rmse=0.689870544, unnorm_rmse=250.662466049, \n",
      "val_loss=0.537485898 | val_rmse=0.711698115, val_unnorm_rmse=258.593505859, \n",
      "Epoch: 0800\n",
      "loss=0.520702042 | rmse=0.683208898, unnorm_rmse=248.241996765, \n",
      "val_loss=0.534069061 | val_rmse=0.705859363, val_unnorm_rmse=256.471923828, \n",
      "Epoch: 0850\n",
      "loss=0.518807150 | rmse=0.680022426, unnorm_rmse=247.084180832, \n",
      "val_loss=0.532415152 | val_rmse=0.703040481, val_unnorm_rmse=255.447708130, \n",
      "Epoch: 0900\n",
      "loss=0.517796889 | rmse=0.678326048, unnorm_rmse=246.467794418, \n",
      "val_loss=0.531528950 | val_rmse=0.701531947, val_unnorm_rmse=254.899627686, \n",
      "Epoch: 0950\n",
      "loss=0.517209597 | rmse=0.677340657, unnorm_rmse=246.109771729, \n",
      "val_loss=0.531015396 | val_rmse=0.700658262, val_unnorm_rmse=254.582107544, \n",
      "Epoch: 1000\n",
      "loss=0.516852170 | rmse=0.676741257, unnorm_rmse=245.891998291, \n",
      "val_loss=0.530701756 | val_rmse=0.700124979, val_unnorm_rmse=254.388397217, \n",
      "Epoch: 1050\n",
      "loss=0.516624838 | rmse=0.676360093, unnorm_rmse=245.753486633, \n",
      "val_loss=0.530501425 | val_rmse=0.699784398, val_unnorm_rmse=254.264617920, \n",
      "Epoch: 1100\n",
      "loss=0.516474031 | rmse=0.676107310, unnorm_rmse=245.661634445, \n",
      "val_loss=0.530368209 | val_rmse=0.699558079, val_unnorm_rmse=254.182342529, \n",
      "Epoch: 1150\n",
      "loss=0.516371578 | rmse=0.675935596, unnorm_rmse=245.599254608, \n",
      "val_loss=0.530277014 | val_rmse=0.699402988, val_unnorm_rmse=254.126037598, \n",
      "Epoch: 1200\n",
      "loss=0.516300119 | rmse=0.675815836, unnorm_rmse=245.555719376, \n",
      "val_loss=0.530212760 | val_rmse=0.699293852, val_unnorm_rmse=254.086395264, \n",
      "Epoch: 1250\n",
      "loss=0.516248070 | rmse=0.675728612, unnorm_rmse=245.524003983, \n",
      "val_loss=0.530165911 | val_rmse=0.699214220, val_unnorm_rmse=254.057479858, \n",
      "Epoch: 1300\n",
      "loss=0.516209058 | rmse=0.675663255, unnorm_rmse=245.500316620, \n",
      "val_loss=0.530130982 | val_rmse=0.699154794, val_unnorm_rmse=254.035842896, \n",
      "Epoch: 1350\n",
      "loss=0.516179562 | rmse=0.675613813, unnorm_rmse=245.482295990, \n",
      "val_loss=0.530104160 | val_rmse=0.699109316, val_unnorm_rmse=254.019424438, \n",
      "Epoch: 1400\n",
      "loss=0.516156681 | rmse=0.675575472, unnorm_rmse=245.468322754, \n",
      "val_loss=0.530083597 | val_rmse=0.699074388, val_unnorm_rmse=254.006668091, \n",
      "Epoch: 1450\n",
      "loss=0.516138531 | rmse=0.675545074, unnorm_rmse=245.457376480, \n",
      "val_loss=0.530067444 | val_rmse=0.699046791, val_unnorm_rmse=253.996643066, \n",
      "Epoch: 1500\n",
      "loss=0.516124189 | rmse=0.675521024, unnorm_rmse=245.448598862, \n",
      "val_loss=0.530054390 | val_rmse=0.699024677, val_unnorm_rmse=253.988571167, \n",
      "Epoch: 1550\n",
      "loss=0.516112521 | rmse=0.675501496, unnorm_rmse=245.441513062, \n",
      "val_loss=0.530043900 | val_rmse=0.699006915, val_unnorm_rmse=253.982177734, \n",
      "Epoch: 1600\n",
      "loss=0.516103081 | rmse=0.675485715, unnorm_rmse=245.435781479, \n",
      "val_loss=0.530035436 | val_rmse=0.698992491, val_unnorm_rmse=253.976943970, \n",
      "Epoch: 1650\n",
      "loss=0.516095266 | rmse=0.675472587, unnorm_rmse=245.431022644, \n",
      "val_loss=0.530028284 | val_rmse=0.698980331, val_unnorm_rmse=253.972564697, \n",
      "Epoch: 1700\n",
      "loss=0.516088881 | rmse=0.675461866, unnorm_rmse=245.427072525, \n",
      "val_loss=0.530022681 | val_rmse=0.698970735, val_unnorm_rmse=253.968963623, \n",
      "Epoch: 1750\n",
      "loss=0.516083434 | rmse=0.675452761, unnorm_rmse=245.423841476, \n",
      "val_loss=0.530017614 | val_rmse=0.698962271, val_unnorm_rmse=253.965942383, \n",
      "Epoch: 1800\n",
      "loss=0.516078845 | rmse=0.675445110, unnorm_rmse=245.420993805, \n",
      "val_loss=0.530013680 | val_rmse=0.698955536, val_unnorm_rmse=253.963409424, \n",
      "Epoch: 1850\n",
      "loss=0.516075008 | rmse=0.675438598, unnorm_rmse=245.418701172, \n",
      "val_loss=0.530010045 | val_rmse=0.698949337, val_unnorm_rmse=253.961288452, \n",
      "Epoch: 1900\n",
      "loss=0.516071752 | rmse=0.675433211, unnorm_rmse=245.416685104, \n",
      "val_loss=0.530007243 | val_rmse=0.698944509, val_unnorm_rmse=253.959472656, \n",
      "Epoch: 1950\n",
      "loss=0.516069055 | rmse=0.675428629, unnorm_rmse=245.414985657, \n",
      "val_loss=0.530004740 | val_rmse=0.698940396, val_unnorm_rmse=253.957931519, \n",
      "Epoch: 2000\n",
      "loss=0.516066588 | rmse=0.675424524, unnorm_rmse=245.413570404, \n",
      "val_loss=0.530002534 | val_rmse=0.698936582, val_unnorm_rmse=253.956604004, \n",
      "Epoch: 2050\n",
      "loss=0.516064569 | rmse=0.675421141, unnorm_rmse=245.412342072, \n",
      "val_loss=0.530000746 | val_rmse=0.698933601, val_unnorm_rmse=253.955474854, \n",
      "Epoch: 2100\n",
      "loss=0.516062617 | rmse=0.675417900, unnorm_rmse=245.411190033, \n",
      "val_loss=0.529999077 | val_rmse=0.698930740, val_unnorm_rmse=253.954391479, \n",
      "Epoch: 2150\n",
      "loss=0.516061209 | rmse=0.675415561, unnorm_rmse=245.410249710, \n",
      "val_loss=0.529997587 | val_rmse=0.698928237, val_unnorm_rmse=253.953613281, \n",
      "Epoch: 2200\n",
      "loss=0.516059756 | rmse=0.675413132, unnorm_rmse=245.409408569, \n",
      "val_loss=0.529996455 | val_rmse=0.698926330, val_unnorm_rmse=253.952850342, \n",
      "Epoch: 2250\n",
      "loss=0.516058624 | rmse=0.675411239, unnorm_rmse=245.408721924, \n",
      "val_loss=0.529995441 | val_rmse=0.698924541, val_unnorm_rmse=253.952224731, \n",
      "Epoch: 2300\n",
      "loss=0.516057700 | rmse=0.675409637, unnorm_rmse=245.408111572, \n",
      "val_loss=0.529994428 | val_rmse=0.698922873, val_unnorm_rmse=253.951629639, \n",
      "Epoch: 2350\n",
      "loss=0.516056776 | rmse=0.675408125, unnorm_rmse=245.407621384, \n",
      "val_loss=0.529993773 | val_rmse=0.698921680, val_unnorm_rmse=253.951202393, \n",
      "Epoch: 2400\n",
      "loss=0.516056180 | rmse=0.675407052, unnorm_rmse=245.407165527, \n",
      "val_loss=0.529993117 | val_rmse=0.698920608, val_unnorm_rmse=253.950759888, \n",
      "Epoch: 2450\n",
      "loss=0.516055524 | rmse=0.675405979, unnorm_rmse=245.406768799, \n",
      "val_loss=0.529992580 | val_rmse=0.698919654, val_unnorm_rmse=253.950378418, \n",
      "Epoch: 2500\n",
      "loss=0.516054869 | rmse=0.675404906, unnorm_rmse=245.406438828, \n",
      "val_loss=0.529991925 | val_rmse=0.698918581, val_unnorm_rmse=253.950042725, \n",
      "Epoch: 2550\n",
      "loss=0.516054273 | rmse=0.675403953, unnorm_rmse=245.406097412, \n",
      "val_loss=0.529991567 | val_rmse=0.698917985, val_unnorm_rmse=253.949798584, \n",
      "Epoch: 2600\n",
      "loss=0.516053945 | rmse=0.675403297, unnorm_rmse=245.405853271, \n",
      "val_loss=0.529991090 | val_rmse=0.698917150, val_unnorm_rmse=253.949508667, \n"
     ]
    },
    {
     "name": "stdout",
     "output_type": "stream",
     "text": [
      "Epoch: 2650\n",
      "loss=0.516053498 | rmse=0.675402641, unnorm_rmse=245.405609131, \n",
      "val_loss=0.529990792 | val_rmse=0.698916614, val_unnorm_rmse=253.949310303, \n",
      "Epoch: 2700\n",
      "loss=0.516053304 | rmse=0.675402269, unnorm_rmse=245.405368805, \n",
      "val_loss=0.529990375 | val_rmse=0.698916018, val_unnorm_rmse=253.949111938, \n",
      "Epoch: 2750\n",
      "loss=0.516052909 | rmse=0.675401576, unnorm_rmse=245.405227661, \n",
      "val_loss=0.529990077 | val_rmse=0.698915482, val_unnorm_rmse=253.948959351, \n",
      "Epoch: 2800\n",
      "loss=0.516052723 | rmse=0.675401330, unnorm_rmse=245.405040741, \n",
      "val_loss=0.529989958 | val_rmse=0.698915243, val_unnorm_rmse=253.948852539, \n",
      "Epoch: 2850\n",
      "loss=0.516052425 | rmse=0.675400853, unnorm_rmse=245.404907227, \n",
      "val_loss=0.529989839 | val_rmse=0.698915005, val_unnorm_rmse=253.948699951, \n",
      "Epoch: 2900\n",
      "loss=0.516052246 | rmse=0.675400496, unnorm_rmse=245.404785156, \n",
      "val_loss=0.529989600 | val_rmse=0.698914647, val_unnorm_rmse=253.948593140, \n",
      "Epoch: 2950\n",
      "loss=0.516052067 | rmse=0.675400287, unnorm_rmse=245.404693604, \n",
      "val_loss=0.529989421 | val_rmse=0.698914289, val_unnorm_rmse=253.948486328, \n",
      "Epoch: 3000\n",
      "loss=0.516051948 | rmse=0.675400019, unnorm_rmse=245.404632568, \n",
      "val_loss=0.529989243 | val_rmse=0.698914051, val_unnorm_rmse=253.948394775, \n",
      "Epoch: 3050\n",
      "loss=0.516051829 | rmse=0.675399780, unnorm_rmse=245.404554367, \n",
      "val_loss=0.529989183 | val_rmse=0.698913932, val_unnorm_rmse=253.948333740, \n",
      "Epoch: 3100\n",
      "loss=0.516051650 | rmse=0.675399482, unnorm_rmse=245.404479980, \n",
      "val_loss=0.529989064 | val_rmse=0.698913693, val_unnorm_rmse=253.948257446, \n",
      "Epoch: 3150\n",
      "loss=0.516051531 | rmse=0.675399303, unnorm_rmse=245.404417038, \n",
      "val_loss=0.529988945 | val_rmse=0.698913574, val_unnorm_rmse=253.948150635, \n",
      "Epoch: 3200\n",
      "loss=0.516051397 | rmse=0.675398998, unnorm_rmse=245.404327393, \n",
      "val_loss=0.529988825 | val_rmse=0.698913336, val_unnorm_rmse=253.948104858, \n",
      "Epoch: 3250\n",
      "loss=0.516051233 | rmse=0.675398827, unnorm_rmse=245.404235840, \n",
      "val_loss=0.529988766 | val_rmse=0.698913217, val_unnorm_rmse=253.948059082, \n",
      "Epoch: 3300\n",
      "loss=0.516051233 | rmse=0.675398767, unnorm_rmse=245.404205322, \n",
      "val_loss=0.529988706 | val_rmse=0.698913097, val_unnorm_rmse=253.948028564, \n",
      "Epoch: 3350\n",
      "loss=0.516051173 | rmse=0.675398707, unnorm_rmse=245.404190063, \n",
      "val_loss=0.529988647 | val_rmse=0.698912978, val_unnorm_rmse=253.948013306, \n",
      "Epoch: 3400\n",
      "loss=0.516051173 | rmse=0.675398707, unnorm_rmse=245.404144287, \n",
      "val_loss=0.529988647 | val_rmse=0.698912978, val_unnorm_rmse=253.948013306, \n",
      "Epoch: 3450\n",
      "loss=0.516051114 | rmse=0.675398648, unnorm_rmse=245.404144287, \n",
      "val_loss=0.529988527 | val_rmse=0.698912859, val_unnorm_rmse=253.947967529, \n",
      "Epoch: 3500\n",
      "loss=0.516051114 | rmse=0.675398588, unnorm_rmse=245.404113770, \n",
      "val_loss=0.529988527 | val_rmse=0.698912799, val_unnorm_rmse=253.947937012, \n",
      "Epoch: 3550\n",
      "loss=0.516051054 | rmse=0.675398469, unnorm_rmse=245.404113770, \n",
      "val_loss=0.529988527 | val_rmse=0.698912859, val_unnorm_rmse=253.947921753, \n",
      "Epoch: 3600\n",
      "loss=0.516051054 | rmse=0.675398469, unnorm_rmse=245.404113770, \n",
      "val_loss=0.529988468 | val_rmse=0.698912740, val_unnorm_rmse=253.947906494, \n",
      "Epoch: 3650\n",
      "loss=0.516050935 | rmse=0.675398290, unnorm_rmse=245.404098511, \n",
      "val_loss=0.529988408 | val_rmse=0.698912680, val_unnorm_rmse=253.947906494, \n",
      "Epoch: 3700\n",
      "loss=0.516050935 | rmse=0.675398290, unnorm_rmse=245.404083252, \n",
      "val_loss=0.529988408 | val_rmse=0.698912621, val_unnorm_rmse=253.947906494, \n",
      "Epoch: 3750\n",
      "loss=0.516050935 | rmse=0.675398290, unnorm_rmse=245.404083252, \n",
      "val_loss=0.529988408 | val_rmse=0.698912621, val_unnorm_rmse=253.947875977, \n",
      "Epoch: 3800\n",
      "loss=0.516050875 | rmse=0.675398231, unnorm_rmse=245.404083252, \n",
      "val_loss=0.529988408 | val_rmse=0.698912621, val_unnorm_rmse=253.947875977, \n",
      "Epoch: 3850\n",
      "loss=0.516050875 | rmse=0.675398231, unnorm_rmse=245.404083252, \n",
      "val_loss=0.529988408 | val_rmse=0.698912621, val_unnorm_rmse=253.947875977, \n",
      "Epoch: 3900\n",
      "loss=0.516050875 | rmse=0.675398231, unnorm_rmse=245.404083252, \n",
      "val_loss=0.529988408 | val_rmse=0.698912621, val_unnorm_rmse=253.947875977, \n",
      "Epoch: 3950\n",
      "loss=0.516050875 | rmse=0.675398231, unnorm_rmse=245.404083252, \n",
      "val_loss=0.529988408 | val_rmse=0.698912621, val_unnorm_rmse=253.947875977, \n",
      "Epoch: 4000\n",
      "loss=0.516050875 | rmse=0.675398231, unnorm_rmse=245.404083252, \n",
      "val_loss=0.529988408 | val_rmse=0.698912621, val_unnorm_rmse=253.947875977, \n",
      "Epoch: 4050\n",
      "loss=0.516050875 | rmse=0.675398231, unnorm_rmse=245.404083252, \n",
      "val_loss=0.529988408 | val_rmse=0.698912621, val_unnorm_rmse=253.947875977, \n",
      "Epoch: 4100\n",
      "loss=0.516050875 | rmse=0.675398231, unnorm_rmse=245.404083252, \n",
      "val_loss=0.529988408 | val_rmse=0.698912621, val_unnorm_rmse=253.947875977, \n",
      "Epoch: 4150\n",
      "loss=0.516050875 | rmse=0.675398231, unnorm_rmse=245.404083252, \n",
      "val_loss=0.529988408 | val_rmse=0.698912621, val_unnorm_rmse=253.947875977, \n",
      "Epoch: 4200\n",
      "loss=0.516050875 | rmse=0.675398231, unnorm_rmse=245.404083252, \n",
      "val_loss=0.529988408 | val_rmse=0.698912621, val_unnorm_rmse=253.947875977, \n",
      "Epoch: 4250\n",
      "loss=0.516050875 | rmse=0.675398231, unnorm_rmse=245.404083252, \n",
      "val_loss=0.529988408 | val_rmse=0.698912621, val_unnorm_rmse=253.947875977, \n",
      "Epoch: 4300\n",
      "loss=0.516050875 | rmse=0.675398231, unnorm_rmse=245.404083252, \n",
      "val_loss=0.529988408 | val_rmse=0.698912621, val_unnorm_rmse=253.947875977, \n",
      "Epoch: 4350\n",
      "loss=0.516050875 | rmse=0.675398231, unnorm_rmse=245.404083252, \n",
      "val_loss=0.529988408 | val_rmse=0.698912621, val_unnorm_rmse=253.947875977, \n",
      "Epoch: 4400\n",
      "loss=0.516050875 | rmse=0.675398231, unnorm_rmse=245.404083252, \n",
      "val_loss=0.529988408 | val_rmse=0.698912621, val_unnorm_rmse=253.947875977, \n",
      "Epoch: 4450\n",
      "loss=0.516050875 | rmse=0.675398231, unnorm_rmse=245.404083252, \n",
      "val_loss=0.529988408 | val_rmse=0.698912621, val_unnorm_rmse=253.947875977, \n",
      "Epoch: 4500\n",
      "loss=0.516050875 | rmse=0.675398231, unnorm_rmse=245.404083252, \n",
      "val_loss=0.529988408 | val_rmse=0.698912621, val_unnorm_rmse=253.947875977, \n",
      "Epoch: 4550\n",
      "loss=0.516050875 | rmse=0.675398231, unnorm_rmse=245.404083252, \n",
      "val_loss=0.529988408 | val_rmse=0.698912621, val_unnorm_rmse=253.947875977, \n",
      "Epoch: 4600\n",
      "loss=0.516050875 | rmse=0.675398231, unnorm_rmse=245.404083252, \n",
      "val_loss=0.529988408 | val_rmse=0.698912621, val_unnorm_rmse=253.947875977, \n",
      "Epoch: 4650\n",
      "loss=0.516050875 | rmse=0.675398231, unnorm_rmse=245.404083252, \n",
      "val_loss=0.529988408 | val_rmse=0.698912621, val_unnorm_rmse=253.947875977, \n",
      "Epoch: 4700\n",
      "loss=0.516050875 | rmse=0.675398231, unnorm_rmse=245.404083252, \n",
      "val_loss=0.529988408 | val_rmse=0.698912621, val_unnorm_rmse=253.947875977, \n",
      "Epoch: 4750\n",
      "loss=0.516050875 | rmse=0.675398231, unnorm_rmse=245.404083252, \n",
      "val_loss=0.529988408 | val_rmse=0.698912621, val_unnorm_rmse=253.947875977, \n",
      "Epoch: 4800\n",
      "loss=0.516050875 | rmse=0.675398231, unnorm_rmse=245.404083252, \n",
      "val_loss=0.529988408 | val_rmse=0.698912621, val_unnorm_rmse=253.947875977, \n",
      "Epoch: 4850\n",
      "loss=0.516050875 | rmse=0.675398231, unnorm_rmse=245.404083252, \n",
      "val_loss=0.529988408 | val_rmse=0.698912621, val_unnorm_rmse=253.947875977, \n",
      "Epoch: 4900\n",
      "loss=0.516050875 | rmse=0.675398231, unnorm_rmse=245.404083252, \n",
      "val_loss=0.529988408 | val_rmse=0.698912621, val_unnorm_rmse=253.947875977, \n",
      "Epoch: 4950\n",
      "loss=0.516050875 | rmse=0.675398231, unnorm_rmse=245.404083252, \n",
      "val_loss=0.529988408 | val_rmse=0.698912621, val_unnorm_rmse=253.947875977, \n",
      "Epoch: 5000\n",
      "loss=0.516050875 | rmse=0.675398231, unnorm_rmse=245.404083252, \n",
      "val_loss=0.529988408 | val_rmse=0.698912621, val_unnorm_rmse=253.947875977, \n",
      "Optimization Finished!\n"
     ]
    }
   ],
   "source": [
    "trainer.train(trainval_x, normalize(trainval_y), \n",
    "              training_params=training_params, \n",
    "              verbose=1)"
   ]
  },
  {
   "cell_type": "code",
   "execution_count": 623,
   "metadata": {
    "collapsed": true
   },
   "outputs": [],
   "source": [
    "training_params['pretrained_model'] = 'best_from_logs'"
   ]
  },
  {
   "cell_type": "code",
   "execution_count": 624,
   "metadata": {},
   "outputs": [
    {
     "name": "stdout",
     "output_type": "stream",
     "text": [
      "Start predictions\n",
      "INFO:tensorflow:Restoring parameters from logs_2017-07-03-14-48\\Model\\net_3_4_seed=2017_loss=0.479916_val_loss=0.490114-864\n",
      "-- 0 / 10  | 0 - 1024\n",
      "-- 1 / 10  | 1024 - 2048\n",
      "-- 2 / 10  | 2048 - 3072\n",
      "-- 3 / 10  | 3072 - 4096\n",
      "-- 4 / 10  | 4096 - 5120\n",
      "-- 5 / 10  | 5120 - 6144\n",
      "-- 6 / 10  | 6144 - 7168\n",
      "-- 7 / 10  | 7168 - 8192\n",
      "-- 8 / 10  | 8192 - 9216\n",
      "-- 9 / 10  | 9216 - 10000\n"
     ]
    }
   ],
   "source": [
    "y_preds = trainer.predict(test_x, training_params=training_params, verbose=1)"
   ]
  },
  {
   "cell_type": "code",
   "execution_count": 625,
   "metadata": {
    "collapsed": true
   },
   "outputs": [],
   "source": [
    "lss = np_loss_array(test_y[:100], unnormalize(y_preds[:100]))"
   ]
  },
  {
   "cell_type": "code",
   "execution_count": 626,
   "metadata": {
    "scrolled": true
   },
   "outputs": [
    {
     "data": {
      "text/plain": [
       "[<matplotlib.lines.Line2D at 0x1adf5438>]"
      ]
     },
     "execution_count": 626,
     "metadata": {},
     "output_type": "execute_result"
    },
    {
     "data": {
      "image/png": "[encoded data removed]",
      "text/plain": [
       "<matplotlib.figure.Figure at 0x1b437cf8>"
      ]
     },
     "metadata": {},
     "output_type": "display_data"
    }
   ],
   "source": [
    "plt.plot(lss)"
   ]
  },
  {
   "cell_type": "code",
   "execution_count": 627,
   "metadata": {},
   "outputs": [
    {
     "data": {
      "text/plain": [
       "(array([[ -379.0533374 ],\n",
       "        [  -29.21360344],\n",
       "        [  312.62066205],\n",
       "        [ -514.67466518],\n",
       "        [  -81.02898682],\n",
       "        [ -287.59183965],\n",
       "        [ -147.92033276],\n",
       "        [  114.67190417],\n",
       "        [ -157.52177773],\n",
       "        [ -116.10238259],\n",
       "        [ -264.32864315],\n",
       "        [  835.08562624],\n",
       "        [  -42.84536694],\n",
       "        [ -153.20306516],\n",
       "        [ -110.74508219],\n",
       "        [ 1395.79694268],\n",
       "        [  266.76642322],\n",
       "        [ -313.18427651],\n",
       "        [  319.56361268],\n",
       "        [  802.85826467]]), array([[-156.68027305],\n",
       "        [ -84.41392785],\n",
       "        [-120.16491086],\n",
       "        [ -22.60233233],\n",
       "        [ -22.65325918],\n",
       "        [ -82.49362401],\n",
       "        [ -84.3973168 ],\n",
       "        [ -23.85989412],\n",
       "        [ -97.36116124],\n",
       "        [-148.95858041],\n",
       "        [-125.84480832],\n",
       "        [-114.72876491],\n",
       "        [-124.6427268 ],\n",
       "        [-125.72987369],\n",
       "        [-107.84016967],\n",
       "        [ -82.52582281],\n",
       "        [-124.53778696],\n",
       "        [-108.1005972 ],\n",
       "        [ -21.75767   ],\n",
       "        [ -22.58393997]]))"
      ]
     },
     "execution_count": 627,
     "metadata": {},
     "output_type": "execute_result"
    }
   ],
   "source": [
    "test_y[20:40], unnormalize(y_preds[20:40])"
   ]
  },
  {
   "cell_type": "code",
   "execution_count": null,
   "metadata": {
    "collapsed": true
   },
   "outputs": [],
   "source": []
  },
  {
   "cell_type": "code",
   "execution_count": null,
   "metadata": {
    "collapsed": true
   },
   "outputs": [],
   "source": []
  },
  {
   "cell_type": "code",
   "execution_count": null,
   "metadata": {
    "collapsed": true
   },
   "outputs": [],
   "source": []
  },
  {
   "cell_type": "code",
   "execution_count": null,
   "metadata": {
    "collapsed": true
   },
   "outputs": [],
   "source": []
  },
  {
   "cell_type": "code",
   "execution_count": null,
   "metadata": {
    "collapsed": true
   },
   "outputs": [],
   "source": []
  },
  {
   "cell_type": "code",
   "execution_count": null,
   "metadata": {
    "collapsed": true
   },
   "outputs": [],
   "source": []
  },
  {
   "cell_type": "code",
   "execution_count": null,
   "metadata": {
    "collapsed": true
   },
   "outputs": [],
   "source": []
  },
  {
   "cell_type": "markdown",
   "metadata": {},
   "source": [
    "Some manual check"
   ]
  },
  {
   "cell_type": "code",
   "execution_count": 509,
   "metadata": {
    "collapsed": true
   },
   "outputs": [],
   "source": [
    "def np_h(index, m, x, n_filters, b=None, w=None, with_activation=True):        \n",
    "\n",
    "    assert b is not None and w is not None, \"WTF | index=%i, m=%i \" % (index, m)   \n",
    "    print(\"-- index={}, m={}, x.shape={}, n_filters={}, b.shape={}, w.shape={}\"\n",
    "          .format(index, m, x.shape, n_filters, b.shape, w.shape))\n",
    "    \n",
    "    res = np.matmul(x, w) + b\n",
    "    if with_activation:\n",
    "        res[res < 0.0] = 0.0 \n",
    "    return res\n",
    "\n",
    "def np_g(m, x, n_filters_list, suffix='',  **params):\n",
    "    print('- g({}) : n_filters_list={}'.format(m, n_filters_list))\n",
    "    assert len(n_filters_list) == m + 1, \"n_filters_list should be of length m+1\"\n",
    "    epsilon = 1e-10\n",
    "    _x = x if m == 0 else np_g(m-1, x, n_filters_list[:-1], suffix=suffix, **params)\n",
    "    \n",
    "    print(\"m={}, suffix={}, _x.shape={}\".format(m, suffix, _x.shape))\n",
    "    # h1\n",
    "    h1 = np_h(1, m, _x, n_filters_list[m], \n",
    "              b=params.get('bias_1_%i%s' % (m, suffix)), w=params.get('W_1_%i%s' % (m, suffix)))\n",
    "    print(\"--> h1.shape={}\".format(h1.shape))\n",
    "    # h2 \n",
    "    h2 = np_h(2, m, 1.0/(1e-10 + _x), n_filters_list[m], \n",
    "              b=params.get('bias_2_%i%s' % (m, suffix)), w=params.get('W_2_%i%s' % (m, suffix)))\n",
    "    print(\"-- h2.shape={}\".format(h2.shape))\n",
    "    return h1 + h2   \n",
    "\n",
    "\n",
    "def np_generic_nn(x, k, m, n_filters_lists, **params):    \n",
    "    assert k > 0, \"Parameter k should be positive\"\n",
    "    assert m > 0, \"Parameter m should be positive\"\n",
    "    n_filters_list = n_filters_lists[0]\n",
    "    print('\\n--- h(3, 0) : n_filters_list={}'.format(n_filters_list))\n",
    "    subnets = [np_h(3, 0, \n",
    "                    np_g(m-1, x, n_filters_list, **params), \n",
    "                    n_filters=1, \n",
    "                    with_activation=False, \n",
    "                    b=params.get('bias_3_0'), w=params.get('W_3_0')), ]\n",
    "    for i in range(1, k):\n",
    "        n_filters_list = n_filters_lists[i]        \n",
    "        print('\\n--- h(3, {}) : n_filters_list={}'.format(i, n_filters_list))\n",
    "        ret = subnets[-1] *  np_h(3, i, \n",
    "                                  np_g(m-1, x, n_filters_list, suffix=\"_%i\" % i, **params),\n",
    "                                  n_filters=1, with_activation=False, \n",
    "                                  b=params.get('bias_3_%i' % i), w=params.get('W_3_%i' % i))\n",
    "        subnets.append(ret)\n",
    "    net = subnets[-1]\n",
    "    return net"
   ]
  },
  {
   "cell_type": "code",
   "execution_count": 510,
   "metadata": {
    "collapsed": true
   },
   "outputs": [],
   "source": [
    "tf.reset_default_graph()\n",
    "X = tf.placeholder(tf.float32, shape=(None, n_features))\n",
    "n_filters = 15"
   ]
  },
  {
   "cell_type": "code",
   "execution_count": 511,
   "metadata": {},
   "outputs": [
    {
     "name": "stdout",
     "output_type": "stream",
     "text": [
      "-- index=1, m=0, x.shape=(5, 10), n_filters=15, b.shape=(15,), w.shape=(10, 15)\n",
      "3.8147e-08\n"
     ]
    }
   ],
   "source": [
    "h_1 = h(1, 0, X, n_filters, with_activation=False, seed=0)\n",
    "B = tf.Variable(tf.random_uniform([n_filters], seed=seed))\n",
    "W = tf.Variable(tf.random_uniform(shape=[X.get_shape().as_list()[1], n_filters], seed=seed))                \n",
    "\n",
    "with tf.Session() as sess:\n",
    "    x = 0.5*np.ones((5, n_features), dtype=np.float32)\n",
    "    sess.run(tf.global_variables_initializer())\n",
    "    b, w, h_res = sess.run([B, W, h_1], feed_dict={X: x})    \n",
    "    h_res2 = np_h(1, 0, x, n_filters=n_filters, with_activation=True, b=b, w=w)\n",
    "    print(np.mean(np.abs(h_res2 - h_res)))"
   ]
  },
  {
   "cell_type": "code",
   "execution_count": 512,
   "metadata": {},
   "outputs": [
    {
     "name": "stdout",
     "output_type": "stream",
     "text": [
      "-- index=3, m=0, x.shape=(5, 10), n_filters=1, b.shape=(1,), w.shape=(10, 1)\n",
      "[[ 2.71125078]\n",
      " [ 2.71125078]\n",
      " [ 2.71125078]\n",
      " [ 2.71125078]\n",
      " [ 2.71125078]] [[ 2.71125078]\n",
      " [ 2.71125078]\n",
      " [ 2.71125078]\n",
      " [ 2.71125078]\n",
      " [ 2.71125078]]\n",
      "0.0\n"
     ]
    }
   ],
   "source": [
    "h_3 = h(3, 0, X, n_filters=1, with_activation=False, seed=0)\n",
    "\n",
    "with tf.Session() as sess:\n",
    "    x = 0.5*np.ones((5, n_features), dtype=np.float32)\n",
    "    sess.run(tf.global_variables_initializer())\n",
    "    \n",
    "    vv = tf.global_variables()\n",
    "    vv.append(h_3)\n",
    "    ret = sess.run(vv, feed_dict={X: x})    \n",
    "    \n",
    "    h_res1 = ret[-1]\n",
    "    \n",
    "    params = {}\n",
    "    for v, vv in zip(tf.global_variables(), ret[:-1]):\n",
    "        name = v.name.replace(\":0\", \"\")\n",
    "        params[name] = vv\n",
    "\n",
    "    h_res2 = np_h(3, 0, x, n_filters=1, with_activation=False, b=params.get('bias_3_0'), w=params.get('W_3_0'))\n",
    "    print(h_res1, h_res2)\n",
    "    print(np.mean(np.abs(h_res1 - h_res2)))"
   ]
  },
  {
   "cell_type": "code",
   "execution_count": 513,
   "metadata": {},
   "outputs": [
    {
     "name": "stdout",
     "output_type": "stream",
     "text": [
      "- g(0) : n_filters_list=[12]\n",
      "m=0, suffix=, _x.shape=(5, 10)\n",
      "-- index=1, m=0, x.shape=(5, 10), n_filters=12, b.shape=(12,), w.shape=(10, 12)\n",
      "--> h1.shape=(5, 12)\n",
      "-- index=2, m=0, x.shape=(5, 10), n_filters=12, b.shape=(12,), w.shape=(10, 12)\n",
      "-- h2.shape=(5, 12)\n",
      "0.0\n"
     ]
    }
   ],
   "source": [
    "tf.reset_default_graph()\n",
    "X = tf.placeholder(tf.float32, shape=(None, n_features))\n",
    "g_0 = g(0, X, [12, ], seed=0)\n",
    "\n",
    "with tf.Session() as sess:\n",
    "    x = 0.5*np.ones((5, n_features), dtype=np.float32)\n",
    "    sess.run(tf.global_variables_initializer())\n",
    "    \n",
    "    vv = tf.global_variables()\n",
    "    vv.append(g_0)\n",
    "    ret = sess.run(vv, feed_dict={X: x})    \n",
    "    \n",
    "    g_0_res1 = ret[-1]\n",
    "    \n",
    "    params = {}\n",
    "    for v, vv in zip(tf.global_variables(), ret[:-1]):\n",
    "        name = v.name.replace(\":0\", \"\")\n",
    "        params[name] = vv\n",
    "\n",
    "    g_0_res2 = np_g(0, x, [12, ], **params)\n",
    "    print(np.mean(np.abs(g_0_res1 - g_0_res2)))"
   ]
  },
  {
   "cell_type": "code",
   "execution_count": 530,
   "metadata": {},
   "outputs": [
    {
     "name": "stdout",
     "output_type": "stream",
     "text": [
      "- g(1) : n_filters_list=[12, 12]\n",
      "- g(0) : n_filters_list=[12]\n",
      "m=0, suffix=, _x.shape=(5, 10)\n",
      "-- index=1, m=0, x.shape=(5, 10), n_filters=12, b.shape=(12,), w.shape=(10, 12)\n",
      "--> h1.shape=(5, 12)\n",
      "-- index=2, m=0, x.shape=(5, 10), n_filters=12, b.shape=(12,), w.shape=(10, 12)\n",
      "-- h2.shape=(5, 12)\n",
      "m=1, suffix=, _x.shape=(5, 12)\n",
      "-- index=1, m=1, x.shape=(5, 12), n_filters=12, b.shape=(12,), w.shape=(12, 12)\n",
      "--> h1.shape=(5, 12)\n",
      "-- index=2, m=1, x.shape=(5, 12), n_filters=12, b.shape=(12,), w.shape=(12, 12)\n",
      "-- h2.shape=(5, 12)\n",
      "3.17891e-06\n"
     ]
    }
   ],
   "source": [
    "tf.reset_default_graph()\n",
    "X = tf.placeholder(tf.float32, shape=(None, n_features))\n",
    "g_1 = g(1, X, [12, 12, ], seed=0)\n",
    "\n",
    "with tf.Session() as sess:\n",
    "    x = 0.5*np.ones((5, n_features), dtype=np.float32)\n",
    "    sess.run(tf.global_variables_initializer())\n",
    "    \n",
    "    vv = tf.global_variables()\n",
    "    vv.append(g_1)\n",
    "    ret = sess.run(vv, feed_dict={X: x})    \n",
    "    \n",
    "    g_res1 = ret[-1]\n",
    "    \n",
    "    params = {}\n",
    "    for v, vv in zip(tf.global_variables(), ret[:-1]):\n",
    "        name = v.name.replace(\":0\", \"\")\n",
    "        params[name] = vv.astype(np.float32)\n",
    "\n",
    "    g_res2 = np_g(1, x, [12, 12], **params)\n",
    "    print(np.mean(np.abs(g_res1 - g_res2)))"
   ]
  },
  {
   "cell_type": "code",
   "execution_count": 529,
   "metadata": {},
   "outputs": [
    {
     "name": "stdout",
     "output_type": "stream",
     "text": [
      "- g(2) : n_filters_list=[12, 10, 8]\n",
      "- g(1) : n_filters_list=[12, 10]\n",
      "- g(0) : n_filters_list=[12]\n",
      "m=0, suffix=, _x.shape=(5, 10)\n",
      "-- index=1, m=0, x.shape=(5, 10), n_filters=12, b.shape=(12,), w.shape=(10, 12)\n",
      "--> h1.shape=(5, 12)\n",
      "-- index=2, m=0, x.shape=(5, 10), n_filters=12, b.shape=(12,), w.shape=(10, 12)\n",
      "-- h2.shape=(5, 12)\n",
      "m=1, suffix=, _x.shape=(5, 12)\n",
      "-- index=1, m=1, x.shape=(5, 12), n_filters=10, b.shape=(10,), w.shape=(12, 10)\n",
      "--> h1.shape=(5, 10)\n",
      "-- index=2, m=1, x.shape=(5, 12), n_filters=10, b.shape=(10,), w.shape=(12, 10)\n",
      "-- h2.shape=(5, 10)\n",
      "m=2, suffix=, _x.shape=(5, 10)\n",
      "-- index=1, m=2, x.shape=(5, 10), n_filters=8, b.shape=(8,), w.shape=(10, 8)\n",
      "--> h1.shape=(5, 8)\n",
      "-- index=2, m=2, x.shape=(5, 10), n_filters=8, b.shape=(8,), w.shape=(10, 8)\n",
      "-- h2.shape=(5, 8)\n",
      "1.44958e-05\n"
     ]
    }
   ],
   "source": [
    "tf.reset_default_graph()\n",
    "X = tf.placeholder(tf.float32, shape=(None, n_features))\n",
    "g_2 = g(2, X, [12, 10, 8], seed=0)\n",
    "\n",
    "with tf.Session() as sess:\n",
    "    x = 0.5*np.ones((5, n_features), dtype=np.float32)\n",
    "    sess.run(tf.global_variables_initializer())\n",
    "    \n",
    "    vv = tf.global_variables()\n",
    "    vv.append(g_2)\n",
    "    ret = sess.run(vv, feed_dict={X: x})    \n",
    "    \n",
    "    g_res1 = ret[-1]\n",
    "    \n",
    "    params = {}\n",
    "    for v, vv in zip(tf.global_variables(), ret[:-1]):\n",
    "        name = v.name.replace(\":0\", \"\")\n",
    "        params[name] = vv\n",
    "\n",
    "    g_res2 = np_g(2, x, [12, 10, 8], **params)\n",
    "    print(np.mean(np.abs(g_res1 - g_res2)))"
   ]
  },
  {
   "cell_type": "code",
   "execution_count": 528,
   "metadata": {},
   "outputs": [
    {
     "name": "stdout",
     "output_type": "stream",
     "text": [
      "\n",
      "--- h(3, 0) : n_filters_list=[5, 6, 7]\n",
      "- g(2) : n_filters_list=[5, 6, 7]\n",
      "- g(1) : n_filters_list=[5, 6]\n",
      "- g(0) : n_filters_list=[5]\n",
      "m=0, suffix=, _x.shape=(5, 10)\n",
      "-- index=1, m=0, x.shape=(5, 10), n_filters=5, b.shape=(5,), w.shape=(10, 5)\n",
      "--> h1.shape=(5, 5)\n",
      "-- index=2, m=0, x.shape=(5, 10), n_filters=5, b.shape=(5,), w.shape=(10, 5)\n",
      "-- h2.shape=(5, 5)\n",
      "m=1, suffix=, _x.shape=(5, 5)\n",
      "-- index=1, m=1, x.shape=(5, 5), n_filters=6, b.shape=(6,), w.shape=(5, 6)\n",
      "--> h1.shape=(5, 6)\n",
      "-- index=2, m=1, x.shape=(5, 5), n_filters=6, b.shape=(6,), w.shape=(5, 6)\n",
      "-- h2.shape=(5, 6)\n",
      "m=2, suffix=, _x.shape=(5, 6)\n",
      "-- index=1, m=2, x.shape=(5, 6), n_filters=7, b.shape=(7,), w.shape=(6, 7)\n",
      "--> h1.shape=(5, 7)\n",
      "-- index=2, m=2, x.shape=(5, 6), n_filters=7, b.shape=(7,), w.shape=(6, 7)\n",
      "-- h2.shape=(5, 7)\n",
      "-- index=3, m=0, x.shape=(5, 7), n_filters=1, b.shape=(1,), w.shape=(7, 1)\n",
      "0.0\n",
      "[[ 265.56387329]\n",
      " [ 265.56387329]\n",
      " [ 265.56387329]\n",
      " [ 265.56387329]\n",
      " [ 265.56387329]] [[ 265.56387329]\n",
      " [ 265.56387329]\n",
      " [ 265.56387329]\n",
      " [ 265.56387329]\n",
      " [ 265.56387329]]\n"
     ]
    }
   ],
   "source": [
    "tf.reset_default_graph()\n",
    "X = tf.placeholder(tf.float32, shape=(None, n_features))\n",
    "\n",
    "n_filters_lists = [\n",
    "    [5, 6, 7],\n",
    "]\n",
    "nn_1_3 = generic_nn(X, 1, 3, n_filters_lists)\n",
    "\n",
    "with tf.Session() as sess:\n",
    "    x = 0.5*np.ones((5, n_features), dtype=np.float32)\n",
    "    sess.run(tf.global_variables_initializer())\n",
    "    \n",
    "    vv = tf.global_variables()\n",
    "    vv.append(nn_1_3)\n",
    "    ret = sess.run(vv, feed_dict={X: x})    \n",
    "    \n",
    "    nn_res1 = ret[-1]\n",
    "    \n",
    "    params = {}\n",
    "    for v, vv in zip(tf.global_variables(), ret[:-1]):\n",
    "        name = v.name.replace(\":0\", \"\")\n",
    "        params[name] = vv\n",
    "\n",
    "    nn_res2 = np_generic_nn(x, 1, 3, n_filters_lists, **params)\n",
    "    print(np.mean(np.abs(nn_res1 - nn_res2)))\n",
    "    print(nn_res1, nn_res2)\n",
    "    "
   ]
  },
  {
   "cell_type": "code",
   "execution_count": 527,
   "metadata": {},
   "outputs": [
    {
     "name": "stdout",
     "output_type": "stream",
     "text": [
      "\n",
      "--- h(3, 0) : n_filters_list=[5, 10, 7, 8]\n",
      "- g(3) : n_filters_list=[5, 10, 7, 8]\n",
      "- g(2) : n_filters_list=[5, 10, 7]\n",
      "- g(1) : n_filters_list=[5, 10]\n",
      "- g(0) : n_filters_list=[5]\n",
      "m=0, suffix=, _x.shape=(5, 10)\n",
      "-- index=1, m=0, x.shape=(5, 10), n_filters=5, b.shape=(5,), w.shape=(10, 5)\n",
      "--> h1.shape=(5, 5)\n",
      "-- index=2, m=0, x.shape=(5, 10), n_filters=5, b.shape=(5,), w.shape=(10, 5)\n",
      "-- h2.shape=(5, 5)\n",
      "m=1, suffix=, _x.shape=(5, 5)\n",
      "-- index=1, m=1, x.shape=(5, 5), n_filters=10, b.shape=(10,), w.shape=(5, 10)\n",
      "--> h1.shape=(5, 10)\n",
      "-- index=2, m=1, x.shape=(5, 5), n_filters=10, b.shape=(10,), w.shape=(5, 10)\n",
      "-- h2.shape=(5, 10)\n",
      "m=2, suffix=, _x.shape=(5, 10)\n",
      "-- index=1, m=2, x.shape=(5, 10), n_filters=7, b.shape=(7,), w.shape=(10, 7)\n",
      "--> h1.shape=(5, 7)\n",
      "-- index=2, m=2, x.shape=(5, 10), n_filters=7, b.shape=(7,), w.shape=(10, 7)\n",
      "-- h2.shape=(5, 7)\n",
      "m=3, suffix=, _x.shape=(5, 7)\n",
      "-- index=1, m=3, x.shape=(5, 7), n_filters=8, b.shape=(8,), w.shape=(7, 8)\n",
      "--> h1.shape=(5, 8)\n",
      "-- index=2, m=3, x.shape=(5, 7), n_filters=8, b.shape=(8,), w.shape=(7, 8)\n",
      "-- h2.shape=(5, 8)\n",
      "-- index=3, m=0, x.shape=(5, 8), n_filters=1, b.shape=(1,), w.shape=(8, 1)\n",
      "\n",
      "--- h(3, 1) : n_filters_list=[12, 16, 7, 3]\n",
      "- g(3) : n_filters_list=[12, 16, 7, 3]\n",
      "- g(2) : n_filters_list=[12, 16, 7]\n",
      "- g(1) : n_filters_list=[12, 16]\n",
      "- g(0) : n_filters_list=[12]\n",
      "m=0, suffix=_1, _x.shape=(5, 10)\n",
      "-- index=1, m=0, x.shape=(5, 10), n_filters=12, b.shape=(12,), w.shape=(10, 12)\n",
      "--> h1.shape=(5, 12)\n",
      "-- index=2, m=0, x.shape=(5, 10), n_filters=12, b.shape=(12,), w.shape=(10, 12)\n",
      "-- h2.shape=(5, 12)\n",
      "m=1, suffix=_1, _x.shape=(5, 12)\n",
      "-- index=1, m=1, x.shape=(5, 12), n_filters=16, b.shape=(16,), w.shape=(12, 16)\n",
      "--> h1.shape=(5, 16)\n",
      "-- index=2, m=1, x.shape=(5, 12), n_filters=16, b.shape=(16,), w.shape=(12, 16)\n",
      "-- h2.shape=(5, 16)\n",
      "m=2, suffix=_1, _x.shape=(5, 16)\n",
      "-- index=1, m=2, x.shape=(5, 16), n_filters=7, b.shape=(7,), w.shape=(16, 7)\n",
      "--> h1.shape=(5, 7)\n",
      "-- index=2, m=2, x.shape=(5, 16), n_filters=7, b.shape=(7,), w.shape=(16, 7)\n",
      "-- h2.shape=(5, 7)\n",
      "m=3, suffix=_1, _x.shape=(5, 7)\n",
      "-- index=1, m=3, x.shape=(5, 7), n_filters=3, b.shape=(3,), w.shape=(7, 3)\n",
      "--> h1.shape=(5, 3)\n",
      "-- index=2, m=3, x.shape=(5, 7), n_filters=3, b.shape=(3,), w.shape=(7, 3)\n",
      "-- h2.shape=(5, 3)\n",
      "-- index=3, m=1, x.shape=(5, 3), n_filters=1, b.shape=(1,), w.shape=(3, 1)\n",
      "0.0\n",
      "[[ 34626980.]\n",
      " [ 34626980.]\n",
      " [ 34626980.]\n",
      " [ 34626980.]\n",
      " [ 34626980.]] [[ 34626980.]\n",
      " [ 34626980.]\n",
      " [ 34626980.]\n",
      " [ 34626980.]\n",
      " [ 34626980.]]\n"
     ]
    }
   ],
   "source": [
    "tf.reset_default_graph()\n",
    "X = tf.placeholder(tf.float32, shape=(None, n_features))\n",
    "\n",
    "n_filters_lists = [\n",
    "    [5, 10, 7, 8],\n",
    "    [12, 16, 7, 3],\n",
    "]\n",
    "nn_2_4 = generic_nn(X, 2, 4, n_filters_lists, seed=0)\n",
    "\n",
    "with tf.Session() as sess:\n",
    "    x = 0.5*np.ones((5, n_features), dtype=np.float32)\n",
    "    sess.run(tf.global_variables_initializer())\n",
    "    \n",
    "    vv = tf.global_variables()\n",
    "    vv.append(nn_2_4)\n",
    "    ret = sess.run(vv, feed_dict={X: x})    \n",
    "    \n",
    "    nn_res1 = ret[-1]\n",
    "    \n",
    "    params = {}\n",
    "    for v, vv in zip(tf.global_variables(), ret[:-1]):\n",
    "        name = v.name.replace(\":0\", \"\")\n",
    "        params[name] = vv.astype(np.float32)\n",
    "\n",
    "    nn_res2 = np_generic_nn(x, 2, 4, n_filters_lists, **params)\n",
    "    print(np.mean(np.abs(nn_res1 - nn_res2)))\n",
    "    print(nn_res1, nn_res2)"
   ]
  },
  {
   "cell_type": "code",
   "execution_count": null,
   "metadata": {
    "collapsed": true
   },
   "outputs": [],
   "source": []
  },
  {
   "cell_type": "code",
   "execution_count": null,
   "metadata": {
    "collapsed": true
   },
   "outputs": [],
   "source": []
  }
 ],
 "metadata": {
  "kernelspec": {
   "display_name": "Python 3",
   "language": "python",
   "name": "python3"
  },
  "language_info": {
   "codemirror_mode": {
    "name": "ipython",
    "version": 3
   },
   "file_extension": ".py",
   "mimetype": "text/x-python",
   "name": "python",
   "nbconvert_exporter": "python",
   "pygments_lexer": "ipython3",
   "version": "3.6.1"
  }
 },
 "nbformat": 4,
 "nbformat_minor": 1
}
