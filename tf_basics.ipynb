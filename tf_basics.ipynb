{
 "cells": [
  {
   "cell_type": "markdown",
   "metadata": {},
   "source": [
    "# Tensorflow basics"
   ]
  },
  {
   "cell_type": "code",
   "execution_count": 8,
   "metadata": {
    "collapsed": true
   },
   "outputs": [],
   "source": [
    "import numpy as np\n",
    "import tensorflow as tf\n",
    "config = tf.ConfigProto(\n",
    "    device_count = {'GPU': 0}\n",
    ")"
   ]
  },
  {
   "cell_type": "markdown",
   "metadata": {},
   "source": [
    "## Tensor operations"
   ]
  },
  {
   "cell_type": "code",
   "execution_count": 11,
   "metadata": {
    "collapsed": true
   },
   "outputs": [],
   "source": [
    "X = tf.placeholder(\"float\", shape=(None, 1))\n",
    "\n",
    "epsilon = tf.constant(1e-10)\n",
    "\n",
    "def identity(x):\n",
    "    return x\n",
    "\n",
    "def square(x):\n",
    "    return tf.square(x)\n",
    "    \n",
    "def inverse(x):\n",
    "    return tf.constant(1.0) / (epsilon + x)"
   ]
  },
  {
   "cell_type": "code",
   "execution_count": 12,
   "metadata": {
    "collapsed": true
   },
   "outputs": [],
   "source": [
    "Y1 = square(X)\n",
    "Y2 = inverse(X)"
   ]
  },
  {
   "cell_type": "code",
   "execution_count": 13,
   "metadata": {
    "collapsed": false
   },
   "outputs": [
    {
     "name": "stdout",
     "output_type": "stream",
     "text": [
      "y1 :  [[  151.29000854]\n",
      " [  547.55999756]\n",
      " [ 1190.25      ]\n",
      " [ 2079.35986328]] [[  151.29]\n",
      " [  547.56]\n",
      " [ 1190.25]\n",
      " [ 2079.36]]\n",
      "y2 :  [[ 0.08130081]\n",
      " [ 0.04273504]\n",
      " [ 0.02898551]\n",
      " [ 0.02192982]] [[ 0.08130081]\n",
      " [ 0.04273504]\n",
      " [ 0.02898551]\n",
      " [ 0.02192982]]\n"
     ]
    }
   ],
   "source": [
    "x = np.array([12.3, 23.4, 34.5, 45.6]).reshape((4, 1))\n",
    "\n",
    "with tf.Session(config=config) as sess:\n",
    "    y1 = sess.run(Y1, {X: x})\n",
    "    y2 = sess.run(Y2, {X: x})    \n",
    "    print(\"y1 : \", y1, x**2)\n",
    "    print(\"y2 : \", y2, 1.0/(1e-10 + x))    "
   ]
  },
  {
   "cell_type": "code",
   "execution_count": null,
   "metadata": {
    "collapsed": true
   },
   "outputs": [],
   "source": []
  },
  {
   "cell_type": "code",
   "execution_count": null,
   "metadata": {
    "collapsed": true
   },
   "outputs": [],
   "source": []
  },
  {
   "cell_type": "code",
   "execution_count": null,
   "metadata": {
    "collapsed": true
   },
   "outputs": [],
   "source": []
  },
  {
   "cell_type": "code",
   "execution_count": null,
   "metadata": {
    "collapsed": true
   },
   "outputs": [],
   "source": []
  }
 ],
 "metadata": {
  "kernelspec": {
   "display_name": "Python 3",
   "language": "python",
   "name": "python3"
  },
  "language_info": {
   "codemirror_mode": {
    "name": "ipython",
    "version": 3
   },
   "file_extension": ".py",
   "mimetype": "text/x-python",
   "name": "python",
   "nbconvert_exporter": "python",
   "pygments_lexer": "ipython3",
   "version": "3.5.2"
  }
 },
 "nbformat": 4,
 "nbformat_minor": 0
}
